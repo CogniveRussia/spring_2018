{
 "cells": [
  {
   "cell_type": "code",
   "execution_count": 2,
   "metadata": {},
   "outputs": [],
   "source": [
    "import time\n",
    "import sklearn\n",
    "import numpy as np\n",
    "import pandas as pd\n",
    "import seaborn as sns\n",
    "\n",
    "from numpy import random as rnd, linalg as la\n",
    "\n",
    "from matplotlib import pyplot as plt\n",
    "from mpl_toolkits.mplot3d import Axes3D\n",
    "\n",
    "%matplotlib inline\n",
    "sns.set(style='white', rc={'figure.figsize':(12,8)})"
   ]
  },
  {
   "cell_type": "code",
   "execution_count": 3,
   "metadata": {},
   "outputs": [],
   "source": [
    "class ExNode:\n",
    "    def __init__(self,size):\n",
    "        self.size=size\n",
    "        \n",
    "class InNode:\n",
    "    def __init__(self,left,right,splitAtt,splitVal):\n",
    "        self.left=left\n",
    "        self.right=right\n",
    "        self.splitAtt=splitAtt\n",
    "        self.splitVal=splitVal"
   ]
  },
  {
   "cell_type": "code",
   "execution_count": 4,
   "metadata": {},
   "outputs": [],
   "source": [
    "def iForest(X, cat_features, noOfTrees,sampleSize):\n",
    "    forest=[]\n",
    "    hlim=math.ceil(math.log(sampleSize,2))\n",
    "    for i in range(noOfTrees):\n",
    "        X_train=df_data.sample(sampleSize)\n",
    "        forest.append(iTree(X_train,0,hlim))\n",
    "    return forest"
   ]
  },
  {
   "cell_type": "code",
   "execution_count": null,
   "metadata": {},
   "outputs": [],
   "source": [
    "def iTree(X,currHeight,hlim):\n",
    "    if currHeight>=hlim or len(X)<=1:\n",
    "        return ExNode(len(X))\n",
    "    else:\n",
    "        Q=X.columns\n",
    "        q=random.choice(Q)\n",
    "        p=random.choice(X[q].unique())\n",
    "        X_l=X[X[q]<p]\n",
    "        X_r=X[X[q]>=p]\n",
    "        return InNode(iTree(X_l,currHeight+1,hlim),iTree(X_r,currHeight+1,hlim),q,p)"
   ]
  },
  {
   "cell_type": "code",
   "execution_count": null,
   "metadata": {},
   "outputs": [],
   "source": []
  },
  {
   "cell_type": "code",
   "execution_count": 5,
   "metadata": {},
   "outputs": [],
   "source": [
    "import random"
   ]
  },
  {
   "cell_type": "code",
   "execution_count": null,
   "metadata": {},
   "outputs": [],
   "source": []
  }
 ],
 "metadata": {
  "kernelspec": {
   "display_name": "Python 3",
   "language": "python",
   "name": "python3"
  },
  "language_info": {
   "codemirror_mode": {
    "name": "ipython",
    "version": 3
   },
   "file_extension": ".py",
   "mimetype": "text/x-python",
   "name": "python",
   "nbconvert_exporter": "python",
   "pygments_lexer": "ipython3",
   "version": "3.5.2"
  }
 },
 "nbformat": 4,
 "nbformat_minor": 2
}
