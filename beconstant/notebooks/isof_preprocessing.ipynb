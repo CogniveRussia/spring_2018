{
 "cells": [
  {
   "cell_type": "code",
   "execution_count": 34,
   "metadata": {},
   "outputs": [],
   "source": [
    "import re\n",
    "import os\n",
    "import time\n",
    "import pickle\n",
    "import sklearn\n",
    "#import cx_Oracle\n",
    "import numpy as np\n",
    "import pandas as pd\n",
    "import seaborn as sns\n",
    "\n",
    "import scipy.sparse\n",
    "from tqdm import tqdm, tqdm_notebook\n",
    "from sklearn import datasets\n",
    "from collections import defaultdict\n",
    "from matplotlib import pyplot as plt\n",
    "\n",
    "from scipy.sparse import csr_matrix, coo_matrix, csc_matrix\n",
    "\n",
    "\n",
    "# oracle\n",
    "#oracle_user = \"ro_user\"\n",
    "#oracle_pass = \"ro_user\"\n",
    "#oracle_scheme = \"aml_evraz\"\n",
    "#oracle_host = \"192.168.101.13/rnd\"\n",
    "#oracle_connection = cx_Oracle.connect(oracle_user, oracle_pass, oracle_host, encoding = \"UTF-8\", nencoding = \"UTF-8\")\n",
    "#oracle_cursor = oracle_connection.cursor()\n",
    "\n",
    "### PUT YOUR PATH HERE (mine default is home/username/notebooks)\n",
    "path_to_data = '../../shared_files/'\n",
    "\n",
    "%matplotlib inline\n",
    "sns.set(style='white', rc={'figure.figsize':(12,8)})"
   ]
  },
  {
   "cell_type": "code",
   "execution_count": 118,
   "metadata": {},
   "outputs": [],
   "source": [
    "def flatten_df_by_column(df, to_flatten, flatten_by, group_by, names_flatten_by=None):\n",
    "    columns_to_flatten = to_flatten\n",
    "    column_to_flatten_by = flatten_by\n",
    "    column_to_group_by = group_by\n",
    "    if names_flatten_by is None:\n",
    "        names_flatten_by = {\n",
    "            uniq_val: uniq_val\n",
    "            for uniq_val in df[column_to_flatten_by].unique()\n",
    "        }\n",
    "    if not isinstance(columns_to_flatten, (list, tuple, pd.Index)):\n",
    "        columns_to_flatten = [to_flatten]\n",
    "    frames_to_join = [\n",
    "        df[[column_to_group_by] + columns_to_flatten][df[column_to_flatten_by] == uniq_val]\n",
    "        for uniq_val in df[column_to_flatten_by].unique()\n",
    "    ]\n",
    "\n",
    "    for frame, uniq_val in zip(frames_to_join, df[flatten_by].unique()):\n",
    "        frame.set_index(column_to_group_by, inplace=True)\n",
    "        frame.columns = pd.MultiIndex.from_product([[uniq_val], frame.columns], names=[column_to_flatten_by, 'columns'])\n",
    "\n",
    "    res = frames_to_join[0].join(frames_to_join[1:], how='outer')\n",
    "    return res\n",
    "\n",
    "\n",
    "def join_ops_with_flatten_members(ops, flatten_ops_with_members, id_colname='ID', ops_columns_level_name=None):\n",
    "    if ops_columns_level_name is None:\n",
    "        ops_columns_level_name = str(list(flatten_ops_with_members.columns.levels[0]))\n",
    "    ops_to_join = ops.set_index(id_colname, drop=False)\n",
    "    ops_to_join.columns = pd.MultiIndex.from_product([[ops_columns_level_name], ops_to_join.columns],\n",
    "                                                     names=flatten_ops_with_members.columns.names)\n",
    "    joined_ops = ops_to_join.join(flatten_ops_with_members, how='left')\n",
    "    joined_ops.reset_index(drop=True, inplace=True)\n",
    "    return joined_ops"
   ]
  },
  {
   "cell_type": "code",
   "execution_count": 98,
   "metadata": {},
   "outputs": [
    {
     "name": "stdout",
     "output_type": "stream",
     "text": [
      "building flatten selected members took 13.352s\n"
     ]
    }
   ],
   "source": [
    "names_by_clientrole = {\n",
    "    1: 'sourc',\n",
    "    2: 'target',\n",
    "    3: 'id_susp_3',\n",
    "    4: 'id_susp_4',\n",
    "    5: 'beneficial',\n",
    "    6: 'id_susp_6'\n",
    "}\n",
    "\n",
    "\n",
    "with Timer('building flatten selected members'):\n",
    "    selected_members_flatten = flatten_df_by_column(\n",
    "        off_members_selected,\n",
    "        to_flatten=[\n",
    "           'P_CLIENTID',\n",
    "           'P_REGOPENDATE',\n",
    "           'P_COUNTRYCODE',\n",
    "           'P_BANKCITY',\n",
    "           'P_BANK',\n",
    "           'P_BANK_CLIENT',\n",
    "           'P_CLIENT_TYPE',\n",
    "            'seconds_from_start',\n",
    "            'seconds_from_last_client_op'],\n",
    "        flatten_by='P_CLIENTROLE',\n",
    "        group_by='P_OPERATIONID',\n",
    "        names_flatten_by=names_by_clientrole)"
   ]
  },
  {
   "cell_type": "code",
   "execution_count": 101,
   "metadata": {},
   "outputs": [
    {
     "data": {
      "text/html": [
       "<div>\n",
       "<style scoped>\n",
       "    .dataframe tbody tr th:only-of-type {\n",
       "        vertical-align: middle;\n",
       "    }\n",
       "\n",
       "    .dataframe tbody tr th {\n",
       "        vertical-align: top;\n",
       "    }\n",
       "\n",
       "    .dataframe thead tr th {\n",
       "        text-align: left;\n",
       "    }\n",
       "\n",
       "    .dataframe thead tr:last-of-type th {\n",
       "        text-align: right;\n",
       "    }\n",
       "</style>\n",
       "<table border=\"1\" class=\"dataframe\">\n",
       "  <thead>\n",
       "    <tr>\n",
       "      <th>P_CLIENTROLE</th>\n",
       "      <th colspan=\"9\" halign=\"left\">1</th>\n",
       "      <th colspan=\"3\" halign=\"left\">2</th>\n",
       "      <th colspan=\"9\" halign=\"left\">5</th>\n",
       "    </tr>\n",
       "    <tr>\n",
       "      <th>columns</th>\n",
       "      <th>P_CLIENTID</th>\n",
       "      <th>P_REGOPENDATE</th>\n",
       "      <th>P_COUNTRYCODE</th>\n",
       "      <th>P_BANKCITY</th>\n",
       "      <th>P_BANK</th>\n",
       "      <th>P_BANK_CLIENT</th>\n",
       "      <th>P_CLIENT_TYPE</th>\n",
       "      <th>seconds_from_start</th>\n",
       "      <th>seconds_from_last_client_op</th>\n",
       "      <th>P_CLIENTID</th>\n",
       "      <th>...</th>\n",
       "      <th>seconds_from_last_client_op</th>\n",
       "      <th>P_CLIENTID</th>\n",
       "      <th>P_REGOPENDATE</th>\n",
       "      <th>P_COUNTRYCODE</th>\n",
       "      <th>P_BANKCITY</th>\n",
       "      <th>P_BANK</th>\n",
       "      <th>P_BANK_CLIENT</th>\n",
       "      <th>P_CLIENT_TYPE</th>\n",
       "      <th>seconds_from_start</th>\n",
       "      <th>seconds_from_last_client_op</th>\n",
       "    </tr>\n",
       "    <tr>\n",
       "      <th>P_OPERATIONID</th>\n",
       "      <th></th>\n",
       "      <th></th>\n",
       "      <th></th>\n",
       "      <th></th>\n",
       "      <th></th>\n",
       "      <th></th>\n",
       "      <th></th>\n",
       "      <th></th>\n",
       "      <th></th>\n",
       "      <th></th>\n",
       "      <th></th>\n",
       "      <th></th>\n",
       "      <th></th>\n",
       "      <th></th>\n",
       "      <th></th>\n",
       "      <th></th>\n",
       "      <th></th>\n",
       "      <th></th>\n",
       "      <th></th>\n",
       "      <th></th>\n",
       "      <th></th>\n",
       "    </tr>\n",
       "  </thead>\n",
       "  <tbody>\n",
       "    <tr>\n",
       "      <th>0</th>\n",
       "      <td>0.0</td>\n",
       "      <td>NaT</td>\n",
       "      <td>KZ</td>\n",
       "      <td>г. Алматы</td>\n",
       "      <td>EURIKZKA</td>\n",
       "      <td>2.0</td>\n",
       "      <td>2.0</td>\n",
       "      <td>0.0</td>\n",
       "      <td>-100000.0</td>\n",
       "      <td>1.0</td>\n",
       "      <td>...</td>\n",
       "      <td>-100000.0</td>\n",
       "      <td>NaN</td>\n",
       "      <td>NaT</td>\n",
       "      <td>NaN</td>\n",
       "      <td>NaN</td>\n",
       "      <td>NaN</td>\n",
       "      <td>NaN</td>\n",
       "      <td>NaN</td>\n",
       "      <td>NaN</td>\n",
       "      <td>NaN</td>\n",
       "    </tr>\n",
       "    <tr>\n",
       "      <th>1</th>\n",
       "      <td>2.0</td>\n",
       "      <td>NaT</td>\n",
       "      <td>KZ</td>\n",
       "      <td>г. Алматы</td>\n",
       "      <td>EURIKZKA</td>\n",
       "      <td>2.0</td>\n",
       "      <td>2.0</td>\n",
       "      <td>0.0</td>\n",
       "      <td>-100000.0</td>\n",
       "      <td>1.0</td>\n",
       "      <td>...</td>\n",
       "      <td>0.0</td>\n",
       "      <td>NaN</td>\n",
       "      <td>NaT</td>\n",
       "      <td>NaN</td>\n",
       "      <td>NaN</td>\n",
       "      <td>NaN</td>\n",
       "      <td>NaN</td>\n",
       "      <td>NaN</td>\n",
       "      <td>NaN</td>\n",
       "      <td>NaN</td>\n",
       "    </tr>\n",
       "    <tr>\n",
       "      <th>2</th>\n",
       "      <td>3.0</td>\n",
       "      <td>NaT</td>\n",
       "      <td>KZ</td>\n",
       "      <td>г. Алматы</td>\n",
       "      <td>EURIKZKA</td>\n",
       "      <td>2.0</td>\n",
       "      <td>2.0</td>\n",
       "      <td>0.0</td>\n",
       "      <td>-100000.0</td>\n",
       "      <td>1.0</td>\n",
       "      <td>...</td>\n",
       "      <td>0.0</td>\n",
       "      <td>NaN</td>\n",
       "      <td>NaT</td>\n",
       "      <td>NaN</td>\n",
       "      <td>NaN</td>\n",
       "      <td>NaN</td>\n",
       "      <td>NaN</td>\n",
       "      <td>NaN</td>\n",
       "      <td>NaN</td>\n",
       "      <td>NaN</td>\n",
       "    </tr>\n",
       "    <tr>\n",
       "      <th>3</th>\n",
       "      <td>4.0</td>\n",
       "      <td>NaT</td>\n",
       "      <td>KZ</td>\n",
       "      <td>г. Алматы</td>\n",
       "      <td>EURIKZKA</td>\n",
       "      <td>2.0</td>\n",
       "      <td>2.0</td>\n",
       "      <td>0.0</td>\n",
       "      <td>-100000.0</td>\n",
       "      <td>1.0</td>\n",
       "      <td>...</td>\n",
       "      <td>0.0</td>\n",
       "      <td>NaN</td>\n",
       "      <td>NaT</td>\n",
       "      <td>NaN</td>\n",
       "      <td>NaN</td>\n",
       "      <td>NaN</td>\n",
       "      <td>NaN</td>\n",
       "      <td>NaN</td>\n",
       "      <td>NaN</td>\n",
       "      <td>NaN</td>\n",
       "    </tr>\n",
       "    <tr>\n",
       "      <th>4</th>\n",
       "      <td>NaN</td>\n",
       "      <td>NaT</td>\n",
       "      <td>NaN</td>\n",
       "      <td>NaN</td>\n",
       "      <td>NaN</td>\n",
       "      <td>NaN</td>\n",
       "      <td>NaN</td>\n",
       "      <td>NaN</td>\n",
       "      <td>NaN</td>\n",
       "      <td>5.0</td>\n",
       "      <td>...</td>\n",
       "      <td>-100000.0</td>\n",
       "      <td>NaN</td>\n",
       "      <td>NaT</td>\n",
       "      <td>NaN</td>\n",
       "      <td>NaN</td>\n",
       "      <td>NaN</td>\n",
       "      <td>NaN</td>\n",
       "      <td>NaN</td>\n",
       "      <td>NaN</td>\n",
       "      <td>NaN</td>\n",
       "    </tr>\n",
       "    <tr>\n",
       "      <th>5</th>\n",
       "      <td>NaN</td>\n",
       "      <td>NaT</td>\n",
       "      <td>NaN</td>\n",
       "      <td>NaN</td>\n",
       "      <td>NaN</td>\n",
       "      <td>NaN</td>\n",
       "      <td>NaN</td>\n",
       "      <td>NaN</td>\n",
       "      <td>NaN</td>\n",
       "      <td>6.0</td>\n",
       "      <td>...</td>\n",
       "      <td>-100000.0</td>\n",
       "      <td>NaN</td>\n",
       "      <td>NaT</td>\n",
       "      <td>NaN</td>\n",
       "      <td>NaN</td>\n",
       "      <td>NaN</td>\n",
       "      <td>NaN</td>\n",
       "      <td>NaN</td>\n",
       "      <td>NaN</td>\n",
       "      <td>NaN</td>\n",
       "    </tr>\n",
       "    <tr>\n",
       "      <th>6</th>\n",
       "      <td>NaN</td>\n",
       "      <td>NaT</td>\n",
       "      <td>NaN</td>\n",
       "      <td>NaN</td>\n",
       "      <td>NaN</td>\n",
       "      <td>NaN</td>\n",
       "      <td>NaN</td>\n",
       "      <td>NaN</td>\n",
       "      <td>NaN</td>\n",
       "      <td>7.0</td>\n",
       "      <td>...</td>\n",
       "      <td>-100000.0</td>\n",
       "      <td>NaN</td>\n",
       "      <td>NaT</td>\n",
       "      <td>NaN</td>\n",
       "      <td>NaN</td>\n",
       "      <td>NaN</td>\n",
       "      <td>NaN</td>\n",
       "      <td>NaN</td>\n",
       "      <td>NaN</td>\n",
       "      <td>NaN</td>\n",
       "    </tr>\n",
       "    <tr>\n",
       "      <th>7</th>\n",
       "      <td>NaN</td>\n",
       "      <td>NaT</td>\n",
       "      <td>NaN</td>\n",
       "      <td>NaN</td>\n",
       "      <td>NaN</td>\n",
       "      <td>NaN</td>\n",
       "      <td>NaN</td>\n",
       "      <td>NaN</td>\n",
       "      <td>NaN</td>\n",
       "      <td>8.0</td>\n",
       "      <td>...</td>\n",
       "      <td>-100000.0</td>\n",
       "      <td>NaN</td>\n",
       "      <td>NaT</td>\n",
       "      <td>NaN</td>\n",
       "      <td>NaN</td>\n",
       "      <td>NaN</td>\n",
       "      <td>NaN</td>\n",
       "      <td>NaN</td>\n",
       "      <td>NaN</td>\n",
       "      <td>NaN</td>\n",
       "    </tr>\n",
       "    <tr>\n",
       "      <th>8</th>\n",
       "      <td>NaN</td>\n",
       "      <td>NaT</td>\n",
       "      <td>NaN</td>\n",
       "      <td>NaN</td>\n",
       "      <td>NaN</td>\n",
       "      <td>NaN</td>\n",
       "      <td>NaN</td>\n",
       "      <td>NaN</td>\n",
       "      <td>NaN</td>\n",
       "      <td>8.0</td>\n",
       "      <td>...</td>\n",
       "      <td>120.0</td>\n",
       "      <td>NaN</td>\n",
       "      <td>NaT</td>\n",
       "      <td>NaN</td>\n",
       "      <td>NaN</td>\n",
       "      <td>NaN</td>\n",
       "      <td>NaN</td>\n",
       "      <td>NaN</td>\n",
       "      <td>NaN</td>\n",
       "      <td>NaN</td>\n",
       "    </tr>\n",
       "    <tr>\n",
       "      <th>9</th>\n",
       "      <td>NaN</td>\n",
       "      <td>NaT</td>\n",
       "      <td>NaN</td>\n",
       "      <td>NaN</td>\n",
       "      <td>NaN</td>\n",
       "      <td>NaN</td>\n",
       "      <td>NaN</td>\n",
       "      <td>NaN</td>\n",
       "      <td>NaN</td>\n",
       "      <td>8.0</td>\n",
       "      <td>...</td>\n",
       "      <td>240.0</td>\n",
       "      <td>NaN</td>\n",
       "      <td>NaT</td>\n",
       "      <td>NaN</td>\n",
       "      <td>NaN</td>\n",
       "      <td>NaN</td>\n",
       "      <td>NaN</td>\n",
       "      <td>NaN</td>\n",
       "      <td>NaN</td>\n",
       "      <td>NaN</td>\n",
       "    </tr>\n",
       "  </tbody>\n",
       "</table>\n",
       "<p>10 rows × 27 columns</p>\n",
       "</div>"
      ],
      "text/plain": [
       "P_CLIENTROLE           1                                                   \\\n",
       "columns       P_CLIENTID P_REGOPENDATE P_COUNTRYCODE P_BANKCITY    P_BANK   \n",
       "P_OPERATIONID                                                               \n",
       "0                    0.0           NaT            KZ  г. Алматы  EURIKZKA   \n",
       "1                    2.0           NaT            KZ  г. Алматы  EURIKZKA   \n",
       "2                    3.0           NaT            KZ  г. Алматы  EURIKZKA   \n",
       "3                    4.0           NaT            KZ  г. Алматы  EURIKZKA   \n",
       "4                    NaN           NaT           NaN        NaN       NaN   \n",
       "5                    NaN           NaT           NaN        NaN       NaN   \n",
       "6                    NaN           NaT           NaN        NaN       NaN   \n",
       "7                    NaN           NaT           NaN        NaN       NaN   \n",
       "8                    NaN           NaT           NaN        NaN       NaN   \n",
       "9                    NaN           NaT           NaN        NaN       NaN   \n",
       "\n",
       "P_CLIENTROLE                                                  \\\n",
       "columns       P_BANK_CLIENT P_CLIENT_TYPE seconds_from_start   \n",
       "P_OPERATIONID                                                  \n",
       "0                       2.0           2.0                0.0   \n",
       "1                       2.0           2.0                0.0   \n",
       "2                       2.0           2.0                0.0   \n",
       "3                       2.0           2.0                0.0   \n",
       "4                       NaN           NaN                NaN   \n",
       "5                       NaN           NaN                NaN   \n",
       "6                       NaN           NaN                NaN   \n",
       "7                       NaN           NaN                NaN   \n",
       "8                       NaN           NaN                NaN   \n",
       "9                       NaN           NaN                NaN   \n",
       "\n",
       "P_CLIENTROLE                                       2  \\\n",
       "columns       seconds_from_last_client_op P_CLIENTID   \n",
       "P_OPERATIONID                                          \n",
       "0                               -100000.0        1.0   \n",
       "1                               -100000.0        1.0   \n",
       "2                               -100000.0        1.0   \n",
       "3                               -100000.0        1.0   \n",
       "4                                     NaN        5.0   \n",
       "5                                     NaN        6.0   \n",
       "6                                     NaN        7.0   \n",
       "7                                     NaN        8.0   \n",
       "8                                     NaN        8.0   \n",
       "9                                     NaN        8.0   \n",
       "\n",
       "P_CLIENTROLE              ...                                          \\\n",
       "columns                   ...             seconds_from_last_client_op   \n",
       "P_OPERATIONID             ...                                           \n",
       "0                         ...                               -100000.0   \n",
       "1                         ...                                     0.0   \n",
       "2                         ...                                     0.0   \n",
       "3                         ...                                     0.0   \n",
       "4                         ...                               -100000.0   \n",
       "5                         ...                               -100000.0   \n",
       "6                         ...                               -100000.0   \n",
       "7                         ...                               -100000.0   \n",
       "8                         ...                                   120.0   \n",
       "9                         ...                                   240.0   \n",
       "\n",
       "P_CLIENTROLE           5                                                \\\n",
       "columns       P_CLIENTID P_REGOPENDATE P_COUNTRYCODE P_BANKCITY P_BANK   \n",
       "P_OPERATIONID                                                            \n",
       "0                    NaN           NaT           NaN        NaN    NaN   \n",
       "1                    NaN           NaT           NaN        NaN    NaN   \n",
       "2                    NaN           NaT           NaN        NaN    NaN   \n",
       "3                    NaN           NaT           NaN        NaN    NaN   \n",
       "4                    NaN           NaT           NaN        NaN    NaN   \n",
       "5                    NaN           NaT           NaN        NaN    NaN   \n",
       "6                    NaN           NaT           NaN        NaN    NaN   \n",
       "7                    NaN           NaT           NaN        NaN    NaN   \n",
       "8                    NaN           NaT           NaN        NaN    NaN   \n",
       "9                    NaN           NaT           NaN        NaN    NaN   \n",
       "\n",
       "P_CLIENTROLE                                                  \\\n",
       "columns       P_BANK_CLIENT P_CLIENT_TYPE seconds_from_start   \n",
       "P_OPERATIONID                                                  \n",
       "0                       NaN           NaN                NaN   \n",
       "1                       NaN           NaN                NaN   \n",
       "2                       NaN           NaN                NaN   \n",
       "3                       NaN           NaN                NaN   \n",
       "4                       NaN           NaN                NaN   \n",
       "5                       NaN           NaN                NaN   \n",
       "6                       NaN           NaN                NaN   \n",
       "7                       NaN           NaN                NaN   \n",
       "8                       NaN           NaN                NaN   \n",
       "9                       NaN           NaN                NaN   \n",
       "\n",
       "P_CLIENTROLE                               \n",
       "columns       seconds_from_last_client_op  \n",
       "P_OPERATIONID                              \n",
       "0                                     NaN  \n",
       "1                                     NaN  \n",
       "2                                     NaN  \n",
       "3                                     NaN  \n",
       "4                                     NaN  \n",
       "5                                     NaN  \n",
       "6                                     NaN  \n",
       "7                                     NaN  \n",
       "8                                     NaN  \n",
       "9                                     NaN  \n",
       "\n",
       "[10 rows x 27 columns]"
      ]
     },
     "execution_count": 101,
     "metadata": {},
     "output_type": "execute_result"
    }
   ],
   "source": [
    "selected_members_flatten.head(10)"
   ]
  },
  {
   "cell_type": "code",
   "execution_count": 119,
   "metadata": {},
   "outputs": [
    {
     "name": "stdout",
     "output_type": "stream",
     "text": [
      "join offline operations with selected member columns took 7.118s\n"
     ]
    }
   ],
   "source": [
    "with Timer('join offline operations with selected member columns'):\n",
    "    joined_kek = join_ops_with_flatten_members(off_ops, selected_members_flatten, ops_columns_level_name='all')"
   ]
  },
  {
   "cell_type": "code",
   "execution_count": null,
   "metadata": {},
   "outputs": [],
   "source": []
  },
  {
   "cell_type": "code",
   "execution_count": null,
   "metadata": {},
   "outputs": [],
   "source": []
  },
  {
   "cell_type": "code",
   "execution_count": null,
   "metadata": {},
   "outputs": [],
   "source": []
  },
  {
   "cell_type": "code",
   "execution_count": null,
   "metadata": {},
   "outputs": [],
   "source": []
  },
  {
   "cell_type": "code",
   "execution_count": null,
   "metadata": {},
   "outputs": [],
   "source": []
  },
  {
   "cell_type": "code",
   "execution_count": null,
   "metadata": {},
   "outputs": [],
   "source": []
  },
  {
   "cell_type": "code",
   "execution_count": null,
   "metadata": {},
   "outputs": [],
   "source": []
  },
  {
   "cell_type": "code",
   "execution_count": null,
   "metadata": {},
   "outputs": [],
   "source": []
  },
  {
   "cell_type": "code",
   "execution_count": null,
   "metadata": {},
   "outputs": [],
   "source": []
  },
  {
   "cell_type": "code",
   "execution_count": null,
   "metadata": {},
   "outputs": [],
   "source": []
  },
  {
   "cell_type": "code",
   "execution_count": null,
   "metadata": {},
   "outputs": [],
   "source": []
  },
  {
   "cell_type": "code",
   "execution_count": null,
   "metadata": {},
   "outputs": [],
   "source": [
    "pd.MultiIndex.from_product([['Kek'], ['kek', 'pek']], names=['P_CLIENTROLE', 'columns'])"
   ]
  },
  {
   "cell_type": "code",
   "execution_count": 90,
   "metadata": {},
   "outputs": [],
   "source": [
    "kek_members = off_members[off_members.P_CLIENTROLE == 1].copy()"
   ]
  },
  {
   "cell_type": "code",
   "execution_count": 91,
   "metadata": {},
   "outputs": [],
   "source": [
    "kek_members.set_index('P_OPERATIONID', drop=False, inplace=True)"
   ]
  },
  {
   "cell_type": "code",
   "execution_count": 92,
   "metadata": {},
   "outputs": [],
   "source": [
    "kek_members.columns = pd.MultiIndex.from_product([[1], kek_members.columns], names=['P_CLIENTROLE', 'columns'])"
   ]
  },
  {
   "cell_type": "code",
   "execution_count": 93,
   "metadata": {},
   "outputs": [
    {
     "data": {
      "text/html": [
       "<div>\n",
       "<style scoped>\n",
       "    .dataframe tbody tr th:only-of-type {\n",
       "        vertical-align: middle;\n",
       "    }\n",
       "\n",
       "    .dataframe tbody tr th {\n",
       "        vertical-align: top;\n",
       "    }\n",
       "\n",
       "    .dataframe thead tr th {\n",
       "        text-align: left;\n",
       "    }\n",
       "\n",
       "    .dataframe thead tr:last-of-type th {\n",
       "        text-align: right;\n",
       "    }\n",
       "</style>\n",
       "<table border=\"1\" class=\"dataframe\">\n",
       "  <thead>\n",
       "    <tr>\n",
       "      <th>P_CLIENTROLE</th>\n",
       "      <th colspan=\"21\" halign=\"left\">1</th>\n",
       "    </tr>\n",
       "    <tr>\n",
       "      <th>columns</th>\n",
       "      <th>ID</th>\n",
       "      <th>P_OPERATIONID</th>\n",
       "      <th>P_CLIENTID</th>\n",
       "      <th>P_BSCLIENTID</th>\n",
       "      <th>P_BANK_CLIENT</th>\n",
       "      <th>P_REGOPENDATE</th>\n",
       "      <th>P_COUNTRYCODE</th>\n",
       "      <th>P_CLIENT_TYPE</th>\n",
       "      <th>P_CLIENTROLE</th>\n",
       "      <th>P_CLIENTKIND</th>\n",
       "      <th>...</th>\n",
       "      <th>P_BANKNAME</th>\n",
       "      <th>P_IPDL</th>\n",
       "      <th>P_USERNAME</th>\n",
       "      <th>P_SDP</th>\n",
       "      <th>P_ORGFORM</th>\n",
       "      <th>P_BANKCITY</th>\n",
       "      <th>P_OPER_DATE</th>\n",
       "      <th>P_OPERATIONDATE</th>\n",
       "      <th>seconds_from_start</th>\n",
       "      <th>seconds_from_last_client_op</th>\n",
       "    </tr>\n",
       "    <tr>\n",
       "      <th>P_OPERATIONID</th>\n",
       "      <th></th>\n",
       "      <th></th>\n",
       "      <th></th>\n",
       "      <th></th>\n",
       "      <th></th>\n",
       "      <th></th>\n",
       "      <th></th>\n",
       "      <th></th>\n",
       "      <th></th>\n",
       "      <th></th>\n",
       "      <th></th>\n",
       "      <th></th>\n",
       "      <th></th>\n",
       "      <th></th>\n",
       "      <th></th>\n",
       "      <th></th>\n",
       "      <th></th>\n",
       "      <th></th>\n",
       "      <th></th>\n",
       "      <th></th>\n",
       "      <th></th>\n",
       "    </tr>\n",
       "  </thead>\n",
       "  <tbody>\n",
       "    <tr>\n",
       "      <th>0</th>\n",
       "      <td>528657551</td>\n",
       "      <td>0</td>\n",
       "      <td>0</td>\n",
       "      <td>9.45527e+08</td>\n",
       "      <td>2</td>\n",
       "      <td>0000-00-00 00:00:00</td>\n",
       "      <td>KZ</td>\n",
       "      <td>2</td>\n",
       "      <td>1</td>\n",
       "      <td>55</td>\n",
       "      <td>...</td>\n",
       "      <td>АО ЕВРАЗИЙСКИЙ БАНК</td>\n",
       "      <td>1</td>\n",
       "      <td>LOADER</td>\n",
       "      <td>-1000.0</td>\n",
       "      <td>-1000.0</td>\n",
       "      <td>г. Алматы</td>\n",
       "      <td>2017-01-01 00:00:00</td>\n",
       "      <td>2017-01-01 00:00:00</td>\n",
       "      <td>0.0</td>\n",
       "      <td>-100000.0</td>\n",
       "    </tr>\n",
       "    <tr>\n",
       "      <th>1</th>\n",
       "      <td>528657554</td>\n",
       "      <td>1</td>\n",
       "      <td>2</td>\n",
       "      <td>9.43723e+08</td>\n",
       "      <td>2</td>\n",
       "      <td>0000-00-00 00:00:00</td>\n",
       "      <td>KZ</td>\n",
       "      <td>2</td>\n",
       "      <td>1</td>\n",
       "      <td>55</td>\n",
       "      <td>...</td>\n",
       "      <td>АО ЕВРАЗИЙСКИЙ БАНК</td>\n",
       "      <td>1</td>\n",
       "      <td>LOADER</td>\n",
       "      <td>-1000.0</td>\n",
       "      <td>-1000.0</td>\n",
       "      <td>г. Алматы</td>\n",
       "      <td>2017-01-01 00:00:00</td>\n",
       "      <td>2017-01-01 00:00:00</td>\n",
       "      <td>0.0</td>\n",
       "      <td>-100000.0</td>\n",
       "    </tr>\n",
       "    <tr>\n",
       "      <th>2</th>\n",
       "      <td>528657557</td>\n",
       "      <td>2</td>\n",
       "      <td>3</td>\n",
       "      <td>3.96309e+07</td>\n",
       "      <td>2</td>\n",
       "      <td>0000-00-00 00:00:00</td>\n",
       "      <td>KZ</td>\n",
       "      <td>2</td>\n",
       "      <td>1</td>\n",
       "      <td>55</td>\n",
       "      <td>...</td>\n",
       "      <td>АО ЕВРАЗИЙСКИЙ БАНК</td>\n",
       "      <td>1</td>\n",
       "      <td>LOADER</td>\n",
       "      <td>-1000.0</td>\n",
       "      <td>-1000.0</td>\n",
       "      <td>г. Алматы</td>\n",
       "      <td>2017-01-01 00:00:00</td>\n",
       "      <td>2017-01-01 00:00:00</td>\n",
       "      <td>0.0</td>\n",
       "      <td>-100000.0</td>\n",
       "    </tr>\n",
       "    <tr>\n",
       "      <th>3</th>\n",
       "      <td>528657560</td>\n",
       "      <td>3</td>\n",
       "      <td>4</td>\n",
       "      <td>4.13599e+07</td>\n",
       "      <td>2</td>\n",
       "      <td>0000-00-00 00:00:00</td>\n",
       "      <td>KZ</td>\n",
       "      <td>2</td>\n",
       "      <td>1</td>\n",
       "      <td>55</td>\n",
       "      <td>...</td>\n",
       "      <td>АО ЕВРАЗИЙСКИЙ БАНК</td>\n",
       "      <td>1</td>\n",
       "      <td>LOADER</td>\n",
       "      <td>-1000.0</td>\n",
       "      <td>-1000.0</td>\n",
       "      <td>г. Алматы</td>\n",
       "      <td>2017-01-01 00:00:00</td>\n",
       "      <td>2017-01-01 00:00:00</td>\n",
       "      <td>0.0</td>\n",
       "      <td>-100000.0</td>\n",
       "    </tr>\n",
       "    <tr>\n",
       "      <th>13</th>\n",
       "      <td>528660317</td>\n",
       "      <td>13</td>\n",
       "      <td>12</td>\n",
       "      <td>9.5803e+07</td>\n",
       "      <td>2</td>\n",
       "      <td>0000-00-00 00:00:00</td>\n",
       "      <td>KZ</td>\n",
       "      <td>2</td>\n",
       "      <td>1</td>\n",
       "      <td>29</td>\n",
       "      <td>...</td>\n",
       "      <td>АО ЕВРАЗИЙСКИЙ БАНК</td>\n",
       "      <td>1</td>\n",
       "      <td>LOADER</td>\n",
       "      <td>-1000.0</td>\n",
       "      <td>-1000.0</td>\n",
       "      <td>ХРОМТАУ</td>\n",
       "      <td>2017-01-01 13:09:00</td>\n",
       "      <td>2017-01-01 00:00:00</td>\n",
       "      <td>47340.0</td>\n",
       "      <td>-100000.0</td>\n",
       "    </tr>\n",
       "  </tbody>\n",
       "</table>\n",
       "<p>5 rows × 24 columns</p>\n",
       "</div>"
      ],
      "text/plain": [
       "P_CLIENTROLE           1                                                      \\\n",
       "columns               ID P_OPERATIONID P_CLIENTID P_BSCLIENTID P_BANK_CLIENT   \n",
       "P_OPERATIONID                                                                  \n",
       "0              528657551             0          0  9.45527e+08             2   \n",
       "1              528657554             1          2  9.43723e+08             2   \n",
       "2              528657557             2          3  3.96309e+07             2   \n",
       "3              528657560             3          4  4.13599e+07             2   \n",
       "13             528660317            13         12   9.5803e+07             2   \n",
       "\n",
       "P_CLIENTROLE                                                                 \\\n",
       "columns              P_REGOPENDATE P_COUNTRYCODE P_CLIENT_TYPE P_CLIENTROLE   \n",
       "P_OPERATIONID                                                                 \n",
       "0              0000-00-00 00:00:00            KZ             2            1   \n",
       "1              0000-00-00 00:00:00            KZ             2            1   \n",
       "2              0000-00-00 00:00:00            KZ             2            1   \n",
       "3              0000-00-00 00:00:00            KZ             2            1   \n",
       "13             0000-00-00 00:00:00            KZ             2            1   \n",
       "\n",
       "P_CLIENTROLE                           ...                                   \\\n",
       "columns       P_CLIENTKIND             ...                       P_BANKNAME   \n",
       "P_OPERATIONID                          ...                                    \n",
       "0                       55             ...              АО ЕВРАЗИЙСКИЙ БАНК   \n",
       "1                       55             ...              АО ЕВРАЗИЙСКИЙ БАНК   \n",
       "2                       55             ...              АО ЕВРАЗИЙСКИЙ БАНК   \n",
       "3                       55             ...              АО ЕВРАЗИЙСКИЙ БАНК   \n",
       "13                      29             ...              АО ЕВРАЗИЙСКИЙ БАНК   \n",
       "\n",
       "P_CLIENTROLE                                                  \\\n",
       "columns       P_IPDL P_USERNAME   P_SDP P_ORGFORM P_BANKCITY   \n",
       "P_OPERATIONID                                                  \n",
       "0                  1     LOADER -1000.0   -1000.0  г. Алматы   \n",
       "1                  1     LOADER -1000.0   -1000.0  г. Алматы   \n",
       "2                  1     LOADER -1000.0   -1000.0  г. Алматы   \n",
       "3                  1     LOADER -1000.0   -1000.0  г. Алматы   \n",
       "13                 1     LOADER -1000.0   -1000.0    ХРОМТАУ   \n",
       "\n",
       "P_CLIENTROLE                                                                \\\n",
       "columns                P_OPER_DATE      P_OPERATIONDATE seconds_from_start   \n",
       "P_OPERATIONID                                                                \n",
       "0              2017-01-01 00:00:00  2017-01-01 00:00:00                0.0   \n",
       "1              2017-01-01 00:00:00  2017-01-01 00:00:00                0.0   \n",
       "2              2017-01-01 00:00:00  2017-01-01 00:00:00                0.0   \n",
       "3              2017-01-01 00:00:00  2017-01-01 00:00:00                0.0   \n",
       "13             2017-01-01 13:09:00  2017-01-01 00:00:00            47340.0   \n",
       "\n",
       "P_CLIENTROLE                               \n",
       "columns       seconds_from_last_client_op  \n",
       "P_OPERATIONID                              \n",
       "0                               -100000.0  \n",
       "1                               -100000.0  \n",
       "2                               -100000.0  \n",
       "3                               -100000.0  \n",
       "13                              -100000.0  \n",
       "\n",
       "[5 rows x 24 columns]"
      ]
     },
     "execution_count": 93,
     "metadata": {},
     "output_type": "execute_result"
    }
   ],
   "source": [
    "kek_members.head(5)"
   ]
  },
  {
   "cell_type": "code",
   "execution_count": 94,
   "metadata": {},
   "outputs": [
    {
     "data": {
      "text/plain": [
       "MultiIndex(levels=[[1], ['ID', 'P_ACCOUNT', 'P_BANK', 'P_BANKCITY', 'P_BANKCOUNTRYCODE', 'P_BANKNAME', 'P_BANK_CLIENT', 'P_BSACCOUNT', 'P_BSCLIENTID', 'P_CLIENTID', 'P_CLIENTKIND', 'P_CLIENTROLE', 'P_CLIENT_TYPE', 'P_COUNTRYCODE', 'P_IPDL', 'P_OPERATIONDATE', 'P_OPERATIONID', 'P_OPER_DATE', 'P_ORGFORM', 'P_REGOPENDATE', 'P_SDP', 'P_USERNAME', 'seconds_from_last_client_op', 'seconds_from_start']],\n",
       "           labels=[[0, 0, 0, 0, 0, 0, 0, 0, 0, 0, 0, 0, 0, 0, 0, 0, 0, 0, 0, 0, 0, 0, 0, 0], [0, 16, 9, 8, 6, 19, 13, 12, 11, 10, 1, 7, 2, 4, 5, 14, 21, 20, 18, 3, 17, 15, 23, 22]],\n",
       "           names=['P_CLIENTROLE', 'columns'])"
      ]
     },
     "execution_count": 94,
     "metadata": {},
     "output_type": "execute_result"
    }
   ],
   "source": [
    "kek_members.columns"
   ]
  },
  {
   "cell_type": "code",
   "execution_count": 95,
   "metadata": {},
   "outputs": [],
   "source": [
    "pek_members = off_members[off_members.P_CLIENTROLE == 2].copy()\n",
    "pek_members.set_index('P_OPERATIONID', drop=False, inplace=True)\n",
    "pek_members.columns = pd.MultiIndex.from_product([[2], pek_members.columns], names=['P_CLIENTROLE', 'columns'])"
   ]
  },
  {
   "cell_type": "code",
   "execution_count": 96,
   "metadata": {},
   "outputs": [
    {
     "data": {
      "text/html": [
       "<div>\n",
       "<style scoped>\n",
       "    .dataframe tbody tr th:only-of-type {\n",
       "        vertical-align: middle;\n",
       "    }\n",
       "\n",
       "    .dataframe tbody tr th {\n",
       "        vertical-align: top;\n",
       "    }\n",
       "\n",
       "    .dataframe thead tr th {\n",
       "        text-align: left;\n",
       "    }\n",
       "\n",
       "    .dataframe thead tr:last-of-type th {\n",
       "        text-align: right;\n",
       "    }\n",
       "</style>\n",
       "<table border=\"1\" class=\"dataframe\">\n",
       "  <thead>\n",
       "    <tr>\n",
       "      <th>P_CLIENTROLE</th>\n",
       "      <th colspan=\"21\" halign=\"left\">2</th>\n",
       "    </tr>\n",
       "    <tr>\n",
       "      <th>columns</th>\n",
       "      <th>ID</th>\n",
       "      <th>P_OPERATIONID</th>\n",
       "      <th>P_CLIENTID</th>\n",
       "      <th>P_BSCLIENTID</th>\n",
       "      <th>P_BANK_CLIENT</th>\n",
       "      <th>P_REGOPENDATE</th>\n",
       "      <th>P_COUNTRYCODE</th>\n",
       "      <th>P_CLIENT_TYPE</th>\n",
       "      <th>P_CLIENTROLE</th>\n",
       "      <th>P_CLIENTKIND</th>\n",
       "      <th>...</th>\n",
       "      <th>P_BANKNAME</th>\n",
       "      <th>P_IPDL</th>\n",
       "      <th>P_USERNAME</th>\n",
       "      <th>P_SDP</th>\n",
       "      <th>P_ORGFORM</th>\n",
       "      <th>P_BANKCITY</th>\n",
       "      <th>P_OPER_DATE</th>\n",
       "      <th>P_OPERATIONDATE</th>\n",
       "      <th>seconds_from_start</th>\n",
       "      <th>seconds_from_last_client_op</th>\n",
       "    </tr>\n",
       "    <tr>\n",
       "      <th>P_OPERATIONID</th>\n",
       "      <th></th>\n",
       "      <th></th>\n",
       "      <th></th>\n",
       "      <th></th>\n",
       "      <th></th>\n",
       "      <th></th>\n",
       "      <th></th>\n",
       "      <th></th>\n",
       "      <th></th>\n",
       "      <th></th>\n",
       "      <th></th>\n",
       "      <th></th>\n",
       "      <th></th>\n",
       "      <th></th>\n",
       "      <th></th>\n",
       "      <th></th>\n",
       "      <th></th>\n",
       "      <th></th>\n",
       "      <th></th>\n",
       "      <th></th>\n",
       "      <th></th>\n",
       "    </tr>\n",
       "  </thead>\n",
       "  <tbody>\n",
       "    <tr>\n",
       "      <th>0</th>\n",
       "      <td>528657552</td>\n",
       "      <td>0</td>\n",
       "      <td>1</td>\n",
       "      <td>9.5024e+11</td>\n",
       "      <td>2</td>\n",
       "      <td>0000-00-00 00:00:00</td>\n",
       "      <td>KZ</td>\n",
       "      <td>1</td>\n",
       "      <td>2</td>\n",
       "      <td>55</td>\n",
       "      <td>...</td>\n",
       "      <td>АО ЕВРАЗИЙСКИЙ БАНК</td>\n",
       "      <td>1</td>\n",
       "      <td>LOADER</td>\n",
       "      <td>-1000.0</td>\n",
       "      <td>28.0</td>\n",
       "      <td>г. Алматы</td>\n",
       "      <td>2017-01-01 00:00:00</td>\n",
       "      <td>2017-01-01 00:00:00</td>\n",
       "      <td>0.0</td>\n",
       "      <td>-100000.0</td>\n",
       "    </tr>\n",
       "    <tr>\n",
       "      <th>1</th>\n",
       "      <td>528657555</td>\n",
       "      <td>1</td>\n",
       "      <td>1</td>\n",
       "      <td>9.5024e+11</td>\n",
       "      <td>2</td>\n",
       "      <td>0000-00-00 00:00:00</td>\n",
       "      <td>KZ</td>\n",
       "      <td>1</td>\n",
       "      <td>2</td>\n",
       "      <td>55</td>\n",
       "      <td>...</td>\n",
       "      <td>АО ЕВРАЗИЙСКИЙ БАНК</td>\n",
       "      <td>1</td>\n",
       "      <td>LOADER</td>\n",
       "      <td>-1000.0</td>\n",
       "      <td>28.0</td>\n",
       "      <td>г. Алматы</td>\n",
       "      <td>2017-01-01 00:00:00</td>\n",
       "      <td>2017-01-01 00:00:00</td>\n",
       "      <td>0.0</td>\n",
       "      <td>0.0</td>\n",
       "    </tr>\n",
       "    <tr>\n",
       "      <th>2</th>\n",
       "      <td>528657558</td>\n",
       "      <td>2</td>\n",
       "      <td>1</td>\n",
       "      <td>9.5024e+11</td>\n",
       "      <td>2</td>\n",
       "      <td>0000-00-00 00:00:00</td>\n",
       "      <td>KZ</td>\n",
       "      <td>1</td>\n",
       "      <td>2</td>\n",
       "      <td>55</td>\n",
       "      <td>...</td>\n",
       "      <td>АО ЕВРАЗИЙСКИЙ БАНК</td>\n",
       "      <td>1</td>\n",
       "      <td>LOADER</td>\n",
       "      <td>-1000.0</td>\n",
       "      <td>28.0</td>\n",
       "      <td>г. Алматы</td>\n",
       "      <td>2017-01-01 00:00:00</td>\n",
       "      <td>2017-01-01 00:00:00</td>\n",
       "      <td>0.0</td>\n",
       "      <td>0.0</td>\n",
       "    </tr>\n",
       "    <tr>\n",
       "      <th>3</th>\n",
       "      <td>528657562</td>\n",
       "      <td>3</td>\n",
       "      <td>1</td>\n",
       "      <td>9.5024e+11</td>\n",
       "      <td>2</td>\n",
       "      <td>0000-00-00 00:00:00</td>\n",
       "      <td>KZ</td>\n",
       "      <td>1</td>\n",
       "      <td>2</td>\n",
       "      <td>55</td>\n",
       "      <td>...</td>\n",
       "      <td>АО ЕВРАЗИЙСКИЙ БАНК</td>\n",
       "      <td>1</td>\n",
       "      <td>LOADER</td>\n",
       "      <td>-1000.0</td>\n",
       "      <td>28.0</td>\n",
       "      <td>г. Алматы</td>\n",
       "      <td>2017-01-01 00:00:00</td>\n",
       "      <td>2017-01-01 00:00:00</td>\n",
       "      <td>0.0</td>\n",
       "      <td>0.0</td>\n",
       "    </tr>\n",
       "    <tr>\n",
       "      <th>4</th>\n",
       "      <td>528659891</td>\n",
       "      <td>4</td>\n",
       "      <td>5</td>\n",
       "      <td>9.64565e+07</td>\n",
       "      <td>2</td>\n",
       "      <td>0000-00-00 00:00:00</td>\n",
       "      <td>KZ</td>\n",
       "      <td>2</td>\n",
       "      <td>2</td>\n",
       "      <td>29</td>\n",
       "      <td>...</td>\n",
       "      <td>АО ЕВРАЗИЙСКИЙ БАНК</td>\n",
       "      <td>1</td>\n",
       "      <td>LOADER</td>\n",
       "      <td>-1000.0</td>\n",
       "      <td>-1000.0</td>\n",
       "      <td>КЫЗЫЛОРДА</td>\n",
       "      <td>2017-01-01 02:10:00</td>\n",
       "      <td>2017-01-01 00:00:00</td>\n",
       "      <td>7800.0</td>\n",
       "      <td>-100000.0</td>\n",
       "    </tr>\n",
       "  </tbody>\n",
       "</table>\n",
       "<p>5 rows × 24 columns</p>\n",
       "</div>"
      ],
      "text/plain": [
       "P_CLIENTROLE           2                                                      \\\n",
       "columns               ID P_OPERATIONID P_CLIENTID P_BSCLIENTID P_BANK_CLIENT   \n",
       "P_OPERATIONID                                                                  \n",
       "0              528657552             0          1   9.5024e+11             2   \n",
       "1              528657555             1          1   9.5024e+11             2   \n",
       "2              528657558             2          1   9.5024e+11             2   \n",
       "3              528657562             3          1   9.5024e+11             2   \n",
       "4              528659891             4          5  9.64565e+07             2   \n",
       "\n",
       "P_CLIENTROLE                                                                 \\\n",
       "columns              P_REGOPENDATE P_COUNTRYCODE P_CLIENT_TYPE P_CLIENTROLE   \n",
       "P_OPERATIONID                                                                 \n",
       "0              0000-00-00 00:00:00            KZ             1            2   \n",
       "1              0000-00-00 00:00:00            KZ             1            2   \n",
       "2              0000-00-00 00:00:00            KZ             1            2   \n",
       "3              0000-00-00 00:00:00            KZ             1            2   \n",
       "4              0000-00-00 00:00:00            KZ             2            2   \n",
       "\n",
       "P_CLIENTROLE                           ...                                   \\\n",
       "columns       P_CLIENTKIND             ...                       P_BANKNAME   \n",
       "P_OPERATIONID                          ...                                    \n",
       "0                       55             ...              АО ЕВРАЗИЙСКИЙ БАНК   \n",
       "1                       55             ...              АО ЕВРАЗИЙСКИЙ БАНК   \n",
       "2                       55             ...              АО ЕВРАЗИЙСКИЙ БАНК   \n",
       "3                       55             ...              АО ЕВРАЗИЙСКИЙ БАНК   \n",
       "4                       29             ...              АО ЕВРАЗИЙСКИЙ БАНК   \n",
       "\n",
       "P_CLIENTROLE                                                  \\\n",
       "columns       P_IPDL P_USERNAME   P_SDP P_ORGFORM P_BANKCITY   \n",
       "P_OPERATIONID                                                  \n",
       "0                  1     LOADER -1000.0      28.0  г. Алматы   \n",
       "1                  1     LOADER -1000.0      28.0  г. Алматы   \n",
       "2                  1     LOADER -1000.0      28.0  г. Алматы   \n",
       "3                  1     LOADER -1000.0      28.0  г. Алматы   \n",
       "4                  1     LOADER -1000.0   -1000.0  КЫЗЫЛОРДА   \n",
       "\n",
       "P_CLIENTROLE                                                                \\\n",
       "columns                P_OPER_DATE      P_OPERATIONDATE seconds_from_start   \n",
       "P_OPERATIONID                                                                \n",
       "0              2017-01-01 00:00:00  2017-01-01 00:00:00                0.0   \n",
       "1              2017-01-01 00:00:00  2017-01-01 00:00:00                0.0   \n",
       "2              2017-01-01 00:00:00  2017-01-01 00:00:00                0.0   \n",
       "3              2017-01-01 00:00:00  2017-01-01 00:00:00                0.0   \n",
       "4              2017-01-01 02:10:00  2017-01-01 00:00:00             7800.0   \n",
       "\n",
       "P_CLIENTROLE                               \n",
       "columns       seconds_from_last_client_op  \n",
       "P_OPERATIONID                              \n",
       "0                               -100000.0  \n",
       "1                                     0.0  \n",
       "2                                     0.0  \n",
       "3                                     0.0  \n",
       "4                               -100000.0  \n",
       "\n",
       "[5 rows x 24 columns]"
      ]
     },
     "execution_count": 96,
     "metadata": {},
     "output_type": "execute_result"
    }
   ],
   "source": [
    "pek_members.head(5)"
   ]
  },
  {
   "cell_type": "code",
   "execution_count": null,
   "metadata": {},
   "outputs": [],
   "source": []
  },
  {
   "cell_type": "code",
   "execution_count": null,
   "metadata": {},
   "outputs": [],
   "source": []
  },
  {
   "cell_type": "code",
   "execution_count": null,
   "metadata": {},
   "outputs": [],
   "source": []
  },
  {
   "cell_type": "code",
   "execution_count": null,
   "metadata": {},
   "outputs": [],
   "source": []
  },
  {
   "cell_type": "code",
   "execution_count": 83,
   "metadata": {},
   "outputs": [],
   "source": []
  },
  {
   "cell_type": "code",
   "execution_count": 89,
   "metadata": {},
   "outputs": [
    {
     "data": {
      "text/plain": [
       "Int64Index([       0,        2,        4,        6,       17,       18,\n",
       "                  19,       20,       21,       22,\n",
       "            ...\n",
       "            11514327, 11514329, 11514331, 11514333, 11514335, 11514337,\n",
       "            11514339, 11514342, 11514343, 11514345],\n",
       "           dtype='int64', length=7126911)"
      ]
     },
     "execution_count": 89,
     "metadata": {},
     "output_type": "execute_result"
    }
   ],
   "source": [
    "kek_members.set_index[]"
   ]
  },
  {
   "cell_type": "code",
   "execution_count": null,
   "metadata": {},
   "outputs": [],
   "source": []
  },
  {
   "cell_type": "code",
   "execution_count": null,
   "metadata": {},
   "outputs": [],
   "source": []
  },
  {
   "cell_type": "code",
   "execution_count": null,
   "metadata": {},
   "outputs": [],
   "source": []
  },
  {
   "cell_type": "code",
   "execution_count": null,
   "metadata": {},
   "outputs": [],
   "source": []
  },
  {
   "cell_type": "code",
   "execution_count": null,
   "metadata": {},
   "outputs": [],
   "source": []
  },
  {
   "cell_type": "code",
   "execution_count": null,
   "metadata": {},
   "outputs": [],
   "source": []
  },
  {
   "cell_type": "code",
   "execution_count": 71,
   "metadata": {},
   "outputs": [
    {
     "data": {
      "text/plain": [
       "MultiIndex(levels=[['Kek'], ['kek', 'pek']],\n",
       "           labels=[[0, 0], [0, 1]],\n",
       "           names=['P_CLIENTROLE', 'columns'])"
      ]
     },
     "execution_count": 71,
     "metadata": {},
     "output_type": "execute_result"
    }
   ],
   "source": []
  },
  {
   "cell_type": "markdown",
   "metadata": {},
   "source": [
    "### Timer, table stat function, P_CLIENTID clearing procedure, function for flattening dataframe by cat column"
   ]
  },
  {
   "cell_type": "code",
   "execution_count": 67,
   "metadata": {},
   "outputs": [],
   "source": [
    "class Timer:\n",
    "    def __init__(self, msg='operation', verbose=True):\n",
    "        self.msg = msg\n",
    "        self.verbose = verbose       \n",
    "    def __enter__(self, ):\n",
    "        self.start = time.clock()\n",
    "        return self\n",
    "\n",
    "    def __exit__(self, *args):\n",
    "        self.end = time.clock()\n",
    "        self.interval = self.end - self.start\n",
    "        if self.verbose:\n",
    "            print('{} took {:.3f}s'.format(self.msg, self.interval), flush=True)\n",
    "\n",
    "\n",
    "def df_categorical_variables_stat(df, max_cardinality=200):\n",
    "    for colname in df.columns:\n",
    "        print('next_column: {}'.format(colname))\n",
    "        uniq_vals = df[colname].unique()\n",
    "        nunique = len(uniq_vals)\n",
    "        print(\"# of uniqs: {}\".format(nunique))\n",
    "        if nunique < max_cardinality:\n",
    "            print('Viable Categorical. Value counts:')\n",
    "            print(df[colname].value_counts(dropna=False))\n",
    "        else:\n",
    "            print('High cardinality/Non categorical')\n",
    "        print((('-' * 80) + '\\n')*3)\n",
    "\n",
    "\n",
    "def process_client_indices(client_indices, trivial_to_nontrivial=None, default_null=-1000):\n",
    "    if trivial_to_nontrivial is None:\n",
    "        trivial_ids_to_nontrivial = defaultdict(lambda: -len(trivial_ids_to_nontrivial) - 2)\n",
    "\n",
    "    nontrivial_clients_ids = client_indices.copy()\n",
    "    nontrivial_clients_ids[nontrivial_clients_ids.isnull()] = default_null\n",
    "\n",
    "    nontrivial_clients_ids = nontrivial_clients_ids.map(str)\n",
    "\n",
    "    nontrivial_ids = nontrivial_clients_ids.map(lambda s: s.strip())\n",
    "\n",
    "    is_trivial = nontrivial_ids.map(lambda s: len(re.findall('^([\\d]+|-[\\d]+)', s)) == 0)\n",
    "    trivial_ids = nontrivial_ids[is_trivial]\n",
    "\n",
    "    for ti in trivial_ids:\n",
    "        trivial_ids_to_nontrivial[ti]\n",
    "    trivial_ids_to_nontrivial\n",
    "    nontrivial_ids[is_trivial] = trivial_ids.map(lambda s: str(trivial_ids_to_nontrivial[s]))\n",
    "\n",
    "    nontrivial_ids = nontrivial_ids.map(lambda s: re.findall('^([\\d]+|-[\\d]+)', s)[0]).map(int)\n",
    "    return nontrivial_ids, trivial_to_nontrivial\n",
    "\n",
    "\n",
    "def flatten_by_column(df, to_flatten, flatten_by, group_by, names_flatten_by=None):\n",
    "    if names_flatten_by is None:\n",
    "        names_flatten_by = {\n",
    "            uniq_val: '{}={}'.format(flatten_by, uniq_val)\n",
    "            for uniq_val in df[flatten_by].unique()\n",
    "        }\n",
    "    #column_to_flatten_by = 'P_CLIENTROLE'\n",
    "    #column_to_group_by = 'P_SUSPICIOUSOPERATIONID'\n",
    "    #column_to_flatten = 'P_CLIENTID'\n",
    "    column_to_flatten_by = flatten_by\n",
    "    column_to_flatten = to_flatten\n",
    "    column_to_group_by = group_by\n",
    "    frames_to_join = [\n",
    "        df[[column_to_group_by, column_to_flatten]][df[column_to_flatten_by] == uniq_val]\n",
    "        for uniq_val in df[column_to_flatten_by].unique()\n",
    "    ]\n",
    "\n",
    "    for frame, uniq_val in zip(frames_to_join, df[flatten_by].unique()):\n",
    "        frame.rename(columns={column_to_flatten: names_flatten_by[uniq_val]}, inplace=True)\n",
    "        frame.set_index(column_to_group_by, inplace=True)\n",
    "\n",
    "    res = frames_to_join[0].join(frames_to_join[1:], how='outer')\n",
    "    return res\n",
    "\n",
    "\n",
    "def flatten_df_by_column(df, to_flatten, flatten_by, group_by, names_flatten_by=None):\n",
    "    if names_flatten_by is None:\n",
    "        names_flatten_by = {\n",
    "            uniq_val: '{}={}'.format(flatten_by, uniq_val)\n",
    "            for uniq_val in df[flatten_by].unique()\n",
    "        }\n",
    "    #column_to_flatten_by = 'P_CLIENTROLE'\n",
    "    #column_to_group_by = 'P_SUSPICIOUSOPERATIONID'\n",
    "    #column_to_flatten = 'P_CLIENTID'\n",
    "    column_to_flatten_by = flatten_by\n",
    "    columns_to_flatten = to_flatten\n",
    "    if not isinstance(columns_to_flatten, (list, tuple, pd.Index)):\n",
    "        columns_to_flatten = [to_flatten]\n",
    "    column_to_group_by = group_by\n",
    "    frames_to_join = [\n",
    "        df[[column_to_group_by] + columns_to_flatten][df[column_to_flatten_by] == uniq_val]\n",
    "        for uniq_val in df[column_to_flatten_by].unique()\n",
    "    ]\n",
    "\n",
    "    for frame, uniq_val in zip(frames_to_join, df[flatten_by].unique()):\n",
    "        frame.rename(\n",
    "            columns = {\n",
    "                column_to_flatten: '{}__{}'.format(column_to_flatten, names_flatten_by[uniq_val])\n",
    "                for column_to_flatten in columns_to_flatten\n",
    "            },\n",
    "            inplace=True)\n",
    "        frame.set_index(column_to_group_by, inplace=True)\n",
    "\n",
    "    res = frames_to_join[0].join(frames_to_join[1:], how='outer')\n",
    "    return res\n",
    "\n",
    "\n",
    "def join_ops_with_flatten_members(ops, flatten_ops_with_members, id_colname='ID'):\n",
    "    ops_to_join = ops.set_index(id_colname, drop=False)\n",
    "    joined_ops = ops_to_join.join(flatten_ops_with_members, how='left')\n",
    "    joined_ops.reset_index(drop=True, inplace=True)\n",
    "    return joined_ops"
   ]
  },
  {
   "cell_type": "markdown",
   "metadata": {},
   "source": [
    "### Read data csv and drop some columns and rows from off_members"
   ]
  },
  {
   "cell_type": "code",
   "execution_count": 3,
   "metadata": {},
   "outputs": [
    {
     "name": "stdout",
     "output_type": "stream",
     "text": [
      "read susp_ops took 6.149s\n"
     ]
    },
    {
     "name": "stderr",
     "output_type": "stream",
     "text": [
      "/home/const.belev/anaconda3/lib/python3.6/site-packages/IPython/core/interactiveshell.py:2728: DtypeWarning: Columns (4,9,40) have mixed types. Specify dtype option on import or set low_memory=False.\n",
      "  interactivity=interactivity, compiler=compiler, result=result)\n",
      "/home/const.belev/anaconda3/lib/python3.6/site-packages/IPython/core/interactiveshell.py:2728: DtypeWarning: Columns (2,3,21,30) have mixed types. Specify dtype option on import or set low_memory=False.\n",
      "  interactivity=interactivity, compiler=compiler, result=result)\n"
     ]
    },
    {
     "name": "stdout",
     "output_type": "stream",
     "text": [
      "read susp_members took 5.497s\n"
     ]
    },
    {
     "name": "stderr",
     "output_type": "stream",
     "text": [
      "/home/const.belev/anaconda3/lib/python3.6/site-packages/IPython/core/interactiveshell.py:2728: DtypeWarning: Columns (2,3,8,9,17,18) have mixed types. Specify dtype option on import or set low_memory=False.\n",
      "  interactivity=interactivity, compiler=compiler, result=result)\n"
     ]
    },
    {
     "name": "stdout",
     "output_type": "stream",
     "text": [
      "read off_ops took 68.418s\n"
     ]
    },
    {
     "name": "stderr",
     "output_type": "stream",
     "text": [
      "/home/const.belev/anaconda3/lib/python3.6/site-packages/IPython/core/interactiveshell.py:2728: DtypeWarning: Columns (2,3,5,11,17,22) have mixed types. Specify dtype option on import or set low_memory=False.\n",
      "  interactivity=interactivity, compiler=compiler, result=result)\n"
     ]
    },
    {
     "name": "stdout",
     "output_type": "stream",
     "text": [
      "read off_ops took 62.216s\n",
      "drop messy off_members columns took 2.838s\n",
      "drop off_members with OPERATIONID that are not in off_ops took 10.336s\n",
      "drop off_ops with OPERATIONID that are not in off_ops took 8.831s\n"
     ]
    }
   ],
   "source": [
    "with Timer('read susp_ops', True):\n",
    "    susp_ops = pd.read_csv(os.path.join(path_to_data, 'susp_ops.csv'))\n",
    "with Timer('read susp_members', True):\n",
    "    susp_members = pd.read_csv(os.path.join(path_to_data, 'susp_members.csv'))\n",
    "with Timer('read off_ops', True):\n",
    "    off_ops = pd.read_csv(os.path.join(path_to_data, 'off_ops.csv'))\n",
    "with Timer('read off_ops', True):\n",
    "    off_members = pd.read_csv(os.path.join(path_to_data, 'off_members.csv'))\n",
    "\n",
    "with Timer('drop messy off_members columns'):\n",
    "    off_members.drop(['P_DATE_INSERT', 'P_DATE_UPDATE', 'CHANGEDATE'], axis=1, inplace=True)\n",
    "\n",
    "with Timer('drop off_members with OPERATIONID that are not in off_ops'):\n",
    "    off_members = off_members[off_members.P_OPERATIONID.isin(off_ops.ID)].copy()\n",
    "\n",
    "with Timer('drop off_ops with OPERATIONID that are not in off_ops'):\n",
    "    off_ops = off_ops[off_ops.ID.isin(off_members.P_OPERATIONID)].copy()"
   ]
  },
  {
   "cell_type": "markdown",
   "metadata": {},
   "source": [
    "### Clean mess with P_CLIENTID and columns containing nans, drop stupid duplicates"
   ]
  },
  {
   "cell_type": "code",
   "execution_count": 4,
   "metadata": {},
   "outputs": [
    {
     "name": "stdout",
     "output_type": "stream",
     "text": [
      "filling NaNs in off_members took 2.720s\n",
      "off_members client_ids processing took 49.993s\n",
      "dropping duplicate rows from off_members took 33.030s\n"
     ]
    }
   ],
   "source": [
    "fill_values_for_off_members = {\n",
    "    'P_BSCLIENTID': -1000,\n",
    "    'P_REGOPENDATE': '0000-00-00 00:00:00',\n",
    "    'P_BSACCOUNT': -1000,\n",
    "    'P_BANK': 'UNKNOWN',\n",
    "    'P_SDP': -1000,\n",
    "    'P_ORGFORM': -1000,\n",
    "    'P_BANKCITY': 'UNKNOWN'\n",
    "}\n",
    "\n",
    "with Timer('filling NaNs in off_members'):\n",
    "    off_members.fillna(value=fill_values_for_off_members, inplace=True)\n",
    "\n",
    "with Timer('off_members client_ids processing'):\n",
    "    off_members.loc[:, 'P_CLIENTID'], trivial_ids_to_nontrivial = process_client_indices(off_members.P_CLIENTID)\n",
    "\n",
    "with Timer('dropping duplicate rows from off_members'):\n",
    "    off_members.drop_duplicates(off_members.columns.drop(['ID', 'P_BSCLIENTID', 'P_BSACCOUNT']), inplace=True)"
   ]
  },
  {
   "cell_type": "markdown",
   "metadata": {},
   "source": [
    "### Convert time to datetime format and sort operations by time"
   ]
  },
  {
   "cell_type": "code",
   "execution_count": 5,
   "metadata": {},
   "outputs": [
    {
     "name": "stdout",
     "output_type": "stream",
     "text": [
      "process off_ops took 8.011s\n"
     ]
    }
   ],
   "source": [
    "with Timer('process off_ops', True):\n",
    "    off_ops.loc[:, 'P_OPERATIONDATETIME'] = pd.to_datetime(off_ops['P_OPERATIONDATETIME'])\n",
    "    off_ops.sort_values(by='P_OPERATIONDATETIME', kind='mergesort', inplace=True)"
   ]
  },
  {
   "cell_type": "markdown",
   "metadata": {},
   "source": [
    "### Map operation ID to 0-based one (assuming our ops already sorted)"
   ]
  },
  {
   "cell_type": "code",
   "execution_count": 6,
   "metadata": {},
   "outputs": [
    {
     "name": "stdout",
     "output_type": "stream",
     "text": [
      "building counters for unique operation ID took 7.622s\n",
      "mapping original ID to 0-based for off_ops took 5.729s\n",
      "mapping original P_OPERATIONID to 0-based for off_members took 10.335s\n"
     ]
    }
   ],
   "source": [
    "with Timer('building counters for unique operation ID'):\n",
    "    operation_id_uniqs, operation_id_indices = np.unique(off_ops.ID.values, return_index=True)\n",
    "    operation_id_uniqs = operation_id_uniqs[operation_id_indices.argsort()]\n",
    "    operationid_counter = {u: i for i, u in enumerate(operation_id_uniqs)}\n",
    "    operationid_inv_counter = {v: k for k, v in operationid_counter.items()}\n",
    "\n",
    "%reset_selective -f operation_id_uniqs\n",
    "%reset_selective -f operation_id_indices\n",
    "\n",
    "with Timer('mapping original ID to 0-based for off_ops'):\n",
    "    off_ops.loc[:, 'ID'] = off_ops['ID'].map(operationid_counter.get)\n",
    "\n",
    "with Timer('mapping original P_OPERATIONID to 0-based for off_members'):\n",
    "    off_members.loc[:, 'P_OPERATIONID'] = off_members['P_OPERATIONID'].map(operationid_counter.get)"
   ]
  },
  {
   "cell_type": "markdown",
   "metadata": {},
   "source": [
    "### Map P_CLIENTID to 0-based indices (to be able to work with sparse client matrices)"
   ]
  },
  {
   "cell_type": "code",
   "execution_count": 7,
   "metadata": {},
   "outputs": [
    {
     "name": "stdout",
     "output_type": "stream",
     "text": [
      "sort off-members by time-sorted operation ID took 8.393s\n",
      "build fast uniqs took 9.177s\n",
      "build clientid_counter took 0.588s\n",
      "mapping original P_CLIENTID to 0-based for off_members took 11.684s\n"
     ]
    }
   ],
   "source": [
    "with Timer('sort off-members by time-sorted operation ID'):\n",
    "    off_members.sort_values('P_OPERATIONID', kind='mergesort', inplace=True)\n",
    "\n",
    "clientids_sorted = off_members['P_CLIENTID'].values\n",
    "\n",
    "with Timer('build fast uniqs'):\n",
    "    clientids_uniqs, clientids_indices = np.unique(clientids_sorted[np.isfinite(clientids_sorted)], return_index=True)\n",
    "    clientids_uniqs = clientids_uniqs[clientids_indices.argsort()]\n",
    "\n",
    "with Timer('build clientid_counter'):\n",
    "    clientid_counter = {u: i for i, u in enumerate(clientids_uniqs)}\n",
    "    clientid_inv_counter = {v: k for k, v in clientid_counter.items()}\n",
    "\n",
    "with Timer('mapping original P_CLIENTID to 0-based for off_members'):\n",
    "    off_members.loc[:, 'P_CLIENTID'] = off_members['P_CLIENTID'].map(clientid_counter.get)"
   ]
  },
  {
   "cell_type": "code",
   "execution_count": 8,
   "metadata": {},
   "outputs": [
    {
     "name": "stdout",
     "output_type": "stream",
     "text": [
      "calculate seconds from start for off_ops took 1.768s\n"
     ]
    }
   ],
   "source": [
    "with Timer('calculate seconds from start for off_ops'):\n",
    "    off_ops['seconds_from_start'] = (off_ops.P_OPERATIONDATETIME - \\\n",
    "                                                off_ops.P_OPERATIONDATETIME.min()).dt.total_seconds()"
   ]
  },
  {
   "cell_type": "code",
   "execution_count": 25,
   "metadata": {},
   "outputs": [],
   "source": [
    "off_members.reset_index(drop=True, inplace=True)\n",
    "off_ops.reset_index(drop=True, inplace=True)"
   ]
  },
  {
   "cell_type": "code",
   "execution_count": 26,
   "metadata": {},
   "outputs": [
    {
     "name": "stdout",
     "output_type": "stream",
     "text": [
      "join off_members and seconds_from_start from off_ops took 36.750s\n"
     ]
    }
   ],
   "source": [
    "with Timer('join off_members and seconds_from_start from off_ops'):\n",
    "    off_members = off_members.merge(off_ops[['ID', 'seconds_from_start']], how='inner', left_on='P_OPERATIONID', right_on='ID')\n",
    "    off_members.drop(['ID_y'], axis=1, inplace=True)\n",
    "    off_members.rename(columns={'ID_x': 'ID'}, inplace=True)"
   ]
  },
  {
   "cell_type": "code",
   "execution_count": null,
   "metadata": {},
   "outputs": [],
   "source": [
    "with Timer('stable sorting off_members by P_CLIENTID inplace'):\n",
    "    off_members.sort_values('P_CLIENTID', kind='mergesort', inplace=True)\n",
    "\n",
    "with Timer('retrieve deltas between client current and last operation'):\n",
    "    off_members['seconds_from_last_client_op'] = off_members.groupby('P_CLIENTID')['seconds_from_start']\\\n",
    "                .agg('diff')\\\n",
    "                .sort_index(kind='mergesort')\\\n",
    "                .fillna(-100000)"
   ]
  },
  {
   "cell_type": "code",
   "execution_count": 37,
   "metadata": {},
   "outputs": [
    {
     "name": "stdout",
     "output_type": "stream",
     "text": [
      "sort back off_members by P_OPERATIONID took 17.558s\n"
     ]
    }
   ],
   "source": [
    "with Timer('sort back off_members by P_OPERATIONID'):\n",
    "    off_members.sort_values('P_OPERATIONID', kind='mergesort', inplace=True)"
   ]
  },
  {
   "cell_type": "code",
   "execution_count": 43,
   "metadata": {},
   "outputs": [
    {
     "data": {
      "text/html": [
       "<div>\n",
       "<style scoped>\n",
       "    .dataframe tbody tr th:only-of-type {\n",
       "        vertical-align: middle;\n",
       "    }\n",
       "\n",
       "    .dataframe tbody tr th {\n",
       "        vertical-align: top;\n",
       "    }\n",
       "\n",
       "    .dataframe thead th {\n",
       "        text-align: right;\n",
       "    }\n",
       "</style>\n",
       "<table border=\"1\" class=\"dataframe\">\n",
       "  <thead>\n",
       "    <tr style=\"text-align: right;\">\n",
       "      <th></th>\n",
       "      <th>ID</th>\n",
       "      <th>P_OPERATIONID</th>\n",
       "      <th>P_CLIENTID</th>\n",
       "      <th>P_BSCLIENTID</th>\n",
       "      <th>P_BANK_CLIENT</th>\n",
       "      <th>P_REGOPENDATE</th>\n",
       "      <th>P_COUNTRYCODE</th>\n",
       "      <th>P_CLIENT_TYPE</th>\n",
       "      <th>P_CLIENTROLE</th>\n",
       "      <th>P_CLIENTKIND</th>\n",
       "      <th>...</th>\n",
       "      <th>P_BANKNAME</th>\n",
       "      <th>P_IPDL</th>\n",
       "      <th>P_USERNAME</th>\n",
       "      <th>P_SDP</th>\n",
       "      <th>P_ORGFORM</th>\n",
       "      <th>P_BANKCITY</th>\n",
       "      <th>P_OPER_DATE</th>\n",
       "      <th>P_OPERATIONDATE</th>\n",
       "      <th>seconds_from_start</th>\n",
       "      <th>seconds_from_last_client_op</th>\n",
       "    </tr>\n",
       "  </thead>\n",
       "  <tbody>\n",
       "    <tr>\n",
       "      <th>0</th>\n",
       "      <td>528657551</td>\n",
       "      <td>0</td>\n",
       "      <td>0</td>\n",
       "      <td>9.45527e+08</td>\n",
       "      <td>2</td>\n",
       "      <td>0000-00-00 00:00:00</td>\n",
       "      <td>KZ</td>\n",
       "      <td>2</td>\n",
       "      <td>1</td>\n",
       "      <td>55</td>\n",
       "      <td>...</td>\n",
       "      <td>АО ЕВРАЗИЙСКИЙ БАНК</td>\n",
       "      <td>1</td>\n",
       "      <td>LOADER</td>\n",
       "      <td>-1000.0</td>\n",
       "      <td>-1000.0</td>\n",
       "      <td>г. Алматы</td>\n",
       "      <td>2017-01-01 00:00:00</td>\n",
       "      <td>2017-01-01 00:00:00</td>\n",
       "      <td>0.0</td>\n",
       "      <td>-100000.0</td>\n",
       "    </tr>\n",
       "    <tr>\n",
       "      <th>1</th>\n",
       "      <td>528657552</td>\n",
       "      <td>0</td>\n",
       "      <td>1</td>\n",
       "      <td>9.5024e+11</td>\n",
       "      <td>2</td>\n",
       "      <td>0000-00-00 00:00:00</td>\n",
       "      <td>KZ</td>\n",
       "      <td>1</td>\n",
       "      <td>2</td>\n",
       "      <td>55</td>\n",
       "      <td>...</td>\n",
       "      <td>АО ЕВРАЗИЙСКИЙ БАНК</td>\n",
       "      <td>1</td>\n",
       "      <td>LOADER</td>\n",
       "      <td>-1000.0</td>\n",
       "      <td>28.0</td>\n",
       "      <td>г. Алматы</td>\n",
       "      <td>2017-01-01 00:00:00</td>\n",
       "      <td>2017-01-01 00:00:00</td>\n",
       "      <td>0.0</td>\n",
       "      <td>-100000.0</td>\n",
       "    </tr>\n",
       "    <tr>\n",
       "      <th>3</th>\n",
       "      <td>528657555</td>\n",
       "      <td>1</td>\n",
       "      <td>1</td>\n",
       "      <td>9.5024e+11</td>\n",
       "      <td>2</td>\n",
       "      <td>0000-00-00 00:00:00</td>\n",
       "      <td>KZ</td>\n",
       "      <td>1</td>\n",
       "      <td>2</td>\n",
       "      <td>55</td>\n",
       "      <td>...</td>\n",
       "      <td>АО ЕВРАЗИЙСКИЙ БАНК</td>\n",
       "      <td>1</td>\n",
       "      <td>LOADER</td>\n",
       "      <td>-1000.0</td>\n",
       "      <td>28.0</td>\n",
       "      <td>г. Алматы</td>\n",
       "      <td>2017-01-01 00:00:00</td>\n",
       "      <td>2017-01-01 00:00:00</td>\n",
       "      <td>0.0</td>\n",
       "      <td>0.0</td>\n",
       "    </tr>\n",
       "    <tr>\n",
       "      <th>2</th>\n",
       "      <td>528657554</td>\n",
       "      <td>1</td>\n",
       "      <td>2</td>\n",
       "      <td>9.43723e+08</td>\n",
       "      <td>2</td>\n",
       "      <td>0000-00-00 00:00:00</td>\n",
       "      <td>KZ</td>\n",
       "      <td>2</td>\n",
       "      <td>1</td>\n",
       "      <td>55</td>\n",
       "      <td>...</td>\n",
       "      <td>АО ЕВРАЗИЙСКИЙ БАНК</td>\n",
       "      <td>1</td>\n",
       "      <td>LOADER</td>\n",
       "      <td>-1000.0</td>\n",
       "      <td>-1000.0</td>\n",
       "      <td>г. Алматы</td>\n",
       "      <td>2017-01-01 00:00:00</td>\n",
       "      <td>2017-01-01 00:00:00</td>\n",
       "      <td>0.0</td>\n",
       "      <td>-100000.0</td>\n",
       "    </tr>\n",
       "    <tr>\n",
       "      <th>5</th>\n",
       "      <td>528657558</td>\n",
       "      <td>2</td>\n",
       "      <td>1</td>\n",
       "      <td>9.5024e+11</td>\n",
       "      <td>2</td>\n",
       "      <td>0000-00-00 00:00:00</td>\n",
       "      <td>KZ</td>\n",
       "      <td>1</td>\n",
       "      <td>2</td>\n",
       "      <td>55</td>\n",
       "      <td>...</td>\n",
       "      <td>АО ЕВРАЗИЙСКИЙ БАНК</td>\n",
       "      <td>1</td>\n",
       "      <td>LOADER</td>\n",
       "      <td>-1000.0</td>\n",
       "      <td>28.0</td>\n",
       "      <td>г. Алматы</td>\n",
       "      <td>2017-01-01 00:00:00</td>\n",
       "      <td>2017-01-01 00:00:00</td>\n",
       "      <td>0.0</td>\n",
       "      <td>0.0</td>\n",
       "    </tr>\n",
       "    <tr>\n",
       "      <th>4</th>\n",
       "      <td>528657557</td>\n",
       "      <td>2</td>\n",
       "      <td>3</td>\n",
       "      <td>3.96309e+07</td>\n",
       "      <td>2</td>\n",
       "      <td>0000-00-00 00:00:00</td>\n",
       "      <td>KZ</td>\n",
       "      <td>2</td>\n",
       "      <td>1</td>\n",
       "      <td>55</td>\n",
       "      <td>...</td>\n",
       "      <td>АО ЕВРАЗИЙСКИЙ БАНК</td>\n",
       "      <td>1</td>\n",
       "      <td>LOADER</td>\n",
       "      <td>-1000.0</td>\n",
       "      <td>-1000.0</td>\n",
       "      <td>г. Алматы</td>\n",
       "      <td>2017-01-01 00:00:00</td>\n",
       "      <td>2017-01-01 00:00:00</td>\n",
       "      <td>0.0</td>\n",
       "      <td>-100000.0</td>\n",
       "    </tr>\n",
       "    <tr>\n",
       "      <th>7</th>\n",
       "      <td>528657562</td>\n",
       "      <td>3</td>\n",
       "      <td>1</td>\n",
       "      <td>9.5024e+11</td>\n",
       "      <td>2</td>\n",
       "      <td>0000-00-00 00:00:00</td>\n",
       "      <td>KZ</td>\n",
       "      <td>1</td>\n",
       "      <td>2</td>\n",
       "      <td>55</td>\n",
       "      <td>...</td>\n",
       "      <td>АО ЕВРАЗИЙСКИЙ БАНК</td>\n",
       "      <td>1</td>\n",
       "      <td>LOADER</td>\n",
       "      <td>-1000.0</td>\n",
       "      <td>28.0</td>\n",
       "      <td>г. Алматы</td>\n",
       "      <td>2017-01-01 00:00:00</td>\n",
       "      <td>2017-01-01 00:00:00</td>\n",
       "      <td>0.0</td>\n",
       "      <td>0.0</td>\n",
       "    </tr>\n",
       "    <tr>\n",
       "      <th>6</th>\n",
       "      <td>528657560</td>\n",
       "      <td>3</td>\n",
       "      <td>4</td>\n",
       "      <td>4.13599e+07</td>\n",
       "      <td>2</td>\n",
       "      <td>0000-00-00 00:00:00</td>\n",
       "      <td>KZ</td>\n",
       "      <td>2</td>\n",
       "      <td>1</td>\n",
       "      <td>55</td>\n",
       "      <td>...</td>\n",
       "      <td>АО ЕВРАЗИЙСКИЙ БАНК</td>\n",
       "      <td>1</td>\n",
       "      <td>LOADER</td>\n",
       "      <td>-1000.0</td>\n",
       "      <td>-1000.0</td>\n",
       "      <td>г. Алматы</td>\n",
       "      <td>2017-01-01 00:00:00</td>\n",
       "      <td>2017-01-01 00:00:00</td>\n",
       "      <td>0.0</td>\n",
       "      <td>-100000.0</td>\n",
       "    </tr>\n",
       "    <tr>\n",
       "      <th>8</th>\n",
       "      <td>528659891</td>\n",
       "      <td>4</td>\n",
       "      <td>5</td>\n",
       "      <td>9.64565e+07</td>\n",
       "      <td>2</td>\n",
       "      <td>0000-00-00 00:00:00</td>\n",
       "      <td>KZ</td>\n",
       "      <td>2</td>\n",
       "      <td>2</td>\n",
       "      <td>29</td>\n",
       "      <td>...</td>\n",
       "      <td>АО ЕВРАЗИЙСКИЙ БАНК</td>\n",
       "      <td>1</td>\n",
       "      <td>LOADER</td>\n",
       "      <td>-1000.0</td>\n",
       "      <td>-1000.0</td>\n",
       "      <td>КЫЗЫЛОРДА</td>\n",
       "      <td>2017-01-01 02:10:00</td>\n",
       "      <td>2017-01-01 00:00:00</td>\n",
       "      <td>7800.0</td>\n",
       "      <td>-100000.0</td>\n",
       "    </tr>\n",
       "    <tr>\n",
       "      <th>9</th>\n",
       "      <td>528661045</td>\n",
       "      <td>5</td>\n",
       "      <td>6</td>\n",
       "      <td>9.63976e+07</td>\n",
       "      <td>2</td>\n",
       "      <td>0000-00-00 00:00:00</td>\n",
       "      <td>KZ</td>\n",
       "      <td>2</td>\n",
       "      <td>2</td>\n",
       "      <td>29</td>\n",
       "      <td>...</td>\n",
       "      <td>АО ЕВРАЗИЙСКИЙ БАНК</td>\n",
       "      <td>1</td>\n",
       "      <td>LOADER</td>\n",
       "      <td>-1000.0</td>\n",
       "      <td>-1000.0</td>\n",
       "      <td>КАПШАГАЙ</td>\n",
       "      <td>2017-01-01 10:58:00</td>\n",
       "      <td>2017-01-01 00:00:00</td>\n",
       "      <td>39480.0</td>\n",
       "      <td>-100000.0</td>\n",
       "    </tr>\n",
       "  </tbody>\n",
       "</table>\n",
       "<p>10 rows × 24 columns</p>\n",
       "</div>"
      ],
      "text/plain": [
       "          ID  P_OPERATIONID  P_CLIENTID P_BSCLIENTID  P_BANK_CLIENT  \\\n",
       "0  528657551              0           0  9.45527e+08              2   \n",
       "1  528657552              0           1   9.5024e+11              2   \n",
       "3  528657555              1           1   9.5024e+11              2   \n",
       "2  528657554              1           2  9.43723e+08              2   \n",
       "5  528657558              2           1   9.5024e+11              2   \n",
       "4  528657557              2           3  3.96309e+07              2   \n",
       "7  528657562              3           1   9.5024e+11              2   \n",
       "6  528657560              3           4  4.13599e+07              2   \n",
       "8  528659891              4           5  9.64565e+07              2   \n",
       "9  528661045              5           6  9.63976e+07              2   \n",
       "\n",
       "         P_REGOPENDATE P_COUNTRYCODE  P_CLIENT_TYPE  P_CLIENTROLE  \\\n",
       "0  0000-00-00 00:00:00            KZ              2             1   \n",
       "1  0000-00-00 00:00:00            KZ              1             2   \n",
       "3  0000-00-00 00:00:00            KZ              1             2   \n",
       "2  0000-00-00 00:00:00            KZ              2             1   \n",
       "5  0000-00-00 00:00:00            KZ              1             2   \n",
       "4  0000-00-00 00:00:00            KZ              2             1   \n",
       "7  0000-00-00 00:00:00            KZ              1             2   \n",
       "6  0000-00-00 00:00:00            KZ              2             1   \n",
       "8  0000-00-00 00:00:00            KZ              2             2   \n",
       "9  0000-00-00 00:00:00            KZ              2             2   \n",
       "\n",
       "   P_CLIENTKIND             ...                       P_BANKNAME P_IPDL  \\\n",
       "0            55             ...              АО ЕВРАЗИЙСКИЙ БАНК      1   \n",
       "1            55             ...              АО ЕВРАЗИЙСКИЙ БАНК      1   \n",
       "3            55             ...              АО ЕВРАЗИЙСКИЙ БАНК      1   \n",
       "2            55             ...              АО ЕВРАЗИЙСКИЙ БАНК      1   \n",
       "5            55             ...              АО ЕВРАЗИЙСКИЙ БАНК      1   \n",
       "4            55             ...              АО ЕВРАЗИЙСКИЙ БАНК      1   \n",
       "7            55             ...              АО ЕВРАЗИЙСКИЙ БАНК      1   \n",
       "6            55             ...              АО ЕВРАЗИЙСКИЙ БАНК      1   \n",
       "8            29             ...              АО ЕВРАЗИЙСКИЙ БАНК      1   \n",
       "9            29             ...              АО ЕВРАЗИЙСКИЙ БАНК      1   \n",
       "\n",
       "  P_USERNAME   P_SDP P_ORGFORM  P_BANKCITY          P_OPER_DATE  \\\n",
       "0     LOADER -1000.0   -1000.0   г. Алматы  2017-01-01 00:00:00   \n",
       "1     LOADER -1000.0      28.0   г. Алматы  2017-01-01 00:00:00   \n",
       "3     LOADER -1000.0      28.0   г. Алматы  2017-01-01 00:00:00   \n",
       "2     LOADER -1000.0   -1000.0   г. Алматы  2017-01-01 00:00:00   \n",
       "5     LOADER -1000.0      28.0   г. Алматы  2017-01-01 00:00:00   \n",
       "4     LOADER -1000.0   -1000.0   г. Алматы  2017-01-01 00:00:00   \n",
       "7     LOADER -1000.0      28.0   г. Алматы  2017-01-01 00:00:00   \n",
       "6     LOADER -1000.0   -1000.0   г. Алматы  2017-01-01 00:00:00   \n",
       "8     LOADER -1000.0   -1000.0   КЫЗЫЛОРДА  2017-01-01 02:10:00   \n",
       "9     LOADER -1000.0   -1000.0    КАПШАГАЙ  2017-01-01 10:58:00   \n",
       "\n",
       "       P_OPERATIONDATE  seconds_from_start seconds_from_last_client_op  \n",
       "0  2017-01-01 00:00:00                 0.0                   -100000.0  \n",
       "1  2017-01-01 00:00:00                 0.0                   -100000.0  \n",
       "3  2017-01-01 00:00:00                 0.0                         0.0  \n",
       "2  2017-01-01 00:00:00                 0.0                   -100000.0  \n",
       "5  2017-01-01 00:00:00                 0.0                         0.0  \n",
       "4  2017-01-01 00:00:00                 0.0                   -100000.0  \n",
       "7  2017-01-01 00:00:00                 0.0                         0.0  \n",
       "6  2017-01-01 00:00:00                 0.0                   -100000.0  \n",
       "8  2017-01-01 00:00:00              7800.0                   -100000.0  \n",
       "9  2017-01-01 00:00:00             39480.0                   -100000.0  \n",
       "\n",
       "[10 rows x 24 columns]"
      ]
     },
     "execution_count": 43,
     "metadata": {},
     "output_type": "execute_result"
    }
   ],
   "source": [
    "off_members.head(10)"
   ]
  },
  {
   "cell_type": "code",
   "execution_count": 64,
   "metadata": {},
   "outputs": [
    {
     "name": "stdout",
     "output_type": "stream",
     "text": [
      "process selected fields from off_members took 16.846s\n"
     ]
    }
   ],
   "source": [
    "with Timer('process selected fields from off_members'):\n",
    "    # There are some weird dates in P_REGOPENDATE, raising errors will force them to be  NaT\n",
    "    p_regopendate = pd.to_datetime(off_members.P_REGOPENDATE, errors='coerce', format='%Y-%m-%d %H:%M:%S')\n",
    "\n",
    "    # Rare countrycodes would be set as 'UNFREQ', NaNs will be 'UNKNOWN'\n",
    "    p_countrycode = off_members.P_COUNTRYCODE.copy()\n",
    "    countrycode_counts = p_countrycode.value_counts()\n",
    "    p_countrycode[p_countrycode.isin(countrycode_counts[countrycode_counts <= 100].index)] = 'UNFREQ'\n",
    "    p_countrycode[p_countrycode.isnull()] = 'UNKNOWN'\n",
    "\n",
    "    # Same for bankcity\n",
    "    p_bankcity = off_members.P_BANKCITY.copy()\n",
    "    bankcity_counts = p_bankcity.value_counts()\n",
    "    p_bankcity[p_bankcity.isin(bankcity_counts[bankcity_counts <= 100].index)] = 'UNFREQ'\n",
    "    p_bankcity[p_bankcity.isnull()] = 'UNKNOWN'\n",
    "\n",
    "    # for bank there is only a few NaN values, so it will be 'UNFREQ' aswell\n",
    "    p_bank = off_members.P_BANK.copy()\n",
    "    bank_counts = p_bank.value_counts()\n",
    "    p_bank[p_bank.isin(bank_counts[bank_counts <= 100].index)] = 'UNFREQ'\n",
    "    p_bank[p_bank.isnull()] = 'UNFREQ'\n",
    "\n",
    "    # SDP nas only NaN/13.0 values, so simply encode NaN with -1k\n",
    "    p_sdp = off_members.P_SDP.copy()\n",
    "    p_sdp[p_sdp.isnull()] = -1000\n",
    "\n",
    "    # No missing values\n",
    "    p_bank_client = off_members.P_BANK_CLIENT.copy()\n",
    "\n",
    "    # No missing values\n",
    "    p_client_type = off_members.P_CLIENT_TYPE.copy()\n",
    "\n",
    "    # No missing values\n",
    "    p_clientrole = off_members.P_CLIENTROLE.copy()\n",
    "    p_seconds_from_start = off_members.seconds_from_start.copy()\n",
    "    p_seconds_from_last_client_op = off_members.seconds_from_last_client_op.copy()"
   ]
  },
  {
   "cell_type": "markdown",
   "metadata": {},
   "source": [
    "### Build new member info dataframe on top of processed columns\n"
   ]
  },
  {
   "cell_type": "code",
   "execution_count": 65,
   "metadata": {},
   "outputs": [],
   "source": [
    "off_members_selected = off_members[['P_CLIENTID', 'P_OPERATIONID']].copy()\n",
    "off_members_selected['P_REGOPENDATE'] = p_regopendate\n",
    "off_members_selected['P_COUNTRYCODE'] = p_countrycode\n",
    "off_members_selected['P_BANKCITY'] = p_bankcity\n",
    "off_members_selected['P_BANK'] = p_bank\n",
    "off_members_selected['P_BANK_CLIENT'] = p_bank_client\n",
    "off_members_selected['P_CLIENT_TYPE'] = p_client_type\n",
    "off_members_selected['P_CLIENTROLE'] = p_clientrole\n",
    "off_members_selected['seconds_from_start'] = p_seconds_from_start\n",
    "off_members_selected['seconds_from_last_client_op'] = p_seconds_from_last_client_op\n",
    "\n",
    "%reset_selective -f p_regopendate\n",
    "%reset_selective -f p_countrycode\n",
    "%reset_selective -f p_bankcity\n",
    "%reset_selective -f p_bank\n",
    "%reset_selective -f p_sdp\n",
    "%reset_selective -f p_bank_client\n",
    "%reset_selective -f p_client_type\n",
    "%reset_selective -f p_clientrole\n",
    "%reset_selective -f countrycode_counts\n",
    "%reset_selective -f bank_counts\n",
    "%reset_selective -f p_seconds_from_start\n",
    "%reset_selective -f p_seconds_from_last_client_op"
   ]
  },
  {
   "cell_type": "markdown",
   "metadata": {},
   "source": [
    "### Now its time to flatten selected members grouped by P_OPERATIONID, based on a P_CLIENTROLE\n"
   ]
  },
  {
   "cell_type": "code",
   "execution_count": null,
   "metadata": {},
   "outputs": [],
   "source": [
    "%reset_selective -f selected_members_flatten\n",
    "\n",
    "names_by_clientrole = {\n",
    "    1: 'source_role',\n",
    "    2: 'target_role',\n",
    "    3: 'id_susp_3',\n",
    "    4: 'id_susp_4',\n",
    "    5: 'beneficial_role',\n",
    "    6: 'id_susp_6'\n",
    "}\n",
    "\n",
    "\n",
    "with Timer('building flatten selected members'):\n",
    "    selected_members_flatten = flatten_df_by_column(\n",
    "        off_members_selected,\n",
    "        to_flatten=[\n",
    "           'P_CLIENTID',\n",
    "           'P_REGOPENDATE',\n",
    "           'P_COUNTRYCODE',\n",
    "           'P_BANKCITY',\n",
    "           'P_BANK',\n",
    "           'P_BANK_CLIENT',\n",
    "           'P_CLIENT_TYPE',\n",
    "            'seconds_from_start',\n",
    "            'seconds_from_last_client_op'],\n",
    "        flatten_by='P_CLIENTROLE',\n",
    "        group_by='P_OPERATIONID',\n",
    "        names_flatten_by=names_by_clientrole)"
   ]
  },
  {
   "cell_type": "code",
   "execution_count": null,
   "metadata": {},
   "outputs": [],
   "source": []
  },
  {
   "cell_type": "code",
   "execution_count": null,
   "metadata": {},
   "outputs": [],
   "source": []
  },
  {
   "cell_type": "code",
   "execution_count": null,
   "metadata": {},
   "outputs": [],
   "source": []
  },
  {
   "cell_type": "code",
   "execution_count": null,
   "metadata": {},
   "outputs": [],
   "source": []
  },
  {
   "cell_type": "code",
   "execution_count": null,
   "metadata": {},
   "outputs": [],
   "source": []
  },
  {
   "cell_type": "code",
   "execution_count": null,
   "metadata": {},
   "outputs": [],
   "source": []
  },
  {
   "cell_type": "code",
   "execution_count": null,
   "metadata": {},
   "outputs": [],
   "source": []
  },
  {
   "cell_type": "code",
   "execution_count": null,
   "metadata": {},
   "outputs": [],
   "source": []
  },
  {
   "cell_type": "code",
   "execution_count": null,
   "metadata": {},
   "outputs": [],
   "source": []
  },
  {
   "cell_type": "code",
   "execution_count": null,
   "metadata": {},
   "outputs": [],
   "source": []
  },
  {
   "cell_type": "code",
   "execution_count": null,
   "metadata": {},
   "outputs": [],
   "source": []
  },
  {
   "cell_type": "code",
   "execution_count": null,
   "metadata": {},
   "outputs": [],
   "source": []
  },
  {
   "cell_type": "code",
   "execution_count": null,
   "metadata": {},
   "outputs": [],
   "source": []
  },
  {
   "cell_type": "code",
   "execution_count": 7,
   "metadata": {},
   "outputs": [
    {
     "name": "stdout",
     "output_type": "stream",
     "text": [
      "get sorted client_ids took 0.000s\n"
     ]
    },
    {
     "ename": "NameError",
     "evalue": "name 'joined_off_ops' is not defined",
     "output_type": "error",
     "traceback": [
      "\u001b[0;31m---------------------------------------------------------------------------\u001b[0m",
      "\u001b[0;31mNameError\u001b[0m                                 Traceback (most recent call last)",
      "\u001b[0;32m<ipython-input-7-02893dbff7ac>\u001b[0m in \u001b[0;36m<module>\u001b[0;34m()\u001b[0m\n\u001b[1;32m      7\u001b[0m \u001b[0;34m\u001b[0m\u001b[0m\n\u001b[1;32m      8\u001b[0m \u001b[0;32mwith\u001b[0m \u001b[0mTimer\u001b[0m\u001b[0;34m(\u001b[0m\u001b[0;34m'get sorted client_ids'\u001b[0m\u001b[0;34m)\u001b[0m\u001b[0;34m:\u001b[0m\u001b[0;34m\u001b[0m\u001b[0m\n\u001b[0;32m----> 9\u001b[0;31m     \u001b[0mclientids_sorted\u001b[0m \u001b[0;34m=\u001b[0m \u001b[0mjoined_off_ops\u001b[0m\u001b[0;34m[\u001b[0m\u001b[0mclient_columns\u001b[0m\u001b[0;34m]\u001b[0m\u001b[0;34m.\u001b[0m\u001b[0mvalues\u001b[0m\u001b[0;34m.\u001b[0m\u001b[0mreshape\u001b[0m\u001b[0;34m(\u001b[0m\u001b[0;34m-\u001b[0m\u001b[0;36m1\u001b[0m\u001b[0;34m)\u001b[0m\u001b[0;34m\u001b[0m\u001b[0m\n\u001b[0m\u001b[1;32m     10\u001b[0m \u001b[0;34m\u001b[0m\u001b[0m\n\u001b[1;32m     11\u001b[0m \u001b[0;32mwith\u001b[0m \u001b[0mTimer\u001b[0m\u001b[0;34m(\u001b[0m\u001b[0;34m'build fast uniqs'\u001b[0m\u001b[0;34m)\u001b[0m\u001b[0;34m:\u001b[0m\u001b[0;34m\u001b[0m\u001b[0m\n",
      "\u001b[0;31mNameError\u001b[0m: name 'joined_off_ops' is not defined"
     ]
    }
   ],
   "source": [
    "%reset_selective -f clientids_sorted\n",
    "%reset_selective -f clientids_uniqs\n",
    "%reset_selective -f clientids_indices\n",
    "\n",
    "client_columns = ['P_CLIENTID__source_role', 'P_CLIENTID__target_role', 'P_CLIENTID__beneficial_role']\n",
    "\n",
    "\n",
    "with Timer('get sorted client_ids'):\n",
    "    clientids_sorted = joined_off_ops[client_columns].values.reshape(-1)\n",
    "\n",
    "with Timer('build fast uniqs'):\n",
    "    clientids_uniqs, clientids_indices = np.unique(clientids_sorted[np.isfinite(clientids_sorted)], return_index=True)\n",
    "    clientids_uniqs = clientids_uniqs[clientids_indices.argsort()]\n",
    "\n",
    "with Timer('build clientid_counter'):\n",
    "    clientid_counter = {u: i for i, u in enumerate(clientids_uniqs)}\n",
    "    clientid_inv_counter = {v: k for k, v in clientid_counter.items()}\n",
    "    \n",
    "%reset_selective -f clientids_sorted\n",
    "%reset_selective -f clientids_uniqs\n",
    "%reset_selective -f clientids_indices"
   ]
  },
  {
   "cell_type": "code",
   "execution_count": null,
   "metadata": {},
   "outputs": [],
   "source": []
  },
  {
   "cell_type": "code",
   "execution_count": null,
   "metadata": {},
   "outputs": [],
   "source": []
  },
  {
   "cell_type": "code",
   "execution_count": null,
   "metadata": {},
   "outputs": [],
   "source": []
  },
  {
   "cell_type": "markdown",
   "metadata": {},
   "source": [
    "### Get some meaningful columns from off_members"
   ]
  },
  {
   "cell_type": "code",
   "execution_count": 9,
   "metadata": {},
   "outputs": [
    {
     "name": "stdout",
     "output_type": "stream",
     "text": [
      "process selected fields from off_members took 15.623s\n"
     ]
    }
   ],
   "source": [
    "%reset_selective -f p_regopendate\n",
    "%reset_selective -f p_countrycode\n",
    "%reset_selective -f p_bankcity\n",
    "%reset_selective -f p_bank\n",
    "%reset_selective -f p_sdp\n",
    "%reset_selective -f p_bank_client\n",
    "%reset_selective -f p_client_type\n",
    "%reset_selective -f p_clientrole\n",
    "%reset_selective -f countrycode_counts\n",
    "%reset_selective -f bank_counts\n",
    "\n",
    "\n",
    "with Timer('process selected fields from off_members'):\n",
    "    # There are some weird dates in P_REGOPENDATE, raising errors will force them to be  NaT\n",
    "    p_regopendate = pd.to_datetime(off_members.P_REGOPENDATE, errors='coerce', format='%Y-%m-%d %H:%M:%S')\n",
    "\n",
    "    # Rare countrycodes would be set as 'UNFREQ', NaNs will be 'UNKNOWN'\n",
    "    p_countrycode = off_members.P_COUNTRYCODE.copy()\n",
    "    countrycode_counts = p_countrycode.value_counts()\n",
    "    p_countrycode[p_countrycode.isin(countrycode_counts[countrycode_counts <= 100].index)] = 'UNFREQ'\n",
    "    p_countrycode[p_countrycode.isnull()] = 'UNKNOWN'\n",
    "\n",
    "    # Same for bankcity\n",
    "    p_bankcity = off_members.P_BANKCITY.copy()\n",
    "    bankcity_counts = p_bankcity.value_counts()\n",
    "    p_bankcity[p_bankcity.isin(bankcity_counts[bankcity_counts <= 100].index)] = 'UNFREQ'\n",
    "    p_bankcity[p_bankcity.isnull()] = 'UNKNOWN'\n",
    "\n",
    "    # for bank there is only a few NaN values, so it will be 'UNFREQ' aswell\n",
    "    p_bank = off_members.P_BANK.copy()\n",
    "    bank_counts = p_bank.value_counts()\n",
    "    p_bank[p_bank.isin(bank_counts[bank_counts <= 100].index)] = 'UNFREQ'\n",
    "    p_bank[p_bank.isnull()] = 'UNFREQ'\n",
    "\n",
    "    # SDP nas only NaN/13.0 values, so simply encode NaN with -1k\n",
    "    p_sdp = off_members.P_SDP.copy()\n",
    "    p_sdp[p_sdp.isnull()] = -1000\n",
    "\n",
    "    # No missing values\n",
    "    p_bank_client = off_members.P_BANK_CLIENT.copy()\n",
    "\n",
    "    # No missing values\n",
    "    p_client_type = off_members.P_CLIENT_TYPE.copy()\n",
    "\n",
    "    # No missing values\n",
    "    p_clientrole = off_members.P_CLIENTROLE.copy()"
   ]
  },
  {
   "cell_type": "markdown",
   "metadata": {},
   "source": [
    "### Build new member info dataframe on top of processed columns\n"
   ]
  },
  {
   "cell_type": "code",
   "execution_count": 10,
   "metadata": {},
   "outputs": [
    {
     "data": {
      "text/html": [
       "<div>\n",
       "<style scoped>\n",
       "    .dataframe tbody tr th:only-of-type {\n",
       "        vertical-align: middle;\n",
       "    }\n",
       "\n",
       "    .dataframe tbody tr th {\n",
       "        vertical-align: top;\n",
       "    }\n",
       "\n",
       "    .dataframe thead th {\n",
       "        text-align: right;\n",
       "    }\n",
       "</style>\n",
       "<table border=\"1\" class=\"dataframe\">\n",
       "  <thead>\n",
       "    <tr style=\"text-align: right;\">\n",
       "      <th></th>\n",
       "      <th>P_CLIENTID</th>\n",
       "      <th>P_OPERATIONID</th>\n",
       "      <th>P_REGOPENDATE</th>\n",
       "      <th>P_COUNTRYCODE</th>\n",
       "      <th>P_BANKCITY</th>\n",
       "      <th>P_BANK</th>\n",
       "      <th>P_BANK_CLIENT</th>\n",
       "      <th>P_CLIENT_TYPE</th>\n",
       "      <th>P_CLIENTROLE</th>\n",
       "    </tr>\n",
       "  </thead>\n",
       "  <tbody>\n",
       "    <tr>\n",
       "      <th>0</th>\n",
       "      <td>950240000112</td>\n",
       "      <td>529719567</td>\n",
       "      <td>NaT</td>\n",
       "      <td>KZ</td>\n",
       "      <td>АЛМАТЫ</td>\n",
       "      <td>190501948</td>\n",
       "      <td>2</td>\n",
       "      <td>3</td>\n",
       "      <td>1</td>\n",
       "    </tr>\n",
       "    <tr>\n",
       "      <th>1</th>\n",
       "      <td>950240000112</td>\n",
       "      <td>529719567</td>\n",
       "      <td>2003-09-02</td>\n",
       "      <td>KZ</td>\n",
       "      <td>АЛМАТЫ</td>\n",
       "      <td>EURIKZKA</td>\n",
       "      <td>2</td>\n",
       "      <td>1</td>\n",
       "      <td>2</td>\n",
       "    </tr>\n",
       "    <tr>\n",
       "      <th>2</th>\n",
       "      <td>950240000112</td>\n",
       "      <td>529722750</td>\n",
       "      <td>2003-09-02</td>\n",
       "      <td>KZ</td>\n",
       "      <td>АЛМАТЫ</td>\n",
       "      <td>190501948</td>\n",
       "      <td>2</td>\n",
       "      <td>1</td>\n",
       "      <td>1</td>\n",
       "    </tr>\n",
       "  </tbody>\n",
       "</table>\n",
       "</div>"
      ],
      "text/plain": [
       "     P_CLIENTID  P_OPERATIONID P_REGOPENDATE P_COUNTRYCODE P_BANKCITY  \\\n",
       "0  950240000112      529719567           NaT            KZ     АЛМАТЫ   \n",
       "1  950240000112      529719567    2003-09-02            KZ     АЛМАТЫ   \n",
       "2  950240000112      529722750    2003-09-02            KZ     АЛМАТЫ   \n",
       "\n",
       "      P_BANK  P_BANK_CLIENT  P_CLIENT_TYPE  P_CLIENTROLE  \n",
       "0  190501948              2              3             1  \n",
       "1   EURIKZKA              2              1             2  \n",
       "2  190501948              2              1             1  "
      ]
     },
     "execution_count": 10,
     "metadata": {},
     "output_type": "execute_result"
    }
   ],
   "source": [
    "%reset_selective -f off_members_selected\n",
    "\n",
    "off_members_selected = off_members[['P_CLIENTID', 'P_OPERATIONID']].copy()\n",
    "off_members_selected['P_REGOPENDATE'] = p_regopendate\n",
    "off_members_selected['P_COUNTRYCODE'] = p_countrycode\n",
    "off_members_selected['P_BANKCITY'] = p_bankcity\n",
    "off_members_selected['P_BANK'] = p_bank\n",
    "off_members_selected['P_BANK_CLIENT'] = p_bank_client\n",
    "off_members_selected['P_CLIENT_TYPE'] = p_client_type\n",
    "off_members_selected['P_CLIENTROLE'] = p_clientrole\n",
    "\n",
    "off_members_selected.head(3)"
   ]
  },
  {
   "cell_type": "markdown",
   "metadata": {},
   "source": [
    "### Now its time to flatten selected members grouped by P_OPERATIONID, based on a P_CLIENTROLE\n"
   ]
  },
  {
   "cell_type": "code",
   "execution_count": 11,
   "metadata": {},
   "outputs": [
    {
     "name": "stdout",
     "output_type": "stream",
     "text": [
      "building flatten selected members took 15.545s\n"
     ]
    }
   ],
   "source": [
    "%reset_selective -f selected_members_flatten\n",
    "\n",
    "names_by_clientrole = {\n",
    "    1: 'source_role',\n",
    "    2: 'target_role',\n",
    "    3: 'id_susp_3',\n",
    "    4: 'id_susp_4',\n",
    "    5: 'beneficial_role',\n",
    "    6: 'id_susp_6'\n",
    "}\n",
    "\n",
    "\n",
    "with Timer('building flatten selected members'):\n",
    "    selected_members_flatten = flatten_df_by_column(\n",
    "        off_members_selected,\n",
    "        to_flatten=[\n",
    "           'P_CLIENTID',\n",
    "           'P_REGOPENDATE',\n",
    "           'P_COUNTRYCODE',\n",
    "           'P_BANKCITY',\n",
    "           'P_BANK',\n",
    "           'P_BANK_CLIENT',\n",
    "           'P_CLIENT_TYPE'],\n",
    "        flatten_by='P_CLIENTROLE',\n",
    "        group_by='P_OPERATIONID',\n",
    "        names_flatten_by=names_by_clientrole)"
   ]
  },
  {
   "cell_type": "code",
   "execution_count": 12,
   "metadata": {},
   "outputs": [
    {
     "name": "stdout",
     "output_type": "stream",
     "text": [
      "join offline operations with selected member columns took 10.693s\n"
     ]
    }
   ],
   "source": [
    "%reset_selective -f joined_off_ops\n",
    "\n",
    "with Timer('join offline operations with selected member columns'):\n",
    "    joined_off_ops = join_ops_with_flatten_members(off_ops, selected_members_flatten)"
   ]
  },
  {
   "cell_type": "markdown",
   "metadata": {},
   "source": [
    "### Map operation ID to 0-based one (assuming our ops already sorted)"
   ]
  },
  {
   "cell_type": "code",
   "execution_count": 13,
   "metadata": {},
   "outputs": [
    {
     "name": "stdout",
     "output_type": "stream",
     "text": [
      "building counters for unique operation ID took 6.970s\n",
      "mapping original ID to 0-based for joined_off_ops took 13.239s\n"
     ]
    }
   ],
   "source": [
    "with Timer('building counters for unique operation ID'):\n",
    "    operation_id_uniqs, operation_id_indices = np.unique(joined_off_ops.ID.values, return_index=True)\n",
    "    operation_id_uniqs = operation_id_uniqs[operation_id_indices.argsort()]\n",
    "    operationid_counter = {u: i for i, u in enumerate(operation_id_uniqs)}\n",
    "    operationid_inv_counter = {v: k for k, v in operationid_counter.items()}\n",
    "\n",
    "%reset_selective -f operation_id_uniqs\n",
    "%reset_selective -f operation_id_indices\n",
    "\n",
    "with Timer('mapping original ID to 0-based for joined_off_ops'):\n",
    "    joined_off_ops.loc[:, 'ID'] = joined_off_ops['ID'].map(operationid_counter.get)\n"
   ]
  },
  {
   "cell_type": "markdown",
   "metadata": {},
   "source": [
    "### Map P_CLIENTID to 0-based indices (to be able to work with sparse client matrices)"
   ]
  },
  {
   "cell_type": "code",
   "execution_count": 14,
   "metadata": {},
   "outputs": [
    {
     "name": "stdout",
     "output_type": "stream",
     "text": [
      "get sorted client_ids took 0.291s\n",
      "build fast uniqs took 3.258s\n",
      "build clientid_counter took 0.599s\n"
     ]
    }
   ],
   "source": [
    "%reset_selective -f clientids_sorted\n",
    "%reset_selective -f clientids_uniqs\n",
    "%reset_selective -f clientids_indices\n",
    "\n",
    "client_columns = ['P_CLIENTID__source_role', 'P_CLIENTID__target_role', 'P_CLIENTID__beneficial_role']\n",
    "\n",
    "\n",
    "with Timer('get sorted client_ids'):\n",
    "    clientids_sorted = joined_off_ops[client_columns].values.reshape(-1)\n",
    "\n",
    "with Timer('build fast uniqs'):\n",
    "    clientids_uniqs, clientids_indices = np.unique(clientids_sorted[np.isfinite(clientids_sorted)], return_index=True)\n",
    "    clientids_uniqs = clientids_uniqs[clientids_indices.argsort()]\n",
    "\n",
    "with Timer('build clientid_counter'):\n",
    "    clientid_counter = {u: i for i, u in enumerate(clientids_uniqs)}\n",
    "    clientid_inv_counter = {v: k for k, v in clientid_counter.items()}\n",
    "    \n",
    "%reset_selective -f clientids_sorted\n",
    "%reset_selective -f clientids_uniqs\n",
    "%reset_selective -f clientids_indices"
   ]
  },
  {
   "cell_type": "markdown",
   "metadata": {},
   "source": [
    "### map clients to a new indices, add seconds_from_start column\n"
   ]
  },
  {
   "cell_type": "code",
   "execution_count": 15,
   "metadata": {},
   "outputs": [
    {
     "name": "stdout",
     "output_type": "stream",
     "text": [
      "map sender ids took 6.444s\n",
      "map owner ids took 4.165s\n",
      "map beneficial ids took 2.198s\n",
      "calculate seconds from start took 1.728s\n"
     ]
    }
   ],
   "source": [
    "%reset_selective -f joined_off_ops['raw_id_source_role']\n",
    "%reset_selective -f joined_off_ops['raw_id_target_role']\n",
    "%reset_selective -f joined_off_ops['raw_id_beneficial_role']\n",
    "%reset_selective -f joined_off_ops['seconds_from_start']\n",
    "\n",
    "with Timer('map sender ids'):\n",
    "    joined_off_ops['raw_id_source_role'] = joined_off_ops['P_CLIENTID__source_role'].map(clientid_counter.get)\n",
    "with Timer('map owner ids'):\n",
    "    joined_off_ops['raw_id_target_role'] = joined_off_ops['P_CLIENTID__target_role'].map(clientid_counter.get)\n",
    "with Timer('map beneficial ids'):\n",
    "    joined_off_ops['raw_id_beneficial_role'] = joined_off_ops['P_CLIENTID__beneficial_role'].map(clientid_counter.get)\n",
    "with Timer('calculate seconds from start'):\n",
    "    joined_off_ops['seconds_from_start'] = (joined_off_ops.P_OPERATIONDATETIME - \\\n",
    "                                                joined_off_ops.P_OPERATIONDATETIME.min()).dt.total_seconds()"
   ]
  },
  {
   "cell_type": "markdown",
   "metadata": {},
   "source": [
    "### Remove isolated susp_ops,  build target variable"
   ]
  },
  {
   "cell_type": "code",
   "execution_count": 16,
   "metadata": {},
   "outputs": [
    {
     "name": "stderr",
     "output_type": "stream",
     "text": [
      "100%|██████████| 401500/401500 [00:18<00:00, 22212.29it/s]"
     ]
    },
    {
     "name": "stdout",
     "output_type": "stream",
     "text": [
      "setting proper labels for learning took 18.302s\n"
     ]
    },
    {
     "name": "stderr",
     "output_type": "stream",
     "text": [
      "\n"
     ]
    },
    {
     "name": "stdout",
     "output_type": "stream",
     "text": [
      "setting susp target for every operation took 4.347s\n"
     ]
    }
   ],
   "source": [
    "susp_ops, _susp_ops = susp_ops[~susp_ops.P_OFFLINEOPERATIONID.isnull()].copy(), susp_ops\n",
    "%reset_selective -f _susp_ops\n",
    "susp_ops.loc[susp_ops.P_OPERATION_LIST.isnull(), 'P_OPERATION_LIST'] = ''\n",
    "\n",
    "with Timer('setting proper labels for learning'):\n",
    "    target_mapped = defaultdict(lambda: -1)\n",
    "\n",
    "    for i, row in tqdm(susp_ops[['P_OFFLINEOPERATIONID', 'P_SENDTOKFMBOOL']].iterrows(), total=len(susp_ops)):\n",
    "        off_op_id, to_kfm = operationid_counter[int(row.P_OFFLINEOPERATIONID)], row.P_SENDTOKFMBOOL\n",
    "        if off_op_id not in target_mapped:\n",
    "            target_mapped[off_op_id] = 0 if to_kfm == 2 else 1\n",
    "        else:\n",
    "            cur_target = target_mapped[off_op_id]\n",
    "            if cur_target == 0 and to_kfm != 2:\n",
    "                target_mapped[off_op_id] = 1\n",
    "\n",
    "with Timer('setting susp target for every operation'):\n",
    "    joined_off_ops['target'] = joined_off_ops.ID.map(target_mapped.__getitem__)"
   ]
  },
  {
   "cell_type": "markdown",
   "metadata": {},
   "source": [
    "### Create graph dataframe for building some graph-based statistics"
   ]
  },
  {
   "cell_type": "code",
   "execution_count": 17,
   "metadata": {},
   "outputs": [],
   "source": [
    "%reset_selective -f graph_trans_df\n",
    "\n",
    "graph_trans_df = joined_off_ops[[\n",
    "    'ID',\n",
    "    'P_OPERATIONDATETIME',\n",
    "    'seconds_from_start',\n",
    "    'P_BASEAMOUNT',\n",
    "    'raw_id_source_role',\n",
    "    'raw_id_target_role',\n",
    "    'raw_id_beneficial_role',\n",
    "    'target'\n",
    "]].copy()\n",
    "#with Timer('writing graph_trans_df to disk'):\n",
    "#    graph_trans_df.to_csv('graph_trans_df.csv', index=False)"
   ]
  },
  {
   "cell_type": "code",
   "execution_count": 15,
   "metadata": {},
   "outputs": [],
   "source": [
    "#with Timer('writing graph_trans_df to disk'):\n",
    "#    graph_trans_df.to_csv('graph_trans_df.csv', index=False)"
   ]
  },
  {
   "cell_type": "markdown",
   "metadata": {},
   "source": [
    "### Take only direct transactions for feature sets simplicity (and because most fraudulent cases are in direct transactions)"
   ]
  },
  {
   "cell_type": "code",
   "execution_count": 18,
   "metadata": {},
   "outputs": [],
   "source": [
    "joined_direct_trans = joined_off_ops[~joined_off_ops.raw_id_source_role.isnull() & ~joined_off_ops.raw_id_target_role.isnull() & joined_off_ops.raw_id_beneficial_role.isnull()].copy()\n",
    "joined_direct_trans.drop([colname for colname in joined_direct_trans.columns if 'beneficial' in colname], axis=1, inplace=True)"
   ]
  },
  {
   "cell_type": "code",
   "execution_count": 19,
   "metadata": {},
   "outputs": [
    {
     "data": {
      "text/plain": [
       "{'CHANGEDATE': 0.0,\n",
       " 'ID': 0.0,\n",
       " 'P_BANKCITY__source_role': 0.0,\n",
       " 'P_BANKCITY__target_role': 0.0,\n",
       " 'P_BANKOPERATIONID': 0.0,\n",
       " 'P_BANK_CLIENT__source_role': 0.0,\n",
       " 'P_BANK_CLIENT__target_role': 0.0,\n",
       " 'P_BANK__source_role': 0.0,\n",
       " 'P_BANK__target_role': 0.0,\n",
       " 'P_BASEAMOUNT': 0.0,\n",
       " 'P_BRANCH': 0.0,\n",
       " 'P_BS_OPER_TYPE': 0.0,\n",
       " 'P_CLIENTID__source_role': 0.0,\n",
       " 'P_CLIENTID__target_role': 0.0,\n",
       " 'P_CLIENT_TYPE__source_role': 0.0,\n",
       " 'P_CLIENT_TYPE__target_role': 0.0,\n",
       " 'P_COUNTRYCODE__source_role': 0.0,\n",
       " 'P_COUNTRYCODE__target_role': 0.0,\n",
       " 'P_CURRENCYAMOUNT': 0.008116264527570019,\n",
       " 'P_CURRENCYCODE': 0.0,\n",
       " 'P_DATE_INSERT': 0.0,\n",
       " 'P_DOCCATEGORY': 0.0,\n",
       " 'P_DOCDATE': 0.0,\n",
       " 'P_DOCNUMBER': 0.0,\n",
       " 'P_EKNPCODE': 0.2851714973839382,\n",
       " 'P_ISSUEDBID': 0.0,\n",
       " 'P_KFM_OPER_REASON': 0.652598719082351,\n",
       " 'P_OPERATIONDATE': 0.0,\n",
       " 'P_OPERATIONDATETIME': 0.0,\n",
       " 'P_OPERATIONREASON': 0.0,\n",
       " 'P_ORIG_OPER_NUMBER': 0.0,\n",
       " 'P_REGOPENDATE__source_role': 0.601071339589735,\n",
       " 'P_REGOPENDATE__target_role': 0.5170724900706899,\n",
       " 'P_TOEXTRACTBOOL': 0.0,\n",
       " 'P_WAS_SEND': 0.0,\n",
       " 'raw_id_source_role': 0.0,\n",
       " 'raw_id_target_role': 0.0,\n",
       " 'seconds_from_start': 0.0,\n",
       " 'target': 0.0}"
      ]
     },
     "execution_count": 19,
     "metadata": {},
     "output_type": "execute_result"
    }
   ],
   "source": [
    "{colname: joined_direct_trans[colname].isnull().mean() for colname in joined_direct_trans.columns}"
   ]
  },
  {
   "cell_type": "code",
   "execution_count": 20,
   "metadata": {},
   "outputs": [],
   "source": [
    "joined_direct_trans['TIME_REG_DELTA__source_role'] = (joined_direct_trans.P_OPERATIONDATETIME - joined_direct_trans['P_REGOPENDATE__source_role']).dt.days\n",
    "joined_direct_trans['TIME_REG_DELTA__target_role'] = (joined_direct_trans.P_OPERATIONDATETIME - joined_direct_trans['P_REGOPENDATE__target_role']).dt.days\n",
    "\n",
    "docnumber_counts = joined_direct_trans.P_DOCNUMBER.value_counts()\n",
    "joined_direct_trans.loc[joined_direct_trans.P_DOCNUMBER.isin(docnumber_counts[docnumber_counts <= 1000].index), 'P_DOCNUMBER'] = 'UNFREQ'"
   ]
  },
  {
   "cell_type": "code",
   "execution_count": 21,
   "metadata": {},
   "outputs": [],
   "source": [
    "fillna_dict = {\n",
    "    'P_EKNPCODE': -1000,\n",
    "    'P_KFM_OPER_REASON': -1000,\n",
    "    'TIME_REG_DELTA__target_role': -10000,\n",
    "    'TIME_REG_DELTA__source_role': -10000,\n",
    "}"
   ]
  },
  {
   "cell_type": "code",
   "execution_count": 22,
   "metadata": {},
   "outputs": [],
   "source": [
    "allowed_columns = [\n",
    "    'ID',\n",
    "    'P_ISSUEDBID',\n",
    "    'P_BRANCH',\n",
    "    'P_CURRENCYCODE',\n",
    "    'P_BASEAMOUNT',\n",
    "    'P_EKNPCODE',\n",
    "    'P_DOCNUMBER',\n",
    "    'P_DOCCATEGORY',\n",
    "    'P_TOEXTRACTBOOL',\n",
    "    'P_KFM_OPER_REASON',\n",
    "    'P_BS_OPER_TYPE',\n",
    "    'P_WAS_SEND',\n",
    "    'P_COUNTRYCODE__source_role',\n",
    "    'P_BANKCITY__source_role',\n",
    "    'P_BANK__source_role',\n",
    "    'P_BANK_CLIENT__source_role',\n",
    "    'P_CLIENT_TYPE__source_role',\n",
    "    'P_COUNTRYCODE__target_role',\n",
    "    'P_BANKCITY__target_role',\n",
    "    'P_BANK__target_role',\n",
    "    'P_BANK_CLIENT__target_role',\n",
    "    'P_CLIENT_TYPE__target_role',\n",
    "    'target',\n",
    "    'TIME_REG_DELTA__target_role',\n",
    "    'TIME_REG_DELTA__source_role'\n",
    "]\n",
    "\n",
    "\n",
    "columns_to_ohe = [\n",
    "    'P_ISSUEDBID',\n",
    "    'P_BRANCH',\n",
    "    'P_CURRENCYCODE',\n",
    "    'P_EKNPCODE',\n",
    "    'P_DOCNUMBER',\n",
    "    'P_DOCCATEGORY',\n",
    "    'P_TOEXTRACTBOOL',\n",
    "    'P_KFM_OPER_REASON',\n",
    "    'P_BS_OPER_TYPE',\n",
    "    'P_WAS_SEND',\n",
    "    'P_COUNTRYCODE__source_role',\n",
    "    'P_BANKCITY__source_role',\n",
    "    'P_BANK__source_role',\n",
    "    'P_BANK_CLIENT__source_role',\n",
    "    'P_CLIENT_TYPE__source_role',\n",
    "    'P_COUNTRYCODE__target_role',\n",
    "    'P_BANKCITY__target_role',\n",
    "    'P_BANK__target_role',\n",
    "    'P_BANK_CLIENT__target_role',\n",
    "    'P_CLIENT_TYPE__target_role',\n",
    "]"
   ]
  },
  {
   "cell_type": "code",
   "execution_count": 23,
   "metadata": {},
   "outputs": [],
   "source": [
    "%reset_selective -f nndf\n",
    "nndf = joined_direct_trans[allowed_columns].copy()"
   ]
  },
  {
   "cell_type": "code",
   "execution_count": 24,
   "metadata": {},
   "outputs": [],
   "source": [
    "%reset_selective -f links_week_info\n",
    "links_week_info = pd.read_csv('links_week_info.csv')"
   ]
  },
  {
   "cell_type": "code",
   "execution_count": 25,
   "metadata": {},
   "outputs": [
    {
     "data": {
      "text/plain": [
       "8222263"
      ]
     },
     "execution_count": 25,
     "metadata": {},
     "output_type": "execute_result"
    }
   ],
   "source": [
    "len(links_week_info)"
   ]
  },
  {
   "cell_type": "code",
   "execution_count": 26,
   "metadata": {},
   "outputs": [],
   "source": [
    "nndf = nndf.join(links_week_info.drop('ID', 1), how='left')"
   ]
  },
  {
   "cell_type": "code",
   "execution_count": 27,
   "metadata": {},
   "outputs": [],
   "source": [
    "nndf.fillna(value=fillna_dict, inplace=True)"
   ]
  },
  {
   "cell_type": "code",
   "execution_count": 28,
   "metadata": {},
   "outputs": [
    {
     "data": {
      "text/plain": [
       "{'ID',\n",
       " 'P_BASEAMOUNT',\n",
       " 'TIME_REG_DELTA__source_role',\n",
       " 'TIME_REG_DELTA__target_role',\n",
       " 'target'}"
      ]
     },
     "execution_count": 28,
     "metadata": {},
     "output_type": "execute_result"
    }
   ],
   "source": [
    "set(allowed_columns) - set(columns_to_ohe)"
   ]
  },
  {
   "cell_type": "code",
   "execution_count": 29,
   "metadata": {},
   "outputs": [],
   "source": [
    "nndfs_ohe = {colname: pd.get_dummies(nndf[[colname]], columns=[colname], prefix=[colname]) for colname in columns_to_ohe}"
   ]
  },
  {
   "cell_type": "code",
   "execution_count": 30,
   "metadata": {},
   "outputs": [],
   "source": [
    "train_rate = 0.7\n",
    "train_size = int(train_rate * len(nndf))"
   ]
  },
  {
   "cell_type": "code",
   "execution_count": 31,
   "metadata": {},
   "outputs": [],
   "source": [
    "from sklearn.decomposition import PCA"
   ]
  },
  {
   "cell_type": "code",
   "execution_count": 32,
   "metadata": {},
   "outputs": [],
   "source": [
    "pca_ohe = {colname: PCA(n_components=max(1, int(np.sqrt(len(ohe_df.columns))))) for colname, ohe_df in nndfs_ohe.items()}"
   ]
  },
  {
   "cell_type": "code",
   "execution_count": 33,
   "metadata": {},
   "outputs": [],
   "source": [
    "transformed_train_ohe = {}\n",
    "transformed_test_ohe = {}"
   ]
  },
  {
   "cell_type": "code",
   "execution_count": 34,
   "metadata": {},
   "outputs": [
    {
     "name": "stderr",
     "output_type": "stream",
     "text": [
      "100%|██████████| 20/20 [04:03<00:00, 12.18s/it]\n"
     ]
    }
   ],
   "source": [
    "for colname in tqdm(columns_to_ohe):\n",
    "    vals = nndfs_ohe[colname].values.astype(np.float32)\n",
    "    transformed_train_ohe[colname] = pca_ohe[colname].fit_transform(vals[:train_size])\n",
    "    transformed_test_ohe[colname] = pca_ohe[colname].transform(vals[train_size:])\n",
    "    del vals"
   ]
  },
  {
   "cell_type": "code",
   "execution_count": 35,
   "metadata": {},
   "outputs": [],
   "source": [
    "train_ohe = np.concatenate([transformed_train_ohe[colname] for colname in columns_to_ohe], axis=1)\n",
    "test_ohe = np.concatenate([transformed_test_ohe[colname] for colname in columns_to_ohe], axis=1)"
   ]
  },
  {
   "cell_type": "code",
   "execution_count": 36,
   "metadata": {},
   "outputs": [],
   "source": [
    "columns_to_non_ohe = [\n",
    "    'P_BASEAMOUNT',\n",
    "    'TIME_REG_DELTA__target_role',\n",
    "    'TIME_REG_DELTA__target_role',\n",
    "    'links_input_target',\n",
    "    'links_input_source',\n",
    "    'links_output_target',\n",
    "    'links_output_source'\n",
    "]"
   ]
  },
  {
   "cell_type": "code",
   "execution_count": 37,
   "metadata": {},
   "outputs": [],
   "source": [
    "vals_non_ohe = nndf[columns_to_non_ohe].values.astype(np.float32)\n",
    "train_non_ohe = vals_non_ohe[:train_size]\n",
    "test_non_ohe = vals_non_ohe[train_size:]"
   ]
  },
  {
   "cell_type": "code",
   "execution_count": 38,
   "metadata": {},
   "outputs": [],
   "source": [
    "%reset_selective -f xtrain\n",
    "%reset_selective -f ytrain\n",
    "%reset_selective -f xtest\n",
    "%reset_selective -f ytest\n",
    "xtrain, xtest = np.concatenate([train_ohe, train_non_ohe], axis=1), np.concatenate([test_ohe, test_non_ohe], axis=1)\n",
    "ytrain, ytest = nndf.target.values[:train_size], nndf.target.values[train_size:]"
   ]
  },
  {
   "cell_type": "code",
   "execution_count": 39,
   "metadata": {},
   "outputs": [
    {
     "name": "stdout",
     "output_type": "stream",
     "text": [
      "get operationid and clientid from off_members and map operationid and clientid to 0-based took 21.647s\n",
      "get seconds_from_start for each row in members took 137.916s\n"
     ]
    }
   ],
   "source": [
    "with Timer('get operationid and clientid from off_members and map operationid and clientid to 0-based'):\n",
    "    members = off_members[['P_OPERATIONID', 'P_CLIENTID']].copy()\n",
    "    members.loc[:, 'P_OPERATIONID'] = members['P_OPERATIONID'].map(operationid_counter.get)\n",
    "    members.loc[:, 'P_CLIENTID'] = members['P_CLIENTID'].map(clientid_counter.get)\n",
    "\n",
    "with Timer('get seconds_from_start for each row in members'):\n",
    "    members_seconds_from_start = joined_off_ops.seconds_from_start[members.P_OPERATIONID]\n",
    "    members['seconds_from_start'] = members_seconds_from_start.values\n",
    "\n",
    "%reset_selective -f members_seconds_from_start"
   ]
  },
  {
   "cell_type": "code",
   "execution_count": 50,
   "metadata": {},
   "outputs": [],
   "source": [
    "members_sorted = members.sort_values(['P_CLIENTID', 'P_OPERATIONID'], kind='mergesort')"
   ]
  },
  {
   "cell_type": "code",
   "execution_count": 59,
   "metadata": {},
   "outputs": [],
   "source": [
    "sec_diff = members_sorted.groupby('P_CLIENTID')['seconds_from_start']\\\n",
    "            .agg('diff')\\\n",
    "            .sort_index(kind='mergesort')\\\n",
    "            .fillna(-100000)"
   ]
  },
  {
   "cell_type": "code",
   "execution_count": null,
   "metadata": {},
   "outputs": [],
   "source": [
    "sec_diff_direct_trans = sec_diff[joined_direct_trans.index]"
   ]
  },
  {
   "cell_type": "code",
   "execution_count": 61,
   "metadata": {},
   "outputs": [],
   "source": [
    "from sklearn.ensemble import IsolationForest"
   ]
  },
  {
   "cell_type": "code",
   "execution_count": 69,
   "metadata": {},
   "outputs": [
    {
     "data": {
      "text/plain": [
       "<matplotlib.axes._subplots.AxesSubplot at 0x7f3576f3f978>"
      ]
     },
     "execution_count": 69,
     "metadata": {},
     "output_type": "execute_result"
    },
    {
     "data": {
      "image/png": "[encoded data removed]",
      "text/plain": [
       "<matplotlib.figure.Figure at 0x7f3576f3e978>"
      ]
     },
     "metadata": {},
     "output_type": "display_data"
    }
   ],
   "source": [
    "sns.distplot(sec_diff_direct_trans[nndf.target == -1], color='g')\n",
    "sns.distplot(sec_diff_direct_trans[nndf.target == 0], color='b')\n",
    "sns.distplot(sec_diff_direct_trans[nndf.target == 1], color='r')"
   ]
  },
  {
   "cell_type": "code",
   "execution_count": null,
   "metadata": {},
   "outputs": [],
   "source": [
    "isof_time_to_prev_op = "
   ]
  },
  {
   "cell_type": "code",
   "execution_count": 73,
   "metadata": {},
   "outputs": [],
   "source": [
    "members_sorted['sec_diff'] = members_sorted.groupby('P_CLIENTID')['seconds_from_start'].agg('diff').fillna(-100000)"
   ]
  },
  {
   "cell_type": "code",
   "execution_count": 75,
   "metadata": {},
   "outputs": [
    {
     "data": {
      "text/plain": [
       "Index(['ID', 'P_ISSUEDBID', 'P_BANKOPERATIONID', 'P_BRANCH', 'P_CURRENCYCODE',\n",
       "       'P_OPERATIONDATETIME', 'P_BASEAMOUNT', 'P_CURRENCYAMOUNT', 'P_EKNPCODE',\n",
       "       'P_DOCNUMBER', 'P_DOCDATE', 'P_DOCCATEGORY', 'P_OPERATIONREASON',\n",
       "       'P_TOEXTRACTBOOL', 'P_DATE_INSERT', 'CHANGEDATE', 'P_KFM_OPER_REASON',\n",
       "       'P_BS_OPER_TYPE', 'P_ORIG_OPER_NUMBER', 'P_WAS_SEND', 'P_OPERATIONDATE',\n",
       "       'P_CLIENTID__source_role', 'P_REGOPENDATE__source_role',\n",
       "       'P_COUNTRYCODE__source_role', 'P_BANKCITY__source_role',\n",
       "       'P_BANK__source_role', 'P_BANK_CLIENT__source_role',\n",
       "       'P_CLIENT_TYPE__source_role', 'P_CLIENTID__target_role',\n",
       "       'P_REGOPENDATE__target_role', 'P_COUNTRYCODE__target_role',\n",
       "       'P_BANKCITY__target_role', 'P_BANK__target_role',\n",
       "       'P_BANK_CLIENT__target_role', 'P_CLIENT_TYPE__target_role',\n",
       "       'P_CLIENTID__beneficial_role', 'P_REGOPENDATE__beneficial_role',\n",
       "       'P_COUNTRYCODE__beneficial_role', 'P_BANKCITY__beneficial_role',\n",
       "       'P_BANK__beneficial_role', 'P_BANK_CLIENT__beneficial_role',\n",
       "       'P_CLIENT_TYPE__beneficial_role', 'raw_id_source_role',\n",
       "       'raw_id_target_role', 'raw_id_beneficial_role', 'seconds_from_start',\n",
       "       'target'],\n",
       "      dtype='object')"
      ]
     },
     "execution_count": 75,
     "metadata": {},
     "output_type": "execute_result"
    }
   ],
   "source": [
    "joined_off_ops.ID"
   ]
  },
  {
   "cell_type": "code",
   "execution_count": null,
   "metadata": {},
   "outputs": [],
   "source": [
    "joined_off_ops.ID"
   ]
  },
  {
   "cell_type": "code",
   "execution_count": 74,
   "metadata": {},
   "outputs": [
    {
     "data": {
      "text/html": [
       "<div>\n",
       "<style scoped>\n",
       "    .dataframe tbody tr th:only-of-type {\n",
       "        vertical-align: middle;\n",
       "    }\n",
       "\n",
       "    .dataframe tbody tr th {\n",
       "        vertical-align: top;\n",
       "    }\n",
       "\n",
       "    .dataframe thead th {\n",
       "        text-align: right;\n",
       "    }\n",
       "</style>\n",
       "<table border=\"1\" class=\"dataframe\">\n",
       "  <thead>\n",
       "    <tr style=\"text-align: right;\">\n",
       "      <th></th>\n",
       "      <th>P_OPERATIONID</th>\n",
       "      <th>P_CLIENTID</th>\n",
       "      <th>seconds_from_start</th>\n",
       "      <th>sec_diff</th>\n",
       "    </tr>\n",
       "  </thead>\n",
       "  <tbody>\n",
       "    <tr>\n",
       "      <th>1699</th>\n",
       "      <td>0</td>\n",
       "      <td>0</td>\n",
       "      <td>0.0</td>\n",
       "      <td>-100000.0</td>\n",
       "    </tr>\n",
       "    <tr>\n",
       "      <th>1163395</th>\n",
       "      <td>950539</td>\n",
       "      <td>0</td>\n",
       "      <td>926877.0</td>\n",
       "      <td>926877.0</td>\n",
       "    </tr>\n",
       "    <tr>\n",
       "      <th>1700</th>\n",
       "      <td>0</td>\n",
       "      <td>1</td>\n",
       "      <td>0.0</td>\n",
       "      <td>-100000.0</td>\n",
       "    </tr>\n",
       "    <tr>\n",
       "      <th>1702</th>\n",
       "      <td>1</td>\n",
       "      <td>1</td>\n",
       "      <td>0.0</td>\n",
       "      <td>0.0</td>\n",
       "    </tr>\n",
       "    <tr>\n",
       "      <th>1704</th>\n",
       "      <td>2</td>\n",
       "      <td>1</td>\n",
       "      <td>0.0</td>\n",
       "      <td>0.0</td>\n",
       "    </tr>\n",
       "    <tr>\n",
       "      <th>1706</th>\n",
       "      <td>3</td>\n",
       "      <td>1</td>\n",
       "      <td>0.0</td>\n",
       "      <td>0.0</td>\n",
       "    </tr>\n",
       "    <tr>\n",
       "      <th>2514</th>\n",
       "      <td>1255</td>\n",
       "      <td>1</td>\n",
       "      <td>86400.0</td>\n",
       "      <td>86400.0</td>\n",
       "    </tr>\n",
       "    <tr>\n",
       "      <th>2516</th>\n",
       "      <td>1256</td>\n",
       "      <td>1</td>\n",
       "      <td>86400.0</td>\n",
       "      <td>0.0</td>\n",
       "    </tr>\n",
       "    <tr>\n",
       "      <th>2518</th>\n",
       "      <td>1257</td>\n",
       "      <td>1</td>\n",
       "      <td>86400.0</td>\n",
       "      <td>0.0</td>\n",
       "    </tr>\n",
       "    <tr>\n",
       "      <th>2520</th>\n",
       "      <td>1258</td>\n",
       "      <td>1</td>\n",
       "      <td>86400.0</td>\n",
       "      <td>0.0</td>\n",
       "    </tr>\n",
       "    <tr>\n",
       "      <th>4592</th>\n",
       "      <td>2724</td>\n",
       "      <td>1</td>\n",
       "      <td>172800.0</td>\n",
       "      <td>86400.0</td>\n",
       "    </tr>\n",
       "    <tr>\n",
       "      <th>4594</th>\n",
       "      <td>2725</td>\n",
       "      <td>1</td>\n",
       "      <td>172800.0</td>\n",
       "      <td>0.0</td>\n",
       "    </tr>\n",
       "    <tr>\n",
       "      <th>4596</th>\n",
       "      <td>2726</td>\n",
       "      <td>1</td>\n",
       "      <td>172800.0</td>\n",
       "      <td>0.0</td>\n",
       "    </tr>\n",
       "    <tr>\n",
       "      <th>4598</th>\n",
       "      <td>2727</td>\n",
       "      <td>1</td>\n",
       "      <td>172800.0</td>\n",
       "      <td>0.0</td>\n",
       "    </tr>\n",
       "    <tr>\n",
       "      <th>4600</th>\n",
       "      <td>2728</td>\n",
       "      <td>1</td>\n",
       "      <td>172800.0</td>\n",
       "      <td>0.0</td>\n",
       "    </tr>\n",
       "    <tr>\n",
       "      <th>879</th>\n",
       "      <td>2729</td>\n",
       "      <td>1</td>\n",
       "      <td>172800.0</td>\n",
       "      <td>0.0</td>\n",
       "    </tr>\n",
       "    <tr>\n",
       "      <th>881</th>\n",
       "      <td>2730</td>\n",
       "      <td>1</td>\n",
       "      <td>172800.0</td>\n",
       "      <td>0.0</td>\n",
       "    </tr>\n",
       "    <tr>\n",
       "      <th>883</th>\n",
       "      <td>2731</td>\n",
       "      <td>1</td>\n",
       "      <td>172800.0</td>\n",
       "      <td>0.0</td>\n",
       "    </tr>\n",
       "    <tr>\n",
       "      <th>885</th>\n",
       "      <td>2732</td>\n",
       "      <td>1</td>\n",
       "      <td>172800.0</td>\n",
       "      <td>0.0</td>\n",
       "    </tr>\n",
       "    <tr>\n",
       "      <th>2902</th>\n",
       "      <td>2733</td>\n",
       "      <td>1</td>\n",
       "      <td>172800.0</td>\n",
       "      <td>0.0</td>\n",
       "    </tr>\n",
       "    <tr>\n",
       "      <th>2904</th>\n",
       "      <td>2734</td>\n",
       "      <td>1</td>\n",
       "      <td>172800.0</td>\n",
       "      <td>0.0</td>\n",
       "    </tr>\n",
       "    <tr>\n",
       "      <th>2906</th>\n",
       "      <td>2735</td>\n",
       "      <td>1</td>\n",
       "      <td>172800.0</td>\n",
       "      <td>0.0</td>\n",
       "    </tr>\n",
       "    <tr>\n",
       "      <th>4602</th>\n",
       "      <td>2736</td>\n",
       "      <td>1</td>\n",
       "      <td>172800.0</td>\n",
       "      <td>0.0</td>\n",
       "    </tr>\n",
       "    <tr>\n",
       "      <th>4604</th>\n",
       "      <td>2737</td>\n",
       "      <td>1</td>\n",
       "      <td>172800.0</td>\n",
       "      <td>0.0</td>\n",
       "    </tr>\n",
       "    <tr>\n",
       "      <th>4606</th>\n",
       "      <td>2738</td>\n",
       "      <td>1</td>\n",
       "      <td>172800.0</td>\n",
       "      <td>0.0</td>\n",
       "    </tr>\n",
       "    <tr>\n",
       "      <th>4608</th>\n",
       "      <td>2739</td>\n",
       "      <td>1</td>\n",
       "      <td>172800.0</td>\n",
       "      <td>0.0</td>\n",
       "    </tr>\n",
       "    <tr>\n",
       "      <th>875</th>\n",
       "      <td>2740</td>\n",
       "      <td>1</td>\n",
       "      <td>172800.0</td>\n",
       "      <td>0.0</td>\n",
       "    </tr>\n",
       "    <tr>\n",
       "      <th>877</th>\n",
       "      <td>2741</td>\n",
       "      <td>1</td>\n",
       "      <td>172800.0</td>\n",
       "      <td>0.0</td>\n",
       "    </tr>\n",
       "    <tr>\n",
       "      <th>2567</th>\n",
       "      <td>2742</td>\n",
       "      <td>1</td>\n",
       "      <td>172800.0</td>\n",
       "      <td>0.0</td>\n",
       "    </tr>\n",
       "    <tr>\n",
       "      <th>2569</th>\n",
       "      <td>2743</td>\n",
       "      <td>1</td>\n",
       "      <td>172800.0</td>\n",
       "      <td>0.0</td>\n",
       "    </tr>\n",
       "    <tr>\n",
       "      <th>...</th>\n",
       "      <td>...</td>\n",
       "      <td>...</td>\n",
       "      <td>...</td>\n",
       "      <td>...</td>\n",
       "    </tr>\n",
       "    <tr>\n",
       "      <th>11518130</th>\n",
       "      <td>8222223</td>\n",
       "      <td>1016798</td>\n",
       "      <td>7776000.0</td>\n",
       "      <td>-100000.0</td>\n",
       "    </tr>\n",
       "    <tr>\n",
       "      <th>11516592</th>\n",
       "      <td>8222224</td>\n",
       "      <td>1016799</td>\n",
       "      <td>7776000.0</td>\n",
       "      <td>-100000.0</td>\n",
       "    </tr>\n",
       "    <tr>\n",
       "      <th>11516594</th>\n",
       "      <td>8222225</td>\n",
       "      <td>1016800</td>\n",
       "      <td>7776000.0</td>\n",
       "      <td>-100000.0</td>\n",
       "    </tr>\n",
       "    <tr>\n",
       "      <th>11514948</th>\n",
       "      <td>8222227</td>\n",
       "      <td>1016801</td>\n",
       "      <td>7776000.0</td>\n",
       "      <td>-100000.0</td>\n",
       "    </tr>\n",
       "    <tr>\n",
       "      <th>11515084</th>\n",
       "      <td>8222229</td>\n",
       "      <td>1016802</td>\n",
       "      <td>7776000.0</td>\n",
       "      <td>-100000.0</td>\n",
       "    </tr>\n",
       "    <tr>\n",
       "      <th>11518197</th>\n",
       "      <td>8222230</td>\n",
       "      <td>1016803</td>\n",
       "      <td>7776000.0</td>\n",
       "      <td>-100000.0</td>\n",
       "    </tr>\n",
       "    <tr>\n",
       "      <th>11515090</th>\n",
       "      <td>8222232</td>\n",
       "      <td>1016804</td>\n",
       "      <td>7776000.0</td>\n",
       "      <td>-100000.0</td>\n",
       "    </tr>\n",
       "    <tr>\n",
       "      <th>11513466</th>\n",
       "      <td>8222234</td>\n",
       "      <td>1016805</td>\n",
       "      <td>7776000.0</td>\n",
       "      <td>-100000.0</td>\n",
       "    </tr>\n",
       "    <tr>\n",
       "      <th>11516769</th>\n",
       "      <td>8222236</td>\n",
       "      <td>1016806</td>\n",
       "      <td>7776000.0</td>\n",
       "      <td>-100000.0</td>\n",
       "    </tr>\n",
       "    <tr>\n",
       "      <th>11513395</th>\n",
       "      <td>8222239</td>\n",
       "      <td>1016807</td>\n",
       "      <td>7776000.0</td>\n",
       "      <td>-100000.0</td>\n",
       "    </tr>\n",
       "    <tr>\n",
       "      <th>11518132</th>\n",
       "      <td>8222240</td>\n",
       "      <td>1016808</td>\n",
       "      <td>7776000.0</td>\n",
       "      <td>-100000.0</td>\n",
       "    </tr>\n",
       "    <tr>\n",
       "      <th>11518516</th>\n",
       "      <td>8222241</td>\n",
       "      <td>1016809</td>\n",
       "      <td>7776000.0</td>\n",
       "      <td>-100000.0</td>\n",
       "    </tr>\n",
       "    <tr>\n",
       "      <th>11518522</th>\n",
       "      <td>8222242</td>\n",
       "      <td>1016810</td>\n",
       "      <td>7776000.0</td>\n",
       "      <td>-100000.0</td>\n",
       "    </tr>\n",
       "    <tr>\n",
       "      <th>11518524</th>\n",
       "      <td>8222243</td>\n",
       "      <td>1016811</td>\n",
       "      <td>7776000.0</td>\n",
       "      <td>-100000.0</td>\n",
       "    </tr>\n",
       "    <tr>\n",
       "      <th>11514951</th>\n",
       "      <td>8222244</td>\n",
       "      <td>1016812</td>\n",
       "      <td>7776000.0</td>\n",
       "      <td>-100000.0</td>\n",
       "    </tr>\n",
       "    <tr>\n",
       "      <th>11513547</th>\n",
       "      <td>8222245</td>\n",
       "      <td>1016813</td>\n",
       "      <td>7776000.0</td>\n",
       "      <td>-100000.0</td>\n",
       "    </tr>\n",
       "    <tr>\n",
       "      <th>11498995</th>\n",
       "      <td>8222247</td>\n",
       "      <td>1016814</td>\n",
       "      <td>7776000.0</td>\n",
       "      <td>-100000.0</td>\n",
       "    </tr>\n",
       "    <tr>\n",
       "      <th>11498997</th>\n",
       "      <td>8222248</td>\n",
       "      <td>1016815</td>\n",
       "      <td>7776000.0</td>\n",
       "      <td>-100000.0</td>\n",
       "    </tr>\n",
       "    <tr>\n",
       "      <th>11518554</th>\n",
       "      <td>8222249</td>\n",
       "      <td>1016816</td>\n",
       "      <td>7776000.0</td>\n",
       "      <td>-100000.0</td>\n",
       "    </tr>\n",
       "    <tr>\n",
       "      <th>11518556</th>\n",
       "      <td>8222250</td>\n",
       "      <td>1016817</td>\n",
       "      <td>7776000.0</td>\n",
       "      <td>-100000.0</td>\n",
       "    </tr>\n",
       "    <tr>\n",
       "      <th>11514952</th>\n",
       "      <td>8222251</td>\n",
       "      <td>1016818</td>\n",
       "      <td>7776000.0</td>\n",
       "      <td>-100000.0</td>\n",
       "    </tr>\n",
       "    <tr>\n",
       "      <th>11513543</th>\n",
       "      <td>8222252</td>\n",
       "      <td>1016819</td>\n",
       "      <td>7776000.0</td>\n",
       "      <td>-100000.0</td>\n",
       "    </tr>\n",
       "    <tr>\n",
       "      <th>11500618</th>\n",
       "      <td>8222253</td>\n",
       "      <td>1016820</td>\n",
       "      <td>7776000.0</td>\n",
       "      <td>-100000.0</td>\n",
       "    </tr>\n",
       "    <tr>\n",
       "      <th>11518126</th>\n",
       "      <td>8222254</td>\n",
       "      <td>1016821</td>\n",
       "      <td>7776000.0</td>\n",
       "      <td>-100000.0</td>\n",
       "    </tr>\n",
       "    <tr>\n",
       "      <th>11500689</th>\n",
       "      <td>8222256</td>\n",
       "      <td>1016822</td>\n",
       "      <td>7776000.0</td>\n",
       "      <td>-100000.0</td>\n",
       "    </tr>\n",
       "    <tr>\n",
       "      <th>11518520</th>\n",
       "      <td>8222258</td>\n",
       "      <td>1016823</td>\n",
       "      <td>7776000.0</td>\n",
       "      <td>-100000.0</td>\n",
       "    </tr>\n",
       "    <tr>\n",
       "      <th>11518526</th>\n",
       "      <td>8222259</td>\n",
       "      <td>1016824</td>\n",
       "      <td>7776000.0</td>\n",
       "      <td>-100000.0</td>\n",
       "    </tr>\n",
       "    <tr>\n",
       "      <th>11518562</th>\n",
       "      <td>8222260</td>\n",
       "      <td>1016825</td>\n",
       "      <td>7776000.0</td>\n",
       "      <td>-100000.0</td>\n",
       "    </tr>\n",
       "    <tr>\n",
       "      <th>11513549</th>\n",
       "      <td>8222261</td>\n",
       "      <td>1016826</td>\n",
       "      <td>7776000.0</td>\n",
       "      <td>-100000.0</td>\n",
       "    </tr>\n",
       "    <tr>\n",
       "      <th>11513551</th>\n",
       "      <td>8222262</td>\n",
       "      <td>1016827</td>\n",
       "      <td>7776000.0</td>\n",
       "      <td>-100000.0</td>\n",
       "    </tr>\n",
       "  </tbody>\n",
       "</table>\n",
       "<p>11514347 rows × 4 columns</p>\n",
       "</div>"
      ],
      "text/plain": [
       "          P_OPERATIONID  P_CLIENTID  seconds_from_start  sec_diff\n",
       "1699                  0           0                 0.0 -100000.0\n",
       "1163395          950539           0            926877.0  926877.0\n",
       "1700                  0           1                 0.0 -100000.0\n",
       "1702                  1           1                 0.0       0.0\n",
       "1704                  2           1                 0.0       0.0\n",
       "1706                  3           1                 0.0       0.0\n",
       "2514               1255           1             86400.0   86400.0\n",
       "2516               1256           1             86400.0       0.0\n",
       "2518               1257           1             86400.0       0.0\n",
       "2520               1258           1             86400.0       0.0\n",
       "4592               2724           1            172800.0   86400.0\n",
       "4594               2725           1            172800.0       0.0\n",
       "4596               2726           1            172800.0       0.0\n",
       "4598               2727           1            172800.0       0.0\n",
       "4600               2728           1            172800.0       0.0\n",
       "879                2729           1            172800.0       0.0\n",
       "881                2730           1            172800.0       0.0\n",
       "883                2731           1            172800.0       0.0\n",
       "885                2732           1            172800.0       0.0\n",
       "2902               2733           1            172800.0       0.0\n",
       "2904               2734           1            172800.0       0.0\n",
       "2906               2735           1            172800.0       0.0\n",
       "4602               2736           1            172800.0       0.0\n",
       "4604               2737           1            172800.0       0.0\n",
       "4606               2738           1            172800.0       0.0\n",
       "4608               2739           1            172800.0       0.0\n",
       "875                2740           1            172800.0       0.0\n",
       "877                2741           1            172800.0       0.0\n",
       "2567               2742           1            172800.0       0.0\n",
       "2569               2743           1            172800.0       0.0\n",
       "...                 ...         ...                 ...       ...\n",
       "11518130        8222223     1016798           7776000.0 -100000.0\n",
       "11516592        8222224     1016799           7776000.0 -100000.0\n",
       "11516594        8222225     1016800           7776000.0 -100000.0\n",
       "11514948        8222227     1016801           7776000.0 -100000.0\n",
       "11515084        8222229     1016802           7776000.0 -100000.0\n",
       "11518197        8222230     1016803           7776000.0 -100000.0\n",
       "11515090        8222232     1016804           7776000.0 -100000.0\n",
       "11513466        8222234     1016805           7776000.0 -100000.0\n",
       "11516769        8222236     1016806           7776000.0 -100000.0\n",
       "11513395        8222239     1016807           7776000.0 -100000.0\n",
       "11518132        8222240     1016808           7776000.0 -100000.0\n",
       "11518516        8222241     1016809           7776000.0 -100000.0\n",
       "11518522        8222242     1016810           7776000.0 -100000.0\n",
       "11518524        8222243     1016811           7776000.0 -100000.0\n",
       "11514951        8222244     1016812           7776000.0 -100000.0\n",
       "11513547        8222245     1016813           7776000.0 -100000.0\n",
       "11498995        8222247     1016814           7776000.0 -100000.0\n",
       "11498997        8222248     1016815           7776000.0 -100000.0\n",
       "11518554        8222249     1016816           7776000.0 -100000.0\n",
       "11518556        8222250     1016817           7776000.0 -100000.0\n",
       "11514952        8222251     1016818           7776000.0 -100000.0\n",
       "11513543        8222252     1016819           7776000.0 -100000.0\n",
       "11500618        8222253     1016820           7776000.0 -100000.0\n",
       "11518126        8222254     1016821           7776000.0 -100000.0\n",
       "11500689        8222256     1016822           7776000.0 -100000.0\n",
       "11518520        8222258     1016823           7776000.0 -100000.0\n",
       "11518526        8222259     1016824           7776000.0 -100000.0\n",
       "11518562        8222260     1016825           7776000.0 -100000.0\n",
       "11513549        8222261     1016826           7776000.0 -100000.0\n",
       "11513551        8222262     1016827           7776000.0 -100000.0\n",
       "\n",
       "[11514347 rows x 4 columns]"
      ]
     },
     "execution_count": 74,
     "metadata": {},
     "output_type": "execute_result"
    }
   ],
   "source": [
    "members_sorted"
   ]
  },
  {
   "cell_type": "code",
   "execution_count": null,
   "metadata": {},
   "outputs": [],
   "source": []
  },
  {
   "cell_type": "code",
   "execution_count": null,
   "metadata": {},
   "outputs": [],
   "source": []
  },
  {
   "cell_type": "code",
   "execution_count": null,
   "metadata": {},
   "outputs": [],
   "source": []
  },
  {
   "cell_type": "code",
   "execution_count": null,
   "metadata": {},
   "outputs": [],
   "source": []
  },
  {
   "cell_type": "code",
   "execution_count": null,
   "metadata": {},
   "outputs": [],
   "source": []
  },
  {
   "cell_type": "code",
   "execution_count": null,
   "metadata": {},
   "outputs": [],
   "source": []
  },
  {
   "cell_type": "code",
   "execution_count": null,
   "metadata": {},
   "outputs": [],
   "source": []
  },
  {
   "cell_type": "code",
   "execution_count": null,
   "metadata": {},
   "outputs": [],
   "source": []
  },
  {
   "cell_type": "code",
   "execution_count": 37,
   "metadata": {},
   "outputs": [],
   "source": [
    "from sklearn.ensemble import IsolationForest"
   ]
  },
  {
   "cell_type": "code",
   "execution_count": 38,
   "metadata": {},
   "outputs": [],
   "source": [
    "isof = IsolationForest(contamination = (ytrain == 1).mean(), n_jobs=-1)"
   ]
  },
  {
   "cell_type": "code",
   "execution_count": 39,
   "metadata": {},
   "outputs": [],
   "source": [
    "first_true_idx = np.where(joined_direct_trans.seconds_from_start > 7*86400)[0][0]"
   ]
  },
  {
   "cell_type": "code",
   "execution_count": 40,
   "metadata": {},
   "outputs": [
    {
     "data": {
      "text/plain": [
       "IsolationForest(bootstrap=False, contamination=0.010129956913660698,\n",
       "        max_features=1.0, max_samples='auto', n_estimators=100, n_jobs=-1,\n",
       "        random_state=None, verbose=0)"
      ]
     },
     "execution_count": 40,
     "metadata": {},
     "output_type": "execute_result"
    }
   ],
   "source": [
    "isof.fit(xtrain[first_true_idx:])"
   ]
  },
  {
   "cell_type": "code",
   "execution_count": 41,
   "metadata": {},
   "outputs": [],
   "source": [
    "train_scores = isof.decision_function(xtrain[first_true_idx:])"
   ]
  },
  {
   "cell_type": "code",
   "execution_count": 42,
   "metadata": {},
   "outputs": [],
   "source": [
    "test_scores = isof.decision_function(xtest)"
   ]
  },
  {
   "cell_type": "code",
   "execution_count": 43,
   "metadata": {},
   "outputs": [],
   "source": [
    "train_pred = isof.predict(xtrain[first_true_idx:])"
   ]
  },
  {
   "cell_type": "code",
   "execution_count": 44,
   "metadata": {},
   "outputs": [],
   "source": [
    "test_pred = isof.predict(xtest)"
   ]
  },
  {
   "cell_type": "code",
   "execution_count": 45,
   "metadata": {},
   "outputs": [
    {
     "data": {
      "text/plain": [
       "Text(0.5,1,'test scores')"
      ]
     },
     "execution_count": 45,
     "metadata": {},
     "output_type": "execute_result"
    },
    {
     "data": {
      "image/png": "[encoded data removed]",
      "text/plain": [
       "<matplotlib.figure.Figure at 0x7f5339851e10>"
      ]
     },
     "metadata": {},
     "output_type": "display_data"
    }
   ],
   "source": [
    "f, axes = plt.subplots(1, 2)\n",
    "target_uniqs = [-1, 0, 1]\n",
    "colors = ['g', 'b', 'r']\n",
    "for tu, c in zip(target_uniqs, colors):\n",
    "    sns.distplot(train_scores[ytrain[first_true_idx:] == tu], color=c, ax=axes[0])\n",
    "\n",
    "for tu, c in zip(target_uniqs, colors):\n",
    "    sns.distplot(test_scores[ytest == tu], color=c, ax=axes[1])\n",
    "axes[0].set_title('train scores')\n",
    "axes[1].set_title('test scores')"
   ]
  },
  {
   "cell_type": "code",
   "execution_count": 46,
   "metadata": {},
   "outputs": [],
   "source": [
    "from sklearn.metrics import precision_score, recall_score, confusion_matrix"
   ]
  },
  {
   "cell_type": "code",
   "execution_count": 47,
   "metadata": {},
   "outputs": [
    {
     "data": {
      "text/plain": [
       "array([[844707, 132944],\n",
       "       [  3619,   1276]])"
      ]
     },
     "execution_count": 47,
     "metadata": {},
     "output_type": "execute_result"
    }
   ],
   "source": [
    "threshold = 0.07\n",
    "ypred = np.array(test_scores <= threshold, dtype=int)\n",
    "ytrue = np.array(ytest == 1, dtype=int)\n",
    "confusion_matrix(ytrue, ypred)"
   ]
  },
  {
   "cell_type": "code",
   "execution_count": 48,
   "metadata": {},
   "outputs": [
    {
     "data": {
      "text/plain": [
       "(-0.08469245322334873, 0.15412548997153175)"
      ]
     },
     "execution_count": 48,
     "metadata": {},
     "output_type": "execute_result"
    }
   ],
   "source": [
    "test_scores.min(), test_scores.max()"
   ]
  },
  {
   "cell_type": "code",
   "execution_count": 49,
   "metadata": {},
   "outputs": [],
   "source": [
    "isof_graph = IsolationForest(contamination = (ytrain == 1).mean(), n_jobs=-1)"
   ]
  },
  {
   "cell_type": "code",
   "execution_count": 50,
   "metadata": {},
   "outputs": [
    {
     "data": {
      "text/plain": [
       "IsolationForest(bootstrap=False, contamination=0.010129956913660698,\n",
       "        max_features=1.0, max_samples='auto', n_estimators=100, n_jobs=-1,\n",
       "        random_state=None, verbose=0)"
      ]
     },
     "execution_count": 50,
     "metadata": {},
     "output_type": "execute_result"
    }
   ],
   "source": [
    "isof_graph.fit(xtrain[first_true_idx:, -4:])"
   ]
  },
  {
   "cell_type": "code",
   "execution_count": 51,
   "metadata": {},
   "outputs": [],
   "source": [
    "graph_train_scores = isof_graph.decision_function(xtrain[first_true_idx:, -4:])\n",
    "graph_test_scores = isof_graph.decision_function(xtest[:, -4:])\n",
    "graph_train_pred = isof_graph.predict(xtrain[first_true_idx:, -4:])\n",
    "graph_test_pred = isof_graph.predict(xtest[:, -4:])"
   ]
  },
  {
   "cell_type": "code",
   "execution_count": 52,
   "metadata": {},
   "outputs": [
    {
     "data": {
      "text/plain": [
       "Text(0.5,1,'test scores')"
      ]
     },
     "execution_count": 52,
     "metadata": {},
     "output_type": "execute_result"
    },
    {
     "data": {
      "image/png": "[encoded data removed]",
      "text/plain": [
       "<matplotlib.figure.Figure at 0x7f555ef36550>"
      ]
     },
     "metadata": {},
     "output_type": "display_data"
    }
   ],
   "source": [
    "f, axes = plt.subplots(1, 2)\n",
    "target_uniqs = [-1, 0, 1]\n",
    "colors = ['g', 'b', 'r']\n",
    "for tu, c in zip(target_uniqs, colors):\n",
    "    sns.distplot(graph_train_scores[ytrain[first_true_idx:] == tu], color=c, ax=axes[0])\n",
    "\n",
    "for tu, c in zip(target_uniqs, colors):\n",
    "    sns.distplot(graph_test_scores[ytest == tu], color=c, ax=axes[1])\n",
    "axes[0].set_title('train scores')\n",
    "axes[1].set_title('test scores')"
   ]
  },
  {
   "cell_type": "code",
   "execution_count": 53,
   "metadata": {},
   "outputs": [
    {
     "data": {
      "text/plain": [
       "array([[350652, 626999],\n",
       "       [  1425,   3470]])"
      ]
     },
     "execution_count": 53,
     "metadata": {},
     "output_type": "execute_result"
    }
   ],
   "source": [
    "threshold = 0.1\n",
    "graph_ypred = np.array(graph_test_scores <= threshold, dtype=int)\n",
    "graph_ytrue = np.array(ytest == 1, dtype=int)\n",
    "confusion_matrix(graph_ytrue, graph_ypred)"
   ]
  },
  {
   "cell_type": "code",
   "execution_count": 54,
   "metadata": {},
   "outputs": [
    {
     "data": {
      "text/plain": [
       "Index(['ID', 'P_ISSUEDBID', 'P_BANKOPERATIONID', 'P_BRANCH', 'P_CURRENCYCODE',\n",
       "       'P_OPERATIONDATETIME', 'P_BASEAMOUNT', 'P_CURRENCYAMOUNT', 'P_EKNPCODE',\n",
       "       'P_DOCNUMBER', 'P_DOCDATE', 'P_DOCCATEGORY', 'P_OPERATIONREASON',\n",
       "       'P_TOEXTRACTBOOL', 'P_DATE_INSERT', 'CHANGEDATE', 'P_KFM_OPER_REASON',\n",
       "       'P_BS_OPER_TYPE', 'P_ORIG_OPER_NUMBER', 'P_WAS_SEND', 'P_OPERATIONDATE',\n",
       "       'P_CLIENTID__source_role', 'P_REGOPENDATE__source_role',\n",
       "       'P_COUNTRYCODE__source_role', 'P_BANKCITY__source_role',\n",
       "       'P_BANK__source_role', 'P_BANK_CLIENT__source_role',\n",
       "       'P_CLIENT_TYPE__source_role', 'P_CLIENTID__target_role',\n",
       "       'P_REGOPENDATE__target_role', 'P_COUNTRYCODE__target_role',\n",
       "       'P_BANKCITY__target_role', 'P_BANK__target_role',\n",
       "       'P_BANK_CLIENT__target_role', 'P_CLIENT_TYPE__target_role',\n",
       "       'P_CLIENTID__beneficial_role', 'P_REGOPENDATE__beneficial_role',\n",
       "       'P_COUNTRYCODE__beneficial_role', 'P_BANKCITY__beneficial_role',\n",
       "       'P_BANK__beneficial_role', 'P_BANK_CLIENT__beneficial_role',\n",
       "       'P_CLIENT_TYPE__beneficial_role', 'raw_id_source_role',\n",
       "       'raw_id_target_role', 'raw_id_beneficial_role', 'seconds_from_start',\n",
       "       'target'],\n",
       "      dtype='object')"
      ]
     },
     "execution_count": 54,
     "metadata": {},
     "output_type": "execute_result"
    }
   ],
   "source": [
    "joined_off_ops.columns"
   ]
  },
  {
   "cell_type": "code",
   "execution_count": 55,
   "metadata": {},
   "outputs": [
    {
     "data": {
      "text/plain": [
       "Index(['ID', 'P_OPERATIONID', 'P_CLIENTID', 'P_BSCLIENTID', 'P_BANK_CLIENT',\n",
       "       'P_REGOPENDATE', 'P_COUNTRYCODE', 'P_CLIENT_TYPE', 'P_CLIENTROLE',\n",
       "       'P_CLIENTKIND', 'P_ACCOUNT', 'P_BSACCOUNT', 'P_BANK',\n",
       "       'P_BANKCOUNTRYCODE', 'P_BANKNAME', 'P_IPDL', 'P_USERNAME', 'P_SDP',\n",
       "       'P_ORGFORM', 'P_BANKCITY', 'P_OPER_DATE', 'P_OPERATIONDATE'],\n",
       "      dtype='object')"
      ]
     },
     "execution_count": 55,
     "metadata": {},
     "output_type": "execute_result"
    }
   ],
   "source": [
    "off_members.columns"
   ]
  },
  {
   "cell_type": "code",
   "execution_count": 56,
   "metadata": {},
   "outputs": [
    {
     "name": "stdout",
     "output_type": "stream",
     "text": [
      "get operationid and clientid from off_members and map operationid and clientid to 0-based took 0.000s\n"
     ]
    },
    {
     "ename": "NameError",
     "evalue": "name 'off_members' is not defined",
     "output_type": "error",
     "traceback": [
      "\u001b[0;31m---------------------------------------------------------------------------\u001b[0m",
      "\u001b[0;31mNameError\u001b[0m                                 Traceback (most recent call last)",
      "\u001b[0;32m<ipython-input-56-c34512842e44>\u001b[0m in \u001b[0;36m<module>\u001b[0;34m()\u001b[0m\n\u001b[1;32m      1\u001b[0m \u001b[0mget_ipython\u001b[0m\u001b[0;34m(\u001b[0m\u001b[0;34m)\u001b[0m\u001b[0;34m.\u001b[0m\u001b[0mrun_line_magic\u001b[0m\u001b[0;34m(\u001b[0m\u001b[0;34m'reset_selective'\u001b[0m\u001b[0;34m,\u001b[0m \u001b[0;34m'-f members'\u001b[0m\u001b[0;34m)\u001b[0m\u001b[0;34m\u001b[0m\u001b[0m\n\u001b[1;32m      2\u001b[0m \u001b[0;32mwith\u001b[0m \u001b[0mTimer\u001b[0m\u001b[0;34m(\u001b[0m\u001b[0;34m'get operationid and clientid from off_members and map operationid and clientid to 0-based'\u001b[0m\u001b[0;34m)\u001b[0m\u001b[0;34m:\u001b[0m\u001b[0;34m\u001b[0m\u001b[0m\n\u001b[0;32m----> 3\u001b[0;31m     \u001b[0mmembers\u001b[0m \u001b[0;34m=\u001b[0m \u001b[0moff_members\u001b[0m\u001b[0;34m[\u001b[0m\u001b[0;34m[\u001b[0m\u001b[0;34m'P_OPERATIONID'\u001b[0m\u001b[0;34m,\u001b[0m \u001b[0;34m'P_CLIENTID'\u001b[0m\u001b[0;34m]\u001b[0m\u001b[0;34m]\u001b[0m\u001b[0;34m.\u001b[0m\u001b[0mcopy\u001b[0m\u001b[0;34m(\u001b[0m\u001b[0;34m)\u001b[0m\u001b[0;34m\u001b[0m\u001b[0m\n\u001b[0m\u001b[1;32m      4\u001b[0m     \u001b[0mmembers\u001b[0m\u001b[0;34m.\u001b[0m\u001b[0mloc\u001b[0m\u001b[0;34m[\u001b[0m\u001b[0;34m:\u001b[0m\u001b[0;34m,\u001b[0m \u001b[0;34m'P_OPERATIONID'\u001b[0m\u001b[0;34m]\u001b[0m \u001b[0;34m=\u001b[0m \u001b[0mmembers\u001b[0m\u001b[0;34m[\u001b[0m\u001b[0;34m'P_OPERATIONID'\u001b[0m\u001b[0;34m]\u001b[0m\u001b[0;34m.\u001b[0m\u001b[0mmap\u001b[0m\u001b[0;34m(\u001b[0m\u001b[0moperationid_counter\u001b[0m\u001b[0;34m.\u001b[0m\u001b[0mget\u001b[0m\u001b[0;34m)\u001b[0m\u001b[0;34m\u001b[0m\u001b[0m\n\u001b[1;32m      5\u001b[0m     \u001b[0mmembers\u001b[0m\u001b[0;34m.\u001b[0m\u001b[0mloc\u001b[0m\u001b[0;34m[\u001b[0m\u001b[0;34m:\u001b[0m\u001b[0;34m,\u001b[0m \u001b[0;34m'P_CLIENTID'\u001b[0m\u001b[0;34m]\u001b[0m \u001b[0;34m=\u001b[0m \u001b[0mmembers\u001b[0m\u001b[0;34m[\u001b[0m\u001b[0;34m'P_CLIENTID'\u001b[0m\u001b[0;34m]\u001b[0m\u001b[0;34m.\u001b[0m\u001b[0mmap\u001b[0m\u001b[0;34m(\u001b[0m\u001b[0mclientid_counter\u001b[0m\u001b[0;34m.\u001b[0m\u001b[0mget\u001b[0m\u001b[0;34m)\u001b[0m\u001b[0;34m\u001b[0m\u001b[0m\n",
      "\u001b[0;31mNameError\u001b[0m: name 'off_members' is not defined"
     ]
    }
   ],
   "source": [
    "%reset_selective -f members\n",
    "with Timer('get operationid and clientid from off_members and map operationid and clientid to 0-based'):\n",
    "    members = off_members[['P_OPERATIONID', 'P_CLIENTID']].copy()\n",
    "    members.loc[:, 'P_OPERATIONID'] = members['P_OPERATIONID'].map(operationid_counter.get)\n",
    "    members.loc[:, 'P_CLIENTID'] = members['P_CLIENTID'].map(clientid_counter.get)\n",
    "\n",
    "with Timer('get seconds_from_start for each row in members'):\n",
    "    members_seconds_from_start = joined_off_ops.seconds_from_start[members.P_OPERATIONID]\n",
    "    members['seconds_from_start'] = members_seconds_from_start.values\n",
    "\n",
    "%reset_selective -f members_seconds_from_start"
   ]
  },
  {
   "cell_type": "code",
   "execution_count": 2,
   "metadata": {},
   "outputs": [
    {
     "ename": "NameError",
     "evalue": "name 'kekes_pekes' is not defined",
     "output_type": "error",
     "traceback": [
      "\u001b[0;31m---------------------------------------------------------------------------\u001b[0m",
      "\u001b[0;31mNameError\u001b[0m                                 Traceback (most recent call last)",
      "\u001b[0;32m<ipython-input-2-8f080b304c5d>\u001b[0m in \u001b[0;36m<module>\u001b[0;34m()\u001b[0m\n\u001b[1;32m      1\u001b[0m \u001b[0mkekes_pekes\u001b[0m \u001b[0;34m=\u001b[0m \u001b[0;36m55\u001b[0m\u001b[0;34m\u001b[0m\u001b[0m\n\u001b[1;32m      2\u001b[0m \u001b[0mget_ipython\u001b[0m\u001b[0;34m(\u001b[0m\u001b[0;34m)\u001b[0m\u001b[0;34m.\u001b[0m\u001b[0mrun_line_magic\u001b[0m\u001b[0;34m(\u001b[0m\u001b[0;34m'reset_selective'\u001b[0m\u001b[0;34m,\u001b[0m \u001b[0;34m'-f kekes'\u001b[0m\u001b[0;34m)\u001b[0m\u001b[0;34m\u001b[0m\u001b[0m\n\u001b[0;32m----> 3\u001b[0;31m \u001b[0mprint\u001b[0m\u001b[0;34m(\u001b[0m\u001b[0mkekes_pekes\u001b[0m\u001b[0;34m)\u001b[0m\u001b[0;34m\u001b[0m\u001b[0m\n\u001b[0m",
      "\u001b[0;31mNameError\u001b[0m: name 'kekes_pekes' is not defined"
     ]
    }
   ],
   "source": [
    "kekes_pekes = 55\n",
    "%reset_selective -f kekes\n",
    "print(kekes_pekes)"
   ]
  },
  {
   "cell_type": "code",
   "execution_count": null,
   "metadata": {},
   "outputs": [],
   "source": []
  }
 ],
 "metadata": {
  "kernelspec": {
   "display_name": "Python 3",
   "language": "python",
   "name": "python3"
  },
  "language_info": {
   "codemirror_mode": {
    "name": "ipython",
    "version": 3
   },
   "file_extension": ".py",
   "mimetype": "text/x-python",
   "name": "python",
   "nbconvert_exporter": "python",
   "pygments_lexer": "ipython3",
   "version": "3.6.4"
  }
 },
 "nbformat": 4,
 "nbformat_minor": 2
}
