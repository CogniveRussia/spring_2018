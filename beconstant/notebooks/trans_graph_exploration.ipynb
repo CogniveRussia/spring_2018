{
 "cells": [
  {
   "cell_type": "code",
   "execution_count": 1,
   "metadata": {},
   "outputs": [],
   "source": [
    "import re\n",
    "import os\n",
    "import time\n",
    "import pickle\n",
    "import sklearn\n",
    "#import cx_Oracle\n",
    "import numpy as np\n",
    "import pandas as pd\n",
    "import seaborn as sns\n",
    "\n",
    "import scipy.sparse\n",
    "from tqdm import tqdm, tqdm_notebook\n",
    "from sklearn import datasets\n",
    "from collections import defaultdict\n",
    "from matplotlib import pyplot as plt\n",
    "\n",
    "from scipy.sparse import csr_matrix, coo_matrix, csc_matrix\n",
    "\n",
    "\n",
    "# oracle\n",
    "#oracle_user = \"ro_user\"\n",
    "#oracle_pass = \"ro_user\"\n",
    "#oracle_scheme = \"aml_evraz\"\n",
    "#oracle_host = \"192.168.101.13/rnd\"\n",
    "#oracle_connection = cx_Oracle.connect(oracle_user, oracle_pass, oracle_host, encoding = \"UTF-8\", nencoding = \"UTF-8\")\n",
    "#oracle_cursor = oracle_connection.cursor()\n",
    "\n",
    "### PUT YOUR PATH HERE (mine default is home/username/notebooks)\n",
    "path_to_data = '../../shared_files/'\n",
    "\n",
    "%matplotlib inline\n",
    "sns.set(style='white', rc={'figure.figsize':(12,8)})"
   ]
  },
  {
   "cell_type": "code",
   "execution_count": 2,
   "metadata": {},
   "outputs": [],
   "source": [
    "class Timer:\n",
    "    def __init__(self, msg='operation', verbose=True):\n",
    "        self.msg = msg\n",
    "        self.verbose = verbose\n",
    "    def __enter__(self, ):\n",
    "        self.start = time.clock()\n",
    "        return self\n",
    "\n",
    "    def __exit__(self, *args):\n",
    "        self.end = time.clock()\n",
    "        self.interval = self.end - self.start\n",
    "        if self.verbose:\n",
    "            print('{} took {:.3f}s'.format(self.msg, self.interval), flush=True)\n",
    "\n",
    "\n",
    "def fill_zeros_with_last(arr):\n",
    "    prev = np.arange(len(arr))\n",
    "    prev[arr == 0] = 0\n",
    "    prev = np.maximum.accumulate(prev)\n",
    "    return arr[prev]"
   ]
  },
  {
   "cell_type": "code",
   "execution_count": 3,
   "metadata": {},
   "outputs": [],
   "source": [
    "#%reset_selective -f graph_trans_df\n",
    "\n",
    "#with Timer('read trans graph frame'):\n",
    "    #graph_trans_df = pd.read_csv('graph_trans_df.csv')\n",
    "import pickle\n",
    "\n",
    "with open('graph_trans_df.pkl', 'rb') as handle:\n",
    "    graph_trans_df = pickle.load(handle)"
   ]
  },
  {
   "cell_type": "code",
   "execution_count": 4,
   "metadata": {},
   "outputs": [
    {
     "data": {
      "text/html": [
       "<div>\n",
       "<style scoped>\n",
       "    .dataframe tbody tr th:only-of-type {\n",
       "        vertical-align: middle;\n",
       "    }\n",
       "\n",
       "    .dataframe tbody tr th {\n",
       "        vertical-align: top;\n",
       "    }\n",
       "\n",
       "    .dataframe thead tr th {\n",
       "        text-align: left;\n",
       "    }\n",
       "</style>\n",
       "<table border=\"1\" class=\"dataframe\">\n",
       "  <thead>\n",
       "    <tr>\n",
       "      <th>P_CLIENTROLE</th>\n",
       "      <th colspan=\"2\" halign=\"left\">all</th>\n",
       "      <th>1</th>\n",
       "      <th>2</th>\n",
       "      <th>5</th>\n",
       "      <th colspan=\"4\" halign=\"left\">all</th>\n",
       "    </tr>\n",
       "    <tr>\n",
       "      <th>columns</th>\n",
       "      <th>ID</th>\n",
       "      <th>P_BASEAMOUNT</th>\n",
       "      <th>P_CLIENTID</th>\n",
       "      <th>P_CLIENTID</th>\n",
       "      <th>P_CLIENTID</th>\n",
       "      <th>P_EKNPCODE</th>\n",
       "      <th>P_OPERATIONDATETIME</th>\n",
       "      <th>seconds_from_start</th>\n",
       "      <th>target</th>\n",
       "    </tr>\n",
       "  </thead>\n",
       "  <tbody>\n",
       "    <tr>\n",
       "      <th>0</th>\n",
       "      <td>0</td>\n",
       "      <td>151075.01</td>\n",
       "      <td>0.0</td>\n",
       "      <td>1.0</td>\n",
       "      <td>NaN</td>\n",
       "      <td>423</td>\n",
       "      <td>2017-01-01</td>\n",
       "      <td>0.0</td>\n",
       "      <td>0</td>\n",
       "    </tr>\n",
       "    <tr>\n",
       "      <th>1</th>\n",
       "      <td>1</td>\n",
       "      <td>136206.83</td>\n",
       "      <td>2.0</td>\n",
       "      <td>1.0</td>\n",
       "      <td>NaN</td>\n",
       "      <td>423</td>\n",
       "      <td>2017-01-01</td>\n",
       "      <td>0.0</td>\n",
       "      <td>0</td>\n",
       "    </tr>\n",
       "    <tr>\n",
       "      <th>2</th>\n",
       "      <td>2</td>\n",
       "      <td>59613.06</td>\n",
       "      <td>3.0</td>\n",
       "      <td>1.0</td>\n",
       "      <td>NaN</td>\n",
       "      <td>421</td>\n",
       "      <td>2017-01-01</td>\n",
       "      <td>0.0</td>\n",
       "      <td>0</td>\n",
       "    </tr>\n",
       "  </tbody>\n",
       "</table>\n",
       "</div>"
      ],
      "text/plain": [
       "P_CLIENTROLE all                       1          2          5        all  \\\n",
       "columns       ID P_BASEAMOUNT P_CLIENTID P_CLIENTID P_CLIENTID P_EKNPCODE   \n",
       "0              0    151075.01        0.0        1.0        NaN        423   \n",
       "1              1    136206.83        2.0        1.0        NaN        423   \n",
       "2              2     59613.06        3.0        1.0        NaN        421   \n",
       "\n",
       "P_CLIENTROLE                                                \n",
       "columns      P_OPERATIONDATETIME seconds_from_start target  \n",
       "0                     2017-01-01                0.0      0  \n",
       "1                     2017-01-01                0.0      0  \n",
       "2                     2017-01-01                0.0      0  "
      ]
     },
     "execution_count": 4,
     "metadata": {},
     "output_type": "execute_result"
    }
   ],
   "source": [
    "graph_trans_df.head(3)"
   ]
  },
  {
   "cell_type": "markdown",
   "metadata": {},
   "source": [
    "### Transactions are quite sparse through time, so we can aggregate through seconds checkpoints"
   ]
  },
  {
   "cell_type": "code",
   "execution_count": 5,
   "metadata": {},
   "outputs": [
    {
     "data": {
      "text/plain": [
       "MultiIndex(levels=[[1, 2, 5, 'all'], ['ID', 'P_BANK', 'P_BANKCITY', 'P_BANKCOUNTRYCODE', 'P_BANKNAME', 'P_BANK_CLIENT', 'P_BASEAMOUNT', 'P_BRANCH', 'P_BS_OPER_TYPE', 'P_CLIENTID', 'P_CLIENT_TYPE', 'P_COUNTRYCODE', 'P_CURRENCYCODE', 'P_DOCCATEGORY', 'P_EKNPCODE', 'P_ISSUEDBID', 'P_KFM_OPER_REASON', 'P_OPERATIONDATETIME', 'P_ORGFORM', 'P_SDP', 'P_TOEXTRACTBOOL', 'P_WAS_SEND', 'acc_persistence', 'seconds_from_last_client_op', 'seconds_from_start', 'target']],\n",
       "           labels=[[3, 3, 0, 1, 2, 3, 3, 3, 3], [0, 6, 9, 9, 9, 14, 17, 24, 25]],\n",
       "           names=['P_CLIENTROLE', 'columns'])"
      ]
     },
     "execution_count": 5,
     "metadata": {},
     "output_type": "execute_result"
    }
   ],
   "source": [
    "graph_trans_df.columns"
   ]
  },
  {
   "cell_type": "code",
   "execution_count": 6,
   "metadata": {},
   "outputs": [
    {
     "name": "stdout",
     "output_type": "stream",
     "text": [
      "There are 1188974 checkpoints for 7776000 seconds\n"
     ]
    }
   ],
   "source": [
    "seconds_passed_counter = defaultdict(lambda: len(seconds_passed_counter))\n",
    "sorted_seconds_uniqs = np.sort(graph_trans_df['all', 'seconds_from_start'].unique(), kind='mergesort').astype(int)\n",
    "for el in sorted_seconds_uniqs:\n",
    "    seconds_passed_counter[int(el)]\n",
    "inv_seconds_passed_counter = {v:k for k, v in seconds_passed_counter.items()}\n",
    "print('There are {} checkpoints for {} seconds'.format(len(seconds_passed_counter), int(graph_trans_df['all', 'seconds_from_start'].max())))"
   ]
  },
  {
   "cell_type": "code",
   "execution_count": 7,
   "metadata": {},
   "outputs": [],
   "source": [
    "sec_to_id_map_array = np.zeros(int(graph_trans_df['all', 'seconds_from_start'].max()) + 1)\n",
    "sec_to_id_map_array[sorted_seconds_uniqs] = np.arange(len(seconds_passed_counter))\n",
    "sec_to_id_map_array = fill_zeros_with_last(sec_to_id_map_array).astype(int)"
   ]
  },
  {
   "cell_type": "code",
   "execution_count": 8,
   "metadata": {},
   "outputs": [],
   "source": [
    "sec_to_op_index = np.zeros(len(graph_trans_df), dtype=int)\n",
    "sec_uniqs, sec_op_ids = np.unique(graph_trans_df['all', 'seconds_from_start'].values.astype(int), return_index=True)"
   ]
  },
  {
   "cell_type": "code",
   "execution_count": 9,
   "metadata": {},
   "outputs": [],
   "source": [
    "sec_to_op_index[sec_uniqs] = sec_op_ids\n",
    "sec_to_op_index = fill_zeros_with_last(sec_to_op_index).astype(int)"
   ]
  },
  {
   "cell_type": "markdown",
   "metadata": {},
   "source": [
    "### Find number of clients"
   ]
  },
  {
   "cell_type": "code",
   "execution_count": 10,
   "metadata": {},
   "outputs": [
    {
     "name": "stdout",
     "output_type": "stream",
     "text": [
      "number of clients = 1016828\n"
     ]
    }
   ],
   "source": [
    "client_ids = np.stack([graph_trans_df[role, colname].values for (role, colname) in zip([1, 2, 5], ['P_CLIENTID'] * 3)], axis=1)\n",
    "n_clients = int(client_ids.reshape(-1)[np.isfinite(client_ids.reshape(-1))].max()) + 1\n",
    "print('number of clients = {}'.format(n_clients))"
   ]
  },
  {
   "cell_type": "code",
   "execution_count": 11,
   "metadata": {},
   "outputs": [],
   "source": [
    "role_to_slice, column_to_slice = 'all', 'P_EKNPCODE'"
   ]
  },
  {
   "cell_type": "code",
   "execution_count": 12,
   "metadata": {},
   "outputs": [],
   "source": [
    "graph_trans_df.loc[:, (role_to_slice, column_to_slice)] = graph_trans_df[role_to_slice, column_to_slice]\\\n",
    "                                                            .map(str)\\\n",
    "                                                            .map(lambda s: s.replace('З', '3'))\\\n",
    "                                                            .map(float)\\\n",
    "                                                            .map(int)"
   ]
  },
  {
   "cell_type": "code",
   "execution_count": 13,
   "metadata": {},
   "outputs": [],
   "source": [
    "eknp_encoder = {v: i for v, i in zip(graph_trans_df[role_to_slice, column_to_slice].unique(), np.arange(1, len(graph_trans_df) + 1))}\n",
    "epnp_decoder = {i: v for v, i in eknp_encoder.items()}"
   ]
  },
  {
   "cell_type": "code",
   "execution_count": 14,
   "metadata": {},
   "outputs": [
    {
     "data": {
      "text/plain": [
       "array([-1000,     0,     2,     3,     4,     8,     9,    10,    11,\n",
       "          12,    13,    14,    15,    16,    17,    19,    20,    21,\n",
       "          22,    26,    27,    30,    31,    32,    33,    34,    35,\n",
       "          36,    37,    38,    40,    42,    44,    46,    48,    51,\n",
       "          53,    54,    56,    57,    58,    59,    67,    68,    71,\n",
       "          72,    73,    74,    75,    77,    81,    84,    87,    90,\n",
       "          91,    92,    95,    96,    99,   111,   112,   119,   120,\n",
       "         122,   131,   132,   140,   150,   160,   171,   172,   180,\n",
       "         181,   182,   190,   211,   213,   219,   221,   223,   230,\n",
       "         290,   311,   312,   314,   315,   316,   317,   318,   319,\n",
       "         321,   322,   324,   325,   326,   329,   331,   332,   333,\n",
       "         334,   341,   342,   343,   344,   345,   346,   350,   361,\n",
       "         362,   390,   411,   413,   419,   420,   421,   423,   424,\n",
       "         429,   430,   490,   510,   520,   522,   529,   539,   541,\n",
       "         545,   549,   561,   563,   590,   610,   621,   623,   629,\n",
       "         631,   633,   645,   649,   661,   662,   663,   671,   672,\n",
       "         681,   682,   690,   710,   711,   721,   722,   730,   740,\n",
       "         780,   790,   811,   812,   813,   814,   815,   816,   817,\n",
       "         818,   819,   821,   822,   831,   832,   833,   834,   835,\n",
       "         836,   837,   838,   839,   840,   841,   842,   843,   844,\n",
       "         851,   852,   853,   854,   855,   856,   857,   858,   859,\n",
       "         861,   862,   869,   870,   871,   872,   880,   890,   911,\n",
       "         912,   913,   915,   916,   917,   918,   922,   963,   971,\n",
       "         974,   975,   978,   979,   991,   992,   993,   994,   995,\n",
       "         996])"
      ]
     },
     "execution_count": 14,
     "metadata": {},
     "output_type": "execute_result"
    }
   ],
   "source": [
    "eknp_uniqs = np.sort(np.unique(graph_trans_df[role_to_slice, column_to_slice]))\n",
    "eknp_uniqs"
   ]
  },
  {
   "cell_type": "code",
   "execution_count": 15,
   "metadata": {},
   "outputs": [],
   "source": [
    "income_trans = graph_trans_df[~graph_trans_df[2, 'P_CLIENTID'].isnull()]\n",
    "\n",
    "income_codes_matrix = coo_matrix((income_trans['all', 'P_EKNPCODE'].map(eknp_encoder.__getitem__),\n",
    "                                    (income_trans['all', 'ID'], income_trans[2, 'P_CLIENTID'].values.astype(int))),\n",
    "                                   shape=(len(graph_trans_df), n_clients),\n",
    "                                   dtype=np.int)\n",
    "\n",
    "income_codes_csr, income_codes_csc = income_codes_matrix.tocsr(), income_codes_matrix.tocsc()\n",
    "\n",
    "outcome_trans = graph_trans_df[~graph_trans_df[1, 'P_CLIENTID'].isnull()]\n",
    "\n",
    "outcome_codes_matrix = coo_matrix((outcome_trans['all', 'P_EKNPCODE'].map(eknp_encoder.__getitem__),\n",
    "                                    (outcome_trans['all', 'ID'], outcome_trans[1, 'P_CLIENTID'].values.astype(int))),\n",
    "                                   shape=(len(graph_trans_df), n_clients),\n",
    "                                   dtype=np.int)\n",
    "\n",
    "outcome_codes_csr, outcome_codes_csc = outcome_codes_matrix.tocsr(), outcome_codes_matrix.tocsc()"
   ]
  },
  {
   "cell_type": "code",
   "execution_count": 16,
   "metadata": {},
   "outputs": [],
   "source": [
    "def get_incoming_window_links_by_eknp_code(second_clientid_opid, backward=86400*7):\n",
    "    global eknp_uniqs\n",
    "    global sec_to_op_index\n",
    "    global income_codes_csc\n",
    "    second, client_id, op_id = second_clientid_opid\n",
    "    sec_back = max(second - backward, 0)\n",
    "    i_from = sec_to_op_index[sec_back]\n",
    "    #i_to = sec_to_op_index[second]\n",
    "    i_to = op_id\n",
    "    kek = np.zeros(len(eknp_uniqs) + 1, dtype=int)\n",
    "    kek[0] = op_id\n",
    "    if i_from > i_to:\n",
    "        return kek\n",
    "    sliced = income_codes_csc[i_from:i_to, client_id]\n",
    "    if sliced.nnz == 0:\n",
    "        return kek\n",
    "    for eknp_code_encoded, count in zip(*np.unique(sliced.data, return_counts=True)):\n",
    "        kek[eknp_code_encoded] = count\n",
    "    return kek\n",
    "\n",
    "def get_outcoming_window_links_by_eknp_code(second_clientid_opid, backward=86400*7):\n",
    "    global eknp_uniqs\n",
    "    global sec_to_op_index\n",
    "    global outcome_codes_csc\n",
    "    second, client_id, op_id = second_clientid_opid\n",
    "    sec_back = max(second - backward, 0)\n",
    "    i_from = sec_to_op_index[sec_back]\n",
    "    #i_to = sec_to_op_index[second]\n",
    "    i_to = op_id\n",
    "    kek = np.zeros(len(eknp_uniqs) + 1, dtype=int)\n",
    "    kek[0] = op_id\n",
    "    if i_from > i_to:\n",
    "        return kek\n",
    "    sliced = outcome_codes_csc[i_from:i_to, client_id]\n",
    "    if sliced.nnz == 0:\n",
    "        return kek\n",
    "    for eknp_code_encoded, count in zip(*np.unique(sliced.data, return_counts=True)):\n",
    "        kek[eknp_code_encoded] = count\n",
    "    return kek"
   ]
  },
  {
   "cell_type": "code",
   "execution_count": 17,
   "metadata": {},
   "outputs": [],
   "source": [
    "from multiprocessing import Pool\n",
    "#raw_id_source_role\n",
    "#raw_id_target_role\n",
    "n_proc = 32"
   ]
  },
  {
   "cell_type": "code",
   "execution_count": 18,
   "metadata": {},
   "outputs": [
    {
     "data": {
      "application/vnd.jupyter.widget-view+json": {
       "model_id": "69105a876ede4aab9c9c8642382aa217",
       "version_major": 2,
       "version_minor": 0
      },
      "text/html": [
       "<p>Failed to display Jupyter Widget of type <code>HBox</code>.</p>\n",
       "<p>\n",
       "  If you're reading this message in the Jupyter Notebook or JupyterLab Notebook, it may mean\n",
       "  that the widgets JavaScript is still loading. If this message persists, it\n",
       "  likely means that the widgets JavaScript library is either not installed or\n",
       "  not enabled. See the <a href=\"https://ipywidgets.readthedocs.io/en/stable/user_install.html\">Jupyter\n",
       "  Widgets Documentation</a> for setup instructions.\n",
       "</p>\n",
       "<p>\n",
       "  If you're reading this message in another frontend (for example, a static\n",
       "  rendering on GitHub or <a href=\"https://nbviewer.jupyter.org/\">NBViewer</a>),\n",
       "  it may mean that your frontend doesn't currently support widgets.\n",
       "</p>\n"
      ],
      "text/plain": [
       "HBox(children=(IntProgress(value=0, max=4364967), HTML(value='')))"
      ]
     },
     "metadata": {},
     "output_type": "display_data"
    },
    {
     "name": "stdout",
     "output_type": "stream",
     "text": [
      "\n"
     ]
    }
   ],
   "source": [
    "if_income  = ~graph_trans_df[2, 'P_CLIENTID'].isnull()\n",
    "tqdm_max_ = if_income.sum()\n",
    "\n",
    "seconds_input = graph_trans_df['all', 'seconds_from_start'][if_income].values.astype(int)\n",
    "indices_input = graph_trans_df[2, 'P_CLIENTID'][if_income].values.astype(int)\n",
    "op_indices_input = graph_trans_df['all', 'ID'][if_income].values.astype(int)\n",
    "\n",
    "with Pool(processes=n_proc) as p:\n",
    "    ress_input_target = np.array(list(tqdm_notebook(p.imap_unordered(get_incoming_window_links_by_eknp_code, np.c_[seconds_input, indices_input, op_indices_input]), total=tqdm_max_)), dtype=int)\n",
    "ress_input_target = ress_input_target[ress_input_target[:, 0].argsort(kind='mergesort')]"
   ]
  },
  {
   "cell_type": "code",
   "execution_count": 19,
   "metadata": {},
   "outputs": [
    {
     "data": {
      "application/vnd.jupyter.widget-view+json": {
       "model_id": "4dc677eb79f94c3299a2df5144ec4f6d",
       "version_major": 2,
       "version_minor": 0
      },
      "text/html": [
       "<p>Failed to display Jupyter Widget of type <code>HBox</code>.</p>\n",
       "<p>\n",
       "  If you're reading this message in the Jupyter Notebook or JupyterLab Notebook, it may mean\n",
       "  that the widgets JavaScript is still loading. If this message persists, it\n",
       "  likely means that the widgets JavaScript library is either not installed or\n",
       "  not enabled. See the <a href=\"https://ipywidgets.readthedocs.io/en/stable/user_install.html\">Jupyter\n",
       "  Widgets Documentation</a> for setup instructions.\n",
       "</p>\n",
       "<p>\n",
       "  If you're reading this message in another frontend (for example, a static\n",
       "  rendering on GitHub or <a href=\"https://nbviewer.jupyter.org/\">NBViewer</a>),\n",
       "  it may mean that your frontend doesn't currently support widgets.\n",
       "</p>\n"
      ],
      "text/plain": [
       "HBox(children=(IntProgress(value=0, max=4364967), HTML(value='')))"
      ]
     },
     "metadata": {},
     "output_type": "display_data"
    },
    {
     "name": "stdout",
     "output_type": "stream",
     "text": [
      "\n"
     ]
    }
   ],
   "source": [
    "with Pool(processes=n_proc) as p:\n",
    "    ress_output_target = np.array(list(tqdm_notebook(p.imap_unordered(get_outcoming_window_links_by_eknp_code, np.c_[seconds_input, indices_input, op_indices_input]), total=tqdm_max_)), dtype=int)\n",
    "ress_output_target = ress_output_target[ress_output_target[:, 0].argsort(kind='mergesort')]"
   ]
  },
  {
   "cell_type": "code",
   "execution_count": 20,
   "metadata": {},
   "outputs": [
    {
     "data": {
      "application/vnd.jupyter.widget-view+json": {
       "model_id": "a115ce6506c2481ba2a0366f5ff5ada8",
       "version_major": 2,
       "version_minor": 0
      },
      "text/html": [
       "<p>Failed to display Jupyter Widget of type <code>HBox</code>.</p>\n",
       "<p>\n",
       "  If you're reading this message in the Jupyter Notebook or JupyterLab Notebook, it may mean\n",
       "  that the widgets JavaScript is still loading. If this message persists, it\n",
       "  likely means that the widgets JavaScript library is either not installed or\n",
       "  not enabled. See the <a href=\"https://ipywidgets.readthedocs.io/en/stable/user_install.html\">Jupyter\n",
       "  Widgets Documentation</a> for setup instructions.\n",
       "</p>\n",
       "<p>\n",
       "  If you're reading this message in another frontend (for example, a static\n",
       "  rendering on GitHub or <a href=\"https://nbviewer.jupyter.org/\">NBViewer</a>),\n",
       "  it may mean that your frontend doesn't currently support widgets.\n",
       "</p>\n"
      ],
      "text/plain": [
       "HBox(children=(IntProgress(value=0, max=7126911), HTML(value='')))"
      ]
     },
     "metadata": {},
     "output_type": "display_data"
    },
    {
     "name": "stdout",
     "output_type": "stream",
     "text": [
      "\n"
     ]
    }
   ],
   "source": [
    "if_outcome  = ~graph_trans_df[1, 'P_CLIENTID'].isnull()\n",
    "tqdm_max_ = if_outcome.sum()\n",
    "\n",
    "seconds_output = graph_trans_df['all', 'seconds_from_start'][if_outcome].values.astype(int)\n",
    "indices_output = graph_trans_df[1, 'P_CLIENTID'][if_outcome].values.astype(int)\n",
    "op_indices_output = graph_trans_df['all', 'ID'][if_outcome].values.astype(int)\n",
    "\n",
    "with Pool(processes=n_proc) as p:\n",
    "    ress_input_source = np.array(list(tqdm_notebook(p.imap_unordered(get_incoming_window_links_by_eknp_code, np.c_[seconds_output, indices_output, op_indices_output]), total=tqdm_max_)), dtype=int)\n",
    "ress_input_source = ress_input_source[ress_input_source[:, 0].argsort(kind='mergesort')]"
   ]
  },
  {
   "cell_type": "code",
   "execution_count": 21,
   "metadata": {},
   "outputs": [
    {
     "data": {
      "application/vnd.jupyter.widget-view+json": {
       "model_id": "bdf918477a7f43aabc281a47796958b0",
       "version_major": 2,
       "version_minor": 0
      },
      "text/html": [
       "<p>Failed to display Jupyter Widget of type <code>HBox</code>.</p>\n",
       "<p>\n",
       "  If you're reading this message in the Jupyter Notebook or JupyterLab Notebook, it may mean\n",
       "  that the widgets JavaScript is still loading. If this message persists, it\n",
       "  likely means that the widgets JavaScript library is either not installed or\n",
       "  not enabled. See the <a href=\"https://ipywidgets.readthedocs.io/en/stable/user_install.html\">Jupyter\n",
       "  Widgets Documentation</a> for setup instructions.\n",
       "</p>\n",
       "<p>\n",
       "  If you're reading this message in another frontend (for example, a static\n",
       "  rendering on GitHub or <a href=\"https://nbviewer.jupyter.org/\">NBViewer</a>),\n",
       "  it may mean that your frontend doesn't currently support widgets.\n",
       "</p>\n"
      ],
      "text/plain": [
       "HBox(children=(IntProgress(value=0, max=7126911), HTML(value='')))"
      ]
     },
     "metadata": {},
     "output_type": "display_data"
    },
    {
     "name": "stdout",
     "output_type": "stream",
     "text": [
      "\n"
     ]
    }
   ],
   "source": [
    "with Pool(processes=n_proc) as p:\n",
    "    ress_output_source = np.array(list(tqdm_notebook(p.imap_unordered(get_outcoming_window_links_by_eknp_code, np.c_[seconds_output, indices_output, op_indices_output]), total=tqdm_max_)), dtype=int)\n",
    "ress_output_source = ress_output_source[ress_output_source[:, 0].argsort(kind='mergesort')]"
   ]
  },
  {
   "cell_type": "code",
   "execution_count": 53,
   "metadata": {},
   "outputs": [],
   "source": [
    "ress_to_pickle = {\n",
    "    'ress_input_target': ress_input_target,\n",
    "    'ress_output_target': ress_output_target,\n",
    "    'ress_input_source': ress_input_source,\n",
    "    'ress_output_source': ress_output_source\n",
    "}"
   ]
  },
  {
   "cell_type": "code",
   "execution_count": null,
   "metadata": {},
   "outputs": [],
   "source": [
    "with open('ress_dict.pkl', 'wb') as handler:\n",
    "    pickle.dump(ress_to_pickle, handler, protocol=pickle.HIGHEST_PROTOCOL)"
   ]
  },
  {
   "cell_type": "code",
   "execution_count": 26,
   "metadata": {},
   "outputs": [
    {
     "name": "stdout",
     "output_type": "stream",
     "text": [
      "1\n"
     ]
    }
   ],
   "source": []
  },
  {
   "cell_type": "code",
   "execution_count": 27,
   "metadata": {},
   "outputs": [
    {
     "name": "stdout",
     "output_type": "stream",
     "text": [
      "1\n"
     ]
    }
   ],
   "source": [
    "print(1)"
   ]
  },
  {
   "cell_type": "code",
   "execution_count": null,
   "metadata": {},
   "outputs": [],
   "source": []
  },
  {
   "cell_type": "code",
   "execution_count": null,
   "metadata": {},
   "outputs": [],
   "source": []
  },
  {
   "cell_type": "code",
   "execution_count": null,
   "metadata": {},
   "outputs": [],
   "source": []
  },
  {
   "cell_type": "code",
   "execution_count": null,
   "metadata": {},
   "outputs": [],
   "source": []
  },
  {
   "cell_type": "code",
   "execution_count": null,
   "metadata": {},
   "outputs": [],
   "source": []
  },
  {
   "cell_type": "code",
   "execution_count": null,
   "metadata": {},
   "outputs": [],
   "source": []
  },
  {
   "cell_type": "code",
   "execution_count": null,
   "metadata": {},
   "outputs": [],
   "source": []
  },
  {
   "cell_type": "code",
   "execution_count": null,
   "metadata": {},
   "outputs": [],
   "source": []
  },
  {
   "cell_type": "code",
   "execution_count": 106,
   "metadata": {},
   "outputs": [],
   "source": [
    "kek = income_codes_csc[0:86400, 1]"
   ]
  },
  {
   "cell_type": "code",
   "execution_count": 108,
   "metadata": {},
   "outputs": [
    {
     "data": {
      "text/plain": [
       "(array([ 1,  2, 19]), array([26, 13,  3]))"
      ]
     },
     "execution_count": 108,
     "metadata": {},
     "output_type": "execute_result"
    }
   ],
   "source": [
    "np.unique(kek.data, return_counts=True)"
   ]
  },
  {
   "cell_type": "code",
   "execution_count": 112,
   "metadata": {},
   "outputs": [],
   "source": [
    "for i, j in zip(*np.unique(np.array([]), return_counts=True)):\n",
    "    print(i, j)"
   ]
  },
  {
   "cell_type": "code",
   "execution_count": null,
   "metadata": {},
   "outputs": [],
   "source": []
  },
  {
   "cell_type": "code",
   "execution_count": null,
   "metadata": {},
   "outputs": [],
   "source": []
  },
  {
   "cell_type": "code",
   "execution_count": null,
   "metadata": {},
   "outputs": [],
   "source": []
  },
  {
   "cell_type": "code",
   "execution_count": 95,
   "metadata": {},
   "outputs": [
    {
     "data": {
      "text/plain": [
       "<8216585x1 sparse matrix of type '<class 'numpy.float128'>'\n",
       "\twith 1319825 stored elements in Compressed Sparse Column format>"
      ]
     },
     "execution_count": 95,
     "metadata": {},
     "output_type": "execute_result"
    }
   ],
   "source": [
    "income_codes_csc[:, 1]"
   ]
  },
  {
   "cell_type": "code",
   "execution_count": null,
   "metadata": {},
   "outputs": [],
   "source": []
  },
  {
   "cell_type": "code",
   "execution_count": null,
   "metadata": {},
   "outputs": [],
   "source": []
  },
  {
   "cell_type": "code",
   "execution_count": null,
   "metadata": {},
   "outputs": [],
   "source": []
  },
  {
   "cell_type": "code",
   "execution_count": null,
   "metadata": {},
   "outputs": [],
   "source": []
  },
  {
   "cell_type": "code",
   "execution_count": null,
   "metadata": {},
   "outputs": [],
   "source": []
  },
  {
   "cell_type": "code",
   "execution_count": null,
   "metadata": {},
   "outputs": [],
   "source": []
  },
  {
   "cell_type": "code",
   "execution_count": null,
   "metadata": {},
   "outputs": [],
   "source": []
  },
  {
   "cell_type": "code",
   "execution_count": null,
   "metadata": {},
   "outputs": [],
   "source": []
  },
  {
   "cell_type": "code",
   "execution_count": null,
   "metadata": {},
   "outputs": [],
   "source": []
  },
  {
   "cell_type": "code",
   "execution_count": null,
   "metadata": {},
   "outputs": [],
   "source": []
  },
  {
   "cell_type": "code",
   "execution_count": null,
   "metadata": {},
   "outputs": [],
   "source": []
  },
  {
   "cell_type": "code",
   "execution_count": null,
   "metadata": {},
   "outputs": [],
   "source": []
  },
  {
   "cell_type": "code",
   "execution_count": null,
   "metadata": {},
   "outputs": [],
   "source": []
  },
  {
   "cell_type": "code",
   "execution_count": 11,
   "metadata": {},
   "outputs": [],
   "source": [
    "%reset_selective -f income_trans\n",
    "%reset_selective -f income_amount_matrix\n",
    "%reset_selective -f income_amount_csr\n",
    "%reset_selective -f income_amount_csc\n",
    "\n",
    "%reset_selective -f outcome_trans\n",
    "%reset_selective -f outcome_amount_matrix\n",
    "%reset_selective -f outcome_amount_csr\n",
    "%reset_selective -f outcome_amount_csc\n",
    "\n",
    "income_trans = graph_trans_df[~graph_trans_df.id_receiver.isnull()]\n",
    "\n",
    "income_amount_matrix = coo_matrix((income_trans.P_BASEAMOUNT,\n",
    "                            (sec_to_id_map_array[income_trans.seconds_from_start.values.astype(int)],\n",
    "                             income_trans.id_receiver.values.astype(int))),\n",
    "                           shape=(len(seconds_passed_counter), n_clients),\n",
    "                           dtype=np.float128)\n",
    "\n",
    "income_amount_csr, income_amount_csc = income_amount_matrix.tocsr(), income_amount_matrix.tocsc()\n",
    "\n",
    "outcome_trans = graph_trans_df[~graph_trans_df.id_sender.isnull()]\n",
    "\n",
    "outcome_amount_matrix = coo_matrix((outcome_trans.P_BASEAMOUNT,\n",
    "                            (sec_to_id_map_array[outcome_trans.seconds_from_start.values.astype(int)],\n",
    "                             outcome_trans.id_sender.values.astype(int))),\n",
    "                            shape=(len(seconds_passed_counter), n_clients),\n",
    "                            dtype=np.float128)\n",
    "\n",
    "outcome_amount_csr, outcome_amount_csc = outcome_amount_matrix.tocsr(), outcome_amount_matrix.tocsc()"
   ]
  },
  {
   "cell_type": "markdown",
   "metadata": {},
   "source": [
    "### Build Income and outcome matrices of shape [n_trans, n_clients], from which we can find time-aggregated graph properties"
   ]
  },
  {
   "cell_type": "code",
   "execution_count": 12,
   "metadata": {},
   "outputs": [],
   "source": [
    "%reset_selective -f income_trans\n",
    "%reset_selective -f income_indices_matrix\n",
    "%reset_selective -f income_indices_csr\n",
    "%reset_selective -f income_indices_csc\n",
    "\n",
    "%reset_selective -f outcome_trans\n",
    "%reset_selective -f outcome_indices_matrix\n",
    "%reset_selective -f outcome_indices_csr\n",
    "%reset_selective -f outcome_indices_csc\n",
    "\n",
    "income_trans = graph_trans_df[~graph_trans_df.id_receiver.isnull()]\n",
    "\n",
    "income_indices_matrix = coo_matrix((income_trans.id_sender.values.astype(int) + 1,\n",
    "                                    (income_trans.ID, income_trans.id_receiver.values.astype(int))),\n",
    "                                   shape=(len(graph_trans_df), n_clients),\n",
    "                                   dtype=np.float128)\n",
    "\n",
    "income_indices_csr, income_indices_csc = income_indices_matrix.tocsr(), income_indices_matrix.tocsc()\n",
    "\n",
    "outcome_trans = graph_trans_df[~graph_trans_df.id_sender.isnull()]\n",
    "\n",
    "outcome_indices_matrix = coo_matrix((outcome_trans.id_receiver.values.astype(int) + 1,\n",
    "                                    (outcome_trans.ID, outcome_trans.id_sender.values.astype(int))),\n",
    "                                   shape=(len(graph_trans_df), n_clients),\n",
    "                                   dtype=np.float128)\n",
    "\n",
    "outcome_indices_csr, outcome_indices_csc = outcome_indices_matrix.tocsr(), outcome_indices_matrix.tocsc()\n"
   ]
  },
  {
   "cell_type": "code",
   "execution_count": 13,
   "metadata": {},
   "outputs": [],
   "source": [
    "def get_incoming_window_links(second_clientid_opid, backward=86400*7):\n",
    "    global sec_to_op_index\n",
    "    global income_indices_csc\n",
    "    second, client_id, op_id = second_clientid_opid\n",
    "    sec_back = max(second - backward, 0)\n",
    "    i_from = sec_to_op_index[sec_back]\n",
    "    #i_to = sec_to_op_index[second]\n",
    "    i_to = op_id\n",
    "    if i_from > i_to:\n",
    "        return op_id, 0\n",
    "    sliced = income_indices_csc[i_from:i_to, client_id]\n",
    "    return op_id, len(np.unique(sliced.data))\n",
    "\n",
    "def get_outcoming_window_links(second_clientid_opid, backward=86400*7):\n",
    "    global sec_to_op_index\n",
    "    global outcome_indices_csc\n",
    "    second, client_id, op_id = second_clientid_opid\n",
    "    sec_back = max(second - backward, 0)\n",
    "    i_from = sec_to_op_index[sec_back]\n",
    "    #i_to = sec_to_op_index[second]\n",
    "    i_to = op_id\n",
    "    if i_from > i_to:\n",
    "        return op_id, 0\n",
    "    sliced = outcome_indices_csc[i_from:i_to, client_id]\n",
    "    return op_id, len(np.unique(sliced.data))"
   ]
  },
  {
   "cell_type": "code",
   "execution_count": 14,
   "metadata": {},
   "outputs": [],
   "source": [
    "from multiprocessing import Pool\n",
    "#raw_id_source_role\n",
    "#raw_id_target_role"
   ]
  },
  {
   "cell_type": "code",
   "execution_count": 18,
   "metadata": {},
   "outputs": [
    {
     "data": {
      "application/vnd.jupyter.widget-view+json": {
       "model_id": "ac5569f48d81474896ecc775d9a8b382",
       "version_major": 2,
       "version_minor": 0
      },
      "text/html": [
       "<p>Failed to display Jupyter Widget of type <code>HBox</code>.</p>\n",
       "<p>\n",
       "  If you're reading this message in the Jupyter Notebook or JupyterLab Notebook, it may mean\n",
       "  that the widgets JavaScript is still loading. If this message persists, it\n",
       "  likely means that the widgets JavaScript library is either not installed or\n",
       "  not enabled. See the <a href=\"https://ipywidgets.readthedocs.io/en/stable/user_install.html\">Jupyter\n",
       "  Widgets Documentation</a> for setup instructions.\n",
       "</p>\n",
       "<p>\n",
       "  If you're reading this message in another frontend (for example, a static\n",
       "  rendering on GitHub or <a href=\"https://nbviewer.jupyter.org/\">NBViewer</a>),\n",
       "  it may mean that your frontend doesn't currently support widgets.\n",
       "</p>\n"
      ],
      "text/plain": [
       "HBox(children=(IntProgress(value=0, max=4364967), HTML(value='')))"
      ]
     },
     "metadata": {},
     "output_type": "display_data"
    },
    {
     "name": "stdout",
     "output_type": "stream",
     "text": [
      "\n"
     ]
    }
   ],
   "source": [
    "if_income  = ~graph_trans_df.id_receiver.isnull()\n",
    "tqdm_max_ = if_income.sum()\n",
    "\n",
    "seconds_input = graph_trans_df.seconds_from_start[if_income].values.astype(int)\n",
    "indices_input = graph_trans_df.id_receiver[if_income].values.astype(int)\n",
    "op_indices_input = graph_trans_df[if_income].ID.values.astype(int)\n",
    "\n",
    "with Pool(processes=24) as p:\n",
    "    ress_input_target = np.array(list(tqdm_notebook(p.imap_unordered(get_incoming_window_links, np.c_[seconds_input, indices_input, op_indices_input]), total=tqdm_max_)), dtype=int)\n",
    "ress_input_target = ress_input_target[ress_input_target[:, 0].argsort(kind='mergesort')]"
   ]
  },
  {
   "cell_type": "code",
   "execution_count": 19,
   "metadata": {},
   "outputs": [
    {
     "data": {
      "application/vnd.jupyter.widget-view+json": {
       "model_id": "b0e6ee6cc20a4a47b06b93fa539e5ae5",
       "version_major": 2,
       "version_minor": 0
      },
      "text/html": [
       "<p>Failed to display Jupyter Widget of type <code>HBox</code>.</p>\n",
       "<p>\n",
       "  If you're reading this message in the Jupyter Notebook or JupyterLab Notebook, it may mean\n",
       "  that the widgets JavaScript is still loading. If this message persists, it\n",
       "  likely means that the widgets JavaScript library is either not installed or\n",
       "  not enabled. See the <a href=\"https://ipywidgets.readthedocs.io/en/stable/user_install.html\">Jupyter\n",
       "  Widgets Documentation</a> for setup instructions.\n",
       "</p>\n",
       "<p>\n",
       "  If you're reading this message in another frontend (for example, a static\n",
       "  rendering on GitHub or <a href=\"https://nbviewer.jupyter.org/\">NBViewer</a>),\n",
       "  it may mean that your frontend doesn't currently support widgets.\n",
       "</p>\n"
      ],
      "text/plain": [
       "HBox(children=(IntProgress(value=0, max=4364967), HTML(value='')))"
      ]
     },
     "metadata": {},
     "output_type": "display_data"
    },
    {
     "name": "stdout",
     "output_type": "stream",
     "text": [
      "\n"
     ]
    }
   ],
   "source": [
    "%reset_selective -f ress_output_target\n",
    "\n",
    "with Pool(processes=24) as p:\n",
    "    ress_output_target = np.array(list(tqdm_notebook(p.imap_unordered(get_outcoming_window_links, np.c_[seconds_input, indices_input, op_indices_input]), total=tqdm_max_)), dtype=int)\n",
    "ress_output_target = ress_output_target[ress_output_target[:, 0].argsort(kind='mergesort')]"
   ]
  },
  {
   "cell_type": "code",
   "execution_count": 20,
   "metadata": {},
   "outputs": [
    {
     "name": "stderr",
     "output_type": "stream",
     "text": [
      "100%|██████████| 7126911/7126911 [16:51<00:00, 7046.74it/s]\n"
     ]
    }
   ],
   "source": [
    "%reset_selective -f if_outcome\n",
    "%reset_selective -f seconds_output\n",
    "%reset_selective -f indices_output\n",
    "%reset_selective -f op_indices_output\n",
    "%reset_selective -f ress_input_sender\n",
    "\n",
    "if_outcome  = ~graph_trans_df.id_sender.isnull()\n",
    "tqdm_max_ = if_outcome.sum()\n",
    "\n",
    "seconds_output = graph_trans_df.seconds_from_start[if_outcome].values.astype(int)\n",
    "indices_output = graph_trans_df.id_sender[if_outcome].values.astype(int)\n",
    "op_indices_output = graph_trans_df[if_outcome].ID.values.astype(int)\n",
    "\n",
    "with Pool(processes=24) as p:\n",
    "    ress_input_source = np.array(list(tqdm_notebook(p.imap_unordered(get_incoming_window_links, np.c_[seconds_output, indices_output, op_indices_output]), total=tqdm_max_)), dtype=int)\n",
    "ress_input_source = ress_input_source[ress_input_source[:, 0].argsort(kind='mergesort')]"
   ]
  },
  {
   "cell_type": "code",
   "execution_count": 21,
   "metadata": {},
   "outputs": [
    {
     "name": "stderr",
     "output_type": "stream",
     "text": [
      "100%|██████████| 7126911/7126911 [09:56<00:00, 11947.02it/s]\n"
     ]
    }
   ],
   "source": [
    "with Pool(processes=24) as p:\n",
    "    ress_output_source = np.array(list(tqdm_notebook(p.imap_unordered(get_outcoming_window_links, np.c_[seconds_output, indices_output, op_indices_output]), total=tqdm_max_)), dtype=int)\n",
    "ress_output_source = ress_output_source[ress_output_source[:, 0].argsort(kind='mergesort')]"
   ]
  },
  {
   "cell_type": "code",
   "execution_count": 22,
   "metadata": {},
   "outputs": [],
   "source": [
    "links_week_info = pd.DataFrame.from_dict({\n",
    "    'ID': graph_trans_df.ID,\n",
    "    'links_input_receiver': np.zeros(len(graph_trans_df)),\n",
    "    'links_output_receiver': np.zeros(len(graph_trans_df)),\n",
    "    'links_input_sender': np.zeros(len(graph_trans_df)),\n",
    "    'links_output_sender': np.zeros(len(graph_trans_df))\n",
    "})"
   ]
  },
  {
   "cell_type": "code",
   "execution_count": 25,
   "metadata": {},
   "outputs": [],
   "source": [
    "links_week_info.loc[ress_input_target[:, 0], 'links_input_receiver'] = ress_input_target[:, 1]\n",
    "links_week_info.loc[ress_output_target[:, 0], 'links_output_receiver'] = ress_output_target[:, 1]\n",
    "links_week_info.loc[ress_input_source[:, 0], 'links_input_sender'] = ress_input_source[:, 1]\n",
    "links_week_info.loc[ress_output_source[:, 0], 'links_output_sender'] = ress_output_source[:, 1]"
   ]
  },
  {
   "cell_type": "code",
   "execution_count": 30,
   "metadata": {},
   "outputs": [],
   "source": [
    "#links_week_info.to_csv('links_week_info.csv', index=False)"
   ]
  },
  {
   "cell_type": "code",
   "execution_count": 31,
   "metadata": {},
   "outputs": [
    {
     "data": {
      "text/plain": [
       "Index(['ID', 'P_BASEAMOUNT', 'id_sender', 'id_receiver', 'id_benef',\n",
       "       'P_EKNPCODE', 'P_OPERATIONDATETIME', 'seconds_from_start', 'target'],\n",
       "      dtype='object')"
      ]
     },
     "execution_count": 31,
     "metadata": {},
     "output_type": "execute_result"
    }
   ],
   "source": [
    "graph_trans_df.columns"
   ]
  },
  {
   "cell_type": "code",
   "execution_count": 36,
   "metadata": {},
   "outputs": [
    {
     "data": {
      "text/plain": [
       "0.29086840822555843"
      ]
     },
     "execution_count": 36,
     "metadata": {},
     "output_type": "execute_result"
    }
   ],
   "source": [
    "(links_week_info.links_output_sender == 0).mean()"
   ]
  },
  {
   "cell_type": "code",
   "execution_count": 40,
   "metadata": {},
   "outputs": [],
   "source": [
    "kek = coo_matrix((np.array([]), (np.array([]), np.array([]))), shape=(100, 100))"
   ]
  },
  {
   "cell_type": "code",
   "execution_count": 41,
   "metadata": {},
   "outputs": [
    {
     "data": {
      "text/plain": [
       "<100x100 sparse matrix of type '<class 'numpy.float64'>'\n",
       "\twith 0 stored elements in COOrdinate format>"
      ]
     },
     "execution_count": 41,
     "metadata": {},
     "output_type": "execute_result"
    }
   ],
   "source": [
    "kek"
   ]
  },
  {
   "cell_type": "code",
   "execution_count": 42,
   "metadata": {},
   "outputs": [
    {
     "data": {
      "text/html": [
       "<div>\n",
       "<style scoped>\n",
       "    .dataframe tbody tr th:only-of-type {\n",
       "        vertical-align: middle;\n",
       "    }\n",
       "\n",
       "    .dataframe tbody tr th {\n",
       "        vertical-align: top;\n",
       "    }\n",
       "\n",
       "    .dataframe thead th {\n",
       "        text-align: right;\n",
       "    }\n",
       "</style>\n",
       "<table border=\"1\" class=\"dataframe\">\n",
       "  <thead>\n",
       "    <tr style=\"text-align: right;\">\n",
       "      <th></th>\n",
       "      <th>ID</th>\n",
       "      <th>P_BASEAMOUNT</th>\n",
       "      <th>id_sender</th>\n",
       "      <th>id_receiver</th>\n",
       "      <th>id_benef</th>\n",
       "      <th>P_EKNPCODE</th>\n",
       "      <th>P_OPERATIONDATETIME</th>\n",
       "      <th>seconds_from_start</th>\n",
       "      <th>target</th>\n",
       "    </tr>\n",
       "  </thead>\n",
       "  <tbody>\n",
       "    <tr>\n",
       "      <th>0</th>\n",
       "      <td>0</td>\n",
       "      <td>151075.01</td>\n",
       "      <td>0.0</td>\n",
       "      <td>1.0</td>\n",
       "      <td>NaN</td>\n",
       "      <td>423</td>\n",
       "      <td>2017-01-01 00:00:00</td>\n",
       "      <td>0.0</td>\n",
       "      <td>0</td>\n",
       "    </tr>\n",
       "    <tr>\n",
       "      <th>1</th>\n",
       "      <td>1</td>\n",
       "      <td>136206.83</td>\n",
       "      <td>2.0</td>\n",
       "      <td>1.0</td>\n",
       "      <td>NaN</td>\n",
       "      <td>423</td>\n",
       "      <td>2017-01-01 00:00:00</td>\n",
       "      <td>0.0</td>\n",
       "      <td>0</td>\n",
       "    </tr>\n",
       "    <tr>\n",
       "      <th>2</th>\n",
       "      <td>2</td>\n",
       "      <td>59613.06</td>\n",
       "      <td>3.0</td>\n",
       "      <td>1.0</td>\n",
       "      <td>NaN</td>\n",
       "      <td>421</td>\n",
       "      <td>2017-01-01 00:00:00</td>\n",
       "      <td>0.0</td>\n",
       "      <td>0</td>\n",
       "    </tr>\n",
       "    <tr>\n",
       "      <th>3</th>\n",
       "      <td>3</td>\n",
       "      <td>29838.62</td>\n",
       "      <td>4.0</td>\n",
       "      <td>1.0</td>\n",
       "      <td>NaN</td>\n",
       "      <td>423</td>\n",
       "      <td>2017-01-01 00:00:00</td>\n",
       "      <td>0.0</td>\n",
       "      <td>0</td>\n",
       "    </tr>\n",
       "    <tr>\n",
       "      <th>4</th>\n",
       "      <td>4</td>\n",
       "      <td>32000.00</td>\n",
       "      <td>NaN</td>\n",
       "      <td>5.0</td>\n",
       "      <td>NaN</td>\n",
       "      <td>-1000</td>\n",
       "      <td>2017-01-01 02:10:00</td>\n",
       "      <td>7800.0</td>\n",
       "      <td>-1</td>\n",
       "    </tr>\n",
       "    <tr>\n",
       "      <th>5</th>\n",
       "      <td>5</td>\n",
       "      <td>100000.00</td>\n",
       "      <td>NaN</td>\n",
       "      <td>6.0</td>\n",
       "      <td>NaN</td>\n",
       "      <td>-1000</td>\n",
       "      <td>2017-01-01 10:58:00</td>\n",
       "      <td>39480.0</td>\n",
       "      <td>-1</td>\n",
       "    </tr>\n",
       "    <tr>\n",
       "      <th>6</th>\n",
       "      <td>6</td>\n",
       "      <td>100000.00</td>\n",
       "      <td>NaN</td>\n",
       "      <td>7.0</td>\n",
       "      <td>NaN</td>\n",
       "      <td>-1000</td>\n",
       "      <td>2017-01-01 11:05:00</td>\n",
       "      <td>39900.0</td>\n",
       "      <td>-1</td>\n",
       "    </tr>\n",
       "    <tr>\n",
       "      <th>7</th>\n",
       "      <td>7</td>\n",
       "      <td>200000.00</td>\n",
       "      <td>NaN</td>\n",
       "      <td>8.0</td>\n",
       "      <td>NaN</td>\n",
       "      <td>-1000</td>\n",
       "      <td>2017-01-01 11:56:00</td>\n",
       "      <td>42960.0</td>\n",
       "      <td>-1</td>\n",
       "    </tr>\n",
       "    <tr>\n",
       "      <th>8</th>\n",
       "      <td>8</td>\n",
       "      <td>60000.00</td>\n",
       "      <td>NaN</td>\n",
       "      <td>8.0</td>\n",
       "      <td>NaN</td>\n",
       "      <td>-1000</td>\n",
       "      <td>2017-01-01 11:58:00</td>\n",
       "      <td>43080.0</td>\n",
       "      <td>-1</td>\n",
       "    </tr>\n",
       "    <tr>\n",
       "      <th>9</th>\n",
       "      <td>9</td>\n",
       "      <td>10000.00</td>\n",
       "      <td>NaN</td>\n",
       "      <td>8.0</td>\n",
       "      <td>NaN</td>\n",
       "      <td>-1000</td>\n",
       "      <td>2017-01-01 12:02:00</td>\n",
       "      <td>43320.0</td>\n",
       "      <td>-1</td>\n",
       "    </tr>\n",
       "    <tr>\n",
       "      <th>10</th>\n",
       "      <td>10</td>\n",
       "      <td>40000.00</td>\n",
       "      <td>NaN</td>\n",
       "      <td>9.0</td>\n",
       "      <td>NaN</td>\n",
       "      <td>-1000</td>\n",
       "      <td>2017-01-01 12:05:00</td>\n",
       "      <td>43500.0</td>\n",
       "      <td>-1</td>\n",
       "    </tr>\n",
       "    <tr>\n",
       "      <th>11</th>\n",
       "      <td>11</td>\n",
       "      <td>130000.00</td>\n",
       "      <td>NaN</td>\n",
       "      <td>10.0</td>\n",
       "      <td>NaN</td>\n",
       "      <td>-1000</td>\n",
       "      <td>2017-01-01 12:21:00</td>\n",
       "      <td>44460.0</td>\n",
       "      <td>-1</td>\n",
       "    </tr>\n",
       "    <tr>\n",
       "      <th>12</th>\n",
       "      <td>12</td>\n",
       "      <td>100000.00</td>\n",
       "      <td>NaN</td>\n",
       "      <td>11.0</td>\n",
       "      <td>NaN</td>\n",
       "      <td>-1000</td>\n",
       "      <td>2017-01-01 12:53:00</td>\n",
       "      <td>46380.0</td>\n",
       "      <td>-1</td>\n",
       "    </tr>\n",
       "    <tr>\n",
       "      <th>13</th>\n",
       "      <td>13</td>\n",
       "      <td>400.00</td>\n",
       "      <td>12.0</td>\n",
       "      <td>NaN</td>\n",
       "      <td>NaN</td>\n",
       "      <td>322</td>\n",
       "      <td>2017-01-01 13:09:00</td>\n",
       "      <td>47340.0</td>\n",
       "      <td>-1</td>\n",
       "    </tr>\n",
       "    <tr>\n",
       "      <th>14</th>\n",
       "      <td>14</td>\n",
       "      <td>600.00</td>\n",
       "      <td>13.0</td>\n",
       "      <td>NaN</td>\n",
       "      <td>NaN</td>\n",
       "      <td>324</td>\n",
       "      <td>2017-01-01 13:09:00</td>\n",
       "      <td>47340.0</td>\n",
       "      <td>-1</td>\n",
       "    </tr>\n",
       "    <tr>\n",
       "      <th>15</th>\n",
       "      <td>15</td>\n",
       "      <td>400.00</td>\n",
       "      <td>12.0</td>\n",
       "      <td>NaN</td>\n",
       "      <td>NaN</td>\n",
       "      <td>322</td>\n",
       "      <td>2017-01-01 13:09:00</td>\n",
       "      <td>47340.0</td>\n",
       "      <td>-1</td>\n",
       "    </tr>\n",
       "    <tr>\n",
       "      <th>16</th>\n",
       "      <td>16</td>\n",
       "      <td>600.00</td>\n",
       "      <td>13.0</td>\n",
       "      <td>NaN</td>\n",
       "      <td>NaN</td>\n",
       "      <td>324</td>\n",
       "      <td>2017-01-01 13:09:00</td>\n",
       "      <td>47340.0</td>\n",
       "      <td>-1</td>\n",
       "    </tr>\n",
       "    <tr>\n",
       "      <th>17</th>\n",
       "      <td>17</td>\n",
       "      <td>5010.00</td>\n",
       "      <td>14.0</td>\n",
       "      <td>NaN</td>\n",
       "      <td>NaN</td>\n",
       "      <td>324</td>\n",
       "      <td>2017-01-01 13:09:00</td>\n",
       "      <td>47340.0</td>\n",
       "      <td>-1</td>\n",
       "    </tr>\n",
       "    <tr>\n",
       "      <th>18</th>\n",
       "      <td>18</td>\n",
       "      <td>100.00</td>\n",
       "      <td>14.0</td>\n",
       "      <td>NaN</td>\n",
       "      <td>NaN</td>\n",
       "      <td>324</td>\n",
       "      <td>2017-01-01 13:09:00</td>\n",
       "      <td>47340.0</td>\n",
       "      <td>-1</td>\n",
       "    </tr>\n",
       "    <tr>\n",
       "      <th>19</th>\n",
       "      <td>19</td>\n",
       "      <td>500.00</td>\n",
       "      <td>15.0</td>\n",
       "      <td>NaN</td>\n",
       "      <td>NaN</td>\n",
       "      <td>324</td>\n",
       "      <td>2017-01-01 13:14:00</td>\n",
       "      <td>47640.0</td>\n",
       "      <td>-1</td>\n",
       "    </tr>\n",
       "    <tr>\n",
       "      <th>20</th>\n",
       "      <td>20</td>\n",
       "      <td>8.27</td>\n",
       "      <td>NaN</td>\n",
       "      <td>16.0</td>\n",
       "      <td>NaN</td>\n",
       "      <td>314</td>\n",
       "      <td>2017-01-01 13:14:00</td>\n",
       "      <td>47640.0</td>\n",
       "      <td>-1</td>\n",
       "    </tr>\n",
       "    <tr>\n",
       "      <th>21</th>\n",
       "      <td>21</td>\n",
       "      <td>60000.00</td>\n",
       "      <td>17.0</td>\n",
       "      <td>NaN</td>\n",
       "      <td>NaN</td>\n",
       "      <td>324</td>\n",
       "      <td>2017-01-01 13:14:00</td>\n",
       "      <td>47640.0</td>\n",
       "      <td>-1</td>\n",
       "    </tr>\n",
       "    <tr>\n",
       "      <th>22</th>\n",
       "      <td>22</td>\n",
       "      <td>60000.00</td>\n",
       "      <td>17.0</td>\n",
       "      <td>NaN</td>\n",
       "      <td>NaN</td>\n",
       "      <td>324</td>\n",
       "      <td>2017-01-01 13:14:00</td>\n",
       "      <td>47640.0</td>\n",
       "      <td>-1</td>\n",
       "    </tr>\n",
       "    <tr>\n",
       "      <th>23</th>\n",
       "      <td>23</td>\n",
       "      <td>10000.00</td>\n",
       "      <td>18.0</td>\n",
       "      <td>NaN</td>\n",
       "      <td>NaN</td>\n",
       "      <td>324</td>\n",
       "      <td>2017-01-01 13:14:00</td>\n",
       "      <td>47640.0</td>\n",
       "      <td>-1</td>\n",
       "    </tr>\n",
       "    <tr>\n",
       "      <th>24</th>\n",
       "      <td>24</td>\n",
       "      <td>30000.00</td>\n",
       "      <td>NaN</td>\n",
       "      <td>19.0</td>\n",
       "      <td>NaN</td>\n",
       "      <td>314</td>\n",
       "      <td>2017-01-01 13:14:00</td>\n",
       "      <td>47640.0</td>\n",
       "      <td>-1</td>\n",
       "    </tr>\n",
       "    <tr>\n",
       "      <th>25</th>\n",
       "      <td>25</td>\n",
       "      <td>2000.00</td>\n",
       "      <td>20.0</td>\n",
       "      <td>NaN</td>\n",
       "      <td>NaN</td>\n",
       "      <td>324</td>\n",
       "      <td>2017-01-01 13:15:00</td>\n",
       "      <td>47700.0</td>\n",
       "      <td>-1</td>\n",
       "    </tr>\n",
       "    <tr>\n",
       "      <th>26</th>\n",
       "      <td>26</td>\n",
       "      <td>4000.00</td>\n",
       "      <td>21.0</td>\n",
       "      <td>NaN</td>\n",
       "      <td>NaN</td>\n",
       "      <td>324</td>\n",
       "      <td>2017-01-01 13:15:00</td>\n",
       "      <td>47700.0</td>\n",
       "      <td>-1</td>\n",
       "    </tr>\n",
       "    <tr>\n",
       "      <th>27</th>\n",
       "      <td>27</td>\n",
       "      <td>15000.00</td>\n",
       "      <td>22.0</td>\n",
       "      <td>NaN</td>\n",
       "      <td>NaN</td>\n",
       "      <td>322</td>\n",
       "      <td>2017-01-01 13:15:00</td>\n",
       "      <td>47700.0</td>\n",
       "      <td>-1</td>\n",
       "    </tr>\n",
       "    <tr>\n",
       "      <th>28</th>\n",
       "      <td>28</td>\n",
       "      <td>4000.00</td>\n",
       "      <td>NaN</td>\n",
       "      <td>23.0</td>\n",
       "      <td>NaN</td>\n",
       "      <td>314</td>\n",
       "      <td>2017-01-01 13:15:00</td>\n",
       "      <td>47700.0</td>\n",
       "      <td>-1</td>\n",
       "    </tr>\n",
       "    <tr>\n",
       "      <th>29</th>\n",
       "      <td>29</td>\n",
       "      <td>1100.00</td>\n",
       "      <td>24.0</td>\n",
       "      <td>NaN</td>\n",
       "      <td>NaN</td>\n",
       "      <td>322</td>\n",
       "      <td>2017-01-01 13:15:00</td>\n",
       "      <td>47700.0</td>\n",
       "      <td>-1</td>\n",
       "    </tr>\n",
       "    <tr>\n",
       "      <th>...</th>\n",
       "      <td>...</td>\n",
       "      <td>...</td>\n",
       "      <td>...</td>\n",
       "      <td>...</td>\n",
       "      <td>...</td>\n",
       "      <td>...</td>\n",
       "      <td>...</td>\n",
       "      <td>...</td>\n",
       "      <td>...</td>\n",
       "    </tr>\n",
       "    <tr>\n",
       "      <th>8216555</th>\n",
       "      <td>8216555</td>\n",
       "      <td>198729.26</td>\n",
       "      <td>263272.0</td>\n",
       "      <td>1.0</td>\n",
       "      <td>NaN</td>\n",
       "      <td>421</td>\n",
       "      <td>2017-04-01 00:00:00</td>\n",
       "      <td>7776000.0</td>\n",
       "      <td>0</td>\n",
       "    </tr>\n",
       "    <tr>\n",
       "      <th>8216556</th>\n",
       "      <td>8216556</td>\n",
       "      <td>10919.20</td>\n",
       "      <td>1016805.0</td>\n",
       "      <td>1.0</td>\n",
       "      <td>NaN</td>\n",
       "      <td>421</td>\n",
       "      <td>2017-04-01 00:00:00</td>\n",
       "      <td>7776000.0</td>\n",
       "      <td>0</td>\n",
       "    </tr>\n",
       "    <tr>\n",
       "      <th>8216557</th>\n",
       "      <td>8216557</td>\n",
       "      <td>87889.74</td>\n",
       "      <td>993399.0</td>\n",
       "      <td>1.0</td>\n",
       "      <td>NaN</td>\n",
       "      <td>423</td>\n",
       "      <td>2017-04-01 00:00:00</td>\n",
       "      <td>7776000.0</td>\n",
       "      <td>0</td>\n",
       "    </tr>\n",
       "    <tr>\n",
       "      <th>8216558</th>\n",
       "      <td>8216558</td>\n",
       "      <td>9381.07</td>\n",
       "      <td>1016806.0</td>\n",
       "      <td>1.0</td>\n",
       "      <td>NaN</td>\n",
       "      <td>421</td>\n",
       "      <td>2017-04-01 00:00:00</td>\n",
       "      <td>7776000.0</td>\n",
       "      <td>0</td>\n",
       "    </tr>\n",
       "    <tr>\n",
       "      <th>8216559</th>\n",
       "      <td>8216559</td>\n",
       "      <td>173495.80</td>\n",
       "      <td>1004027.0</td>\n",
       "      <td>1.0</td>\n",
       "      <td>NaN</td>\n",
       "      <td>423</td>\n",
       "      <td>2017-04-01 00:00:00</td>\n",
       "      <td>7776000.0</td>\n",
       "      <td>0</td>\n",
       "    </tr>\n",
       "    <tr>\n",
       "      <th>8216560</th>\n",
       "      <td>8216560</td>\n",
       "      <td>71579.86</td>\n",
       "      <td>1003143.0</td>\n",
       "      <td>1.0</td>\n",
       "      <td>NaN</td>\n",
       "      <td>421</td>\n",
       "      <td>2017-04-01 00:00:00</td>\n",
       "      <td>7776000.0</td>\n",
       "      <td>0</td>\n",
       "    </tr>\n",
       "    <tr>\n",
       "      <th>8216561</th>\n",
       "      <td>8216561</td>\n",
       "      <td>314694.37</td>\n",
       "      <td>1016807.0</td>\n",
       "      <td>1.0</td>\n",
       "      <td>NaN</td>\n",
       "      <td>423</td>\n",
       "      <td>2017-04-01 00:00:00</td>\n",
       "      <td>7776000.0</td>\n",
       "      <td>0</td>\n",
       "    </tr>\n",
       "    <tr>\n",
       "      <th>8216562</th>\n",
       "      <td>8216562</td>\n",
       "      <td>47873.54</td>\n",
       "      <td>1016808.0</td>\n",
       "      <td>1.0</td>\n",
       "      <td>NaN</td>\n",
       "      <td>421</td>\n",
       "      <td>2017-04-01 00:00:00</td>\n",
       "      <td>7776000.0</td>\n",
       "      <td>0</td>\n",
       "    </tr>\n",
       "    <tr>\n",
       "      <th>8216563</th>\n",
       "      <td>8216563</td>\n",
       "      <td>247270.68</td>\n",
       "      <td>1016809.0</td>\n",
       "      <td>1.0</td>\n",
       "      <td>NaN</td>\n",
       "      <td>423</td>\n",
       "      <td>2017-04-01 00:00:00</td>\n",
       "      <td>7776000.0</td>\n",
       "      <td>0</td>\n",
       "    </tr>\n",
       "    <tr>\n",
       "      <th>8216564</th>\n",
       "      <td>8216564</td>\n",
       "      <td>188067.41</td>\n",
       "      <td>1016810.0</td>\n",
       "      <td>1.0</td>\n",
       "      <td>NaN</td>\n",
       "      <td>423</td>\n",
       "      <td>2017-04-01 00:00:00</td>\n",
       "      <td>7776000.0</td>\n",
       "      <td>0</td>\n",
       "    </tr>\n",
       "    <tr>\n",
       "      <th>8216565</th>\n",
       "      <td>8216565</td>\n",
       "      <td>122839.77</td>\n",
       "      <td>1016811.0</td>\n",
       "      <td>1.0</td>\n",
       "      <td>NaN</td>\n",
       "      <td>423</td>\n",
       "      <td>2017-04-01 00:00:00</td>\n",
       "      <td>7776000.0</td>\n",
       "      <td>0</td>\n",
       "    </tr>\n",
       "    <tr>\n",
       "      <th>8216566</th>\n",
       "      <td>8216566</td>\n",
       "      <td>14664.42</td>\n",
       "      <td>1016812.0</td>\n",
       "      <td>1.0</td>\n",
       "      <td>NaN</td>\n",
       "      <td>421</td>\n",
       "      <td>2017-04-01 00:00:00</td>\n",
       "      <td>7776000.0</td>\n",
       "      <td>0</td>\n",
       "    </tr>\n",
       "    <tr>\n",
       "      <th>8216567</th>\n",
       "      <td>8216567</td>\n",
       "      <td>16551.39</td>\n",
       "      <td>1016813.0</td>\n",
       "      <td>1.0</td>\n",
       "      <td>NaN</td>\n",
       "      <td>421</td>\n",
       "      <td>2017-04-01 00:00:00</td>\n",
       "      <td>7776000.0</td>\n",
       "      <td>0</td>\n",
       "    </tr>\n",
       "    <tr>\n",
       "      <th>8216568</th>\n",
       "      <td>8216568</td>\n",
       "      <td>38263.36</td>\n",
       "      <td>13640.0</td>\n",
       "      <td>1.0</td>\n",
       "      <td>NaN</td>\n",
       "      <td>423</td>\n",
       "      <td>2017-04-01 00:00:00</td>\n",
       "      <td>7776000.0</td>\n",
       "      <td>0</td>\n",
       "    </tr>\n",
       "    <tr>\n",
       "      <th>8216569</th>\n",
       "      <td>8216569</td>\n",
       "      <td>31875.06</td>\n",
       "      <td>1016814.0</td>\n",
       "      <td>1.0</td>\n",
       "      <td>NaN</td>\n",
       "      <td>421</td>\n",
       "      <td>2017-04-01 00:00:00</td>\n",
       "      <td>7776000.0</td>\n",
       "      <td>0</td>\n",
       "    </tr>\n",
       "    <tr>\n",
       "      <th>8216570</th>\n",
       "      <td>8216570</td>\n",
       "      <td>324923.32</td>\n",
       "      <td>1016815.0</td>\n",
       "      <td>1.0</td>\n",
       "      <td>NaN</td>\n",
       "      <td>423</td>\n",
       "      <td>2017-04-01 00:00:00</td>\n",
       "      <td>7776000.0</td>\n",
       "      <td>0</td>\n",
       "    </tr>\n",
       "    <tr>\n",
       "      <th>8216571</th>\n",
       "      <td>8216571</td>\n",
       "      <td>80414.56</td>\n",
       "      <td>1016816.0</td>\n",
       "      <td>1.0</td>\n",
       "      <td>NaN</td>\n",
       "      <td>423</td>\n",
       "      <td>2017-04-01 00:00:00</td>\n",
       "      <td>7776000.0</td>\n",
       "      <td>0</td>\n",
       "    </tr>\n",
       "    <tr>\n",
       "      <th>8216572</th>\n",
       "      <td>8216572</td>\n",
       "      <td>50216.32</td>\n",
       "      <td>1016817.0</td>\n",
       "      <td>1.0</td>\n",
       "      <td>NaN</td>\n",
       "      <td>423</td>\n",
       "      <td>2017-04-01 00:00:00</td>\n",
       "      <td>7776000.0</td>\n",
       "      <td>0</td>\n",
       "    </tr>\n",
       "    <tr>\n",
       "      <th>8216573</th>\n",
       "      <td>8216573</td>\n",
       "      <td>37531.09</td>\n",
       "      <td>1016818.0</td>\n",
       "      <td>1.0</td>\n",
       "      <td>NaN</td>\n",
       "      <td>421</td>\n",
       "      <td>2017-04-01 00:00:00</td>\n",
       "      <td>7776000.0</td>\n",
       "      <td>0</td>\n",
       "    </tr>\n",
       "    <tr>\n",
       "      <th>8216574</th>\n",
       "      <td>8216574</td>\n",
       "      <td>131271.83</td>\n",
       "      <td>1016819.0</td>\n",
       "      <td>1.0</td>\n",
       "      <td>NaN</td>\n",
       "      <td>421</td>\n",
       "      <td>2017-04-01 00:00:00</td>\n",
       "      <td>7776000.0</td>\n",
       "      <td>0</td>\n",
       "    </tr>\n",
       "    <tr>\n",
       "      <th>8216575</th>\n",
       "      <td>8216575</td>\n",
       "      <td>56351.84</td>\n",
       "      <td>1016820.0</td>\n",
       "      <td>1.0</td>\n",
       "      <td>NaN</td>\n",
       "      <td>423</td>\n",
       "      <td>2017-04-01 00:00:00</td>\n",
       "      <td>7776000.0</td>\n",
       "      <td>0</td>\n",
       "    </tr>\n",
       "    <tr>\n",
       "      <th>8216576</th>\n",
       "      <td>8216576</td>\n",
       "      <td>406618.74</td>\n",
       "      <td>1016821.0</td>\n",
       "      <td>1.0</td>\n",
       "      <td>NaN</td>\n",
       "      <td>423</td>\n",
       "      <td>2017-04-01 00:00:00</td>\n",
       "      <td>7776000.0</td>\n",
       "      <td>0</td>\n",
       "    </tr>\n",
       "    <tr>\n",
       "      <th>8216577</th>\n",
       "      <td>8216577</td>\n",
       "      <td>291721.93</td>\n",
       "      <td>1003961.0</td>\n",
       "      <td>1.0</td>\n",
       "      <td>NaN</td>\n",
       "      <td>423</td>\n",
       "      <td>2017-04-01 00:00:00</td>\n",
       "      <td>7776000.0</td>\n",
       "      <td>0</td>\n",
       "    </tr>\n",
       "    <tr>\n",
       "      <th>8216578</th>\n",
       "      <td>8216578</td>\n",
       "      <td>56542.86</td>\n",
       "      <td>1016822.0</td>\n",
       "      <td>1.0</td>\n",
       "      <td>NaN</td>\n",
       "      <td>423</td>\n",
       "      <td>2017-04-01 00:00:00</td>\n",
       "      <td>7776000.0</td>\n",
       "      <td>0</td>\n",
       "    </tr>\n",
       "    <tr>\n",
       "      <th>8216579</th>\n",
       "      <td>8216579</td>\n",
       "      <td>126196.26</td>\n",
       "      <td>948906.0</td>\n",
       "      <td>1.0</td>\n",
       "      <td>NaN</td>\n",
       "      <td>421</td>\n",
       "      <td>2017-04-01 00:00:00</td>\n",
       "      <td>7776000.0</td>\n",
       "      <td>0</td>\n",
       "    </tr>\n",
       "    <tr>\n",
       "      <th>8216580</th>\n",
       "      <td>8216580</td>\n",
       "      <td>60710.69</td>\n",
       "      <td>1016823.0</td>\n",
       "      <td>1.0</td>\n",
       "      <td>NaN</td>\n",
       "      <td>421</td>\n",
       "      <td>2017-04-01 00:00:00</td>\n",
       "      <td>7776000.0</td>\n",
       "      <td>0</td>\n",
       "    </tr>\n",
       "    <tr>\n",
       "      <th>8216581</th>\n",
       "      <td>8216581</td>\n",
       "      <td>266108.42</td>\n",
       "      <td>1016824.0</td>\n",
       "      <td>1.0</td>\n",
       "      <td>NaN</td>\n",
       "      <td>421</td>\n",
       "      <td>2017-04-01 00:00:00</td>\n",
       "      <td>7776000.0</td>\n",
       "      <td>0</td>\n",
       "    </tr>\n",
       "    <tr>\n",
       "      <th>8216582</th>\n",
       "      <td>8216582</td>\n",
       "      <td>10053.23</td>\n",
       "      <td>1016825.0</td>\n",
       "      <td>1.0</td>\n",
       "      <td>NaN</td>\n",
       "      <td>423</td>\n",
       "      <td>2017-04-01 00:00:00</td>\n",
       "      <td>7776000.0</td>\n",
       "      <td>0</td>\n",
       "    </tr>\n",
       "    <tr>\n",
       "      <th>8216583</th>\n",
       "      <td>8216583</td>\n",
       "      <td>265901.94</td>\n",
       "      <td>1016826.0</td>\n",
       "      <td>1.0</td>\n",
       "      <td>NaN</td>\n",
       "      <td>423</td>\n",
       "      <td>2017-04-01 00:00:00</td>\n",
       "      <td>7776000.0</td>\n",
       "      <td>0</td>\n",
       "    </tr>\n",
       "    <tr>\n",
       "      <th>8216584</th>\n",
       "      <td>8216584</td>\n",
       "      <td>29665.83</td>\n",
       "      <td>1016827.0</td>\n",
       "      <td>1.0</td>\n",
       "      <td>NaN</td>\n",
       "      <td>421</td>\n",
       "      <td>2017-04-01 00:00:00</td>\n",
       "      <td>7776000.0</td>\n",
       "      <td>0</td>\n",
       "    </tr>\n",
       "  </tbody>\n",
       "</table>\n",
       "<p>8216585 rows × 9 columns</p>\n",
       "</div>"
      ],
      "text/plain": [
       "              ID  P_BASEAMOUNT  id_sender  id_receiver  id_benef P_EKNPCODE  \\\n",
       "0              0     151075.01        0.0          1.0       NaN        423   \n",
       "1              1     136206.83        2.0          1.0       NaN        423   \n",
       "2              2      59613.06        3.0          1.0       NaN        421   \n",
       "3              3      29838.62        4.0          1.0       NaN        423   \n",
       "4              4      32000.00        NaN          5.0       NaN      -1000   \n",
       "5              5     100000.00        NaN          6.0       NaN      -1000   \n",
       "6              6     100000.00        NaN          7.0       NaN      -1000   \n",
       "7              7     200000.00        NaN          8.0       NaN      -1000   \n",
       "8              8      60000.00        NaN          8.0       NaN      -1000   \n",
       "9              9      10000.00        NaN          8.0       NaN      -1000   \n",
       "10            10      40000.00        NaN          9.0       NaN      -1000   \n",
       "11            11     130000.00        NaN         10.0       NaN      -1000   \n",
       "12            12     100000.00        NaN         11.0       NaN      -1000   \n",
       "13            13        400.00       12.0          NaN       NaN        322   \n",
       "14            14        600.00       13.0          NaN       NaN        324   \n",
       "15            15        400.00       12.0          NaN       NaN        322   \n",
       "16            16        600.00       13.0          NaN       NaN        324   \n",
       "17            17       5010.00       14.0          NaN       NaN        324   \n",
       "18            18        100.00       14.0          NaN       NaN        324   \n",
       "19            19        500.00       15.0          NaN       NaN        324   \n",
       "20            20          8.27        NaN         16.0       NaN        314   \n",
       "21            21      60000.00       17.0          NaN       NaN        324   \n",
       "22            22      60000.00       17.0          NaN       NaN        324   \n",
       "23            23      10000.00       18.0          NaN       NaN        324   \n",
       "24            24      30000.00        NaN         19.0       NaN        314   \n",
       "25            25       2000.00       20.0          NaN       NaN        324   \n",
       "26            26       4000.00       21.0          NaN       NaN        324   \n",
       "27            27      15000.00       22.0          NaN       NaN        322   \n",
       "28            28       4000.00        NaN         23.0       NaN        314   \n",
       "29            29       1100.00       24.0          NaN       NaN        322   \n",
       "...          ...           ...        ...          ...       ...        ...   \n",
       "8216555  8216555     198729.26   263272.0          1.0       NaN        421   \n",
       "8216556  8216556      10919.20  1016805.0          1.0       NaN        421   \n",
       "8216557  8216557      87889.74   993399.0          1.0       NaN        423   \n",
       "8216558  8216558       9381.07  1016806.0          1.0       NaN        421   \n",
       "8216559  8216559     173495.80  1004027.0          1.0       NaN        423   \n",
       "8216560  8216560      71579.86  1003143.0          1.0       NaN        421   \n",
       "8216561  8216561     314694.37  1016807.0          1.0       NaN        423   \n",
       "8216562  8216562      47873.54  1016808.0          1.0       NaN        421   \n",
       "8216563  8216563     247270.68  1016809.0          1.0       NaN        423   \n",
       "8216564  8216564     188067.41  1016810.0          1.0       NaN        423   \n",
       "8216565  8216565     122839.77  1016811.0          1.0       NaN        423   \n",
       "8216566  8216566      14664.42  1016812.0          1.0       NaN        421   \n",
       "8216567  8216567      16551.39  1016813.0          1.0       NaN        421   \n",
       "8216568  8216568      38263.36    13640.0          1.0       NaN        423   \n",
       "8216569  8216569      31875.06  1016814.0          1.0       NaN        421   \n",
       "8216570  8216570     324923.32  1016815.0          1.0       NaN        423   \n",
       "8216571  8216571      80414.56  1016816.0          1.0       NaN        423   \n",
       "8216572  8216572      50216.32  1016817.0          1.0       NaN        423   \n",
       "8216573  8216573      37531.09  1016818.0          1.0       NaN        421   \n",
       "8216574  8216574     131271.83  1016819.0          1.0       NaN        421   \n",
       "8216575  8216575      56351.84  1016820.0          1.0       NaN        423   \n",
       "8216576  8216576     406618.74  1016821.0          1.0       NaN        423   \n",
       "8216577  8216577     291721.93  1003961.0          1.0       NaN        423   \n",
       "8216578  8216578      56542.86  1016822.0          1.0       NaN        423   \n",
       "8216579  8216579     126196.26   948906.0          1.0       NaN        421   \n",
       "8216580  8216580      60710.69  1016823.0          1.0       NaN        421   \n",
       "8216581  8216581     266108.42  1016824.0          1.0       NaN        421   \n",
       "8216582  8216582      10053.23  1016825.0          1.0       NaN        423   \n",
       "8216583  8216583     265901.94  1016826.0          1.0       NaN        423   \n",
       "8216584  8216584      29665.83  1016827.0          1.0       NaN        421   \n",
       "\n",
       "         P_OPERATIONDATETIME  seconds_from_start  target  \n",
       "0        2017-01-01 00:00:00                 0.0       0  \n",
       "1        2017-01-01 00:00:00                 0.0       0  \n",
       "2        2017-01-01 00:00:00                 0.0       0  \n",
       "3        2017-01-01 00:00:00                 0.0       0  \n",
       "4        2017-01-01 02:10:00              7800.0      -1  \n",
       "5        2017-01-01 10:58:00             39480.0      -1  \n",
       "6        2017-01-01 11:05:00             39900.0      -1  \n",
       "7        2017-01-01 11:56:00             42960.0      -1  \n",
       "8        2017-01-01 11:58:00             43080.0      -1  \n",
       "9        2017-01-01 12:02:00             43320.0      -1  \n",
       "10       2017-01-01 12:05:00             43500.0      -1  \n",
       "11       2017-01-01 12:21:00             44460.0      -1  \n",
       "12       2017-01-01 12:53:00             46380.0      -1  \n",
       "13       2017-01-01 13:09:00             47340.0      -1  \n",
       "14       2017-01-01 13:09:00             47340.0      -1  \n",
       "15       2017-01-01 13:09:00             47340.0      -1  \n",
       "16       2017-01-01 13:09:00             47340.0      -1  \n",
       "17       2017-01-01 13:09:00             47340.0      -1  \n",
       "18       2017-01-01 13:09:00             47340.0      -1  \n",
       "19       2017-01-01 13:14:00             47640.0      -1  \n",
       "20       2017-01-01 13:14:00             47640.0      -1  \n",
       "21       2017-01-01 13:14:00             47640.0      -1  \n",
       "22       2017-01-01 13:14:00             47640.0      -1  \n",
       "23       2017-01-01 13:14:00             47640.0      -1  \n",
       "24       2017-01-01 13:14:00             47640.0      -1  \n",
       "25       2017-01-01 13:15:00             47700.0      -1  \n",
       "26       2017-01-01 13:15:00             47700.0      -1  \n",
       "27       2017-01-01 13:15:00             47700.0      -1  \n",
       "28       2017-01-01 13:15:00             47700.0      -1  \n",
       "29       2017-01-01 13:15:00             47700.0      -1  \n",
       "...                      ...                 ...     ...  \n",
       "8216555  2017-04-01 00:00:00           7776000.0       0  \n",
       "8216556  2017-04-01 00:00:00           7776000.0       0  \n",
       "8216557  2017-04-01 00:00:00           7776000.0       0  \n",
       "8216558  2017-04-01 00:00:00           7776000.0       0  \n",
       "8216559  2017-04-01 00:00:00           7776000.0       0  \n",
       "8216560  2017-04-01 00:00:00           7776000.0       0  \n",
       "8216561  2017-04-01 00:00:00           7776000.0       0  \n",
       "8216562  2017-04-01 00:00:00           7776000.0       0  \n",
       "8216563  2017-04-01 00:00:00           7776000.0       0  \n",
       "8216564  2017-04-01 00:00:00           7776000.0       0  \n",
       "8216565  2017-04-01 00:00:00           7776000.0       0  \n",
       "8216566  2017-04-01 00:00:00           7776000.0       0  \n",
       "8216567  2017-04-01 00:00:00           7776000.0       0  \n",
       "8216568  2017-04-01 00:00:00           7776000.0       0  \n",
       "8216569  2017-04-01 00:00:00           7776000.0       0  \n",
       "8216570  2017-04-01 00:00:00           7776000.0       0  \n",
       "8216571  2017-04-01 00:00:00           7776000.0       0  \n",
       "8216572  2017-04-01 00:00:00           7776000.0       0  \n",
       "8216573  2017-04-01 00:00:00           7776000.0       0  \n",
       "8216574  2017-04-01 00:00:00           7776000.0       0  \n",
       "8216575  2017-04-01 00:00:00           7776000.0       0  \n",
       "8216576  2017-04-01 00:00:00           7776000.0       0  \n",
       "8216577  2017-04-01 00:00:00           7776000.0       0  \n",
       "8216578  2017-04-01 00:00:00           7776000.0       0  \n",
       "8216579  2017-04-01 00:00:00           7776000.0       0  \n",
       "8216580  2017-04-01 00:00:00           7776000.0       0  \n",
       "8216581  2017-04-01 00:00:00           7776000.0       0  \n",
       "8216582  2017-04-01 00:00:00           7776000.0       0  \n",
       "8216583  2017-04-01 00:00:00           7776000.0       0  \n",
       "8216584  2017-04-01 00:00:00           7776000.0       0  \n",
       "\n",
       "[8216585 rows x 9 columns]"
      ]
     },
     "execution_count": 42,
     "metadata": {},
     "output_type": "execute_result"
    }
   ],
   "source": [
    "graph_trans_df"
   ]
  },
  {
   "cell_type": "code",
   "execution_count": null,
   "metadata": {},
   "outputs": [],
   "source": []
  },
  {
   "cell_type": "code",
   "execution_count": null,
   "metadata": {},
   "outputs": [],
   "source": []
  },
  {
   "cell_type": "code",
   "execution_count": null,
   "metadata": {},
   "outputs": [],
   "source": [
    "slice_feature = 'P_EKNPCODE'\n",
    "target_feature = 'P_BASEAMOUNT'"
   ]
  },
  {
   "cell_type": "code",
   "execution_count": 24,
   "metadata": {},
   "outputs": [],
   "source": []
  },
  {
   "cell_type": "code",
   "execution_count": null,
   "metadata": {},
   "outputs": [],
   "source": []
  }
 ],
 "metadata": {
  "kernelspec": {
   "display_name": "Python 3",
   "language": "python",
   "name": "python3"
  },
  "language_info": {
   "codemirror_mode": {
    "name": "ipython",
    "version": 3
   },
   "file_extension": ".py",
   "mimetype": "text/x-python",
   "name": "python",
   "nbconvert_exporter": "python",
   "pygments_lexer": "ipython3",
   "version": "3.6.4"
  }
 },
 "nbformat": 4,
 "nbformat_minor": 2
}
