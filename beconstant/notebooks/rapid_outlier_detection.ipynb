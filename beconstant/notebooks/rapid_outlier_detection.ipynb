{
 "cells": [
  {
   "cell_type": "code",
   "execution_count": 3,
   "metadata": {},
   "outputs": [],
   "source": [
    "import re\n",
    "import os\n",
    "import time\n",
    "import pickle\n",
    "import sklearn\n",
    "import numpy as np\n",
    "import pandas as pd\n",
    "import seaborn as sns\n",
    "\n",
    "import scipy.sparse\n",
    "from tqdm import tqdm, tqdm_notebook\n",
    "from collections import defaultdict, OrderedDict\n",
    "from matplotlib import pyplot as plt\n",
    "\n",
    "from scipy.sparse import csr_matrix, coo_matrix, csc_matrix\n",
    "\n",
    "### PUT YOUR PATH HERE (mine default is home/username/notebooks)\n",
    "path_to_data = '../../shared_files/'\n",
    "\n",
    "%matplotlib inline\n",
    "sns.set(style='white', rc={'figure.figsize':(12,8)})"
   ]
  },
  {
   "cell_type": "code",
   "execution_count": 6,
   "metadata": {},
   "outputs": [],
   "source": [
    "import numpy as np\n",
    "from warnings import warn\n",
    "from scipy.stats import scoreatpercentile\n",
    "from scipy.spatial.distance import cdist\n",
    "\n",
    "\n",
    "from sklearn.base import BaseEstimator, ClassifierMixin\n",
    "from sklearn.utils.validation import check_array, check_random_state, check_is_fitted\n",
    "from sklearn.preprocessing import StandardScaler\n",
    "\n",
    "__all__ = [\"RapidOutlierDetection\"]\n",
    "\n",
    "\n",
    "class RapidOutlierDetection(BaseEstimator, ClassifierMixin):\n",
    "    \"\"\"Unsupervised rapid Outlier Detection through sampling\n",
    "    Parameters\n",
    "    ----------\n",
    "    random_state: a random state, default = None\n",
    "    scaled : if True, X will be scaled, default = True\n",
    "    n_samples : int, optional (default=20)\n",
    "        Number of random samples to be used.\n",
    "        If n_samples is larger than the number of samples provided,\n",
    "        a ValueError will be thrown.\n",
    "    metric : string, default 'euclidean'\n",
    "        metric used for the distance computation. Any metric \n",
    "        from scipy.spatial.distance.cdist can be used.\n",
    "        See the documentation for scipy.spatial.distance.cdist for details on these\n",
    "        metrics:\n",
    "        https://docs.scipy.org/doc/scipy/reference/generated/scipy.spatial.distance.cdist.html\n",
    "    metric_params : dict, optional (default=None)\n",
    "        Additional keyword arguments for the metric function.\n",
    "    contamination : float in (0., 0.5), optional (default=0.05)\n",
    "        The amount of contamination of the data set, i.e. the proportion\n",
    "        of outliers in the data set. When fitting this is used to define the\n",
    "        threshold on the decision function.\n",
    "    References\n",
    "    ----------\n",
    "    .. [1] Mahito Sugiyama, Karsten M. Borgwardt\n",
    "       'Rapid Distance-Based Outlier Detection via Sampling'\n",
    "       https://papers.nips.cc/paper/5127-rapid-distance-based-outlier-detection-via-sampling.pdf\n",
    "    \"\"\"\n",
    "    def __init__(self, n_samples=20, metric='euclidean',metric_params=None,random_state=None,scaled=True,\n",
    "                 contamination=0.05):\n",
    "        self.n_samples=n_samples\n",
    "        self.metric=metric\n",
    "        self.metric_params=metric_params \n",
    "        self.random_state=random_state\n",
    "        self.scaled=scaled\n",
    "        self.contamination = contamination\n",
    "\n",
    "    def fit_predict(self, X, y=None):\n",
    "        \"\"\"\"Fits the model to the training set X and returns the labels\n",
    "        (1 inlier, -1 outlier) on the training set according to the score\n",
    "        and the contamination parameter.\n",
    "        Parameters\n",
    "        ----------\n",
    "        X : array-like, shape (n_samples, n_features), default=None\n",
    "            The query sample or samples to compute the score\n",
    "            w.r.t. to the training samples.\n",
    "        Returns\n",
    "        -------\n",
    "        is_inlier : array, shape (n_samples,)\n",
    "            Returns -1 for anomalies/outliers and 1 for inliers.\n",
    "        \"\"\"\n",
    "\n",
    "        return self.fit(X).predict()\n",
    "\n",
    "    def fit(self, X, y=None):\n",
    "        \"\"\"Fit the model using X as training data.\n",
    "        Parameters\n",
    "        ----------\n",
    "        X : {array-like}\n",
    "            Training data. If array or matrix, shape [n_samples, n_features]\n",
    "        Returns\n",
    "        -------\n",
    "        self : object\n",
    "            Returns self.\n",
    "        \"\"\"\n",
    "        if not (0. < self.contamination <= .5):\n",
    "            raise ValueError(\"contamination must be in (0, 0.5]\")\n",
    "\n",
    "        self.random_state = check_random_state(self.random_state)\n",
    "\n",
    "        X = check_array(X)\n",
    "        N, n_features = X.shape\n",
    "        if self.n_samples > N:\n",
    "            error = \"n_samples = %s, but should be <= %s\" % (self.n_samples,N)\n",
    "            raise ValueError(error)\n",
    "        if self.n_samples <= 0:\n",
    "            error = \"n_samples = %s, but should be > 0\" % self.n_samples\n",
    "            raise ValueError(error)\n",
    "        if self.n_samples < 5:\n",
    "            warning = \"n_samples < 5. The method suggests n_samples ~=~ 20.\"\n",
    "            warn(warning)\n",
    "        if self.scaled:\n",
    "            self.scaler_ = StandardScaler()\n",
    "            self.scaler_.fit(X)\n",
    "            X = self.scaler_.transform(X)\n",
    "        random_indexes = self.random_state.random_integers(0,N-1,self.n_samples)\n",
    "        X_sampled = X[random_indexes,:]\n",
    "        \n",
    "\n",
    "        self.X_sampled_ = X_sampled\n",
    "        self.X_ = X\n",
    "\n",
    "        if self.metric_params is None:\n",
    "            Y = cdist(X,self.X_sampled_,metric=self.metric)\n",
    "        else:\n",
    "            Y = cdist(X,self.X_sampled_,metric=self.metric,*self.metric_params)\n",
    "        scores = np.amin(Y,axis=1)\n",
    "        self.threshold_ = scoreatpercentile(scores, (1.0-self.contamination)*100.0)\n",
    "\n",
    "\n",
    "\n",
    "        return self\n",
    "\n",
    "    def predict(self, X=None):\n",
    "        \"\"\"Predict the labels (1 inlier, -1 outlier) of X according to score.\n",
    "        If X is None, returns the same as fit_predict(X_train).\n",
    "        This method allows to generalize prediction to new observations (not\n",
    "        in the training set). \n",
    "        Parameters\n",
    "        ----------\n",
    "        X : array-like, shape (n_samples, n_features), default=None\n",
    "            The query sample or samples to compute the score\n",
    "            w.r.t. to the training samples. If None, makes prediction on the\n",
    "            training data.\n",
    "        Returns\n",
    "        -------\n",
    "        is_inlier : array, shape (n_samples,)\n",
    "            Returns -1 for anomalies/outliers and +1 for inliers.\n",
    "        \"\"\"\n",
    "        if self.scaled:\n",
    "            check_is_fitted(self, ['X_', 'X_sampled_','threshold_','scaler_'])\n",
    "        else:\n",
    "            check_is_fitted(self, ['X_','X_sampled_','threshold_'])\n",
    "        if X is not None:\n",
    "            X = check_array(X)\n",
    "            if self.scaled:\n",
    "                X = self.scaler_.transform(X)\n",
    "        else:\n",
    "            X = self.X_\n",
    "\n",
    "        if self.metric_params is None:\n",
    "            Y = cdist(X,self.X_sampled_,metric=self.metric)\n",
    "        else:\n",
    "            Y = cdist(X,self.X_sampled_,metric=self.metric,*self.metric_params)\n",
    "        scores = np.amin(Y,axis=1)\n",
    "        is_inlier = np.ones(X.shape[0], dtype=int)\n",
    "        is_inlier[scores >= self.threshold_] = -1\n",
    "\n",
    "        return is_inlier\n",
    "    \n",
    "    def decision_function(self, X=None):\n",
    "        if self.scaled:\n",
    "            check_is_fitted(self, ['X_', 'X_sampled_','threshold_','scaler_'])\n",
    "        else:\n",
    "            check_is_fitted(self, ['X_','X_sampled_','threshold_'])\n",
    "        if X is not None:\n",
    "            X = check_array(X)\n",
    "            if self.scaled:\n",
    "                X = self.scaler_.transform(X)\n",
    "        else:\n",
    "            X = self.X_\n",
    "\n",
    "        if self.metric_params is None:\n",
    "            Y = cdist(X,self.X_sampled_,metric=self.metric)\n",
    "        else:\n",
    "            Y = cdist(X,self.X_sampled_,metric=self.metric,*self.metric_params)\n",
    "        scores = np.amin(Y,axis=1)\n",
    "        return scores"
   ]
  },
  {
   "cell_type": "code",
   "execution_count": 4,
   "metadata": {},
   "outputs": [
    {
     "name": "stderr",
     "output_type": "stream",
     "text": [
      "/home/const.belev/anaconda3/lib/python3.6/site-packages/ipykernel_launcher.py:99: DeprecationWarning: This function is deprecated. Please call randint(0, 20029 + 1) instead\n"
     ]
    },
    {
     "data": {
      "image/png": "[encoded data removed]",
      "text/plain": [
       "<matplotlib.figure.Figure at 0x7f5aa83df6d8>"
      ]
     },
     "metadata": {},
     "output_type": "display_data"
    }
   ],
   "source": [
    "np.random.seed(42)\n",
    "\n",
    "# Generate train data\n",
    "N_normal = 10000\n",
    "X = 0.3 * np.random.randn(N_normal, 2)\n",
    "# Generate some abnormal novel observations\n",
    "N_outliers = 30\n",
    "X_outliers = np.random.uniform(low=-4, high=4, size=(N_outliers, 2))\n",
    "X = np.r_[X + 2, X - 2, X_outliers]\n",
    "\n",
    "# fit the model\n",
    "clf = RapidOutlierDetection(contamination = 1.0*N_outliers/(2.0*N_normal+N_outliers))\n",
    "y_pred = clf.fit_predict(X)\n",
    "y_pred_outliers = y_pred[2*N_normal:]\n",
    "\n",
    "\n",
    "plt.title(\"Rapid Outlier Detection\")\n",
    "\n",
    "a = plt.scatter(X[:(2*N_normal), 0], X[:(2*N_normal), 1], c='white',\n",
    "                edgecolor='k', s=N_outliers)\n",
    "b = plt.scatter(X[(2*N_normal):, 0], X[(2*N_normal):, 1], c='red',\n",
    "                edgecolor='k', s=N_outliers)\n",
    "plt.axis('tight')\n",
    "plt.xlim((-5, 5))\n",
    "plt.ylim((-5, 5))\n",
    "plt.legend([a, b],\n",
    "           [\"normal observations\",\n",
    "            \"abnormal observations\"],\n",
    "           loc=\"upper left\")\n",
    "plt.show()"
   ]
  },
  {
   "cell_type": "code",
   "execution_count": 5,
   "metadata": {},
   "outputs": [],
   "source": [
    "xtrain = np.load('xtrain.npy')\n",
    "xtest = np.load('xtest.npy')\n",
    "ytrain = np.load('ytrain.npy')\n",
    "ytest = np.load('ytest.npy')"
   ]
  },
  {
   "cell_type": "code",
   "execution_count": 17,
   "metadata": {},
   "outputs": [],
   "source": [
    "try:\n",
    "    del clf\n",
    "except:\n",
    "    pass\n",
    "clf = RapidOutlierDetection(n_samples=250, contamination = (ytrain == 1).mean())"
   ]
  },
  {
   "cell_type": "code",
   "execution_count": 10,
   "metadata": {},
   "outputs": [],
   "source": [
    "train_kek, test_kek = np.c_[xtrain[:, -7:-5], xtrain[:, -4:-1]], np.c_[xtest[:, -7:-5], xtest[:, -4:-1]]"
   ]
  },
  {
   "cell_type": "code",
   "execution_count": 18,
   "metadata": {},
   "outputs": [
    {
     "name": "stderr",
     "output_type": "stream",
     "text": [
      "/home/const.belev/anaconda3/lib/python3.6/site-packages/ipykernel_launcher.py:99: DeprecationWarning: This function is deprecated. Please call randint(0, 2292704 + 1) instead\n"
     ]
    },
    {
     "data": {
      "text/plain": [
       "RapidOutlierDetection(contamination=0.01012951949771122, metric='euclidean',\n",
       "           metric_params=None, n_samples=250,\n",
       "           random_state=<mtrand.RandomState object at 0x7f5b140929d8>,\n",
       "           scaled=True)"
      ]
     },
     "execution_count": 18,
     "metadata": {},
     "output_type": "execute_result"
    }
   ],
   "source": [
    "clf.fit(train_kek)"
   ]
  },
  {
   "cell_type": "code",
   "execution_count": 19,
   "metadata": {},
   "outputs": [],
   "source": [
    "train_scores = clf.decision_function(train_kek)\n",
    "test_scores = clf.decision_function(test_kek)"
   ]
  },
  {
   "cell_type": "code",
   "execution_count": 20,
   "metadata": {},
   "outputs": [
    {
     "data": {
      "image/png": "[encoded data removed]",
      "text/plain": [
       "<matplotlib.figure.Figure at 0x7f59e8593320>"
      ]
     },
     "metadata": {},
     "output_type": "display_data"
    }
   ],
   "source": [
    "f, axes = plt.subplots(1, 2, figsize=(16, 8))\n",
    "colors = ['g', 'b', 'r']\n",
    "targets = [-1, 0, 1]\n",
    "for c, t in zip(colors, targets):\n",
    "    sns.distplot(np.log1p(train_scores)[ytrain == t], color=c, ax=axes[0])\n",
    "\n",
    "for c, t in zip(colors, targets):\n",
    "    sns.distplot(np.log1p(test_scores)[ytest == t], color=c, ax=axes[1])"
   ]
  },
  {
   "cell_type": "code",
   "execution_count": null,
   "metadata": {},
   "outputs": [],
   "source": []
  }
 ],
 "metadata": {
  "kernelspec": {
   "display_name": "Python 3",
   "language": "python",
   "name": "python3"
  },
  "language_info": {
   "codemirror_mode": {
    "name": "ipython",
    "version": 3
   },
   "file_extension": ".py",
   "mimetype": "text/x-python",
   "name": "python",
   "nbconvert_exporter": "python",
   "pygments_lexer": "ipython3",
   "version": "3.6.4"
  }
 },
 "nbformat": 4,
 "nbformat_minor": 2
}
