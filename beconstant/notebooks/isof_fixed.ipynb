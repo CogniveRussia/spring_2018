{
 "cells": [
  {
   "cell_type": "code",
   "execution_count": null,
   "metadata": {},
   "outputs": [],
   "source": [
    "import time\n",
    "import pickle\n",
    "import numpy as np\n",
    "import scipy as sp\n",
    "import multiprocessing\n",
    "import tqdm\n",
    "from warnings import warn\n",
    "from sklearn.utils.fixes import euler_gamma\n",
    "\n",
    "from scipy.sparse import issparse\n",
    "\n",
    "import numbers\n",
    "import six\n",
    "from sklearn.tree import ExtraTreeRegressor\n",
    "from sklearn.utils import check_random_state, check_array\n",
    "from sklearn.ensemble.bagging import BaseBagging\n",
    "\n",
    "#__all__ = [\"IsolationForest\"]\n",
    "\n",
    "INTEGER_TYPES = (numbers.Integral, np.integer)\n",
    "\n",
    "import jobl\n",
    "\n",
    "import seaborn as sns\n",
    "\n",
    "from matplotlib import pyplot as plt\n",
    "\n",
    "%matplotlib inline\n",
    "sns.set(style='white', rc={'figure.figsize':(12,8)})"
   ]
  },
  {
   "cell_type": "code",
   "execution_count": 22,
   "metadata": {},
   "outputs": [],
   "source": [
    "import joblib\n",
    "from joblib import Parallel, delayed"
   ]
  },
  {
   "cell_type": "code",
   "execution_count": 2,
   "metadata": {},
   "outputs": [],
   "source": [
    "class Timer:\n",
    "    def __init__(self, msg='operation', verbose=True):\n",
    "        self.msg = msg\n",
    "        self.verbose = verbose       \n",
    "    def __enter__(self, ):\n",
    "        self.start = time.clock()\n",
    "        return self\n",
    "\n",
    "    def __exit__(self, *args):\n",
    "        self.end = time.clock()\n",
    "        self.interval = self.end - self.start\n",
    "        if self.verbose:\n",
    "            print('{} took {:.3f}s'.format(self.msg, self.interval), flush=True)"
   ]
  },
  {
   "cell_type": "code",
   "execution_count": 3,
   "metadata": {},
   "outputs": [],
   "source": [
    "import ctypes\n",
    "\n",
    "def shared_array(shape):\n",
    "    \"\"\"\n",
    "    Form a shared memory numpy array.\n",
    "    \n",
    "    http://stackoverflow.com/questions/5549190/is-shared-readonly-data-copied-to-different-processes-for-python-multiprocessing \n",
    "    \"\"\"\n",
    "    \n",
    "    shared_array_base = multiprocessing.Array(ctypes.c_double, shape[0]*shape[1])\n",
    "    shared_array = np.ctypeslib.as_array(shared_array_base.get_obj())\n",
    "    shared_array = shared_array.reshape(*shape)\n",
    "    return shared_array"
   ]
  },
  {
   "cell_type": "code",
   "execution_count": 4,
   "metadata": {},
   "outputs": [],
   "source": [
    "#xtrain = np.load('xtrain.npy')\n",
    "#xtest = np.load('xtest.npy')\n",
    "x_input_source = np.load('ress_input_source.npy').astype(np.float32)\n",
    "x_input_target = np.load('ress_input_target.npy').astype(np.float32)\n",
    "x_output_source = np.load('ress_output_source.npy').astype(np.float32)\n",
    "x_output_target = np.load('ress_output_target.npy').astype(np.float32)\n",
    "ytrain = np.load('ytrain.npy')\n",
    "ytest = np.load('ytest.npy')"
   ]
  },
  {
   "cell_type": "code",
   "execution_count": 5,
   "metadata": {},
   "outputs": [],
   "source": [
    "with open('graph_trans_df.pkl', 'rb') as handle:\n",
    "    graph_trans_df = pickle.load(handle)"
   ]
  },
  {
   "cell_type": "code",
   "execution_count": 6,
   "metadata": {},
   "outputs": [
    {
     "name": "stdout",
     "output_type": "stream",
     "text": [
      "7126911\n",
      "4364967\n"
     ]
    },
    {
     "data": {
      "text/plain": [
       "(None, None)"
      ]
     },
     "execution_count": 6,
     "metadata": {},
     "output_type": "execute_result"
    }
   ],
   "source": [
    "if_outcome  = ~graph_trans_df[1, 'P_CLIENTID'].isnull()\n",
    "if_income  = ~graph_trans_df[2, 'P_CLIENTID'].isnull()\n",
    "trans_mask_source = (~graph_trans_df[if_outcome][1, 'P_CLIENTID'].isnull() & ~graph_trans_df[if_outcome][2, 'P_CLIENTID'].isnull())\n",
    "trans_mask_target = (~graph_trans_df[if_income][1, 'P_CLIENTID'].isnull() & ~graph_trans_df[if_income][2, 'P_CLIENTID'].isnull())\n",
    "print(len(trans_mask_source)), print(len(trans_mask_target))"
   ]
  },
  {
   "cell_type": "code",
   "execution_count": 7,
   "metadata": {},
   "outputs": [],
   "source": [
    "xtrans_input_source = x_input_source[trans_mask_source, 1:]\n",
    "xtrans_input_target = x_input_target[trans_mask_target, 1:]\n",
    "xtrans_output_source = x_output_source[trans_mask_source, 1:]\n",
    "xtrans_output_target = x_output_target[trans_mask_target, 1:]"
   ]
  },
  {
   "cell_type": "code",
   "execution_count": 8,
   "metadata": {},
   "outputs": [
    {
     "data": {
      "text/plain": [
       "(3275293, 3275293, 3275293, 3275293, 3275293)"
      ]
     },
     "execution_count": 8,
     "metadata": {},
     "output_type": "execute_result"
    }
   ],
   "source": [
    "len(xtrans_input_source), len(xtrans_input_target), len(xtrans_output_source), len(xtrans_output_target), len(ytrain) + len(ytest)"
   ]
  },
  {
   "cell_type": "code",
   "execution_count": 9,
   "metadata": {},
   "outputs": [],
   "source": [
    "xtrain_input_source, xtest_input_source = xtrans_input_source[:len(ytrain)], xtrans_input_source[len(ytrain):]\n",
    "xtrain_input_target, xtest_input_target = xtrans_input_target[:len(ytrain)], xtrans_input_target[len(ytrain):]\n",
    "xtrain_output_source, xtest_output_source = xtrans_output_source[:len(ytrain)], xtrans_output_source[len(ytrain):]\n",
    "xtrain_output_target, xtest_output_target = xtrans_output_target[:len(ytrain)], xtrans_output_target[len(ytrain):]"
   ]
  },
  {
   "cell_type": "code",
   "execution_count": 29,
   "metadata": {},
   "outputs": [],
   "source": [
    "class IsolationForest(BaseBagging):\n",
    "    \"\"\"Isolation Forest Algorithm\n",
    "    Return the anomaly score of each sample using the IsolationForest algorithm\n",
    "    The IsolationForest 'isolates' observations by randomly selecting a feature\n",
    "    and then randomly selecting a split value between the maximum and minimum\n",
    "    values of the selected feature.\n",
    "    Since recursive partitioning can be represented by a tree structure, the\n",
    "    number of splittings required to isolate a sample is equivalent to the path\n",
    "    length from the root node to the terminating node.\n",
    "    This path length, averaged over a forest of such random trees, is a\n",
    "    measure of normality and our decision function.\n",
    "    Random partitioning produces noticeably shorter paths for anomalies.\n",
    "    Hence, when a forest of random trees collectively produce shorter path\n",
    "    lengths for particular samples, they are highly likely to be anomalies.\n",
    "    Read more in the :ref:`User Guide <isolation_forest>`.\n",
    "    .. versionadded:: 0.18\n",
    "    Parameters\n",
    "    ----------\n",
    "    n_estimators : int, optional (default=100)\n",
    "        The number of base estimators in the ensemble.\n",
    "    max_samples : int or float, optional (default=\"auto\")\n",
    "        The number of samples to draw from X to train each base estimator.\n",
    "            - If int, then draw `max_samples` samples.\n",
    "            - If float, then draw `max_samples * X.shape[0]` samples.\n",
    "            - If \"auto\", then `max_samples=min(256, n_samples)`.\n",
    "        If max_samples is larger than the number of samples provided,\n",
    "        all samples will be used for all trees (no sampling).\n",
    "    contamination : float in (0., 0.5), optional (default=0.1)\n",
    "        The amount of contamination of the data set, i.e. the proportion\n",
    "        of outliers in the data set. Used when fitting to define the threshold\n",
    "        on the decision function.\n",
    "    max_features : int or float, optional (default=1.0)\n",
    "        The number of features to draw from X to train each base estimator.\n",
    "            - If int, then draw `max_features` features.\n",
    "            - If float, then draw `max_features * X.shape[1]` features.\n",
    "    bootstrap : boolean, optional (default=False)\n",
    "        If True, individual trees are fit on random subsets of the training\n",
    "        data sampled with replacement. If False, sampling without replacement\n",
    "        is performed.\n",
    "    n_jobs : integer, optional (default=1)\n",
    "        The number of jobs to run in parallel for both `fit` and `predict`.\n",
    "        If -1, then the number of jobs is set to the number of cores.\n",
    "    random_state : int, RandomState instance or None, optional (default=None)\n",
    "        If int, random_state is the seed used by the random number generator;\n",
    "        If RandomState instance, random_state is the random number generator;\n",
    "        If None, the random number generator is the RandomState instance used\n",
    "        by `np.random`.\n",
    "    verbose : int, optional (default=0)\n",
    "        Controls the verbosity of the tree building process.\n",
    "    Attributes\n",
    "    ----------\n",
    "    estimators_ : list of DecisionTreeClassifier\n",
    "        The collection of fitted sub-estimators.\n",
    "    estimators_samples_ : list of arrays\n",
    "        The subset of drawn samples (i.e., the in-bag samples) for each base\n",
    "        estimator.\n",
    "    max_samples_ : integer\n",
    "        The actual number of samples\n",
    "    References\n",
    "    ----------\n",
    "    .. [1] Liu, Fei Tony, Ting, Kai Ming and Zhou, Zhi-Hua. \"Isolation forest.\"\n",
    "           Data Mining, 2008. ICDM'08. Eighth IEEE International Conference on.\n",
    "    .. [2] Liu, Fei Tony, Ting, Kai Ming and Zhou, Zhi-Hua. \"Isolation-based\n",
    "           anomaly detection.\" ACM Transactions on Knowledge Discovery from\n",
    "           Data (TKDD) 6.1 (2012): 3.\n",
    "    \"\"\"\n",
    "\n",
    "    def __init__(self,\n",
    "                 n_estimators=100,\n",
    "                 max_samples=\"auto\",\n",
    "                 contamination=0.1,\n",
    "                 max_features=1.,\n",
    "                 bootstrap=False,\n",
    "                 n_jobs=1,\n",
    "                 random_state=None,\n",
    "                 verbose=0, memory_restricted=False):\n",
    "        super(IsolationForest, self).__init__(\n",
    "            base_estimator=ExtraTreeRegressor(\n",
    "                max_features=1,\n",
    "                splitter='random',\n",
    "                random_state=random_state),\n",
    "            # here above max_features has no links with self.max_features\n",
    "            bootstrap=bootstrap,\n",
    "            bootstrap_features=False,\n",
    "            n_estimators=n_estimators,\n",
    "            max_samples=max_samples,\n",
    "            max_features=max_features,\n",
    "            n_jobs=n_jobs,\n",
    "            random_state=random_state,\n",
    "            verbose=verbose)\n",
    "        self.contamination = contamination\n",
    "        self.memory_restricted = memory_restricted\n",
    "\n",
    "    def _set_oob_score(self, X, y):\n",
    "        raise NotImplementedError(\"OOB score not supported by iforest\")\n",
    "\n",
    "    def fit(self, X, y=None, sample_weight=None):\n",
    "        \"\"\"Fit estimator.\n",
    "        Parameters\n",
    "        ----------\n",
    "        X : array-like or sparse matrix, shape (n_samples, n_features)\n",
    "            The input samples. Use ``dtype=np.float32`` for maximum\n",
    "            efficiency. Sparse matrices are also supported, use sparse\n",
    "            ``csc_matrix`` for maximum efficiency.\n",
    "        sample_weight : array-like, shape = [n_samples] or None\n",
    "            Sample weights. If None, then samples are equally weighted.\n",
    "        Returns\n",
    "        -------\n",
    "        self : object\n",
    "            Returns self.\n",
    "        \"\"\"\n",
    "        X = check_array(X, accept_sparse=['csc'])\n",
    "        if issparse(X):\n",
    "            # Pre-sort indices to avoid that each individual tree of the\n",
    "            # ensemble sorts the indices.\n",
    "            X.sort_indices()\n",
    "\n",
    "        rnd = check_random_state(self.random_state)\n",
    "        y = rnd.uniform(size=X.shape[0])\n",
    "\n",
    "        # ensure that max_sample is in [1, n_samples]:\n",
    "        n_samples = X.shape[0]\n",
    "\n",
    "        if isinstance(self.max_samples, six.string_types):\n",
    "            if self.max_samples == 'auto':\n",
    "                max_samples = min(256, n_samples)\n",
    "            else:\n",
    "                raise ValueError('max_samples (%s) is not supported.'\n",
    "                                 'Valid choices are: \"auto\", int or'\n",
    "                                 'float' % self.max_samples)\n",
    "\n",
    "        elif isinstance(self.max_samples, INTEGER_TYPES):\n",
    "            if self.max_samples > n_samples:\n",
    "                warn(\"max_samples (%s) is greater than the \"\n",
    "                     \"total number of samples (%s). max_samples \"\n",
    "                     \"will be set to n_samples for estimation.\"\n",
    "                     % (self.max_samples, n_samples))\n",
    "                max_samples = n_samples\n",
    "            else:\n",
    "                max_samples = self.max_samples\n",
    "        else:  # float\n",
    "            if not (0. < self.max_samples <= 1.):\n",
    "                raise ValueError(\"max_samples must be in (0, 1], got %r\"\n",
    "                                 % self.max_samples)\n",
    "            max_samples = int(self.max_samples * X.shape[0])\n",
    "\n",
    "        self.max_samples_ = max_samples\n",
    "        max_depth = int(np.ceil(np.log2(max(max_samples, 2))))\n",
    "        super(IsolationForest, self)._fit(X, y, max_samples,\n",
    "                                          max_depth=max_depth,\n",
    "                                          sample_weight=sample_weight)\n",
    "\n",
    "        self.threshold_ = -sp.stats.scoreatpercentile(\n",
    "            -self.decision_function(X), 100. * (1. - self.contamination))\n",
    "\n",
    "        return self\n",
    "\n",
    "    def predict(self, X):\n",
    "        \"\"\"Predict if a particular sample is an outlier or not.\n",
    "        Parameters\n",
    "        ----------\n",
    "        X : array-like or sparse matrix, shape (n_samples, n_features)\n",
    "            The input samples. Internally, it will be converted to\n",
    "            ``dtype=np.float32`` and if a sparse matrix is provided\n",
    "            to a sparse ``csr_matrix``.\n",
    "        Returns\n",
    "        -------\n",
    "        is_inlier : array, shape (n_samples,)\n",
    "            For each observations, tells whether or not (+1 or -1) it should\n",
    "            be considered as an inlier according to the fitted model.\n",
    "        \"\"\"\n",
    "        X = check_array(X, accept_sparse='csr')\n",
    "        is_inlier = np.ones(X.shape[0], dtype=int)\n",
    "        is_inlier[self.decision_function(X) <= self.threshold_] = -1\n",
    "        return is_inlier\n",
    "    \n",
    "    def _decision_function_sequential(self, X):\n",
    "        n_samples = X.shape[0]\n",
    "        \n",
    "        if self._max_features == X.shape[1]:\n",
    "            subsample_features = False\n",
    "        else:\n",
    "            subsample_features = True\n",
    "        \n",
    "        n_samples_leaf = np.zeros(n_samples)\n",
    "        depths = np.zeros(n_samples)\n",
    "        depths -= self.n_estimators\n",
    "        \n",
    "        # sequential process of estimator outputs\n",
    "        for i, (tree, features) in enumerate(zip(self.estimators_,\n",
    "                                                 self.estimators_features_)):\n",
    "            if subsample_features:\n",
    "                X_subset = X[:, features]\n",
    "            else:\n",
    "                X_subset = X\n",
    "            leaves_index = tree.apply(X_subset)\n",
    "            node_indicator = tree.decision_path(X_subset)\n",
    "            n_samples_leaf = tree.tree_.n_node_samples[leaves_index]\n",
    "            depths += np.ravel(node_indicator.sum(axis=1))\n",
    "            depths += _average_path_length(n_samples_leaf)\n",
    "        scores = 2 ** ((-depths / self.n_estimators) / _average_path_length(self.max_samples))\n",
    "        return scores\n",
    "    \n",
    "    def _decision_function_shared_memory(self, X):\n",
    "        n_samples = X.shape[0]\n",
    "        \n",
    "        if self._max_features == X.shape[1]:\n",
    "            subsample_features = False\n",
    "        else:\n",
    "            subsample_features = True\n",
    "        \n",
    "        n_samples_leaf = np.zeros(n_samples)\n",
    "        depths = np.zeros(n_samples)\n",
    "        depths -= self.n_estimators        \n",
    "\n",
    "        job_batch_size = self.n_estimators // n_jobs + (1 if self.n_estimators % n_jobs != 0 else 0)\n",
    "        processes = []\n",
    "        X_shared = multiprocessing.Array(ctypes.c_double if X.dtype in ['int64', 'float64'] else ctypes.c_float, X.shape[0] * X.shape[1], lock=False)\n",
    "        X_shared_arr = np.ctypeslib.as_array(X_shared).reshape(X.shape)\n",
    "        X_shared_arr[...] = X\n",
    "        depths_lock = multiprocessing.Lock()\n",
    "        depths_shared = multiprocessing.Array(ctypes.c_double, n_samples, lock=depths_lock)\n",
    "        #print(type(depths_shared))\n",
    "        #depths_lock = depths_shared.get_lock()\n",
    "        for batch_idx in range(n_jobs):\n",
    "            batch_start, batch_end = batch_idx * job_batch_size, min(self.n_estimators, (batch_idx + 1) * job_batch_size)\n",
    "            p = multiprocessing.Process(target=depths_estimator,\n",
    "                                        args=(self.estimators_[batch_start:batch_end],\n",
    "                                              self.estimators_features_[batch_start:batch_end],\n",
    "                                              X_shared_arr,\n",
    "                                              depths_shared,\n",
    "                                              subsample_features, batch_idx))\n",
    "            processes.append(p)\n",
    "        #print(len(processes))\n",
    "        for p in processes:\n",
    "            p.start()\n",
    "        for p in processes:\n",
    "            p.join()\n",
    "        #print(np.ctypeslib.as_array(depths_shared.get_obj()))\n",
    "        depths += np.ctypeslib.as_array(depths_shared.get_obj())\n",
    "        \n",
    "        scores = 2 ** ((-depths / self.n_estimators) / _average_path_length(self.max_samples))\n",
    "        return 0.5 - scores\n",
    "    \n",
    "    def _decision_function_fast(self, X):\n",
    "        n_samples = X.shape[0]\n",
    "        \n",
    "        if self._max_features == X.shape[1]:\n",
    "            subsample_features = False\n",
    "        else:\n",
    "            subsample_features = True\n",
    "        \n",
    "        n_samples_leaf = np.zeros(n_samples)\n",
    "        depths = np.zeros(n_samples)\n",
    "        depths -= self.n_estimators\n",
    "        \n",
    "        n_jobs = max(1, multiprocessing.cpu_count() - self.n_jobs + 1) if self.n_jobs < 0 else max(1, self.n_jobs)\n",
    "        \n",
    "        job_batch_size = self.n_estimators // n_jobs + (1 if self.n_estimators % n_jobs != 0 else 0)\n",
    "        processes = []\n",
    "        #X_shared = multiprocessing.Array(ctypes.c_double if X.dtype in ['int64', 'float64'] else ctypes.c_float, X.shape[0] * X.shape[1], lock=False)\n",
    "        #X_shared_arr = np.ctypeslib.as_array(X_shared).reshape(X.shape)\n",
    "        #X_shared_arr[...] = X\n",
    "        depths_acc = Parallel(n_jobs=n_jobs, max_nbytes=1e9, pre_dispatch=n_jobs)(delayed(depths_estimator_joblib)(\n",
    "            self.estimators_[batch_idx * job_batch_size: min(self.n_estimators, (batch_idx + 1) * job_batch_size)],\n",
    "            self.estimators_features_[batch_idx * job_batch_size: min(self.n_estimators, (batch_idx + 1) * job_batch_size)],\n",
    "            X,\n",
    "            subsample_features) for batch_idx in range(n_jobs))\n",
    "        #print(type(depths_acc))\n",
    "        #print([type(da) for da in depths_acc])\n",
    "        for da in depths_acc:\n",
    "            depths += da\n",
    "            del da\n",
    "        del depths_acc\n",
    "        scores = 2 ** ((-depths / self.n_estimators) / _average_path_length(self.max_samples))\n",
    "        return 0.5 - scores\n",
    "        \n",
    "        for batch_idx in range(n_jobs):\n",
    "            batch_start, batch_end = batch_idx * job_batch_size, min(self.n_estimators, (batch_idx + 1) * job_batch_size)\n",
    "            p = multiprocessing.Process(target=depths_estimator,\n",
    "                                        args=(self.estimators_[batch_start:batch_end],\n",
    "                                              self.estimators_features_[batch_start:batch_end],\n",
    "                                              X_shared_arr,\n",
    "                                              subsample_features,\n",
    "                                              q))\n",
    "            processes.append(p)\n",
    "        #print(len(processes))\n",
    "        for p in processes:\n",
    "            p.start()\n",
    "        for p in processes:\n",
    "            p.join()\n",
    "        #print(np.ctypeslib.as_array(depths_shared.get_obj()))\n",
    "        \n",
    "        depths += np.ctypeslib.as_array(depths_shared.get_obj())\n",
    "        \n",
    "        with multiprocessing.Pool(processes=n_jobs) as pool:\n",
    "            estimators = []\n",
    "            estimators_features = []\n",
    "            for batch_idx in range(n_jobs):\n",
    "                batch_start, batch_end = batch_idx * job_batch_size, min(self.n_estimators, (batch_idx + 1) * job_batch_size)\n",
    "                estimators.append(self.estimators_[batch_start:batch_end])\n",
    "                estimators_features.append(self.estimators_features_[batch_start:batch_end])\n",
    "            depths_to_merge = list(\n",
    "                pool.map(depths_estimator_local,\n",
    "                         list(zip(estimators, estimators_features, [X_shared_arr] * n_jobs, [subsample_features] * n_jobs)))\n",
    "            )\n",
    "        for depth_to_merge in depths_to_merge:\n",
    "            depths += depth_to_merge\n",
    "            del depth_to_merge\n",
    "        del depths_to_merge\n",
    "            \n",
    "        scores = 2 ** ((-depths / self.n_estimators) / _average_path_length(self.max_samples))\n",
    "        return 0.5 - scores\n",
    "        \n",
    "\n",
    "    def decision_function(self, X):\n",
    "        \"\"\"Average anomaly score of X of the base classifiers.\n",
    "        The anomaly score of an input sample is computed as\n",
    "        the mean anomaly score of the trees in the forest.\n",
    "        The measure of normality of an observation given a tree is the depth\n",
    "        of the leaf containing this observation, which is equivalent to\n",
    "        the number of splittings required to isolate this point. In case of\n",
    "        several observations n_left in the leaf, the average path length of\n",
    "        a n_left samples isolation tree is added.\n",
    "        Parameters\n",
    "        ----------\n",
    "        X : {array-like, sparse matrix}, shape (n_samples, n_features)\n",
    "            The training input samples. Sparse matrices are accepted only if\n",
    "            they are supported by the base estimator.\n",
    "        Returns\n",
    "        -------\n",
    "        scores : array of shape (n_samples,)\n",
    "            The anomaly score of the input samples.\n",
    "            The lower, the more abnormal.\n",
    "        \"\"\"\n",
    "        # code structure from ForestClassifier/predict_proba\n",
    "        # Check data\n",
    "        X = check_array(X, accept_sparse='csr')\n",
    "        n_jobs = multiprocessing.cpu_count() if self.n_jobs == -1 else self.n_jobs\n",
    "        if n_jobs == 1:\n",
    "            return self._decision_function_sequential(X)\n",
    "        elif self.memory_restricted:\n",
    "            return self._decision_function_shared_memory(X)\n",
    "        else:\n",
    "            return self._decision_function_fast(X)\n",
    "\n",
    "        \n",
    "        n_samples = X.shape[0]\n",
    "        \n",
    "        n_samples_leaf = np.zeros(n_samples)\n",
    "        depths = np.zeros(n_samples)\n",
    "        depths -= self.n_estimators\n",
    "        \n",
    "        n_jobs = multiprocessing.cpu_count() if self.n_jobs == -1 else self.n_jobs\n",
    "        \n",
    "        #depths_buf = np.zeros(n_samples)\n",
    "        \n",
    "        if self._max_features == X.shape[1]:\n",
    "            subsample_features = False\n",
    "        else:\n",
    "            subsample_features = True\n",
    "\n",
    "        if n_jobs == 1:\n",
    "            # sequential process of estimator outputs\n",
    "            for i, (tree, features) in enumerate(zip(self.estimators_,\n",
    "                                                     self.estimators_features_)):\n",
    "                if subsample_features:\n",
    "                    X_subset = X[:, features]\n",
    "                else:\n",
    "                    X_subset = X\n",
    "                leaves_index = tree.apply(X_subset)\n",
    "                node_indicator = tree.decision_path(X_subset)\n",
    "                n_samples_leaf = tree.tree_.n_node_samples[leaves_index]\n",
    "                depths += np.ravel(node_indicator.sum(axis=1))\n",
    "                depths += _average_path_length(n_samples_leaf)\n",
    "        else:\n",
    "            job_batch_size = self.n_estimators // n_jobs + (1 if self.n_estimators % n_jobs != 0 else 0)\n",
    "            processes = []\n",
    "            X_shared = multiprocessing.Array(ctypes.c_double if X.dtype in ['int64', 'float64'] else ctypes.c_float, X.shape[0] * X.shape[1], lock=False)\n",
    "            X_shared_arr = np.ctypeslib.as_array(X_shared).reshape(X.shape)\n",
    "            X_shared_arr[...] = X\n",
    "            depths_lock = multiprocessing.Lock()\n",
    "            depths_shared = multiprocessing.Array(ctypes.c_double, n_samples, lock=depths_lock)\n",
    "            #print(type(depths_shared))\n",
    "            #depths_lock = depths_shared.get_lock()\n",
    "            for batch_idx in range(n_jobs):\n",
    "                batch_start, batch_end = batch_idx * job_batch_size, min(self.n_estimators, (batch_idx + 1) * job_batch_size)\n",
    "                p = multiprocessing.Process(target=depths_estimator,\n",
    "                                            args=(self.estimators_[batch_start:batch_end],\n",
    "                                                  self.estimators_features_[batch_start:batch_end],\n",
    "                                                  X_shared_arr,\n",
    "                                                  depths_shared,\n",
    "                                                  subsample_features))\n",
    "                processes.append(p)\n",
    "            #print(len(processes))\n",
    "            for p in processes:\n",
    "                p.start()\n",
    "            for p in processes:\n",
    "                p.join()\n",
    "            #print(np.ctypeslib.as_array(depths_shared.get_obj()))\n",
    "            depths += np.ctypeslib.as_array(depths_shared.get_obj())\n",
    "        scores = 2 ** ((-depths / self.n_estimators) / _average_path_length(self.max_samples))\n",
    "        return 0.5 - scores\n",
    "\n",
    "def depths_estimator_joblib(estimators_, estimators_features_, X, subsample_features):\n",
    "    if subsample_features:\n",
    "        X_subset = X[:, features]\n",
    "    else:\n",
    "        X_subset = X\n",
    "    depths = np.zeros(X.shape[0])\n",
    "    \n",
    "    for tree, features in zip(estimators_, estimators_features_):\n",
    "        leaves_index = tree.apply(X_subset)\n",
    "        node_indicator = tree.decision_path(X_subset)\n",
    "        n_samples_leaf = tree.tree_.n_node_samples[leaves_index]\n",
    "        avg_path_length = _average_path_length(n_samples_leaf)\n",
    "        depths += np.ravel(node_indicator.sum(axis=1))\n",
    "        depths += _average_path_length(n_samples_leaf)\n",
    "    return depths\n",
    "\n",
    "\n",
    "def depths_estimator_local_with_queue(args_tuple):\n",
    "    estimators_, estimators_features_, X, subsample_features, queue = args_tuple\n",
    "    if subsample_features:\n",
    "        X_subset = X[:, features]\n",
    "    else:\n",
    "        X_subset = X\n",
    "    depths = np.zeros(X.shape[0])\n",
    "    \n",
    "    for tree, features in zip(estimators_, estimators_features_):\n",
    "        leaves_index = tree.apply(X_subset)\n",
    "        node_indicator = tree.decision_path(X_subset)\n",
    "        n_samples_leaf = tree.tree_.n_node_samples[leaves_index]\n",
    "        avg_path_length = _average_path_length(n_samples_leaf)\n",
    "        depths += np.ravel(node_indicator.sum(axis=1))\n",
    "        depths += _average_path_length(n_samples_leaf)\n",
    "    queue.put(depths)\n",
    "    return\n",
    "    \n",
    "    \n",
    "def depths_estimator_local(args_tuple):\n",
    "    estimators_, estimators_features_, X, subsample_features = args_tuple\n",
    "    if subsample_features:\n",
    "        X_subset = X[:, features]\n",
    "    else:\n",
    "        X_subset = X\n",
    "    depths = np.zeros(X.shape[0])\n",
    "    \n",
    "    for tree, features in zip(estimators_, estimators_features_):\n",
    "        leaves_index = tree.apply(X_subset)\n",
    "        node_indicator = tree.decision_path(X_subset)\n",
    "        n_samples_leaf = tree.tree_.n_node_samples[leaves_index]\n",
    "        avg_path_length = _average_path_length(n_samples_leaf)\n",
    "        depths += np.ravel(node_indicator.sum(axis=1))\n",
    "        depths += _average_path_length(n_samples_leaf)\n",
    "    return depths\n",
    "\n",
    "\n",
    "def depths_estimator(estimators_, estimators_features_, X, depths, subsample_features=False):\n",
    "    if subsample_features:\n",
    "        X_subset = X[:, features]\n",
    "    else:\n",
    "        X_subset = X\n",
    "    \n",
    "    for tree, features in zip(estimators_, estimators_features_):\n",
    "        leaves_index = tree.apply(X_subset)\n",
    "        node_indicator = tree.decision_path(X_subset)\n",
    "        n_samples_leaf = tree.tree_.n_node_samples[leaves_index]\n",
    "        avg_path_length = _average_path_length(n_samples_leaf)\n",
    "        lock = depths.get_lock()\n",
    "        lock.acquire()\n",
    "        depths_shared_arr = np.ctypeslib.as_array(depths.get_obj())\n",
    "        depths_shared_arr += np.ravel(node_indicator.sum(axis=1))\n",
    "        depths_shared_arr += _average_path_length(n_samples_leaf)\n",
    "        lock.release()\n",
    "    return\n",
    "\n",
    "def _average_path_length(n_samples_leaf):\n",
    "    \"\"\" The average path length in a n_samples iTree, which is equal to\n",
    "    the average path length of an unsuccessful BST search since the\n",
    "    latter has the same structure as an isolation tree.\n",
    "    Parameters\n",
    "    ----------\n",
    "    n_samples_leaf : array-like of shape (n_samples, n_estimators), or int.\n",
    "        The number of training samples in each test sample leaf, for\n",
    "        each estimators.\n",
    "    Returns\n",
    "    -------\n",
    "    average_path_length : array, same shape as n_samples_leaf\n",
    "    \"\"\"\n",
    "    if isinstance(n_samples_leaf, INTEGER_TYPES):\n",
    "        if n_samples_leaf <= 1:\n",
    "            return 1.\n",
    "        else:\n",
    "            return 2. * (np.log(n_samples_leaf - 1.) + euler_gamma) - 2. * (\n",
    "                n_samples_leaf - 1.) / n_samples_leaf\n",
    "\n",
    "    else:\n",
    "        n_samples_leaf_shape = n_samples_leaf.shape\n",
    "        n_samples_leaf = n_samples_leaf.reshape((1, -1))\n",
    "        average_path_length = np.zeros(n_samples_leaf.shape)\n",
    "\n",
    "        mask = (n_samples_leaf <= 1)\n",
    "        not_mask = np.logical_not(mask)\n",
    "\n",
    "        average_path_length[mask] = 1.\n",
    "        average_path_length[not_mask] = 2. * (\n",
    "            np.log(n_samples_leaf[not_mask] - 1.) + euler_gamma) - 2. * (\n",
    "                n_samples_leaf[not_mask] - 1.) / n_samples_leaf[not_mask]\n",
    "\n",
    "        return average_path_length.reshape(n_samples_leaf_shape)"
   ]
  },
  {
   "cell_type": "code",
   "execution_count": 30,
   "metadata": {},
   "outputs": [],
   "source": [
    "rng = np.random.RandomState(42)\n",
    "isof_target = IsolationForest(n_estimators=128, max_samples=256, random_state=rng, n_jobs=30, verbose=1, memory_restricted=False)"
   ]
  },
  {
   "cell_type": "code",
   "execution_count": 31,
   "metadata": {},
   "outputs": [
    {
     "name": "stderr",
     "output_type": "stream",
     "text": [
      "[Parallel(n_jobs=30)]: Done   2 out of  30 | elapsed:  2.9min remaining: 40.2min\n",
      "[Parallel(n_jobs=30)]: Done  30 out of  30 | elapsed:  5.9min finished\n"
     ]
    },
    {
     "name": "stdout",
     "output_type": "stream",
     "text": [
      "<class 'list'>\n",
      "[<class 'numpy.ndarray'>, <class 'numpy.ndarray'>, <class 'numpy.ndarray'>, <class 'numpy.ndarray'>, <class 'numpy.ndarray'>, <class 'numpy.ndarray'>, <class 'numpy.ndarray'>, <class 'numpy.ndarray'>, <class 'numpy.ndarray'>, <class 'numpy.ndarray'>, <class 'numpy.ndarray'>, <class 'numpy.ndarray'>, <class 'numpy.ndarray'>, <class 'numpy.ndarray'>, <class 'numpy.ndarray'>, <class 'numpy.ndarray'>, <class 'numpy.ndarray'>, <class 'numpy.ndarray'>, <class 'numpy.ndarray'>, <class 'numpy.ndarray'>, <class 'numpy.ndarray'>, <class 'numpy.ndarray'>, <class 'numpy.ndarray'>, <class 'numpy.ndarray'>, <class 'numpy.ndarray'>, <class 'numpy.ndarray'>, <class 'numpy.ndarray'>, <class 'numpy.ndarray'>, <class 'numpy.ndarray'>, <class 'numpy.ndarray'>]\n"
     ]
    },
    {
     "data": {
      "text/plain": [
       "IsolationForest(bootstrap=False, contamination=0.1, max_features=1.0,\n",
       "        max_samples=256, memory_restricted=False, n_estimators=128,\n",
       "        n_jobs=30,\n",
       "        random_state=<mtrand.RandomState object at 0x7f11f162dc60>,\n",
       "        verbose=1)"
      ]
     },
     "execution_count": 31,
     "metadata": {},
     "output_type": "execute_result"
    }
   ],
   "source": [
    "isof_target.fit(xtrain_target)"
   ]
  },
  {
   "cell_type": "code",
   "execution_count": 32,
   "metadata": {},
   "outputs": [
    {
     "name": "stdout",
     "output_type": "stream",
     "text": [
      "<class 'list'>\n",
      "[<class 'numpy.ndarray'>, <class 'numpy.ndarray'>, <class 'numpy.ndarray'>, <class 'numpy.ndarray'>, <class 'numpy.ndarray'>, <class 'numpy.ndarray'>, <class 'numpy.ndarray'>, <class 'numpy.ndarray'>, <class 'numpy.ndarray'>, <class 'numpy.ndarray'>, <class 'numpy.ndarray'>, <class 'numpy.ndarray'>, <class 'numpy.ndarray'>, <class 'numpy.ndarray'>, <class 'numpy.ndarray'>, <class 'numpy.ndarray'>, <class 'numpy.ndarray'>, <class 'numpy.ndarray'>, <class 'numpy.ndarray'>, <class 'numpy.ndarray'>, <class 'numpy.ndarray'>, <class 'numpy.ndarray'>, <class 'numpy.ndarray'>, <class 'numpy.ndarray'>, <class 'numpy.ndarray'>, <class 'numpy.ndarray'>, <class 'numpy.ndarray'>, <class 'numpy.ndarray'>, <class 'numpy.ndarray'>, <class 'numpy.ndarray'>]\n",
      "<class 'list'>\n",
      "[<class 'numpy.ndarray'>, <class 'numpy.ndarray'>, <class 'numpy.ndarray'>, <class 'numpy.ndarray'>, <class 'numpy.ndarray'>, <class 'numpy.ndarray'>, <class 'numpy.ndarray'>, <class 'numpy.ndarray'>, <class 'numpy.ndarray'>, <class 'numpy.ndarray'>, <class 'numpy.ndarray'>, <class 'numpy.ndarray'>, <class 'numpy.ndarray'>, <class 'numpy.ndarray'>, <class 'numpy.ndarray'>, <class 'numpy.ndarray'>, <class 'numpy.ndarray'>, <class 'numpy.ndarray'>, <class 'numpy.ndarray'>, <class 'numpy.ndarray'>, <class 'numpy.ndarray'>, <class 'numpy.ndarray'>, <class 'numpy.ndarray'>, <class 'numpy.ndarray'>, <class 'numpy.ndarray'>, <class 'numpy.ndarray'>, <class 'numpy.ndarray'>, <class 'numpy.ndarray'>, <class 'numpy.ndarray'>, <class 'numpy.ndarray'>]\n"
     ]
    }
   ],
   "source": [
    "train_target_links_scores = isof_target.decision_function(xtrain_target)\n",
    "test_target_links_scores = isof_target.decision_function(xtest_target)"
   ]
  },
  {
   "cell_type": "code",
   "execution_count": 33,
   "metadata": {},
   "outputs": [
    {
     "data": {
      "image/png": "[encoded data removed]",
      "text/plain": [
       "<matplotlib.figure.Figure at 0x7f11f137f0f0>"
      ]
     },
     "metadata": {},
     "output_type": "display_data"
    }
   ],
   "source": [
    "f, axes = plt.subplots(1, 2, figsize=(16, 8))\n",
    "colors = ['g', 'b', 'r']\n",
    "targets = [-1, 0, 1]\n",
    "for c, t in zip(colors, targets):\n",
    "    sns.distplot(train_target_links_scores[ytrain == t], color=c, ax=axes[0])\n",
    "\n",
    "for c, t in zip(colors, targets):\n",
    "    sns.distplot(test_target_links_scores[ytest == t], color=c, ax=axes[1])"
   ]
  },
  {
   "cell_type": "code",
   "execution_count": 34,
   "metadata": {},
   "outputs": [],
   "source": [
    "from sklearn.metrics import confusion_matrix, accuracy_score, f1_score, precision_score, recall_score, precision_recall_curve"
   ]
  },
  {
   "cell_type": "code",
   "execution_count": 37,
   "metadata": {},
   "outputs": [
    {
     "data": {
      "text/plain": [
       "array([[365166,   1464],\n",
       "       [612527,   3431]])"
      ]
     },
     "execution_count": 37,
     "metadata": {},
     "output_type": "execute_result"
    }
   ],
   "source": [
    "confusion_matrix(test_target_links_scores <= 0.18, ytest == 1)"
   ]
  },
  {
   "cell_type": "code",
   "execution_count": 43,
   "metadata": {},
   "outputs": [
    {
     "data": {
      "text/plain": [
       "139715028648008"
      ]
     },
     "execution_count": 43,
     "metadata": {},
     "output_type": "execute_result"
    }
   ],
   "source": [
    "id(isof_target)"
   ]
  },
  {
   "cell_type": "code",
   "execution_count": null,
   "metadata": {},
   "outputs": [],
   "source": []
  },
  {
   "cell_type": "code",
   "execution_count": null,
   "metadata": {},
   "outputs": [],
   "source": []
  },
  {
   "cell_type": "code",
   "execution_count": null,
   "metadata": {},
   "outputs": [],
   "source": []
  },
  {
   "cell_type": "code",
   "execution_count": null,
   "metadata": {},
   "outputs": [],
   "source": [
    "df.loc[df.P_CURRENCYCODE != 398, 'P_CURRENCYCODE'] = 0\n",
    "df.loc[df.P_CURRENCYCODE == 398, 'P_CURRENCYCODE'] = 1"
   ]
  },
  {
   "cell_type": "code",
   "execution_count": null,
   "metadata": {},
   "outputs": [],
   "source": []
  },
  {
   "cell_type": "code",
   "execution_count": null,
   "metadata": {},
   "outputs": [],
   "source": []
  },
  {
   "cell_type": "code",
   "execution_count": null,
   "metadata": {},
   "outputs": [],
   "source": []
  },
  {
   "cell_type": "code",
   "execution_count": null,
   "metadata": {},
   "outputs": [],
   "source": []
  },
  {
   "cell_type": "code",
   "execution_count": 11,
   "metadata": {},
   "outputs": [],
   "source": [
    "class IsolationForest(BaseBagging):\n",
    "    \"\"\"Isolation Forest Algorithm\n",
    "    Return the anomaly score of each sample using the IsolationForest algorithm\n",
    "    The IsolationForest 'isolates' observations by randomly selecting a feature\n",
    "    and then randomly selecting a split value between the maximum and minimum\n",
    "    values of the selected feature.\n",
    "    Since recursive partitioning can be represented by a tree structure, the\n",
    "    number of splittings required to isolate a sample is equivalent to the path\n",
    "    length from the root node to the terminating node.\n",
    "    This path length, averaged over a forest of such random trees, is a\n",
    "    measure of normality and our decision function.\n",
    "    Random partitioning produces noticeably shorter paths for anomalies.\n",
    "    Hence, when a forest of random trees collectively produce shorter path\n",
    "    lengths for particular samples, they are highly likely to be anomalies.\n",
    "    Read more in the :ref:`User Guide <isolation_forest>`.\n",
    "    .. versionadded:: 0.18\n",
    "    Parameters\n",
    "    ----------\n",
    "    n_estimators : int, optional (default=100)\n",
    "        The number of base estimators in the ensemble.\n",
    "    max_samples : int or float, optional (default=\"auto\")\n",
    "        The number of samples to draw from X to train each base estimator.\n",
    "            - If int, then draw `max_samples` samples.\n",
    "            - If float, then draw `max_samples * X.shape[0]` samples.\n",
    "            - If \"auto\", then `max_samples=min(256, n_samples)`.\n",
    "        If max_samples is larger than the number of samples provided,\n",
    "        all samples will be used for all trees (no sampling).\n",
    "    contamination : float in (0., 0.5), optional (default=0.1)\n",
    "        The amount of contamination of the data set, i.e. the proportion\n",
    "        of outliers in the data set. Used when fitting to define the threshold\n",
    "        on the decision function.\n",
    "    max_features : int or float, optional (default=1.0)\n",
    "        The number of features to draw from X to train each base estimator.\n",
    "            - If int, then draw `max_features` features.\n",
    "            - If float, then draw `max_features * X.shape[1]` features.\n",
    "    bootstrap : boolean, optional (default=False)\n",
    "        If True, individual trees are fit on random subsets of the training\n",
    "        data sampled with replacement. If False, sampling without replacement\n",
    "        is performed.\n",
    "    n_jobs : integer, optional (default=1)\n",
    "        The number of jobs to run in parallel for both `fit` and `predict`.\n",
    "        If -1, then the number of jobs is set to the number of cores.\n",
    "    random_state : int, RandomState instance or None, optional (default=None)\n",
    "        If int, random_state is the seed used by the random number generator;\n",
    "        If RandomState instance, random_state is the random number generator;\n",
    "        If None, the random number generator is the RandomState instance used\n",
    "        by `np.random`.\n",
    "    verbose : int, optional (default=0)\n",
    "        Controls the verbosity of the tree building process.\n",
    "    Attributes\n",
    "    ----------\n",
    "    estimators_ : list of DecisionTreeClassifier\n",
    "        The collection of fitted sub-estimators.\n",
    "    estimators_samples_ : list of arrays\n",
    "        The subset of drawn samples (i.e., the in-bag samples) for each base\n",
    "        estimator.\n",
    "    max_samples_ : integer\n",
    "        The actual number of samples\n",
    "    References\n",
    "    ----------\n",
    "    .. [1] Liu, Fei Tony, Ting, Kai Ming and Zhou, Zhi-Hua. \"Isolation forest.\"\n",
    "           Data Mining, 2008. ICDM'08. Eighth IEEE International Conference on.\n",
    "    .. [2] Liu, Fei Tony, Ting, Kai Ming and Zhou, Zhi-Hua. \"Isolation-based\n",
    "           anomaly detection.\" ACM Transactions on Knowledge Discovery from\n",
    "           Data (TKDD) 6.1 (2012): 3.\n",
    "    \"\"\"\n",
    "\n",
    "    def __init__(self,\n",
    "                 n_estimators=100,\n",
    "                 max_samples=\"auto\",\n",
    "                 contamination=0.1,\n",
    "                 max_features=1.,\n",
    "                 bootstrap=False,\n",
    "                 n_jobs=1,\n",
    "                 random_state=None,\n",
    "                 verbose=0, memory_restricted=False):\n",
    "        super(IsolationForest, self).__init__(\n",
    "            base_estimator=ExtraTreeRegressor(\n",
    "                max_features=1,\n",
    "                splitter='random',\n",
    "                random_state=random_state),\n",
    "            # here above max_features has no links with self.max_features\n",
    "            bootstrap=bootstrap,\n",
    "            bootstrap_features=False,\n",
    "            n_estimators=n_estimators,\n",
    "            max_samples=max_samples,\n",
    "            max_features=max_features,\n",
    "            n_jobs=n_jobs,\n",
    "            random_state=random_state,\n",
    "            verbose=verbose)\n",
    "        self.contamination = contamination\n",
    "        self.memory_restricted = memory_restricted\n",
    "\n",
    "    def _set_oob_score(self, X, y):\n",
    "        raise NotImplementedError(\"OOB score not supported by iforest\")\n",
    "\n",
    "    def fit(self, X, y=None, sample_weight=None):\n",
    "        \"\"\"Fit estimator.\n",
    "        Parameters\n",
    "        ----------\n",
    "        X : array-like or sparse matrix, shape (n_samples, n_features)\n",
    "            The input samples. Use ``dtype=np.float32`` for maximum\n",
    "            efficiency. Sparse matrices are also supported, use sparse\n",
    "            ``csc_matrix`` for maximum efficiency.\n",
    "        sample_weight : array-like, shape = [n_samples] or None\n",
    "            Sample weights. If None, then samples are equally weighted.\n",
    "        Returns\n",
    "        -------\n",
    "        self : object\n",
    "            Returns self.\n",
    "        \"\"\"\n",
    "        X = check_array(X, accept_sparse=['csc'])\n",
    "        if issparse(X):\n",
    "            # Pre-sort indices to avoid that each individual tree of the\n",
    "            # ensemble sorts the indices.\n",
    "            X.sort_indices()\n",
    "\n",
    "        rnd = check_random_state(self.random_state)\n",
    "        y = rnd.uniform(size=X.shape[0])\n",
    "\n",
    "        # ensure that max_sample is in [1, n_samples]:\n",
    "        n_samples = X.shape[0]\n",
    "\n",
    "        if isinstance(self.max_samples, six.string_types):\n",
    "            if self.max_samples == 'auto':\n",
    "                max_samples = min(256, n_samples)\n",
    "            else:\n",
    "                raise ValueError('max_samples (%s) is not supported.'\n",
    "                                 'Valid choices are: \"auto\", int or'\n",
    "                                 'float' % self.max_samples)\n",
    "\n",
    "        elif isinstance(self.max_samples, INTEGER_TYPES):\n",
    "            if self.max_samples > n_samples:\n",
    "                warn(\"max_samples (%s) is greater than the \"\n",
    "                     \"total number of samples (%s). max_samples \"\n",
    "                     \"will be set to n_samples for estimation.\"\n",
    "                     % (self.max_samples, n_samples))\n",
    "                max_samples = n_samples\n",
    "            else:\n",
    "                max_samples = self.max_samples\n",
    "        else:  # float\n",
    "            if not (0. < self.max_samples <= 1.):\n",
    "                raise ValueError(\"max_samples must be in (0, 1], got %r\"\n",
    "                                 % self.max_samples)\n",
    "            max_samples = int(self.max_samples * X.shape[0])\n",
    "\n",
    "        self.max_samples_ = max_samples\n",
    "        max_depth = int(np.ceil(np.log2(max(max_samples, 2))))\n",
    "        super(IsolationForest, self)._fit(X, y, max_samples,\n",
    "                                          max_depth=max_depth,\n",
    "                                          sample_weight=sample_weight)\n",
    "\n",
    "        self.threshold_ = -sp.stats.scoreatpercentile(\n",
    "            -self.decision_function(X), 100. * (1. - self.contamination))\n",
    "\n",
    "        return self\n",
    "\n",
    "    def predict(self, X):\n",
    "        \"\"\"Predict if a particular sample is an outlier or not.\n",
    "        Parameters\n",
    "        ----------\n",
    "        X : array-like or sparse matrix, shape (n_samples, n_features)\n",
    "            The input samples. Internally, it will be converted to\n",
    "            ``dtype=np.float32`` and if a sparse matrix is provided\n",
    "            to a sparse ``csr_matrix``.\n",
    "        Returns\n",
    "        -------\n",
    "        is_inlier : array, shape (n_samples,)\n",
    "            For each observations, tells whether or not (+1 or -1) it should\n",
    "            be considered as an inlier according to the fitted model.\n",
    "        \"\"\"\n",
    "        X = check_array(X, accept_sparse='csr')\n",
    "        is_inlier = np.ones(X.shape[0], dtype=int)\n",
    "        is_inlier[self.decision_function(X) <= self.threshold_] = -1\n",
    "        return is_inlier\n",
    "    \n",
    "    def _decision_function_sequential(self, X):\n",
    "        n_samples = X.shape[0]\n",
    "        \n",
    "        if self._max_features == X.shape[1]:\n",
    "            subsample_features = False\n",
    "        else:\n",
    "            subsample_features = True\n",
    "        \n",
    "        n_samples_leaf = np.zeros(n_samples)\n",
    "        depths = np.zeros(n_samples)\n",
    "        depths -= self.n_estimators\n",
    "        \n",
    "        # sequential process of estimator outputs\n",
    "        for i, (tree, features) in enumerate(zip(self.estimators_,\n",
    "                                                 self.estimators_features_)):\n",
    "            if subsample_features:\n",
    "                X_subset = X[:, features]\n",
    "            else:\n",
    "                X_subset = X\n",
    "            leaves_index = tree.apply(X_subset)\n",
    "            node_indicator = tree.decision_path(X_subset)\n",
    "            n_samples_leaf = tree.tree_.n_node_samples[leaves_index]\n",
    "            depths += np.ravel(node_indicator.sum(axis=1))\n",
    "            depths += _average_path_length(n_samples_leaf)\n",
    "        scores = 2 ** ((-depths / self.n_estimators) / _average_path_length(self.max_samples))\n",
    "        return scores\n",
    "    \n",
    "    def _decision_function_shared_memory(self, X):\n",
    "        n_samples = X.shape[0]\n",
    "        \n",
    "        if self._max_features == X.shape[1]:\n",
    "            subsample_features = False\n",
    "        else:\n",
    "            subsample_features = True\n",
    "        \n",
    "        n_samples_leaf = np.zeros(n_samples)\n",
    "        depths = np.zeros(n_samples)\n",
    "        depths -= self.n_estimators        \n",
    "\n",
    "        job_batch_size = self.n_estimators // n_jobs + (1 if self.n_estimators % n_jobs != 0 else 0)\n",
    "        processes = []\n",
    "        X_shared = multiprocessing.Array(ctypes.c_double if X.dtype in ['int64', 'float64'] else ctypes.c_float, X.shape[0] * X.shape[1], lock=False)\n",
    "        X_shared_arr = np.ctypeslib.as_array(X_shared).reshape(X.shape)\n",
    "        X_shared_arr[...] = X\n",
    "        depths_lock = multiprocessing.Lock()\n",
    "        depths_shared = multiprocessing.Array(ctypes.c_double, n_samples, lock=depths_lock)\n",
    "        #print(type(depths_shared))\n",
    "        #depths_lock = depths_shared.get_lock()\n",
    "        for batch_idx in range(n_jobs):\n",
    "            batch_start, batch_end = batch_idx * job_batch_size, min(self.n_estimators, (batch_idx + 1) * job_batch_size)\n",
    "            p = multiprocessing.Process(target=depths_estimator,\n",
    "                                        args=(self.estimators_[batch_start:batch_end],\n",
    "                                              self.estimators_features_[batch_start:batch_end],\n",
    "                                              X_shared_arr,\n",
    "                                              depths_shared,\n",
    "                                              subsample_features, batch_idx))\n",
    "            processes.append(p)\n",
    "        #print(len(processes))\n",
    "        for p in processes:\n",
    "            p.start()\n",
    "        for p in processes:\n",
    "            p.join()\n",
    "        #print(np.ctypeslib.as_array(depths_shared.get_obj()))\n",
    "        depths += np.ctypeslib.as_array(depths_shared.get_obj())\n",
    "        \n",
    "        scores = 2 ** ((-depths / self.n_estimators) / _average_path_length(self.max_samples))\n",
    "        return 0.5 - scores\n",
    "    \n",
    "    def _decision_function_fast(self, X):\n",
    "        n_samples = X.shape[0]\n",
    "        \n",
    "        if self._max_features == X.shape[1]:\n",
    "            subsample_features = False\n",
    "        else:\n",
    "            subsample_features = True\n",
    "        \n",
    "        n_samples_leaf = np.zeros(n_samples)\n",
    "        depths = np.zeros(n_samples)\n",
    "        depths -= self.n_estimators\n",
    "        \n",
    "        n_jobs = multiprocessing.cpu_count() if self.n_jobs == -1 else self.n_jobs\n",
    "        \n",
    "        job_batch_size = self.n_estimators // n_jobs + (1 if self.n_estimators % n_jobs != 0 else 0)\n",
    "        processes = []\n",
    "        X_shared = multiprocessing.Array(ctypes.c_double if X.dtype in ['int64', 'float64'] else ctypes.c_float, X.shape[0] * X.shape[1], lock=False)\n",
    "        X_shared_arr = np.ctypeslib.as_array(X_shared).reshape(X.shape)\n",
    "        X_shared_arr[...] = X\n",
    "        q = multiprocessing.Queue(maxsize=n_jobs)\n",
    "        for batch_idx in range(n_jobs):\n",
    "            batch_start, batch_end = batch_idx * job_batch_size, min(self.n_estimators, (batch_idx + 1) * job_batch_size)\n",
    "            p = multiprocessing.Process(target=depths_estimator,\n",
    "                                        args=(self.estimators_[batch_start:batch_end],\n",
    "                                              self.estimators_features_[batch_start:batch_end],\n",
    "                                              X_shared_arr,\n",
    "                                              subsample_features,\n",
    "                                              q))\n",
    "            processes.append(p)\n",
    "        #print(len(processes))\n",
    "        for p in processes:\n",
    "            p.start()\n",
    "        for p in processes:\n",
    "            p.join()\n",
    "        #print(np.ctypeslib.as_array(depths_shared.get_obj()))\n",
    "        \n",
    "        depths += np.ctypeslib.as_array(depths_shared.get_obj())\n",
    "        \n",
    "        with multiprocessing.Pool(processes=n_jobs) as pool:\n",
    "            estimators = []\n",
    "            estimators_features = []\n",
    "            for batch_idx in range(n_jobs):\n",
    "                batch_start, batch_end = batch_idx * job_batch_size, min(self.n_estimators, (batch_idx + 1) * job_batch_size)\n",
    "                estimators.append(self.estimators_[batch_start:batch_end])\n",
    "                estimators_features.append(self.estimators_features_[batch_start:batch_end])\n",
    "            depths_to_merge = list(\n",
    "                pool.map(depths_estimator_local,\n",
    "                         list(zip(estimators, estimators_features, [X_shared_arr] * n_jobs, [subsample_features] * n_jobs)))\n",
    "            )\n",
    "        for depth_to_merge in depths_to_merge:\n",
    "            depths += depth_to_merge\n",
    "            del depth_to_merge\n",
    "        del depths_to_merge\n",
    "            \n",
    "        scores = 2 ** ((-depths / self.n_estimators) / _average_path_length(self.max_samples))\n",
    "        return 0.5 - scores\n",
    "        \n",
    "\n",
    "    def decision_function(self, X):\n",
    "        \"\"\"Average anomaly score of X of the base classifiers.\n",
    "        The anomaly score of an input sample is computed as\n",
    "        the mean anomaly score of the trees in the forest.\n",
    "        The measure of normality of an observation given a tree is the depth\n",
    "        of the leaf containing this observation, which is equivalent to\n",
    "        the number of splittings required to isolate this point. In case of\n",
    "        several observations n_left in the leaf, the average path length of\n",
    "        a n_left samples isolation tree is added.\n",
    "        Parameters\n",
    "        ----------\n",
    "        X : {array-like, sparse matrix}, shape (n_samples, n_features)\n",
    "            The training input samples. Sparse matrices are accepted only if\n",
    "            they are supported by the base estimator.\n",
    "        Returns\n",
    "        -------\n",
    "        scores : array of shape (n_samples,)\n",
    "            The anomaly score of the input samples.\n",
    "            The lower, the more abnormal.\n",
    "        \"\"\"\n",
    "        # code structure from ForestClassifier/predict_proba\n",
    "        # Check data\n",
    "        X = check_array(X, accept_sparse='csr')\n",
    "        n_jobs = multiprocessing.cpu_count() if self.n_jobs == -1 else self.n_jobs\n",
    "        if n_jobs == 1:\n",
    "            return self._decision_function_sequential(X)\n",
    "        elif self.memory_restricted:\n",
    "            return self._decision_function_shared_memory(X)\n",
    "        else:\n",
    "            return self._decision_function_fast(X)\n",
    "\n",
    "        \n",
    "        n_samples = X.shape[0]\n",
    "        \n",
    "        n_samples_leaf = np.zeros(n_samples)\n",
    "        depths = np.zeros(n_samples)\n",
    "        depths -= self.n_estimators\n",
    "        \n",
    "        n_jobs = multiprocessing.cpu_count() if self.n_jobs == -1 else self.n_jobs\n",
    "        \n",
    "        #depths_buf = np.zeros(n_samples)\n",
    "        \n",
    "        if self._max_features == X.shape[1]:\n",
    "            subsample_features = False\n",
    "        else:\n",
    "            subsample_features = True\n",
    "\n",
    "        if n_jobs == 1:\n",
    "            # sequential process of estimator outputs\n",
    "            for i, (tree, features) in enumerate(zip(self.estimators_,\n",
    "                                                     self.estimators_features_)):\n",
    "                if subsample_features:\n",
    "                    X_subset = X[:, features]\n",
    "                else:\n",
    "                    X_subset = X\n",
    "                leaves_index = tree.apply(X_subset)\n",
    "                node_indicator = tree.decision_path(X_subset)\n",
    "                n_samples_leaf = tree.tree_.n_node_samples[leaves_index]\n",
    "                depths += np.ravel(node_indicator.sum(axis=1))\n",
    "                depths += _average_path_length(n_samples_leaf)\n",
    "        else:\n",
    "            job_batch_size = self.n_estimators // n_jobs + (1 if self.n_estimators % n_jobs != 0 else 0)\n",
    "            processes = []\n",
    "            X_shared = multiprocessing.Array(ctypes.c_double if X.dtype in ['int64', 'float64'] else ctypes.c_float, X.shape[0] * X.shape[1], lock=False)\n",
    "            X_shared_arr = np.ctypeslib.as_array(X_shared).reshape(X.shape)\n",
    "            X_shared_arr[...] = X\n",
    "            depths_lock = multiprocessing.Lock()\n",
    "            depths_shared = multiprocessing.Array(ctypes.c_double, n_samples, lock=depths_lock)\n",
    "            #print(type(depths_shared))\n",
    "            #depths_lock = depths_shared.get_lock()\n",
    "            for batch_idx in range(n_jobs):\n",
    "                batch_start, batch_end = batch_idx * job_batch_size, min(self.n_estimators, (batch_idx + 1) * job_batch_size)\n",
    "                p = multiprocessing.Process(target=depths_estimator,\n",
    "                                            args=(self.estimators_[batch_start:batch_end],\n",
    "                                                  self.estimators_features_[batch_start:batch_end],\n",
    "                                                  X_shared_arr,\n",
    "                                                  depths_shared,\n",
    "                                                  subsample_features))\n",
    "                processes.append(p)\n",
    "            #print(len(processes))\n",
    "            for p in processes:\n",
    "                p.start()\n",
    "            for p in processes:\n",
    "                p.join()\n",
    "            #print(np.ctypeslib.as_array(depths_shared.get_obj()))\n",
    "            depths += np.ctypeslib.as_array(depths_shared.get_obj())\n",
    "        scores = 2 ** ((-depths / self.n_estimators) / _average_path_length(self.max_samples))\n",
    "        return 0.5 - scores\n",
    "\n",
    "def depths_estimator_local_with_queue(args_tuple):\n",
    "    estimators_, estimators_features_, X, subsample_features, queue = args_tuple\n",
    "    if subsample_features:\n",
    "        X_subset = X[:, features]\n",
    "    else:\n",
    "        X_subset = X\n",
    "    depths = np.zeros(X.shape[0])\n",
    "    \n",
    "    for tree, features in zip(estimators_, estimators_features_):\n",
    "        leaves_index = tree.apply(X_subset)\n",
    "        node_indicator = tree.decision_path(X_subset)\n",
    "        n_samples_leaf = tree.tree_.n_node_samples[leaves_index]\n",
    "        avg_path_length = _average_path_length(n_samples_leaf)\n",
    "        depths += np.ravel(node_indicator.sum(axis=1))\n",
    "        depths += _average_path_length(n_samples_leaf)\n",
    "    queue.put(depths)\n",
    "    return\n",
    "    \n",
    "    \n",
    "def depths_estimator_local(args_tuple):\n",
    "    estimators_, estimators_features_, X, subsample_features = args_tuple\n",
    "    if subsample_features:\n",
    "        X_subset = X[:, features]\n",
    "    else:\n",
    "        X_subset = X\n",
    "    depths = np.zeros(X.shape[0])\n",
    "    \n",
    "    for tree, features in zip(estimators_, estimators_features_):\n",
    "        leaves_index = tree.apply(X_subset)\n",
    "        node_indicator = tree.decision_path(X_subset)\n",
    "        n_samples_leaf = tree.tree_.n_node_samples[leaves_index]\n",
    "        avg_path_length = _average_path_length(n_samples_leaf)\n",
    "        depths += np.ravel(node_indicator.sum(axis=1))\n",
    "        depths += _average_path_length(n_samples_leaf)\n",
    "    return depths\n",
    "\n",
    "\n",
    "def depths_estimator(estimators_, estimators_features_, X, depths, subsample_features=False):\n",
    "    if subsample_features:\n",
    "        X_subset = X[:, features]\n",
    "    else:\n",
    "        X_subset = X\n",
    "    \n",
    "    for tree, features in zip(estimators_, estimators_features_):\n",
    "        leaves_index = tree.apply(X_subset)\n",
    "        node_indicator = tree.decision_path(X_subset)\n",
    "        n_samples_leaf = tree.tree_.n_node_samples[leaves_index]\n",
    "        avg_path_length = _average_path_length(n_samples_leaf)\n",
    "        lock = depths.get_lock()\n",
    "        lock.acquire()\n",
    "        depths_shared_arr = np.ctypeslib.as_array(depths.get_obj())\n",
    "        depths_shared_arr += np.ravel(node_indicator.sum(axis=1))\n",
    "        depths_shared_arr += _average_path_length(n_samples_leaf)\n",
    "        lock.release()\n",
    "    return\n",
    "\n",
    "def _average_path_length(n_samples_leaf):\n",
    "    \"\"\" The average path length in a n_samples iTree, which is equal to\n",
    "    the average path length of an unsuccessful BST search since the\n",
    "    latter has the same structure as an isolation tree.\n",
    "    Parameters\n",
    "    ----------\n",
    "    n_samples_leaf : array-like of shape (n_samples, n_estimators), or int.\n",
    "        The number of training samples in each test sample leaf, for\n",
    "        each estimators.\n",
    "    Returns\n",
    "    -------\n",
    "    average_path_length : array, same shape as n_samples_leaf\n",
    "    \"\"\"\n",
    "    if isinstance(n_samples_leaf, INTEGER_TYPES):\n",
    "        if n_samples_leaf <= 1:\n",
    "            return 1.\n",
    "        else:\n",
    "            return 2. * (np.log(n_samples_leaf - 1.) + euler_gamma) - 2. * (\n",
    "                n_samples_leaf - 1.) / n_samples_leaf\n",
    "\n",
    "    else:\n",
    "        n_samples_leaf_shape = n_samples_leaf.shape\n",
    "        n_samples_leaf = n_samples_leaf.reshape((1, -1))\n",
    "        average_path_length = np.zeros(n_samples_leaf.shape)\n",
    "\n",
    "        mask = (n_samples_leaf <= 1)\n",
    "        not_mask = np.logical_not(mask)\n",
    "\n",
    "        average_path_length[mask] = 1.\n",
    "        average_path_length[not_mask] = 2. * (\n",
    "            np.log(n_samples_leaf[not_mask] - 1.) + euler_gamma) - 2. * (\n",
    "                n_samples_leaf[not_mask] - 1.) / n_samples_leaf[not_mask]\n",
    "\n",
    "        return average_path_length.reshape(n_samples_leaf_shape)"
   ]
  },
  {
   "cell_type": "code",
   "execution_count": 12,
   "metadata": {},
   "outputs": [
    {
     "name": "stderr",
     "output_type": "stream",
     "text": [
      "[Parallel(n_jobs=32)]: Done   2 out of  32 | elapsed:  2.0min remaining: 30.1min\n",
      "[Parallel(n_jobs=32)]: Done  32 out of  32 | elapsed:  3.6min finished\n"
     ]
    },
    {
     "data": {
      "image/png": "[encoded data removed]",
      "text/plain": [
       "<matplotlib.figure.Figure at 0x7f1002506d68>"
      ]
     },
     "metadata": {},
     "output_type": "display_data"
    }
   ],
   "source": [
    "rng = np.random.RandomState(42)\n",
    "isof_input_source = IsolationForest(n_estimators=250, max_samples=256, random_state=rng, n_jobs=-1, verbose=1, memory_restricted=False)\n",
    "\n",
    "isof_input_source.fit(xtrain_input_source)\n",
    "\n",
    "train_input_source_links_scores = isof_input_source.decision_function(xtrain_input_source)\n",
    "test_input_source_links_scores = isof_input_source.decision_function(xtest_input_source)\n",
    "\n",
    "f, axes = plt.subplots(1, 2, figsize=(16, 8))\n",
    "colors = ['g', 'b', 'r']\n",
    "targets = [-1, 0, 1]\n",
    "for c, t in zip(colors, targets):\n",
    "    sns.distplot(train_input_source_links_scores[ytrain == t], color=c, ax=axes[0])\n",
    "\n",
    "for c, t in zip(colors, targets):\n",
    "    sns.distplot(test_input_source_links_scores[ytest == t], color=c, ax=axes[1])"
   ]
  },
  {
   "cell_type": "code",
   "execution_count": null,
   "metadata": {},
   "outputs": [
    {
     "name": "stderr",
     "output_type": "stream",
     "text": [
      "[Parallel(n_jobs=32)]: Done   2 out of  32 | elapsed:  2.1min remaining: 32.1min\n",
      "[Parallel(n_jobs=32)]: Done  32 out of  32 | elapsed:  3.6min finished\n"
     ]
    }
   ],
   "source": [
    "rng = np.random.RandomState(42)\n",
    "isof_input_target = IsolationForest(n_estimators=250, max_samples=256, random_state=rng, n_jobs=-1, verbose=1, memory_restricted=False)\n",
    "\n",
    "isof_input_target.fit(xtrain_input_target)\n",
    "\n",
    "train_input_target_links_scores = isof_input_target.decision_function(xtrain_input_target)\n",
    "test_input_target_links_scores = isof_input_target.decision_function(xtest_input_target)\n",
    "\n",
    "f, axes = plt.subplots(1, 2, figsize=(16, 8))\n",
    "colors = ['g', 'b', 'r']\n",
    "targets = [-1, 0, 1]\n",
    "for c, t in zip(colors, targets):\n",
    "    sns.distplot(train_input_target_links_scores[ytrain == t], color=c, ax=axes[0])\n",
    "\n",
    "for c, t in zip(colors, targets):\n",
    "    sns.distplot(test_input_target_links_scores[ytest == t], color=c, ax=axes[1])"
   ]
  },
  {
   "cell_type": "code",
   "execution_count": 17,
   "metadata": {},
   "outputs": [
    {
     "data": {
      "image/png": "[encoded data removed]",
      "text/plain": [
       "<matplotlib.figure.Figure at 0x7f11f1142c18>"
      ]
     },
     "metadata": {},
     "output_type": "display_data"
    }
   ],
   "source": [
    "f, axes = plt.subplots(1, 2, figsize=(16, 8))\n",
    "colors = ['g', 'b', 'r']\n",
    "targets = [-1, 0, 1]\n",
    "for c, t in zip(colors, targets):\n",
    "    sns.distplot(train_input_target_links_scores[ytrain == t], color=c, ax=axes[0])\n",
    "\n",
    "for c, t in zip(colors, targets):\n",
    "    sns.distplot(test_input_target_links_scores[ytest == t], color=c, ax=axes[1])"
   ]
  },
  {
   "cell_type": "code",
   "execution_count": 14,
   "metadata": {},
   "outputs": [
    {
     "name": "stderr",
     "output_type": "stream",
     "text": [
      "[Parallel(n_jobs=32)]: Done   2 out of  32 | elapsed:  2.0min remaining: 30.7min\n",
      "[Parallel(n_jobs=32)]: Done  32 out of  32 | elapsed:  3.6min finished\n"
     ]
    },
    {
     "data": {
      "image/png": "[encoded data removed]",
      "text/plain": [
       "<matplotlib.figure.Figure at 0x7f11f153fb00>"
      ]
     },
     "metadata": {},
     "output_type": "display_data"
    }
   ],
   "source": [
    "rng = np.random.RandomState(42)\n",
    "isof_output_source = IsolationForest(n_estimators=250, max_samples=256, random_state=rng, n_jobs=-1, verbose=1, memory_restricted=False)\n",
    "\n",
    "isof_output_source.fit(xtrain_output_source)\n",
    "\n",
    "train_output_source_links_scores = isof_output_source.decision_function(xtrain_output_source)\n",
    "test_output_source_links_scores = isof_output_source.decision_function(xtest_output_source)\n",
    "\n",
    "f, axes = plt.subplots(1, 2, figsize=(16, 8))\n",
    "colors = ['g', 'b', 'r']\n",
    "targets = [-1, 0, 1]\n",
    "for c, t in zip(colors, targets):\n",
    "    sns.distplot(train_output_source_links_scores[ytrain == t], color=c, ax=axes[0])\n",
    "\n",
    "for c, t in zip(colors, targets):\n",
    "    sns.distplot(test_output_source_links_scores[ytest == t], color=c, ax=axes[1])"
   ]
  },
  {
   "cell_type": "code",
   "execution_count": 15,
   "metadata": {},
   "outputs": [
    {
     "name": "stderr",
     "output_type": "stream",
     "text": [
      "[Parallel(n_jobs=32)]: Done   2 out of  32 | elapsed:  2.0min remaining: 30.4min\n",
      "[Parallel(n_jobs=32)]: Done  32 out of  32 | elapsed:  3.6min finished\n"
     ]
    },
    {
     "data": {
      "image/png": "[encoded data removed]",
      "text/plain": [
       "<matplotlib.figure.Figure at 0x7f11f11f1a90>"
      ]
     },
     "metadata": {},
     "output_type": "display_data"
    }
   ],
   "source": [
    "rng = np.random.RandomState(42)\n",
    "isof_output_target = IsolationForest(n_estimators=2000, max_samples=256, random_state=rng, n_jobs=-1, verbose=1, memory_restricted=False)\n",
    "\n",
    "isof_output_target.fit(xtrain_output_target)\n",
    "\n",
    "train_output_target_links_scores = isof_output_target.decision_function(xtrain_output_target)\n",
    "test_output_target_links_scores = isof_output_target.decision_function(xtest_output_target)\n",
    "\n",
    "f, axes = plt.subplots(1, 2, figsize=(16, 8))\n",
    "colors = ['g', 'b', 'r']\n",
    "targets = [-1, 0, 1]\n",
    "for c, t in zip(colors, targets):\n",
    "    sns.distplot(train_output_target_links_scores[ytrain == t], color=c, ax=axes[0])\n",
    "\n",
    "for c, t in zip(colors, targets):\n",
    "    sns.distplot(test_output_target_links_scores[ytest == t], color=c, ax=axes[1])"
   ]
  },
  {
   "cell_type": "code",
   "execution_count": 18,
   "metadata": {},
   "outputs": [],
   "source": [
    "xtrain_target = np.c_[xtrain_input_target, xtrain_output_target]\n",
    "xtest_target = np.c_[xtest_input_target, xtest_output_target]"
   ]
  },
  {
   "cell_type": "code",
   "execution_count": 19,
   "metadata": {},
   "outputs": [
    {
     "name": "stderr",
     "output_type": "stream",
     "text": [
      "[Parallel(n_jobs=30)]: Done   2 out of  30 | elapsed: 14.5min remaining: 203.0min\n",
      "[Parallel(n_jobs=30)]: Done  30 out of  30 | elapsed: 17.4min finished\n"
     ]
    },
    {
     "ename": "error",
     "evalue": "'i' format requires -2147483648 <= number <= 2147483647",
     "output_type": "error",
     "traceback": [
      "\u001b[0;31m---------------------------------------------------------------------------\u001b[0m",
      "\u001b[0;31merror\u001b[0m                                     Traceback (most recent call last)",
      "\u001b[0;32m<ipython-input-19-c09000a107ad>\u001b[0m in \u001b[0;36m<module>\u001b[0;34m()\u001b[0m\n\u001b[1;32m      2\u001b[0m \u001b[0misof_target\u001b[0m \u001b[0;34m=\u001b[0m \u001b[0mIsolationForest\u001b[0m\u001b[0;34m(\u001b[0m\u001b[0mn_estimators\u001b[0m\u001b[0;34m=\u001b[0m\u001b[0;36m1000\u001b[0m\u001b[0;34m,\u001b[0m \u001b[0mmax_samples\u001b[0m\u001b[0;34m=\u001b[0m\u001b[0;36m256\u001b[0m\u001b[0;34m,\u001b[0m \u001b[0mrandom_state\u001b[0m\u001b[0;34m=\u001b[0m\u001b[0mrng\u001b[0m\u001b[0;34m,\u001b[0m \u001b[0mn_jobs\u001b[0m\u001b[0;34m=\u001b[0m\u001b[0;36m30\u001b[0m\u001b[0;34m,\u001b[0m \u001b[0mverbose\u001b[0m\u001b[0;34m=\u001b[0m\u001b[0;36m1\u001b[0m\u001b[0;34m,\u001b[0m \u001b[0mmemory_restricted\u001b[0m\u001b[0;34m=\u001b[0m\u001b[0;32mFalse\u001b[0m\u001b[0;34m)\u001b[0m\u001b[0;34m\u001b[0m\u001b[0m\n\u001b[1;32m      3\u001b[0m \u001b[0;34m\u001b[0m\u001b[0m\n\u001b[0;32m----> 4\u001b[0;31m \u001b[0misof_target\u001b[0m\u001b[0;34m.\u001b[0m\u001b[0mfit\u001b[0m\u001b[0;34m(\u001b[0m\u001b[0mxtrain_target\u001b[0m\u001b[0;34m)\u001b[0m\u001b[0;34m\u001b[0m\u001b[0m\n\u001b[0m\u001b[1;32m      5\u001b[0m \u001b[0;34m\u001b[0m\u001b[0m\n\u001b[1;32m      6\u001b[0m \u001b[0mtrain_target_links_scores\u001b[0m \u001b[0;34m=\u001b[0m \u001b[0misof_target\u001b[0m\u001b[0;34m.\u001b[0m\u001b[0mdecision_function\u001b[0m\u001b[0;34m(\u001b[0m\u001b[0mxtrain_target\u001b[0m\u001b[0;34m)\u001b[0m\u001b[0;34m\u001b[0m\u001b[0m\n",
      "\u001b[0;32m<ipython-input-11-53bbece1a9a9>\u001b[0m in \u001b[0;36mfit\u001b[0;34m(self, X, y, sample_weight)\u001b[0m\n\u001b[1;32m    152\u001b[0m \u001b[0;34m\u001b[0m\u001b[0m\n\u001b[1;32m    153\u001b[0m         self.threshold_ = -sp.stats.scoreatpercentile(\n\u001b[0;32m--> 154\u001b[0;31m             -self.decision_function(X), 100. * (1. - self.contamination))\n\u001b[0m\u001b[1;32m    155\u001b[0m \u001b[0;34m\u001b[0m\u001b[0m\n\u001b[1;32m    156\u001b[0m         \u001b[0;32mreturn\u001b[0m \u001b[0mself\u001b[0m\u001b[0;34m\u001b[0m\u001b[0m\n",
      "\u001b[0;32m<ipython-input-11-53bbece1a9a9>\u001b[0m in \u001b[0;36mdecision_function\u001b[0;34m(self, X)\u001b[0m\n\u001b[1;32m    312\u001b[0m             \u001b[0;32mreturn\u001b[0m \u001b[0mself\u001b[0m\u001b[0;34m.\u001b[0m\u001b[0m_decision_function_shared_memory\u001b[0m\u001b[0;34m(\u001b[0m\u001b[0mX\u001b[0m\u001b[0;34m)\u001b[0m\u001b[0;34m\u001b[0m\u001b[0m\n\u001b[1;32m    313\u001b[0m         \u001b[0;32melse\u001b[0m\u001b[0;34m:\u001b[0m\u001b[0;34m\u001b[0m\u001b[0m\n\u001b[0;32m--> 314\u001b[0;31m             \u001b[0;32mreturn\u001b[0m \u001b[0mself\u001b[0m\u001b[0;34m.\u001b[0m\u001b[0m_decision_function_fast\u001b[0m\u001b[0;34m(\u001b[0m\u001b[0mX\u001b[0m\u001b[0;34m)\u001b[0m\u001b[0;34m\u001b[0m\u001b[0m\n\u001b[0m\u001b[1;32m    315\u001b[0m \u001b[0;34m\u001b[0m\u001b[0m\n\u001b[1;32m    316\u001b[0m \u001b[0;34m\u001b[0m\u001b[0m\n",
      "\u001b[0;32m<ipython-input-11-53bbece1a9a9>\u001b[0m in \u001b[0;36m_decision_function_fast\u001b[0;34m(self, X)\u001b[0m\n\u001b[1;32m    272\u001b[0m             depths_to_merge = list(\n\u001b[1;32m    273\u001b[0m                 pool.map(depths_estimator_local,\n\u001b[0;32m--> 274\u001b[0;31m                          list(zip(estimators, estimators_features, [X_shared_arr] * n_jobs, [subsample_features] * n_jobs)))\n\u001b[0m\u001b[1;32m    275\u001b[0m             )\n\u001b[1;32m    276\u001b[0m         \u001b[0;32mfor\u001b[0m \u001b[0mdepth_to_merge\u001b[0m \u001b[0;32min\u001b[0m \u001b[0mdepths_to_merge\u001b[0m\u001b[0;34m:\u001b[0m\u001b[0;34m\u001b[0m\u001b[0m\n",
      "\u001b[0;32m~/anaconda3/lib/python3.6/multiprocessing/pool.py\u001b[0m in \u001b[0;36mmap\u001b[0;34m(self, func, iterable, chunksize)\u001b[0m\n\u001b[1;32m    264\u001b[0m         \u001b[0;32min\u001b[0m \u001b[0ma\u001b[0m \u001b[0mlist\u001b[0m \u001b[0mthat\u001b[0m \u001b[0;32mis\u001b[0m \u001b[0mreturned\u001b[0m\u001b[0;34m.\u001b[0m\u001b[0;34m\u001b[0m\u001b[0m\n\u001b[1;32m    265\u001b[0m         '''\n\u001b[0;32m--> 266\u001b[0;31m         \u001b[0;32mreturn\u001b[0m \u001b[0mself\u001b[0m\u001b[0;34m.\u001b[0m\u001b[0m_map_async\u001b[0m\u001b[0;34m(\u001b[0m\u001b[0mfunc\u001b[0m\u001b[0;34m,\u001b[0m \u001b[0miterable\u001b[0m\u001b[0;34m,\u001b[0m \u001b[0mmapstar\u001b[0m\u001b[0;34m,\u001b[0m \u001b[0mchunksize\u001b[0m\u001b[0;34m)\u001b[0m\u001b[0;34m.\u001b[0m\u001b[0mget\u001b[0m\u001b[0;34m(\u001b[0m\u001b[0;34m)\u001b[0m\u001b[0;34m\u001b[0m\u001b[0m\n\u001b[0m\u001b[1;32m    267\u001b[0m \u001b[0;34m\u001b[0m\u001b[0m\n\u001b[1;32m    268\u001b[0m     \u001b[0;32mdef\u001b[0m \u001b[0mstarmap\u001b[0m\u001b[0;34m(\u001b[0m\u001b[0mself\u001b[0m\u001b[0;34m,\u001b[0m \u001b[0mfunc\u001b[0m\u001b[0;34m,\u001b[0m \u001b[0miterable\u001b[0m\u001b[0;34m,\u001b[0m \u001b[0mchunksize\u001b[0m\u001b[0;34m=\u001b[0m\u001b[0;32mNone\u001b[0m\u001b[0;34m)\u001b[0m\u001b[0;34m:\u001b[0m\u001b[0;34m\u001b[0m\u001b[0m\n",
      "\u001b[0;32m~/anaconda3/lib/python3.6/multiprocessing/pool.py\u001b[0m in \u001b[0;36mget\u001b[0;34m(self, timeout)\u001b[0m\n\u001b[1;32m    642\u001b[0m             \u001b[0;32mreturn\u001b[0m \u001b[0mself\u001b[0m\u001b[0;34m.\u001b[0m\u001b[0m_value\u001b[0m\u001b[0;34m\u001b[0m\u001b[0m\n\u001b[1;32m    643\u001b[0m         \u001b[0;32melse\u001b[0m\u001b[0;34m:\u001b[0m\u001b[0;34m\u001b[0m\u001b[0m\n\u001b[0;32m--> 644\u001b[0;31m             \u001b[0;32mraise\u001b[0m \u001b[0mself\u001b[0m\u001b[0;34m.\u001b[0m\u001b[0m_value\u001b[0m\u001b[0;34m\u001b[0m\u001b[0m\n\u001b[0m\u001b[1;32m    645\u001b[0m \u001b[0;34m\u001b[0m\u001b[0m\n\u001b[1;32m    646\u001b[0m     \u001b[0;32mdef\u001b[0m \u001b[0m_set\u001b[0m\u001b[0;34m(\u001b[0m\u001b[0mself\u001b[0m\u001b[0;34m,\u001b[0m \u001b[0mi\u001b[0m\u001b[0;34m,\u001b[0m \u001b[0mobj\u001b[0m\u001b[0;34m)\u001b[0m\u001b[0;34m:\u001b[0m\u001b[0;34m\u001b[0m\u001b[0m\n",
      "\u001b[0;32m~/anaconda3/lib/python3.6/multiprocessing/pool.py\u001b[0m in \u001b[0;36m_handle_tasks\u001b[0;34m(taskqueue, put, outqueue, pool, cache)\u001b[0m\n\u001b[1;32m    422\u001b[0m                         \u001b[0;32mbreak\u001b[0m\u001b[0;34m\u001b[0m\u001b[0m\n\u001b[1;32m    423\u001b[0m                     \u001b[0;32mtry\u001b[0m\u001b[0;34m:\u001b[0m\u001b[0;34m\u001b[0m\u001b[0m\n\u001b[0;32m--> 424\u001b[0;31m                         \u001b[0mput\u001b[0m\u001b[0;34m(\u001b[0m\u001b[0mtask\u001b[0m\u001b[0;34m)\u001b[0m\u001b[0;34m\u001b[0m\u001b[0m\n\u001b[0m\u001b[1;32m    425\u001b[0m                     \u001b[0;32mexcept\u001b[0m \u001b[0mException\u001b[0m \u001b[0;32mas\u001b[0m \u001b[0me\u001b[0m\u001b[0;34m:\u001b[0m\u001b[0;34m\u001b[0m\u001b[0m\n\u001b[1;32m    426\u001b[0m                         \u001b[0mjob\u001b[0m\u001b[0;34m,\u001b[0m \u001b[0midx\u001b[0m \u001b[0;34m=\u001b[0m \u001b[0mtask\u001b[0m\u001b[0;34m[\u001b[0m\u001b[0;34m:\u001b[0m\u001b[0;36m2\u001b[0m\u001b[0;34m]\u001b[0m\u001b[0;34m\u001b[0m\u001b[0m\n",
      "\u001b[0;32m~/anaconda3/lib/python3.6/multiprocessing/connection.py\u001b[0m in \u001b[0;36msend\u001b[0;34m(self, obj)\u001b[0m\n\u001b[1;32m    204\u001b[0m         \u001b[0mself\u001b[0m\u001b[0;34m.\u001b[0m\u001b[0m_check_closed\u001b[0m\u001b[0;34m(\u001b[0m\u001b[0;34m)\u001b[0m\u001b[0;34m\u001b[0m\u001b[0m\n\u001b[1;32m    205\u001b[0m         \u001b[0mself\u001b[0m\u001b[0;34m.\u001b[0m\u001b[0m_check_writable\u001b[0m\u001b[0;34m(\u001b[0m\u001b[0;34m)\u001b[0m\u001b[0;34m\u001b[0m\u001b[0m\n\u001b[0;32m--> 206\u001b[0;31m         \u001b[0mself\u001b[0m\u001b[0;34m.\u001b[0m\u001b[0m_send_bytes\u001b[0m\u001b[0;34m(\u001b[0m\u001b[0m_ForkingPickler\u001b[0m\u001b[0;34m.\u001b[0m\u001b[0mdumps\u001b[0m\u001b[0;34m(\u001b[0m\u001b[0mobj\u001b[0m\u001b[0;34m)\u001b[0m\u001b[0;34m)\u001b[0m\u001b[0;34m\u001b[0m\u001b[0m\n\u001b[0m\u001b[1;32m    207\u001b[0m \u001b[0;34m\u001b[0m\u001b[0m\n\u001b[1;32m    208\u001b[0m     \u001b[0;32mdef\u001b[0m \u001b[0mrecv_bytes\u001b[0m\u001b[0;34m(\u001b[0m\u001b[0mself\u001b[0m\u001b[0;34m,\u001b[0m \u001b[0mmaxlength\u001b[0m\u001b[0;34m=\u001b[0m\u001b[0;32mNone\u001b[0m\u001b[0;34m)\u001b[0m\u001b[0;34m:\u001b[0m\u001b[0;34m\u001b[0m\u001b[0m\n",
      "\u001b[0;32m~/anaconda3/lib/python3.6/multiprocessing/connection.py\u001b[0m in \u001b[0;36m_send_bytes\u001b[0;34m(self, buf)\u001b[0m\n\u001b[1;32m    391\u001b[0m         \u001b[0mn\u001b[0m \u001b[0;34m=\u001b[0m \u001b[0mlen\u001b[0m\u001b[0;34m(\u001b[0m\u001b[0mbuf\u001b[0m\u001b[0;34m)\u001b[0m\u001b[0;34m\u001b[0m\u001b[0m\n\u001b[1;32m    392\u001b[0m         \u001b[0;31m# For wire compatibility with 3.2 and lower\u001b[0m\u001b[0;34m\u001b[0m\u001b[0;34m\u001b[0m\u001b[0m\n\u001b[0;32m--> 393\u001b[0;31m         \u001b[0mheader\u001b[0m \u001b[0;34m=\u001b[0m \u001b[0mstruct\u001b[0m\u001b[0;34m.\u001b[0m\u001b[0mpack\u001b[0m\u001b[0;34m(\u001b[0m\u001b[0;34m\"!i\"\u001b[0m\u001b[0;34m,\u001b[0m \u001b[0mn\u001b[0m\u001b[0;34m)\u001b[0m\u001b[0;34m\u001b[0m\u001b[0m\n\u001b[0m\u001b[1;32m    394\u001b[0m         \u001b[0;32mif\u001b[0m \u001b[0mn\u001b[0m \u001b[0;34m>\u001b[0m \u001b[0;36m16384\u001b[0m\u001b[0;34m:\u001b[0m\u001b[0;34m\u001b[0m\u001b[0m\n\u001b[1;32m    395\u001b[0m             \u001b[0;31m# The payload is large so Nagle's algorithm won't be triggered\u001b[0m\u001b[0;34m\u001b[0m\u001b[0;34m\u001b[0m\u001b[0m\n",
      "\u001b[0;31merror\u001b[0m: 'i' format requires -2147483648 <= number <= 2147483647"
     ]
    }
   ],
   "source": [
    "rng = np.random.RandomState(42)\n",
    "isof_target = IsolationForest(n_estimators=1000, max_samples=256, random_state=rng, n_jobs=30, verbose=1, memory_restricted=False)\n",
    "\n",
    "isof_target.fit(xtrain_target)\n",
    "\n",
    "train_target_links_scores = isof_target.decision_function(xtrain_target)\n",
    "test_target_links_scores = isof_target.decision_function(xtest_target)"
   ]
  },
  {
   "cell_type": "code",
   "execution_count": null,
   "metadata": {},
   "outputs": [],
   "source": [
    "f, axes = plt.subplots(1, 2, figsize=(16, 8))\n",
    "colors = ['g', 'b', 'r']\n",
    "targets = [-1, 0, 1]\n",
    "for c, t in zip(colors, targets):\n",
    "    sns.distplot(train_target_links_scores[ytrain == t], color=c, ax=axes[0])\n",
    "\n",
    "for c, t in zip(colors, targets):\n",
    "    sns.distplot(test_target_links_scores[ytest == t], color=c, ax=axes[1])"
   ]
  },
  {
   "cell_type": "code",
   "execution_count": null,
   "metadata": {},
   "outputs": [],
   "source": []
  },
  {
   "cell_type": "code",
   "execution_count": null,
   "metadata": {},
   "outputs": [],
   "source": []
  },
  {
   "cell_type": "code",
   "execution_count": null,
   "metadata": {},
   "outputs": [],
   "source": []
  },
  {
   "cell_type": "code",
   "execution_count": null,
   "metadata": {},
   "outputs": [],
   "source": []
  },
  {
   "cell_type": "code",
   "execution_count": null,
   "metadata": {},
   "outputs": [],
   "source": []
  },
  {
   "cell_type": "code",
   "execution_count": null,
   "metadata": {},
   "outputs": [],
   "source": []
  },
  {
   "cell_type": "code",
   "execution_count": null,
   "metadata": {},
   "outputs": [],
   "source": []
  },
  {
   "cell_type": "code",
   "execution_count": null,
   "metadata": {},
   "outputs": [],
   "source": []
  },
  {
   "cell_type": "code",
   "execution_count": null,
   "metadata": {},
   "outputs": [],
   "source": []
  },
  {
   "cell_type": "code",
   "execution_count": null,
   "metadata": {},
   "outputs": [],
   "source": []
  },
  {
   "cell_type": "code",
   "execution_count": null,
   "metadata": {},
   "outputs": [],
   "source": []
  },
  {
   "cell_type": "code",
   "execution_count": null,
   "metadata": {},
   "outputs": [],
   "source": []
  },
  {
   "cell_type": "code",
   "execution_count": null,
   "metadata": {},
   "outputs": [],
   "source": []
  },
  {
   "cell_type": "code",
   "execution_count": null,
   "metadata": {},
   "outputs": [],
   "source": []
  },
  {
   "cell_type": "code",
   "execution_count": null,
   "metadata": {},
   "outputs": [],
   "source": []
  },
  {
   "cell_type": "code",
   "execution_count": null,
   "metadata": {},
   "outputs": [],
   "source": []
  },
  {
   "cell_type": "code",
   "execution_count": null,
   "metadata": {},
   "outputs": [],
   "source": []
  },
  {
   "cell_type": "code",
   "execution_count": 15,
   "metadata": {},
   "outputs": [],
   "source": [
    "train_links_scores = isof.decision_function(xtrain)\n",
    "test_links_scores = isof.decision_function(xtest)"
   ]
  },
  {
   "cell_type": "code",
   "execution_count": 16,
   "metadata": {},
   "outputs": [
    {
     "data": {
      "image/png": "[encoded data removed]",
      "text/plain": [
       "<matplotlib.figure.Figure at 0x7f76d4622898>"
      ]
     },
     "metadata": {},
     "output_type": "display_data"
    }
   ],
   "source": [
    "f, axes = plt.subplots(1, 2, figsize=(16, 8))\n",
    "colors = ['g', 'b', 'r']\n",
    "targets = [-1, 0, 1]\n",
    "for c, t in zip(colors, targets):\n",
    "    sns.distplot(train_links_scores[ytrain == t], color=c, ax=axes[0])\n",
    "\n",
    "for c, t in zip(colors, targets):\n",
    "    sns.distplot(test_links_scores[ytest == t], color=c, ax=axes[1])"
   ]
  },
  {
   "cell_type": "code",
   "execution_count": null,
   "metadata": {},
   "outputs": [],
   "source": [
    "rng = np.random.RandomState(42)\n",
    "isof_input_target = IsolationForest(n_estimators=250, max_samples=256, random_state=rng, n_jobs=-1, verbose=1, memory_restricted=False)\n",
    "\n",
    "isof_input_target.fit(xtrain_input_source)\n",
    "\n",
    "train_input_target_links_scores = isof_input_target.decision_function(xtrain_input_target)\n",
    "test_input_target_links_scores = isof_input_target.decision_function(xtest_input_target)\n",
    "\n",
    "f, axes = plt.subplots(1, 2, figsize=(16, 8))\n",
    "colors = ['g', 'b', 'r']\n",
    "targets = [-1, 0, 1]\n",
    "for c, t in zip(colors, targets):\n",
    "    sns.distplot(train_input_target_links_scores[ytrain == t], color=c, ax=axes[0])\n",
    "\n",
    "for c, t in zip(colors, targets):\n",
    "    sns.distplot(test_input_target_links_scores[ytest == t], color=c, ax=axes[1])"
   ]
  },
  {
   "cell_type": "code",
   "execution_count": null,
   "metadata": {},
   "outputs": [],
   "source": []
  },
  {
   "cell_type": "code",
   "execution_count": null,
   "metadata": {},
   "outputs": [],
   "source": []
  },
  {
   "cell_type": "code",
   "execution_count": 10,
   "metadata": {},
   "outputs": [],
   "source": [
    "train_links_scores = isof.decision_function(xtrain[:, -4:])\n",
    "test_links_scores = isof.decision_function(xtest[:, -4:])"
   ]
  },
  {
   "cell_type": "code",
   "execution_count": 11,
   "metadata": {},
   "outputs": [
    {
     "data": {
      "image/png": "[encoded data removed]",
      "text/plain": [
       "<matplotlib.figure.Figure at 0x7f601e297ac8>"
      ]
     },
     "metadata": {},
     "output_type": "display_data"
    }
   ],
   "source": [
    "f, axes = plt.subplots(1, 2, figsize=(16, 8))\n",
    "colors = ['g', 'b', 'r']\n",
    "targets = [-1, 0, 1]\n",
    "for c, t in zip(colors, targets):\n",
    "    sns.distplot(train_links_scores[ytrain == t], color=c, ax=axes[0])\n",
    "\n",
    "for c, t in zip(colors, targets):\n",
    "    sns.distplot(test_links_scores[ytest == t], color=c, ax=axes[1])"
   ]
  },
  {
   "cell_type": "code",
   "execution_count": null,
   "metadata": {},
   "outputs": [],
   "source": []
  },
  {
   "cell_type": "code",
   "execution_count": null,
   "metadata": {},
   "outputs": [],
   "source": []
  },
  {
   "cell_type": "code",
   "execution_count": 8,
   "metadata": {},
   "outputs": [],
   "source": [
    "from sklearn.ensemble import IsolationForest as IsolationForestOriginal"
   ]
  },
  {
   "cell_type": "code",
   "execution_count": 9,
   "metadata": {},
   "outputs": [],
   "source": [
    "# rng = np.random.RandomState(42)\n",
    "\n",
    "# # Generate train data\n",
    "# X = 0.3 * rng.randn(500000, 20)\n",
    "# X_train = np.r_[X + 2, X - 2]\n",
    "# # Generate some regular novel observations\n",
    "# X = 0.3 * rng.randn(1000, 10)\n",
    "# X_test = np.r_[X + 2, X - 2]\n",
    "# # Generate some abnormal novel observations\n",
    "# X_outliers = rng.uniform(low=-4, high=4, size=(200, 2))"
   ]
  },
  {
   "cell_type": "code",
   "execution_count": 10,
   "metadata": {},
   "outputs": [],
   "source": [
    "rng = np.random.RandomState(42)\n",
    "# fit the model\n",
    "clf_fixed = IsolationForest(n_estimators=2000, max_samples=256, random_state=rng, n_jobs=-1, verbose=1)"
   ]
  },
  {
   "cell_type": "code",
   "execution_count": 11,
   "metadata": {},
   "outputs": [
    {
     "name": "stderr",
     "output_type": "stream",
     "text": [
      "[Parallel(n_jobs=32)]: Done   2 out of  32 | elapsed: 42.0min remaining: 630.6min\n",
      "[Parallel(n_jobs=32)]: Done  32 out of  32 | elapsed: 43.6min finished\n"
     ]
    },
    {
     "data": {
      "text/plain": [
       "IsolationForest(bootstrap=False, contamination=0.1, max_features=1.0,\n",
       "        max_samples=256, n_estimators=2000, n_jobs=-1,\n",
       "        random_state=<mtrand.RandomState object at 0x7fcd4e294f30>,\n",
       "        verbose=1)"
      ]
     },
     "execution_count": 11,
     "metadata": {},
     "output_type": "execute_result"
    }
   ],
   "source": [
    "clf_fixed.fit(xtrain)"
   ]
  },
  {
   "cell_type": "code",
   "execution_count": 12,
   "metadata": {},
   "outputs": [],
   "source": [
    "train_scores = clf_fixed.decision_function(xtrain)"
   ]
  },
  {
   "cell_type": "code",
   "execution_count": 13,
   "metadata": {},
   "outputs": [],
   "source": [
    "test_scores = clf_fixed.decision_function(xtest)"
   ]
  },
  {
   "cell_type": "code",
   "execution_count": 14,
   "metadata": {},
   "outputs": [
    {
     "data": {
      "image/png": "[encoded data removed]",
      "text/plain": [
       "<matplotlib.figure.Figure at 0x7fcd4e2ae390>"
      ]
     },
     "metadata": {},
     "output_type": "display_data"
    }
   ],
   "source": [
    "f, axes = plt.subplots(1, 2, figsize=(16, 8))\n",
    "colors = ['g', 'b', 'r']\n",
    "targets = [-1, 0, 1]\n",
    "for c, t in zip(colors, targets):\n",
    "    sns.distplot(train_scores[ytrain == t], color=c, ax=axes[0])\n",
    "\n",
    "for c, t in zip(colors, targets):\n",
    "    sns.distplot(test_scores[ytest == t], color=c, ax=axes[1])"
   ]
  },
  {
   "cell_type": "code",
   "execution_count": null,
   "metadata": {},
   "outputs": [],
   "source": []
  },
  {
   "cell_type": "code",
   "execution_count": null,
   "metadata": {},
   "outputs": [],
   "source": []
  },
  {
   "cell_type": "code",
   "execution_count": null,
   "metadata": {},
   "outputs": [],
   "source": []
  },
  {
   "cell_type": "code",
   "execution_count": null,
   "metadata": {},
   "outputs": [],
   "source": []
  },
  {
   "cell_type": "code",
   "execution_count": null,
   "metadata": {},
   "outputs": [],
   "source": []
  },
  {
   "cell_type": "code",
   "execution_count": null,
   "metadata": {},
   "outputs": [],
   "source": []
  },
  {
   "cell_type": "code",
   "execution_count": null,
   "metadata": {},
   "outputs": [],
   "source": []
  },
  {
   "cell_type": "code",
   "execution_count": 11,
   "metadata": {},
   "outputs": [],
   "source": [
    "rng = np.random.RandomState(42)\n",
    "\n",
    "clf_orig = IsolationForestOriginal(n_estimators=200, max_samples=256, random_state=rng, n_jobs=-1, verbose=2)"
   ]
  },
  {
   "cell_type": "code",
   "execution_count": 12,
   "metadata": {},
   "outputs": [
    {
     "name": "stdout",
     "output_type": "stream",
     "text": [
      "Building estimator 1 of 7 for this parallel run (total 200)...\n",
      "Building estimator 1 of 7 for this parallel run (total 200)...\n",
      "Building estimator 1 of 7 for this parallel run (total 200)...\n",
      "Building estimator 2 of 7 for this parallel run (total 200)...\n",
      "Building estimator 1 of 7 for this parallel run (total 200)...\n",
      "Building estimator 2 of 7 for this parallel run (total 200)...\n",
      "Building estimator 1 of 7 for this parallel run (total 200)...\n",
      "Building estimator 2 of 7 for this parallel run (total 200)...\n",
      "Building estimator 1 of 7 for this parallel run (total 200)...\n",
      "Building estimator 3 of 7 for this parallel run (total 200)...\n",
      "Building estimator 2 of 7 for this parallel run (total 200)...\n",
      "Building estimator 1 of 7 for this parallel run (total 200)...\n",
      "Building estimator 3 of 7 for this parallel run (total 200)...\n",
      "Building estimator 2 of 7 for this parallel run (total 200)...\n",
      "Building estimator 1 of 7 for this parallel run (total 200)...\n",
      "Building estimator 3 of 7 for this parallel run (total 200)...\n",
      "Building estimator 2 of 7 for this parallel run (total 200)...\n",
      "Building estimator 4 of 7 for this parallel run (total 200)...\n",
      "Building estimator 1 of 6 for this parallel run (total 200)...\n",
      "Building estimator 3 of 7 for this parallel run (total 200)...\n",
      "Building estimator 2 of 7 for this parallel run (total 200)...\n",
      "Building estimator 4 of 7 for this parallel run (total 200)...\n",
      "Building estimator 1 of 6 for this parallel run (total 200)...\n",
      "Building estimator 3 of 7 for this parallel run (total 200)...\n",
      "Building estimator 2 of 7 for this parallel run (total 200)...\n",
      "Building estimator 4 of 7 for this parallel run (total 200)...\n",
      "Building estimator 1 of 6 for this parallel run (total 200)...\n",
      "Building estimator 3 of 7 for this parallel run (total 200)...\n",
      "Building estimator 5 of 7 for this parallel run (total 200)...\n",
      "Building estimator 2 of 6 for this parallel run (total 200)...\n",
      "Building estimator 4 of 7 for this parallel run (total 200)...\n",
      "Building estimator 1 of 6 for this parallel run (total 200)...\n",
      "Building estimator 3 of 7 for this parallel run (total 200)...\n",
      "Building estimator 5 of 7 for this parallel run (total 200)...\n",
      "Building estimator 2 of 6 for this parallel run (total 200)...\n",
      "Building estimator 4 of 7 for this parallel run (total 200)...\n",
      "Building estimator 1 of 6 for this parallel run (total 200)...\n",
      "Building estimator 3 of 7 for this parallel run (total 200)...\n",
      "Building estimator 5 of 7 for this parallel run (total 200)...\n",
      "Building estimator 4 of 7 for this parallel run (total 200)...\n",
      "Building estimator 2 of 6 for this parallel run (total 200)...\n",
      "Building estimator 6 of 7 for this parallel run (total 200)...\n",
      "Building estimator 1 of 6 for this parallel run (total 200)...\n",
      "Building estimator 3 of 6 for this parallel run (total 200)...\n",
      "Building estimator 5 of 7 for this parallel run (total 200)...\n",
      "Building estimator 4 of 7 for this parallel run (total 200)...\n",
      "Building estimator 2 of 6 for this parallel run (total 200)...\n",
      "Building estimator 1 of 6 for this parallel run (total 200)...\n",
      "Building estimator 6 of 7 for this parallel run (total 200)...\n",
      "Building estimator 3 of 6 for this parallel run (total 200)...\n",
      "Building estimator 5 of 7 for this parallel run (total 200)...\n",
      "Building estimator 4 of 7 for this parallel run (total 200)...\n",
      "Building estimator 2 of 6 for this parallel run (total 200)...\n",
      "Building estimator 6 of 7 for this parallel run (total 200)...\n",
      "Building estimator 1 of 6 for this parallel run (total 200)...\n",
      "Building estimator 3 of 6 for this parallel run (total 200)...\n",
      "Building estimator 5 of 7 for this parallel run (total 200)...\n",
      "Building estimator 7 of 7 for this parallel run (total 200)...\n",
      "Building estimator 2 of 6 for this parallel run (total 200)...\n",
      "Building estimator 4 of 6 for this parallel run (total 200)...\n",
      "Building estimator 6 of 7 for this parallel run (total 200)...\n",
      "Building estimator 1 of 6 for this parallel run (total 200)...\n",
      "Building estimator 3 of 6 for this parallel run (total 200)...\n",
      "Building estimator 5 of 7 for this parallel run (total 200)...\n",
      "Building estimator 2 of 6 for this parallel run (total 200)...\n",
      "Building estimator 4 of 6 for this parallel run (total 200)...\n",
      "Building estimator 7 of 7 for this parallel run (total 200)...\n",
      "Building estimator 6 of 7 for this parallel run (total 200)...\n",
      "Building estimator 1 of 6 for this parallel run (total 200)...\n",
      "Building estimator 5 of 7 for this parallel run (total 200)...\n",
      "Building estimator 3 of 6 for this parallel run (total 200)...\n",
      "Building estimator 7 of 7 for this parallel run (total 200)...\n",
      "Building estimator 2 of 6 for this parallel run (total 200)...\n",
      "Building estimator 6 of 7 for this parallel run (total 200)...\n",
      "Building estimator 4 of 6 for this parallel run (total 200)...\n",
      "Building estimator 1 of 6 for this parallel run (total 200)...\n",
      "Building estimator 3 of 6 for this parallel run (total 200)...\n",
      "Building estimator 5 of 6 for this parallel run (total 200)...\n",
      "Building estimator 7 of 7 for this parallel run (total 200)...\n",
      "Building estimator 2 of 6 for this parallel run (total 200)...\n",
      "Building estimator 6 of 7 for this parallel run (total 200)...\n",
      "Building estimator 4 of 6 for this parallel run (total 200)...\n",
      "Building estimator 1 of 6 for this parallel run (total 200)...\n",
      "Building estimator 3 of 6 for this parallel run (total 200)...\n",
      "Building estimator 5 of 6 for this parallel run (total 200)...\n",
      "Building estimator 7 of 7 for this parallel run (total 200)...\n",
      "Building estimator 6 of 7 for this parallel run (total 200)...\n",
      "Building estimator 2 of 6 for this parallel run (total 200)...\n",
      "Building estimator 4 of 6 for this parallel run (total 200)...\n",
      "Building estimator 1 of 6 for this parallel run (total 200)...\n",
      "Building estimator 3 of 6 for this parallel run (total 200)...\n",
      "Building estimator 5 of 6 for this parallel run (total 200)...\n",
      "Building estimator 7 of 7 for this parallel run (total 200)...\n"
     ]
    },
    {
     "name": "stderr",
     "output_type": "stream",
     "text": [
      "[Parallel(n_jobs=32)]: Done   3 out of  32 | elapsed:    7.1s remaining:  1.1min\n"
     ]
    },
    {
     "name": "stdout",
     "output_type": "stream",
     "text": [
      "Building estimator 2 of 6 for this parallel run (total 200)...\n",
      "Building estimator 4 of 6 for this parallel run (total 200)...\n",
      "Building estimator 6 of 6 for this parallel run (total 200)...\n",
      "Building estimator 1 of 6 for this parallel run (total 200)...\n",
      "Building estimator 7 of 7 for this parallel run (total 200)...\n",
      "Building estimator 5 of 6 for this parallel run (total 200)...\n",
      "Building estimator 3 of 6 for this parallel run (total 200)...\n",
      "Building estimator 2 of 6 for this parallel run (total 200)...\n",
      "Building estimator 4 of 6 for this parallel run (total 200)...\n",
      "Building estimator 6 of 6 for this parallel run (total 200)...\n",
      "Building estimator 1 of 6 for this parallel run (total 200)...\n",
      "Building estimator 7 of 7 for this parallel run (total 200)...\n",
      "Building estimator 5 of 6 for this parallel run (total 200)...\n",
      "Building estimator 3 of 6 for this parallel run (total 200)...\n",
      "Building estimator 2 of 6 for this parallel run (total 200)...\n",
      "Building estimator 1 of 6 for this parallel run (total 200)...\n",
      "Building estimator 4 of 6 for this parallel run (total 200)...\n",
      "Building estimator 6 of 6 for this parallel run (total 200)...\n",
      "Building estimator 3 of 6 for this parallel run (total 200)...\n",
      "Building estimator 5 of 6 for this parallel run (total 200)...\n",
      "Building estimator 2 of 6 for this parallel run (total 200)...\n",
      "Building estimator 1 of 6 for this parallel run (total 200)...\n",
      "Building estimator 4 of 6 for this parallel run (total 200)...\n",
      "Building estimator 6 of 6 for this parallel run (total 200)...\n",
      "Building estimator 3 of 6 for this parallel run (total 200)...\n",
      "Building estimator 5 of 6 for this parallel run (total 200)...\n",
      "Building estimator 2 of 6 for this parallel run (total 200)...\n",
      "Building estimator 1 of 6 for this parallel run (total 200)...\n",
      "Building estimator 6 of 6 for this parallel run (total 200)...\n",
      "Building estimator 4 of 6 for this parallel run (total 200)...\n",
      "Building estimator 3 of 6 for this parallel run (total 200)...\n",
      "Building estimator 2 of 6 for this parallel run (total 200)...\n",
      "Building estimator 5 of 6 for this parallel run (total 200)...\n",
      "Building estimator 1 of 6 for this parallel run (total 200)...\n",
      "Building estimator 4 of 6 for this parallel run (total 200)...\n",
      "Building estimator 6 of 6 for this parallel run (total 200)...\n",
      "Building estimator 3 of 6 for this parallel run (total 200)...\n",
      "Building estimator 2 of 6 for this parallel run (total 200)...\n",
      "Building estimator 5 of 6 for this parallel run (total 200)...\n",
      "Building estimator 1 of 6 for this parallel run (total 200)...\n",
      "Building estimator 4 of 6 for this parallel run (total 200)...\n",
      "Building estimator 6 of 6 for this parallel run (total 200)...\n",
      "Building estimator 3 of 6 for this parallel run (total 200)...\n",
      "Building estimator 2 of 6 for this parallel run (total 200)...\n",
      "Building estimator 1 of 6 for this parallel run (total 200)...\n",
      "Building estimator 4 of 6 for this parallel run (total 200)...\n",
      "Building estimator 5 of 6 for this parallel run (total 200)...\n",
      "Building estimator 3 of 6 for this parallel run (total 200)...\n",
      "Building estimator 6 of 6 for this parallel run (total 200)...\n",
      "Building estimator 2 of 6 for this parallel run (total 200)...\n",
      "Building estimator 1 of 6 for this parallel run (total 200)...\n",
      "Building estimator 4 of 6 for this parallel run (total 200)...\n",
      "Building estimator 5 of 6 for this parallel run (total 200)...\n",
      "Building estimator 3 of 6 for this parallel run (total 200)...\n",
      "Building estimator 6 of 6 for this parallel run (total 200)...\n",
      "Building estimator 2 of 6 for this parallel run (total 200)...\n",
      "Building estimator 5 of 6 for this parallel run (total 200)...\n",
      "Building estimator 1 of 6 for this parallel run (total 200)...\n",
      "Building estimator 4 of 6 for this parallel run (total 200)...\n",
      "Building estimator 3 of 6 for this parallel run (total 200)...\n",
      "Building estimator 5 of 6 for this parallel run (total 200)...\n",
      "Building estimator 2 of 6 for this parallel run (total 200)...\n",
      "Building estimator 6 of 6 for this parallel run (total 200)...\n",
      "Building estimator 1 of 6 for this parallel run (total 200)...\n",
      "Building estimator 4 of 6 for this parallel run (total 200)...\n",
      "Building estimator 3 of 6 for this parallel run (total 200)...\n",
      "Building estimator 2 of 6 for this parallel run (total 200)...\n",
      "Building estimator 6 of 6 for this parallel run (total 200)...\n",
      "Building estimator 5 of 6 for this parallel run (total 200)...\n",
      "Building estimator 4 of 6 for this parallel run (total 200)...\n",
      "Building estimator 3 of 6 for this parallel run (total 200)...\n",
      "Building estimator 6 of 6 for this parallel run (total 200)...\n",
      "Building estimator 5 of 6 for this parallel run (total 200)...\n",
      "Building estimator 2 of 6 for this parallel run (total 200)...\n",
      "Building estimator 4 of 6 for this parallel run (total 200)...\n",
      "Building estimator 6 of 6 for this parallel run (total 200)...\n",
      "Building estimator 3 of 6 for this parallel run (total 200)...\n",
      "Building estimator 2 of 6 for this parallel run (total 200)...\n",
      "Building estimator 5 of 6 for this parallel run (total 200)...\n",
      "Building estimator 4 of 6 for this parallel run (total 200)...\n",
      "Building estimator 3 of 6 for this parallel run (total 200)...\n",
      "Building estimator 6 of 6 for this parallel run (total 200)...\n",
      "Building estimator 5 of 6 for this parallel run (total 200)...\n",
      "Building estimator 4 of 6 for this parallel run (total 200)...\n",
      "Building estimator 6 of 6 for this parallel run (total 200)...\n",
      "Building estimator 3 of 6 for this parallel run (total 200)...\n",
      "Building estimator 5 of 6 for this parallel run (total 200)...\n"
     ]
    },
    {
     "name": "stderr",
     "output_type": "stream",
     "text": [
      "[Parallel(n_jobs=32)]: Done  20 out of  32 | elapsed:   12.2s remaining:    7.3s\n"
     ]
    },
    {
     "name": "stdout",
     "output_type": "stream",
     "text": [
      "Building estimator 4 of 6 for this parallel run (total 200)...\n",
      "Building estimator 3 of 6 for this parallel run (total 200)...\n",
      "Building estimator 6 of 6 for this parallel run (total 200)...\n",
      "Building estimator 5 of 6 for this parallel run (total 200)...\n",
      "Building estimator 4 of 6 for this parallel run (total 200)...\n",
      "Building estimator 6 of 6 for this parallel run (total 200)...\n",
      "Building estimator 5 of 6 for this parallel run (total 200)...\n",
      "Building estimator 4 of 6 for this parallel run (total 200)...\n",
      "Building estimator 6 of 6 for this parallel run (total 200)...\n",
      "Building estimator 5 of 6 for this parallel run (total 200)...\n",
      "Building estimator 4 of 6 for this parallel run (total 200)...\n",
      "Building estimator 6 of 6 for this parallel run (total 200)...\n",
      "Building estimator 5 of 6 for this parallel run (total 200)...\n",
      "Building estimator 6 of 6 for this parallel run (total 200)...\n",
      "Building estimator 5 of 6 for this parallel run (total 200)...\n",
      "Building estimator 6 of 6 for this parallel run (total 200)...\n",
      "Building estimator 5 of 6 for this parallel run (total 200)...\n",
      "Building estimator 6 of 6 for this parallel run (total 200)...\n",
      "Building estimator 6 of 6 for this parallel run (total 200)...\n",
      "Building estimator 6 of 6 for this parallel run (total 200)...\n"
     ]
    },
    {
     "name": "stderr",
     "output_type": "stream",
     "text": [
      "[Parallel(n_jobs=32)]: Done  32 out of  32 | elapsed:   15.8s finished\n"
     ]
    },
    {
     "name": "stdout",
     "output_type": "stream",
     "text": [
      "training orig isof took 157.030s\n"
     ]
    }
   ],
   "source": [
    "with Timer('training orig isof'):\n",
    "    clf_orig.fit(X_train)"
   ]
  },
  {
   "cell_type": "code",
   "execution_count": 13,
   "metadata": {},
   "outputs": [
    {
     "name": "stdout",
     "output_type": "stream",
     "text": [
      "decision fixed memory isof took 2.107s\n"
     ]
    }
   ],
   "source": [
    "with Timer('decision fixed memory isof'):\n",
    "    fixed_train_scores = clf_fixed.decision_function(X_train)"
   ]
  },
  {
   "cell_type": "code",
   "execution_count": 14,
   "metadata": {},
   "outputs": [
    {
     "name": "stdout",
     "output_type": "stream",
     "text": [
      "decision orig isof took 132.605s\n"
     ]
    }
   ],
   "source": [
    "with Timer('decision orig isof'):\n",
    "     orig_train_scores = clf_orig.decision_function(X_train)"
   ]
  },
  {
   "cell_type": "code",
   "execution_count": 15,
   "metadata": {},
   "outputs": [
    {
     "data": {
      "text/plain": [
       "True"
      ]
     },
     "execution_count": 15,
     "metadata": {},
     "output_type": "execute_result"
    }
   ],
   "source": [
    "np.allclose(orig_train_scores, fixed_train_scores)"
   ]
  },
  {
   "cell_type": "code",
   "execution_count": 16,
   "metadata": {},
   "outputs": [
    {
     "data": {
      "text/plain": [
       "(array([0.04602475, 0.0388202 , 0.07111501, 0.0346965 , 0.07025954,\n",
       "        0.04744184, 0.03835608, 0.04902568, 0.03915313, 0.06918174]),\n",
       " array([0.04602475, 0.0388202 , 0.07111501, 0.0346965 , 0.07025954,\n",
       "        0.04744184, 0.03835608, 0.04902568, 0.03915313, 0.06918174]))"
      ]
     },
     "execution_count": 16,
     "metadata": {},
     "output_type": "execute_result"
    }
   ],
   "source": [
    "orig_train_scores[:10], fixed_train_scores[:10]"
   ]
  },
  {
   "cell_type": "code",
   "execution_count": null,
   "metadata": {},
   "outputs": [],
   "source": []
  },
  {
   "cell_type": "code",
   "execution_count": null,
   "metadata": {},
   "outputs": [],
   "source": []
  },
  {
   "cell_type": "code",
   "execution_count": 9,
   "metadata": {},
   "outputs": [],
   "source": []
  },
  {
   "cell_type": "code",
   "execution_count": 29,
   "metadata": {},
   "outputs": [
    {
     "ename": "AttributeError",
     "evalue": "'IsolationForest' object has no attribute 'batch_decision_function'",
     "output_type": "error",
     "traceback": [
      "\u001b[0;31m---------------------------------------------------------------------------\u001b[0m",
      "\u001b[0;31mAttributeError\u001b[0m                            Traceback (most recent call last)",
      "\u001b[0;32m<ipython-input-29-893e68eb28a9>\u001b[0m in \u001b[0;36m<module>\u001b[0;34m()\u001b[0m\n\u001b[1;32m      1\u001b[0m \u001b[0;31m# fit the model\u001b[0m\u001b[0;34m\u001b[0m\u001b[0;34m\u001b[0m\u001b[0m\n\u001b[1;32m      2\u001b[0m \u001b[0mclf\u001b[0m \u001b[0;34m=\u001b[0m \u001b[0mIsolationForest\u001b[0m\u001b[0;34m(\u001b[0m\u001b[0mmax_samples\u001b[0m\u001b[0;34m=\u001b[0m\u001b[0;36m100\u001b[0m\u001b[0;34m,\u001b[0m \u001b[0mrandom_state\u001b[0m\u001b[0;34m=\u001b[0m\u001b[0mrng\u001b[0m\u001b[0;34m)\u001b[0m\u001b[0;34m\u001b[0m\u001b[0m\n\u001b[0;32m----> 3\u001b[0;31m \u001b[0mclf\u001b[0m\u001b[0;34m.\u001b[0m\u001b[0mfit\u001b[0m\u001b[0;34m(\u001b[0m\u001b[0mX_train\u001b[0m\u001b[0;34m,\u001b[0m \u001b[0mbatches\u001b[0m\u001b[0;34m=\u001b[0m\u001b[0;32mTrue\u001b[0m\u001b[0;34m,\u001b[0m \u001b[0mbatch_size\u001b[0m\u001b[0;34m=\u001b[0m\u001b[0;36m1024\u001b[0m\u001b[0;34m)\u001b[0m\u001b[0;34m\u001b[0m\u001b[0m\n\u001b[0m",
      "\u001b[0;32m<ipython-input-24-03573ab6937d>\u001b[0m in \u001b[0;36mfit\u001b[0;34m(self, X, y, sample_weight, batches, batch_size)\u001b[0m\n\u001b[1;32m    154\u001b[0m         \u001b[0;32mif\u001b[0m \u001b[0mbatches\u001b[0m\u001b[0;34m:\u001b[0m\u001b[0;34m\u001b[0m\u001b[0m\n\u001b[1;32m    155\u001b[0m             self.threshold_ = -sp.stats.scoreatpercentile(\n\u001b[0;32m--> 156\u001b[0;31m                 -self.batch_decision_function(X, batch_size), 100. * (1. - self.contamination))\n\u001b[0m\u001b[1;32m    157\u001b[0m         \u001b[0;32melse\u001b[0m\u001b[0;34m:\u001b[0m\u001b[0;34m\u001b[0m\u001b[0m\n\u001b[1;32m    158\u001b[0m             self.threshold_ = -sp.stats.scoreatpercentile(\n",
      "\u001b[0;31mAttributeError\u001b[0m: 'IsolationForest' object has no attribute 'batch_decision_function'"
     ]
    }
   ],
   "source": [
    "# fit the model\n",
    "clf = IsolationForest(max_samples=100, random_state=rng)\n",
    "clf.fit(X_train, batches=True, batch_size=1024)"
   ]
  },
  {
   "cell_type": "code",
   "execution_count": 25,
   "metadata": {},
   "outputs": [
    {
     "data": {
      "text/plain": [
       "array([ 0.05725375, -0.00091935,  0.06558782, ..., -0.05519934,\n",
       "       -0.06187845, -0.01813396])"
      ]
     },
     "execution_count": 25,
     "metadata": {},
     "output_type": "execute_result"
    }
   ],
   "source": [
    "clf.batch_decision_function(X_train, batch_size=1024)"
   ]
  },
  {
   "cell_type": "code",
   "execution_count": 5,
   "metadata": {},
   "outputs": [],
   "source": [
    "xtrain = np.load('xtrain.npy')\n",
    "xtest = np.load('xtest.npy')\n",
    "ytrain = np.load('ytrain.npy')\n",
    "ytest = np.load('ytest.npy')"
   ]
  },
  {
   "cell_type": "code",
   "execution_count": 6,
   "metadata": {},
   "outputs": [],
   "source": [
    "isof = IsolationForest(n_estimators=100, contamination = (ytrain == 1).mean(), n_jobs=4, verbose=1)"
   ]
  },
  {
   "cell_type": "code",
   "execution_count": 7,
   "metadata": {},
   "outputs": [
    {
     "name": "stderr",
     "output_type": "stream",
     "text": [
      "[Parallel(n_jobs=4)]: Done   2 out of   4 | elapsed:    3.0s remaining:    3.0s\n",
      "[Parallel(n_jobs=4)]: Done   4 out of   4 | elapsed:    3.8s finished\n"
     ]
    },
    {
     "data": {
      "application/vnd.jupyter.widget-view+json": {
       "model_id": "671a76ca3612405fbde6619a630e56ee",
       "version_major": 2,
       "version_minor": 0
      },
      "text/html": [
       "<p>Failed to display Jupyter Widget of type <code>HBox</code>.</p>\n",
       "<p>\n",
       "  If you're reading this message in the Jupyter Notebook or JupyterLab Notebook, it may mean\n",
       "  that the widgets JavaScript is still loading. If this message persists, it\n",
       "  likely means that the widgets JavaScript library is either not installed or\n",
       "  not enabled. See the <a href=\"https://ipywidgets.readthedocs.io/en/stable/user_install.html\">Jupyter\n",
       "  Widgets Documentation</a> for setup instructions.\n",
       "</p>\n",
       "<p>\n",
       "  If you're reading this message in another frontend (for example, a static\n",
       "  rendering on GitHub or <a href=\"https://nbviewer.jupyter.org/\">NBViewer</a>),\n",
       "  it may mean that your frontend doesn't currently support widgets.\n",
       "</p>\n"
      ],
      "text/plain": [
       "HBox(children=(IntProgress(value=0, max=2239), HTML(value='')))"
      ]
     },
     "metadata": {},
     "output_type": "display_data"
    },
    {
     "name": "stderr",
     "output_type": "stream",
     "text": [
      "Process ForkPoolWorker-7:\n",
      "Process ForkPoolWorker-8:\n",
      "Process ForkPoolWorker-5:\n",
      "Traceback (most recent call last):\n",
      "Traceback (most recent call last):\n",
      "Traceback (most recent call last):\n",
      "  File \"/home/const.belev/anaconda3/lib/python3.6/multiprocessing/process.py\", line 258, in _bootstrap\n",
      "    self.run()\n",
      "  File \"/home/const.belev/anaconda3/lib/python3.6/multiprocessing/process.py\", line 258, in _bootstrap\n",
      "    self.run()\n",
      "  File \"/home/const.belev/anaconda3/lib/python3.6/multiprocessing/process.py\", line 258, in _bootstrap\n",
      "    self.run()\n",
      "  File \"/home/const.belev/anaconda3/lib/python3.6/multiprocessing/process.py\", line 93, in run\n",
      "    self._target(*self._args, **self._kwargs)\n",
      "  File \"/home/const.belev/anaconda3/lib/python3.6/multiprocessing/process.py\", line 93, in run\n",
      "    self._target(*self._args, **self._kwargs)\n",
      "  File \"/home/const.belev/anaconda3/lib/python3.6/multiprocessing/process.py\", line 93, in run\n",
      "    self._target(*self._args, **self._kwargs)\n",
      "  File \"/home/const.belev/anaconda3/lib/python3.6/multiprocessing/pool.py\", line 119, in worker\n",
      "    result = (True, func(*args, **kwds))\n",
      "  File \"/home/const.belev/anaconda3/lib/python3.6/multiprocessing/pool.py\", line 119, in worker\n",
      "    result = (True, func(*args, **kwds))\n",
      "  File \"/home/const.belev/anaconda3/lib/python3.6/multiprocessing/pool.py\", line 119, in worker\n",
      "    result = (True, func(*args, **kwds))\n",
      "  File \"<ipython-input-4-2bba01a2babd>\", line 240, in decision_function\n",
      "    node_indicator = tree.decision_path(X_subset)\n",
      "  File \"<ipython-input-4-2bba01a2babd>\", line 242, in decision_function\n",
      "    depths[:, i] = np.ravel(node_indicator.sum(axis=1))\n",
      "  File \"/home/const.belev/anaconda3/lib/python3.6/site-packages/sklearn/tree/tree.py\", line 492, in decision_path\n",
      "    return self.tree_.decision_path(X)\n",
      "  File \"<ipython-input-4-2bba01a2babd>\", line 240, in decision_function\n",
      "    node_indicator = tree.decision_path(X_subset)\n",
      "  File \"sklearn/tree/_tree.pyx\", line 896, in sklearn.tree._tree.Tree.decision_path\n",
      "  File \"/home/const.belev/anaconda3/lib/python3.6/site-packages/scipy/sparse/compressed.py\", line 583, in sum\n",
      "    ret[major_index] = value\n",
      "  File \"/home/const.belev/anaconda3/lib/python3.6/site-packages/sklearn/tree/tree.py\", line 492, in decision_path\n",
      "    return self.tree_.decision_path(X)\n",
      "KeyboardInterrupt\n",
      "  File \"sklearn/tree/_tree.pyx\", line 901, in sklearn.tree._tree.Tree.decision_path\n",
      "  File \"sklearn/tree/_tree.pyx\", line 896, in sklearn.tree._tree.Tree.decision_path\n",
      "  File \"sklearn/tree/_tree.pyx\", line 956, in sklearn.tree._tree.Tree._decision_path_dense\n",
      "  File \"/home/const.belev/anaconda3/lib/python3.6/site-packages/numpy/core/numeric.py\", line 189, in ones\n",
      "    multiarray.copyto(a, 1, casting='unsafe')\n",
      "  File \"sklearn/tree/_tree.pyx\", line 901, in sklearn.tree._tree.Tree.decision_path\n",
      "KeyboardInterrupt\n",
      "  File \"sklearn/tree/_tree.pyx\", line 956, in sklearn.tree._tree.Tree._decision_path_dense\n",
      "  File \"/home/const.belev/anaconda3/lib/python3.6/site-packages/numpy/core/numeric.py\", line 146, in ones\n",
      "    def ones(shape, dtype=None, order='C'):\n",
      "KeyboardInterrupt\n",
      "Process ForkPoolWorker-6:\n",
      "Traceback (most recent call last):\n",
      "  File \"/home/const.belev/anaconda3/lib/python3.6/multiprocessing/process.py\", line 258, in _bootstrap\n",
      "    self.run()\n",
      "  File \"/home/const.belev/anaconda3/lib/python3.6/multiprocessing/process.py\", line 93, in run\n",
      "    self._target(*self._args, **self._kwargs)\n",
      "  File \"/home/const.belev/anaconda3/lib/python3.6/multiprocessing/pool.py\", line 119, in worker\n",
      "    result = (True, func(*args, **kwds))\n",
      "  File \"<ipython-input-4-2bba01a2babd>\", line 239, in decision_function\n",
      "    leaves_index = tree.apply(X_subset)\n",
      "  File \"/home/const.belev/anaconda3/lib/python3.6/site-packages/sklearn/tree/tree.py\", line 466, in apply\n",
      "    return self.tree_.apply(X)\n",
      "KeyboardInterrupt\n"
     ]
    },
    {
     "ename": "KeyboardInterrupt",
     "evalue": "",
     "output_type": "error",
     "traceback": [
      "\u001b[0;31m---------------------------------------------------------------------------\u001b[0m",
      "\u001b[0;31mIndexError\u001b[0m                                Traceback (most recent call last)",
      "\u001b[0;32m~/anaconda3/lib/python3.6/multiprocessing/pool.py\u001b[0m in \u001b[0;36mnext\u001b[0;34m(self, timeout)\u001b[0m\n\u001b[1;32m    719\u001b[0m             \u001b[0;32mtry\u001b[0m\u001b[0;34m:\u001b[0m\u001b[0;34m\u001b[0m\u001b[0m\n\u001b[0;32m--> 720\u001b[0;31m                 \u001b[0mitem\u001b[0m \u001b[0;34m=\u001b[0m \u001b[0mself\u001b[0m\u001b[0;34m.\u001b[0m\u001b[0m_items\u001b[0m\u001b[0;34m.\u001b[0m\u001b[0mpopleft\u001b[0m\u001b[0;34m(\u001b[0m\u001b[0;34m)\u001b[0m\u001b[0;34m\u001b[0m\u001b[0m\n\u001b[0m\u001b[1;32m    721\u001b[0m             \u001b[0;32mexcept\u001b[0m \u001b[0mIndexError\u001b[0m\u001b[0;34m:\u001b[0m\u001b[0;34m\u001b[0m\u001b[0m\n",
      "\u001b[0;31mIndexError\u001b[0m: pop from an empty deque",
      "\nDuring handling of the above exception, another exception occurred:\n",
      "\u001b[0;31mKeyboardInterrupt\u001b[0m                         Traceback (most recent call last)",
      "\u001b[0;32m<ipython-input-7-6c31bcf3bd85>\u001b[0m in \u001b[0;36m<module>\u001b[0;34m()\u001b[0m\n\u001b[0;32m----> 1\u001b[0;31m \u001b[0misof\u001b[0m\u001b[0;34m.\u001b[0m\u001b[0mfit\u001b[0m\u001b[0;34m(\u001b[0m\u001b[0mxtrain\u001b[0m\u001b[0;34m[\u001b[0m\u001b[0;34m:\u001b[0m\u001b[0;34m,\u001b[0m \u001b[0;34m-\u001b[0m\u001b[0;36m4\u001b[0m\u001b[0;34m:\u001b[0m\u001b[0;34m]\u001b[0m\u001b[0;34m,\u001b[0m \u001b[0mbatches\u001b[0m\u001b[0;34m=\u001b[0m\u001b[0;32mTrue\u001b[0m\u001b[0;34m,\u001b[0m \u001b[0mbatch_size\u001b[0m\u001b[0;34m=\u001b[0m\u001b[0;36m1024\u001b[0m\u001b[0;34m)\u001b[0m\u001b[0;34m\u001b[0m\u001b[0m\n\u001b[0m",
      "\u001b[0;32m<ipython-input-4-2bba01a2babd>\u001b[0m in \u001b[0;36mfit\u001b[0;34m(self, X, y, sample_weight, batches, batch_size)\u001b[0m\n\u001b[1;32m    172\u001b[0m         \u001b[0;32mif\u001b[0m \u001b[0mbatches\u001b[0m\u001b[0;34m:\u001b[0m\u001b[0;34m\u001b[0m\u001b[0m\n\u001b[1;32m    173\u001b[0m             self.threshold_ = -sp.stats.scoreatpercentile(\n\u001b[0;32m--> 174\u001b[0;31m                 -self.batch_decision_function(X, batch_size), 100. * (1. - self.contamination))\n\u001b[0m\u001b[1;32m    175\u001b[0m         \u001b[0;32melse\u001b[0m\u001b[0;34m:\u001b[0m\u001b[0;34m\u001b[0m\u001b[0m\n\u001b[1;32m    176\u001b[0m             self.threshold_ = -sp.stats.scoreatpercentile(\n",
      "\u001b[0;32m<ipython-input-4-2bba01a2babd>\u001b[0m in \u001b[0;36mbatch_decision_function\u001b[0;34m(self, X, batch_size)\u001b[0m\n\u001b[1;32m    283\u001b[0m             \u001b[0mnprocs\u001b[0m \u001b[0;34m=\u001b[0m \u001b[0mself\u001b[0m\u001b[0;34m.\u001b[0m\u001b[0mn_jobs\u001b[0m \u001b[0;32mif\u001b[0m \u001b[0mself\u001b[0m\u001b[0;34m.\u001b[0m\u001b[0mn_jobs\u001b[0m \u001b[0;34m!=\u001b[0m \u001b[0;34m-\u001b[0m\u001b[0;36m1\u001b[0m \u001b[0;32melse\u001b[0m \u001b[0mmultiprocessing\u001b[0m\u001b[0;34m.\u001b[0m\u001b[0mcpu_count\u001b[0m\u001b[0;34m(\u001b[0m\u001b[0;34m)\u001b[0m\u001b[0;34m\u001b[0m\u001b[0m\n\u001b[1;32m    284\u001b[0m             \u001b[0;32mwith\u001b[0m \u001b[0mmultiprocessing\u001b[0m\u001b[0;34m.\u001b[0m\u001b[0mPool\u001b[0m\u001b[0;34m(\u001b[0m\u001b[0mprocesses\u001b[0m\u001b[0;34m=\u001b[0m\u001b[0mnprocs\u001b[0m\u001b[0;34m)\u001b[0m \u001b[0;32mas\u001b[0m \u001b[0mpool\u001b[0m\u001b[0;34m:\u001b[0m\u001b[0;34m\u001b[0m\u001b[0m\n\u001b[0;32m--> 285\u001b[0;31m                 \u001b[0mscores\u001b[0m \u001b[0;34m=\u001b[0m \u001b[0mlist\u001b[0m\u001b[0;34m(\u001b[0m\u001b[0mtqdm\u001b[0m\u001b[0;34m.\u001b[0m\u001b[0mtqdm_notebook\u001b[0m\u001b[0;34m(\u001b[0m\u001b[0mpool\u001b[0m\u001b[0;34m.\u001b[0m\u001b[0mimap\u001b[0m\u001b[0;34m(\u001b[0m\u001b[0mself\u001b[0m\u001b[0;34m.\u001b[0m\u001b[0mdecision_function\u001b[0m\u001b[0;34m,\u001b[0m \u001b[0mX_batches\u001b[0m\u001b[0;34m)\u001b[0m\u001b[0;34m,\u001b[0m \u001b[0mtotal\u001b[0m\u001b[0;34m=\u001b[0m\u001b[0mn_batches\u001b[0m\u001b[0;34m)\u001b[0m\u001b[0;34m)\u001b[0m\u001b[0;34m\u001b[0m\u001b[0m\n\u001b[0m\u001b[1;32m    286\u001b[0m                 \u001b[0mconcat_scores\u001b[0m \u001b[0;34m=\u001b[0m \u001b[0mnp\u001b[0m\u001b[0;34m.\u001b[0m\u001b[0mconcatenate\u001b[0m\u001b[0;34m(\u001b[0m\u001b[0mscores\u001b[0m\u001b[0;34m)\u001b[0m\u001b[0;34m\u001b[0m\u001b[0m\n\u001b[1;32m    287\u001b[0m                 \u001b[0;32mfor\u001b[0m \u001b[0ms\u001b[0m \u001b[0;32min\u001b[0m \u001b[0mscores\u001b[0m\u001b[0;34m:\u001b[0m\u001b[0;34m\u001b[0m\u001b[0m\n",
      "\u001b[0;32m~/anaconda3/lib/python3.6/site-packages/tqdm/_tqdm_notebook.py\u001b[0m in \u001b[0;36m__iter__\u001b[0;34m(self, *args, **kwargs)\u001b[0m\n\u001b[1;32m    183\u001b[0m     \u001b[0;32mdef\u001b[0m \u001b[0m__iter__\u001b[0m\u001b[0;34m(\u001b[0m\u001b[0mself\u001b[0m\u001b[0;34m,\u001b[0m \u001b[0;34m*\u001b[0m\u001b[0margs\u001b[0m\u001b[0;34m,\u001b[0m \u001b[0;34m**\u001b[0m\u001b[0mkwargs\u001b[0m\u001b[0;34m)\u001b[0m\u001b[0;34m:\u001b[0m\u001b[0;34m\u001b[0m\u001b[0m\n\u001b[1;32m    184\u001b[0m         \u001b[0;32mtry\u001b[0m\u001b[0;34m:\u001b[0m\u001b[0;34m\u001b[0m\u001b[0m\n\u001b[0;32m--> 185\u001b[0;31m             \u001b[0;32mfor\u001b[0m \u001b[0mobj\u001b[0m \u001b[0;32min\u001b[0m \u001b[0msuper\u001b[0m\u001b[0;34m(\u001b[0m\u001b[0mtqdm_notebook\u001b[0m\u001b[0;34m,\u001b[0m \u001b[0mself\u001b[0m\u001b[0;34m)\u001b[0m\u001b[0;34m.\u001b[0m\u001b[0m__iter__\u001b[0m\u001b[0;34m(\u001b[0m\u001b[0;34m*\u001b[0m\u001b[0margs\u001b[0m\u001b[0;34m,\u001b[0m \u001b[0;34m**\u001b[0m\u001b[0mkwargs\u001b[0m\u001b[0;34m)\u001b[0m\u001b[0;34m:\u001b[0m\u001b[0;34m\u001b[0m\u001b[0m\n\u001b[0m\u001b[1;32m    186\u001b[0m                 \u001b[0;31m# return super(tqdm...) will not catch exception\u001b[0m\u001b[0;34m\u001b[0m\u001b[0;34m\u001b[0m\u001b[0m\n\u001b[1;32m    187\u001b[0m                 \u001b[0;32myield\u001b[0m \u001b[0mobj\u001b[0m\u001b[0;34m\u001b[0m\u001b[0m\n",
      "\u001b[0;32m~/anaconda3/lib/python3.6/site-packages/tqdm/_tqdm.py\u001b[0m in \u001b[0;36m__iter__\u001b[0;34m(self)\u001b[0m\n\u001b[1;32m    895\u001b[0m \"\"\", fp_write=getattr(self.fp, 'write', sys.stderr.write))\n\u001b[1;32m    896\u001b[0m \u001b[0;34m\u001b[0m\u001b[0m\n\u001b[0;32m--> 897\u001b[0;31m             \u001b[0;32mfor\u001b[0m \u001b[0mobj\u001b[0m \u001b[0;32min\u001b[0m \u001b[0miterable\u001b[0m\u001b[0;34m:\u001b[0m\u001b[0;34m\u001b[0m\u001b[0m\n\u001b[0m\u001b[1;32m    898\u001b[0m                 \u001b[0;32myield\u001b[0m \u001b[0mobj\u001b[0m\u001b[0;34m\u001b[0m\u001b[0m\n\u001b[1;32m    899\u001b[0m                 \u001b[0;31m# Update and possibly print the progressbar.\u001b[0m\u001b[0;34m\u001b[0m\u001b[0;34m\u001b[0m\u001b[0m\n",
      "\u001b[0;32m~/anaconda3/lib/python3.6/multiprocessing/pool.py\u001b[0m in \u001b[0;36mnext\u001b[0;34m(self, timeout)\u001b[0m\n\u001b[1;32m    722\u001b[0m                 \u001b[0;32mif\u001b[0m \u001b[0mself\u001b[0m\u001b[0;34m.\u001b[0m\u001b[0m_index\u001b[0m \u001b[0;34m==\u001b[0m \u001b[0mself\u001b[0m\u001b[0;34m.\u001b[0m\u001b[0m_length\u001b[0m\u001b[0;34m:\u001b[0m\u001b[0;34m\u001b[0m\u001b[0m\n\u001b[1;32m    723\u001b[0m                     \u001b[0;32mraise\u001b[0m \u001b[0mStopIteration\u001b[0m\u001b[0;34m\u001b[0m\u001b[0m\n\u001b[0;32m--> 724\u001b[0;31m                 \u001b[0mself\u001b[0m\u001b[0;34m.\u001b[0m\u001b[0m_cond\u001b[0m\u001b[0;34m.\u001b[0m\u001b[0mwait\u001b[0m\u001b[0;34m(\u001b[0m\u001b[0mtimeout\u001b[0m\u001b[0;34m)\u001b[0m\u001b[0;34m\u001b[0m\u001b[0m\n\u001b[0m\u001b[1;32m    725\u001b[0m                 \u001b[0;32mtry\u001b[0m\u001b[0;34m:\u001b[0m\u001b[0;34m\u001b[0m\u001b[0m\n\u001b[1;32m    726\u001b[0m                     \u001b[0mitem\u001b[0m \u001b[0;34m=\u001b[0m \u001b[0mself\u001b[0m\u001b[0;34m.\u001b[0m\u001b[0m_items\u001b[0m\u001b[0;34m.\u001b[0m\u001b[0mpopleft\u001b[0m\u001b[0;34m(\u001b[0m\u001b[0;34m)\u001b[0m\u001b[0;34m\u001b[0m\u001b[0m\n",
      "\u001b[0;32m~/anaconda3/lib/python3.6/threading.py\u001b[0m in \u001b[0;36mwait\u001b[0;34m(self, timeout)\u001b[0m\n\u001b[1;32m    293\u001b[0m         \u001b[0;32mtry\u001b[0m\u001b[0;34m:\u001b[0m    \u001b[0;31m# restore state no matter what (e.g., KeyboardInterrupt)\u001b[0m\u001b[0;34m\u001b[0m\u001b[0m\n\u001b[1;32m    294\u001b[0m             \u001b[0;32mif\u001b[0m \u001b[0mtimeout\u001b[0m \u001b[0;32mis\u001b[0m \u001b[0;32mNone\u001b[0m\u001b[0;34m:\u001b[0m\u001b[0;34m\u001b[0m\u001b[0m\n\u001b[0;32m--> 295\u001b[0;31m                 \u001b[0mwaiter\u001b[0m\u001b[0;34m.\u001b[0m\u001b[0macquire\u001b[0m\u001b[0;34m(\u001b[0m\u001b[0;34m)\u001b[0m\u001b[0;34m\u001b[0m\u001b[0m\n\u001b[0m\u001b[1;32m    296\u001b[0m                 \u001b[0mgotit\u001b[0m \u001b[0;34m=\u001b[0m \u001b[0;32mTrue\u001b[0m\u001b[0;34m\u001b[0m\u001b[0m\n\u001b[1;32m    297\u001b[0m             \u001b[0;32melse\u001b[0m\u001b[0;34m:\u001b[0m\u001b[0;34m\u001b[0m\u001b[0m\n",
      "\u001b[0;31mKeyboardInterrupt\u001b[0m: "
     ]
    }
   ],
   "source": [
    "isof.fit(xtrain[:, -4:], batches=True, batch_size=1024)"
   ]
  },
  {
   "cell_type": "code",
   "execution_count": 32,
   "metadata": {},
   "outputs": [
    {
     "data": {
      "text/plain": [
       "32"
      ]
     },
     "execution_count": 32,
     "metadata": {},
     "output_type": "execute_result"
    }
   ],
   "source": [
    "multiprocessing.cpu_count()"
   ]
  },
  {
   "cell_type": "code",
   "execution_count": 16,
   "metadata": {},
   "outputs": [],
   "source": [
    "import pandas as pd"
   ]
  },
  {
   "cell_type": "code",
   "execution_count": null,
   "metadata": {},
   "outputs": [],
   "source": [
    "y_pred_train = clf.predict(X_train)\n",
    "y_pred_test = clf.predict(X_test)\n",
    "y_pred_outliers = clf.predict(X_outliers)"
   ]
  },
  {
   "cell_type": "code",
   "execution_count": 99,
   "metadata": {},
   "outputs": [],
   "source": [
    "kek = shared_array((100, 10))"
   ]
  },
  {
   "cell_type": "code",
   "execution_count": 100,
   "metadata": {},
   "outputs": [],
   "source": [
    "kek[0, 0] = 1"
   ]
  },
  {
   "cell_type": "code",
   "execution_count": null,
   "metadata": {},
   "outputs": [],
   "source": []
  },
  {
   "cell_type": "code",
   "execution_count": 13,
   "metadata": {},
   "outputs": [],
   "source": [
    "arr = np.random.normal(scale=1e4, size=(1, 1_000_000))"
   ]
  }
 ],
 "metadata": {
  "kernelspec": {
   "display_name": "Python 3",
   "language": "python",
   "name": "python3"
  },
  "language_info": {
   "codemirror_mode": {
    "name": "ipython",
    "version": 3
   },
   "file_extension": ".py",
   "mimetype": "text/x-python",
   "name": "python",
   "nbconvert_exporter": "python",
   "pygments_lexer": "ipython3",
   "version": "3.6.4"
  }
 },
 "nbformat": 4,
 "nbformat_minor": 2
}
