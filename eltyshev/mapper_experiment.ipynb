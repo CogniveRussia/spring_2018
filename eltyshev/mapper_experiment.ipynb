{
 "cells": [
  {
   "cell_type": "code",
   "execution_count": 1,
   "metadata": {},
   "outputs": [],
   "source": [
    "import pandas as pd\n",
    "import numpy as np\n",
    "import matplotlib.pyplot as plt\n",
    "import seaborn as sns\n",
    "\n",
    "%matplotlib inline"
   ]
  },
  {
   "cell_type": "code",
   "execution_count": 37,
   "metadata": {},
   "outputs": [
    {
     "name": "stderr",
     "output_type": "stream",
     "text": [
      "/usr/local/lib/python3.5/dist-packages/IPython/core/interactiveshell.py:2728: DtypeWarning: Columns (0) have mixed types. Specify dtype option on import or set low_memory=False.\n",
      "  interactivity=interactivity, compiler=compiler, result=result)\n"
     ]
    }
   ],
   "source": [
    "cl_filters = pd.read_csv(\"data/clients_filters.csv\")\n",
    "cl_filters = cl_filters[~cl_filters.client.duplicated()]"
   ]
  },
  {
   "cell_type": "code",
   "execution_count": 57,
   "metadata": {},
   "outputs": [
    {
     "name": "stderr",
     "output_type": "stream",
     "text": [
      "/usr/local/lib/python3.5/dist-packages/IPython/core/interactiveshell.py:2728: DtypeWarning: Columns (0) have mixed types. Specify dtype option on import or set low_memory=False.\n",
      "  interactivity=interactivity, compiler=compiler, result=result)\n"
     ]
    }
   ],
   "source": [
    "from gensim.models.word2vec import Word2Vec\n",
    "\n",
    "cl_vectors = pd.read_csv(\"data/client_w2v.csv\")\n",
    "cl_vectors = cl_vectors[~cl_vectors.client.duplicated()]\n",
    "cl_vectors[\"w2v\"] = cl_vectors.w2v_str.apply(lambda x: np.array([float(y) for y in x.split(\",\")]))"
   ]
  },
  {
   "cell_type": "code",
   "execution_count": 58,
   "metadata": {},
   "outputs": [],
   "source": [
    "cl = cl_filters.merge(cl_vectors, on=\"client\")"
   ]
  },
  {
   "cell_type": "code",
   "execution_count": 62,
   "metadata": {},
   "outputs": [],
   "source": [
    "data = np.vstack(cl.w2v.values)\n",
    "projected_data = cl[\"filter\"].values"
   ]
  },
  {
   "cell_type": "code",
   "execution_count": 118,
   "metadata": {},
   "outputs": [],
   "source": [
    "a = np.array([0.7, 2.7, 5.92, 13.1, 16, 26.7, 32, 42, 54.6, 72])\n",
    "b = np.array(list(range(10000, 100001, 10000))).astype(float)"
   ]
  },
  {
   "cell_type": "code",
   "execution_count": 119,
   "metadata": {},
   "outputs": [
    {
     "data": {
      "text/plain": [
       "LinearRegression(copy_X=True, fit_intercept=True, n_jobs=1, normalize=False)"
      ]
     },
     "execution_count": 119,
     "metadata": {},
     "output_type": "execute_result"
    }
   ],
   "source": [
    "from sklearn.linear_model import LinearRegression\n",
    "\n",
    "lr = LinearRegression()\n",
    "lr.fit(b.reshape(-1, 1), a)"
   ]
  },
  {
   "cell_type": "code",
   "execution_count": 120,
   "metadata": {},
   "outputs": [
    {
     "data": {
      "text/plain": [
       "array([895.93927273])"
      ]
     },
     "execution_count": 120,
     "metadata": {},
     "output_type": "execute_result"
    }
   ],
   "source": [
    "lr.predict(1.2e6)"
   ]
  },
  {
   "cell_type": "code",
   "execution_count": 111,
   "metadata": {},
   "outputs": [
    {
     "data": {
      "text/plain": [
       "<matplotlib.axes._subplots.AxesSubplot at 0x7fda3b3979b0>"
      ]
     },
     "execution_count": 111,
     "metadata": {},
     "output_type": "execute_result"
    },
    {
     "data": {
      "image/png": "[encoded data removed]",
      "text/plain": [
       "<Figure size 432x288 with 1 Axes>"
      ]
     },
     "metadata": {},
     "output_type": "display_data"
    }
   ],
   "source": [
    "sns.regplot(b, a)"
   ]
  },
  {
   "cell_type": "code",
   "execution_count": null,
   "metadata": {},
   "outputs": [
    {
     "name": "stdout",
     "output_type": "stream",
     "text": [
      "Mapping on data shaped (200000, 32) using lens shaped (200000,)\n",
      "\n",
      "Minimal points in hypercube before clustering: 1\n",
      "Creating 30 hypercubes.\n",
      "There are 4 points in cube_0 / 30\n",
      "Found 0 clusters in cube_0\n",
      "\n",
      "There are 22 points in cube_1 / 30\n",
      "Found 1 clusters in cube_1\n",
      "\n",
      "There are 12 points in cube_2 / 30\n",
      "Found 0 clusters in cube_2\n",
      "\n",
      "There are 50 points in cube_3 / 30\n",
      "Found 1 clusters in cube_3\n",
      "\n",
      "There are 106 points in cube_4 / 30\n",
      "Found 3 clusters in cube_4\n",
      "\n",
      "There are 196 points in cube_5 / 30\n",
      "Found 6 clusters in cube_5\n",
      "\n",
      "There are 747 points in cube_6 / 30\n",
      "Found 5 clusters in cube_6\n",
      "\n",
      "There are 189 points in cube_7 / 30\n",
      "Found 7 clusters in cube_7\n",
      "\n",
      "There are 48 points in cube_8 / 30\n",
      "Found 1 clusters in cube_8\n",
      "\n",
      "There are 78 points in cube_9 / 30\n",
      "Found 3 clusters in cube_9\n",
      "\n",
      "There are 40 points in cube_10 / 30\n",
      "Found 3 clusters in cube_10\n",
      "\n",
      "There are 22 points in cube_11 / 30\n",
      "Found 1 clusters in cube_11\n",
      "\n",
      "There are 17 points in cube_12 / 30\n",
      "Found 1 clusters in cube_12\n",
      "\n",
      "There are 10 points in cube_13 / 30\n",
      "Found 0 clusters in cube_13\n",
      "\n",
      "There are 831 points in cube_14 / 30\n",
      "Found 1 clusters in cube_14\n",
      "\n",
      "There are 5511 points in cube_15 / 30\n",
      "Found 2 clusters in cube_15\n",
      "\n",
      "There are 108 points in cube_16 / 30\n",
      "Found 1 clusters in cube_16\n",
      "\n",
      "There are 3 points in cube_17 / 30\n",
      "Found 0 clusters in cube_17\n",
      "\n",
      "There are 18 points in cube_18 / 30\n",
      "Found 1 clusters in cube_18\n",
      "\n",
      "There are 38 points in cube_19 / 30\n",
      "Found 1 clusters in cube_19\n",
      "\n",
      "There are 41 points in cube_20 / 30\n",
      "Found 2 clusters in cube_20\n",
      "\n",
      "There are 72 points in cube_21 / 30\n",
      "Found 3 clusters in cube_21\n",
      "\n",
      "There are 194 points in cube_22 / 30\n",
      "Found 2 clusters in cube_22\n",
      "\n",
      "There are 112 points in cube_23 / 30\n",
      "Found 6 clusters in cube_23\n",
      "\n",
      "There are 125 points in cube_24 / 30\n",
      "Found 5 clusters in cube_24\n",
      "\n",
      "There are 206 points in cube_25 / 30\n",
      "Found 9 clusters in cube_25\n",
      "\n",
      "There are 4865 points in cube_26 / 30\n",
      "Found 4 clusters in cube_26\n",
      "\n",
      "There are 107031 points in cube_27 / 30\n"
     ]
    }
   ],
   "source": [
    "%%time\n",
    "\n",
    "num = 200000\n",
    "\n",
    "import kmapper as km\n",
    "from sklearn.cluster import DBSCAN\n",
    "\n",
    "mapper = km.KeplerMapper(verbose=2)\n",
    "graph = mapper.map(projected_data[:num], data[:num], clusterer=DBSCAN(eps=0.2), nr_cubes=30, overlap_perc=0.1)"
   ]
  },
  {
   "cell_type": "code",
   "execution_count": 78,
   "metadata": {},
   "outputs": [
    {
     "name": "stderr",
     "output_type": "stream",
     "text": [
      "/usr/local/lib/python3.5/dist-packages/matplotlib/axes/_axes.py:6448: UserWarning: The 'normed' kwarg is deprecated, and has been replaced by the 'density' kwarg.\n",
      "  warnings.warn(\"The 'normed' kwarg is deprecated, and has been \"\n"
     ]
    },
    {
     "data": {
      "text/plain": [
       "<matplotlib.axes._subplots.AxesSubplot at 0x7fda4a805b00>"
      ]
     },
     "execution_count": 78,
     "metadata": {},
     "output_type": "execute_result"
    },
    {
     "data": {
      "image/png": "[encoded data removed]",
      "text/plain": [
       "<Figure size 432x288 with 1 Axes>"
      ]
     },
     "metadata": {},
     "output_type": "display_data"
    }
   ],
   "source": [
    "sns.distplot(projected_data)"
   ]
  }
 ],
 "metadata": {
  "kernelspec": {
   "display_name": "Python 3",
   "language": "python",
   "name": "python3"
  },
  "language_info": {
   "codemirror_mode": {
    "name": "ipython",
    "version": 3
   },
   "file_extension": ".py",
   "mimetype": "text/x-python",
   "name": "python",
   "nbconvert_exporter": "python",
   "pygments_lexer": "ipython3",
   "version": "3.5.2"
  }
 },
 "nbformat": 4,
 "nbformat_minor": 2
}
