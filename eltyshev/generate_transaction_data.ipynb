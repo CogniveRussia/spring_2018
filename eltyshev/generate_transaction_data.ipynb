{
 "cells": [
  {
   "cell_type": "code",
   "execution_count": 2,
   "metadata": {},
   "outputs": [],
   "source": [
    "import pandas as pd\n",
    "import numpy as np\n",
    "import matplotlib.pyplot as plt\n",
    "import seaborn as sns\n",
    "\n",
    "%matplotlib inline"
   ]
  },
  {
   "cell_type": "code",
   "execution_count": 3,
   "metadata": {},
   "outputs": [
    {
     "name": "stderr",
     "output_type": "stream",
     "text": [
      "/usr/local/lib/python3.5/dist-packages/IPython/core/interactiveshell.py:2728: DtypeWarning: Columns (2,3,5,11,17,22) have mixed types. Specify dtype option on import or set low_memory=False.\n",
      "  interactivity=interactivity, compiler=compiler, result=result)\n",
      "/usr/local/lib/python3.5/dist-packages/IPython/core/interactiveshell.py:2728: DtypeWarning: Columns (2,3,8,9,17,18) have mixed types. Specify dtype option on import or set low_memory=False.\n",
      "  interactivity=interactivity, compiler=compiler, result=result)\n"
     ]
    }
   ],
   "source": [
    "members = pd.read_csv(\"../data/off_members.csv\")\n",
    "ops = pd.read_csv(\"../data/off_ops.csv\")"
   ]
  },
  {
   "cell_type": "code",
   "execution_count": 6,
   "metadata": {},
   "outputs": [],
   "source": [
    "merged = members[[\"P_CLIENTID\", \"P_OPERATIONID\"]].merge(ops[[\"ID\", \"P_EKNPCODE\"]], left_on=\"P_OPERATIONID\", right_on=\"ID\")"
   ]
  },
  {
   "cell_type": "code",
   "execution_count": 10,
   "metadata": {},
   "outputs": [],
   "source": [
    "merged_not_null = merged.loc[~merged.P_EKNPCODE.isnull()]"
   ]
  },
  {
   "cell_type": "code",
   "execution_count": 11,
   "metadata": {},
   "outputs": [
    {
     "data": {
      "text/plain": [
       "119.0    1425927\n",
       "321.0    1339806\n",
       "311.0     607787\n",
       "324.0     523586\n",
       "423.0     369908\n",
       "710.0     306393\n",
       "314.0     208654\n",
       "869.0     208319\n",
       "421.0     188926\n",
       "852.0     173010\n",
       "419.0     132573\n",
       "429.0     120785\n",
       "322.0     114786\n",
       "856.0     113053\n",
       "859.0      84539\n",
       "312.0      82933\n",
       "911.0      75742\n",
       "890.0      68457\n",
       "841.0      63343\n",
       "332.0      54651\n",
       "331.0      43587\n",
       "490.0      42950\n",
       "0.0        37484\n",
       "346.0      36578\n",
       "12.0       33188\n",
       "861.0      33028\n",
       "411.0      32999\n",
       "223.0      32296\n",
       "855.0      31967\n",
       "10.0       31274\n",
       "          ...   \n",
       "623.0          4\n",
       "838.0          3\n",
       "835            2\n",
       "843.0          2\n",
       "2.0            2\n",
       "3.0            2\n",
       "З46            2\n",
       "4.0            2\n",
       "8.0            2\n",
       "853            2\n",
       "150.0          2\n",
       "836.0          2\n",
       "67.0           2\n",
       "95.0           2\n",
       "92.0           2\n",
       "87.0           2\n",
       "84.0           2\n",
       "721            2\n",
       "811            2\n",
       "68.0           2\n",
       "631            2\n",
       "541.0          2\n",
       "837            2\n",
       "420.0          2\n",
       "131            2\n",
       "319            2\n",
       "520.0          2\n",
       "539.0          2\n",
       "813            2\n",
       "840            1\n",
       "Name: P_EKNPCODE, Length: 287, dtype: int64"
      ]
     },
     "execution_count": 11,
     "metadata": {},
     "output_type": "execute_result"
    }
   ],
   "source": [
    "merged_not_null.P_EKNPCODE.value_counts(dropna=False)"
   ]
  },
  {
   "cell_type": "code",
   "execution_count": 20,
   "metadata": {},
   "outputs": [
    {
     "data": {
      "text/plain": [
       " 13.0    5119069\n",
       "NaN      2498102\n",
       " 10.0     281665\n",
       " 2.0      152882\n",
       " 15.0     103941\n",
       " 11.0      21626\n",
       " 5.0       17569\n",
       " 29.0      13114\n",
       " 9.0       12316\n",
       " 6.0         754\n",
       " 17.0        749\n",
       " 1.0         476\n",
       "Name: P_KFM_OPER_REASON, dtype: int64"
      ]
     },
     "execution_count": 20,
     "metadata": {},
     "output_type": "execute_result"
    }
   ],
   "source": [
    "ops.P_KFM_OPER_REASON.value_counts(dropna=False)"
   ]
  },
  {
   "cell_type": "code",
   "execution_count": 5,
   "metadata": {},
   "outputs": [
    {
     "data": {
      "text/plain": [
       "NaN      4.298660e-01\n",
       "321.0    1.615148e-01\n",
       "119.0    8.713842e-02\n",
       "311.0    6.374559e-02\n",
       "324.0    4.322642e-02\n",
       "423.0    2.275091e-02\n",
       "710.0    1.866323e-02\n",
       "314.0    1.748083e-02\n",
       "421.0    1.572839e-02\n",
       "869.0    1.268592e-02\n",
       "852.0    1.105012e-02\n",
       "322.0    1.003641e-02\n",
       "419.0    8.061892e-03\n",
       "429.0    7.350896e-03\n",
       "312.0    7.328518e-03\n",
       "856.0    6.927047e-03\n",
       "859.0    5.157947e-03\n",
       "911.0    4.609923e-03\n",
       "0.0      4.529896e-03\n",
       "890.0    4.184128e-03\n",
       "841.0    3.862927e-03\n",
       "411.0    3.627712e-03\n",
       "223.0    3.365983e-03\n",
       "332.0    3.344943e-03\n",
       "331.0    2.908688e-03\n",
       "490.0    2.615460e-03\n",
       "341.0    2.505636e-03\n",
       "346.0    2.224205e-03\n",
       "342.0    2.181881e-03\n",
       "213.0    2.139679e-03\n",
       "             ...     \n",
       "814      2.432420e-07\n",
       "838.0    2.432420e-07\n",
       "721      1.216210e-07\n",
       "8.0      1.216210e-07\n",
       "4.0      1.216210e-07\n",
       "3.0      1.216210e-07\n",
       "2.0      1.216210e-07\n",
       "631      1.216210e-07\n",
       "811      1.216210e-07\n",
       "67.0     1.216210e-07\n",
       "837      1.216210e-07\n",
       "131      1.216210e-07\n",
       "420.0    1.216210e-07\n",
       "520.0    1.216210e-07\n",
       "539.0    1.216210e-07\n",
       "541.0    1.216210e-07\n",
       "150.0    1.216210e-07\n",
       "836.0    1.216210e-07\n",
       "95.0     1.216210e-07\n",
       "92.0     1.216210e-07\n",
       "843.0    1.216210e-07\n",
       "87.0     1.216210e-07\n",
       "84.0     1.216210e-07\n",
       "68.0     1.216210e-07\n",
       "З46      1.216210e-07\n",
       "840      1.216210e-07\n",
       "835      1.216210e-07\n",
       "853      1.216210e-07\n",
       "319      1.216210e-07\n",
       "813      1.216210e-07\n",
       "Name: P_EKNPCODE, Length: 288, dtype: float64"
      ]
     },
     "execution_count": 5,
     "metadata": {},
     "output_type": "execute_result"
    }
   ],
   "source": [
    "ops.P_EKNPCODE.value_counts(dropna=False, normalize=True)"
   ]
  },
  {
   "cell_type": "code",
   "execution_count": null,
   "metadata": {},
   "outputs": [],
   "source": []
  }
 ],
 "metadata": {
  "kernelspec": {
   "display_name": "Python 3",
   "language": "python",
   "name": "python3"
  },
  "language_info": {
   "codemirror_mode": {
    "name": "ipython",
    "version": 3
   },
   "file_extension": ".py",
   "mimetype": "text/x-python",
   "name": "python",
   "nbconvert_exporter": "python",
   "pygments_lexer": "ipython3",
   "version": "3.5.2"
  }
 },
 "nbformat": 4,
 "nbformat_minor": 2
}
