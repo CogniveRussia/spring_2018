{
 "cells": [
  {
   "cell_type": "code",
   "execution_count": 1,
   "metadata": {},
   "outputs": [],
   "source": [
    "import pandas as pd\n",
    "import numpy as np\n",
    "import matplotlib.pyplot as plt\n",
    "import seaborn as sns\n",
    "import os\n",
    "\n",
    "%matplotlib inline\n",
    "\n",
    "pd.set_option('display.max_columns', 500)"
   ]
  },
  {
   "cell_type": "code",
   "execution_count": 2,
   "metadata": {},
   "outputs": [
    {
     "name": "stderr",
     "output_type": "stream",
     "text": [
      "<string>:2: DtypeWarning: Columns (10,28) have mixed types. Specify dtype option on import or set low_memory=False.\n"
     ]
    },
    {
     "name": "stdout",
     "output_type": "stream",
     "text": [
      "CPU times: user 5.06 s, sys: 769 ms, total: 5.83 s\n",
      "Wall time: 5.83 s\n"
     ]
    }
   ],
   "source": [
    "%%time\n",
    "\n",
    "cols_to_drop = [\"P_SUM\", \"P_MESS_DATE\", \"P_USERNAME\", \"P_ORIG_OPER_REASON\", \"P_BANKOPERATIONID\", \"P_DATE_UPDATE\", \n",
    "         \"P_MESS_STATUS\", \"P_OPERATIONEXTRAINFO\", \"P_OPERATIONREASON\", \"P_OPERATION_LIST\", \"P_MESS_NUMBER\"]\n",
    "\n",
    "df = pd.read_csv(\"/home/shared_files/alfa/susp_ops.csv\")\n",
    "df.drop(cols_to_drop, axis=1, inplace=True)\n",
    "df = df.loc[df.P_SENDTOKFMBOOL.isin([1, 2, 7, 8])]\n",
    "df[\"label\"] = df.P_SENDTOKFMBOOL.isin([1, 5, 7, 8])"
   ]
  },
  {
   "cell_type": "code",
   "execution_count": 6,
   "metadata": {},
   "outputs": [],
   "source": [
    "from itertools import chain\n",
    "\n",
    "def find_rules_for_stc(df, column_list, stc):\n",
    "    rules = []\n",
    "    \n",
    "    for col in column_list:\n",
    "        groupped = df.groupby(col).label.agg([\"size\", \"mean\", \"sum\"])\n",
    "        candidates = groupped[(groupped[\"mean\"] < 0.0001) | (groupped[\"mean\"] > 0.9999)]\n",
    "        for col_value, row in candidates.iterrows():\n",
    "            rules.append({\"col\":col, \"col_value\":col_value, \"mean\":int(row[\"mean\"]), \"size\":row[\"size\"],\n",
    "                          \"all_size\":df.shape[0], \"cover_frac\":row[\"size\"]/df.shape[0],\n",
    "                          \"stc\":stc})\n",
    "    return sorted(rules, key=lambda x: x[\"size\"], reverse=True)[:5]\n",
    "\n",
    "def find_rules(df, column_list):\n",
    "    rules = {}\n",
    "    for stc in df.P_SUSPICIOUSTYPECODE.unique():\n",
    "        stc_df = df[df.P_SUSPICIOUSTYPECODE == stc]\n",
    "        if stc_df.shape[0] < 1000:\n",
    "            continue\n",
    "        \n",
    "        stc_rules = find_rules_for_stc(stc_df, column_list, stc)\n",
    "        rules[stc] = stc_rules\n",
    "        \n",
    "    return rules"
   ]
  },
  {
   "cell_type": "code",
   "execution_count": 7,
   "metadata": {},
   "outputs": [],
   "source": [
    "to_look_into = [\"P_BRANCH\", \"P_CURRENCYCODE\", \"P_EKNPCODE\", \"P_DOCCATEGORY\", \"P_SUSPIC_KIND\",\n",
    "                \"P_CRITERIAFIRST\", \"P_CRITERIASECOND\"]\n",
    "\n",
    "rules = find_rules(df, to_look_into)        \n",
    "stats = pd.DataFrame(list(chain.from_iterable(rules.values())))"
   ]
  },
  {
   "cell_type": "markdown",
   "metadata": {},
   "source": [
    "Рассмотрим полученные правила. В колонке `cover_frac` указывается доля покрытых данным правилом случаев внутри данного критерия. В колонке `size` указывается абсолютное количество кейсов, попадающих под данное правило"
   ]
  },
  {
   "cell_type": "code",
   "execution_count": 10,
   "metadata": {},
   "outputs": [
    {
     "data": {
      "text/html": [
       "<div>\n",
       "<style scoped>\n",
       "    .dataframe tbody tr th:only-of-type {\n",
       "        vertical-align: middle;\n",
       "    }\n",
       "\n",
       "    .dataframe tbody tr th {\n",
       "        vertical-align: top;\n",
       "    }\n",
       "\n",
       "    .dataframe thead th {\n",
       "        text-align: right;\n",
       "    }\n",
       "</style>\n",
       "<table border=\"1\" class=\"dataframe\">\n",
       "  <thead>\n",
       "    <tr style=\"text-align: right;\">\n",
       "      <th></th>\n",
       "      <th>all_size</th>\n",
       "      <th>col</th>\n",
       "      <th>col_value</th>\n",
       "      <th>cover_frac</th>\n",
       "      <th>mean</th>\n",
       "      <th>size</th>\n",
       "      <th>stc</th>\n",
       "    </tr>\n",
       "  </thead>\n",
       "  <tbody>\n",
       "    <tr>\n",
       "      <th>55</th>\n",
       "      <td>203373</td>\n",
       "      <td>P_CRITERIAFIRST</td>\n",
       "      <td>201.0</td>\n",
       "      <td>0.738259</td>\n",
       "      <td>0</td>\n",
       "      <td>150142.0</td>\n",
       "      <td>20.0</td>\n",
       "    </tr>\n",
       "    <tr>\n",
       "      <th>56</th>\n",
       "      <td>203373</td>\n",
       "      <td>P_EKNPCODE</td>\n",
       "      <td>390.0</td>\n",
       "      <td>0.420366</td>\n",
       "      <td>0</td>\n",
       "      <td>85491.0</td>\n",
       "      <td>20.0</td>\n",
       "    </tr>\n",
       "    <tr>\n",
       "      <th>57</th>\n",
       "      <td>203373</td>\n",
       "      <td>P_CRITERIAFIRST</td>\n",
       "      <td>202.0</td>\n",
       "      <td>0.029217</td>\n",
       "      <td>0</td>\n",
       "      <td>5942.0</td>\n",
       "      <td>20.0</td>\n",
       "    </tr>\n",
       "    <tr>\n",
       "      <th>58</th>\n",
       "      <td>203373</td>\n",
       "      <td>P_EKNPCODE</td>\n",
       "      <td>911.0</td>\n",
       "      <td>0.013615</td>\n",
       "      <td>0</td>\n",
       "      <td>2769.0</td>\n",
       "      <td>20.0</td>\n",
       "    </tr>\n",
       "    <tr>\n",
       "      <th>59</th>\n",
       "      <td>203373</td>\n",
       "      <td>P_EKNPCODE</td>\n",
       "      <td>213.0</td>\n",
       "      <td>0.007277</td>\n",
       "      <td>0</td>\n",
       "      <td>1480.0</td>\n",
       "      <td>20.0</td>\n",
       "    </tr>\n",
       "    <tr>\n",
       "      <th>25</th>\n",
       "      <td>72651</td>\n",
       "      <td>P_BRANCH</td>\n",
       "      <td>4305.0</td>\n",
       "      <td>0.015237</td>\n",
       "      <td>0</td>\n",
       "      <td>1107.0</td>\n",
       "      <td>1671.0</td>\n",
       "    </tr>\n",
       "    <tr>\n",
       "      <th>75</th>\n",
       "      <td>36018</td>\n",
       "      <td>P_BRANCH</td>\n",
       "      <td>2805.0</td>\n",
       "      <td>0.024988</td>\n",
       "      <td>1</td>\n",
       "      <td>900.0</td>\n",
       "      <td>521.0</td>\n",
       "    </tr>\n",
       "    <tr>\n",
       "      <th>76</th>\n",
       "      <td>36018</td>\n",
       "      <td>P_BRANCH</td>\n",
       "      <td>2700.0</td>\n",
       "      <td>0.016436</td>\n",
       "      <td>1</td>\n",
       "      <td>592.0</td>\n",
       "      <td>521.0</td>\n",
       "    </tr>\n",
       "    <tr>\n",
       "      <th>70</th>\n",
       "      <td>3176</td>\n",
       "      <td>P_BRANCH</td>\n",
       "      <td>2765.0</td>\n",
       "      <td>0.185453</td>\n",
       "      <td>1</td>\n",
       "      <td>589.0</td>\n",
       "      <td>221.0</td>\n",
       "    </tr>\n",
       "    <tr>\n",
       "      <th>50</th>\n",
       "      <td>1873</td>\n",
       "      <td>P_BRANCH</td>\n",
       "      <td>2765.0</td>\n",
       "      <td>0.307528</td>\n",
       "      <td>1</td>\n",
       "      <td>576.0</td>\n",
       "      <td>211.0</td>\n",
       "    </tr>\n",
       "  </tbody>\n",
       "</table>\n",
       "</div>"
      ],
      "text/plain": [
       "    all_size              col  col_value  cover_frac  mean      size     stc\n",
       "55    203373  P_CRITERIAFIRST      201.0    0.738259     0  150142.0    20.0\n",
       "56    203373       P_EKNPCODE      390.0    0.420366     0   85491.0    20.0\n",
       "57    203373  P_CRITERIAFIRST      202.0    0.029217     0    5942.0    20.0\n",
       "58    203373       P_EKNPCODE      911.0    0.013615     0    2769.0    20.0\n",
       "59    203373       P_EKNPCODE      213.0    0.007277     0    1480.0    20.0\n",
       "25     72651         P_BRANCH     4305.0    0.015237     0    1107.0  1671.0\n",
       "75     36018         P_BRANCH     2805.0    0.024988     1     900.0   521.0\n",
       "76     36018         P_BRANCH     2700.0    0.016436     1     592.0   521.0\n",
       "70      3176         P_BRANCH     2765.0    0.185453     1     589.0   221.0\n",
       "50      1873         P_BRANCH     2765.0    0.307528     1     576.0   211.0"
      ]
     },
     "execution_count": 10,
     "metadata": {},
     "output_type": "execute_result"
    }
   ],
   "source": [
    "stats.sort_values(by=\"size\", ascending=False).head(10)"
   ]
  },
  {
   "cell_type": "code",
   "execution_count": 12,
   "metadata": {},
   "outputs": [],
   "source": [
    "alfa_rules = {20: [(\"P_CRITERIAFIRST\", 201),\n",
    "                   (\"P_EKNPCODE\", 390),\n",
    "                   (\"P_CRITERIAFIRST\", 202)]}\n",
    "\n",
    "def check_fp(x, rules):\n",
    "    stc = x[\"P_SUSPICIOUSTYPECODE\"]\n",
    "    if stc not in rules:\n",
    "        return False\n",
    "    for col, value in rules[stc]:\n",
    "        if x[col] == value:   \n",
    "            return True\n",
    "    return False\n",
    "\n",
    "df[\"mask\"] = df.apply(check_fp, axis=1, args=(alfa_rules,))"
   ]
  },
  {
   "cell_type": "code",
   "execution_count": 13,
   "metadata": {},
   "outputs": [
    {
     "data": {
      "text/plain": [
       "0.48707064210349"
      ]
     },
     "execution_count": 13,
     "metadata": {},
     "output_type": "execute_result"
    }
   ],
   "source": [
    "df[df.label == 0][\"mask\"].mean()"
   ]
  },
  {
   "cell_type": "markdown",
   "metadata": {},
   "source": [
    "Итого правила, перечисленные в `alfa_rules` позволяют отсеять 48% false positive"
   ]
  }
 ],
 "metadata": {
  "kernelspec": {
   "display_name": "Python 3",
   "language": "python",
   "name": "python3"
  },
  "language_info": {
   "codemirror_mode": {
    "name": "ipython",
    "version": 3
   },
   "file_extension": ".py",
   "mimetype": "text/x-python",
   "name": "python",
   "nbconvert_exporter": "python",
   "pygments_lexer": "ipython3",
   "version": "3.5.2"
  }
 },
 "nbformat": 4,
 "nbformat_minor": 2
}
