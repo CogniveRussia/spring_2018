{
 "cells": [
  {
   "cell_type": "code",
   "execution_count": 1,
   "metadata": {},
   "outputs": [],
   "source": [
    "import pandas as pd\n",
    "import numpy as np\n",
    "import matplotlib.pyplot as plt\n",
    "import seaborn as sns\n",
    "\n",
    "%matplotlib inline"
   ]
  },
  {
   "cell_type": "code",
   "execution_count": 2,
   "metadata": {},
   "outputs": [
    {
     "name": "stderr",
     "output_type": "stream",
     "text": [
      "/usr/local/lib/python3.5/dist-packages/IPython/core/interactiveshell.py:2728: DtypeWarning: Columns (0) have mixed types. Specify dtype option on import or set low_memory=False.\n",
      "  interactivity=interactivity, compiler=compiler, result=result)\n"
     ]
    }
   ],
   "source": [
    "df = pd.read_csv(\"data/client_knp.csv\")\n",
    "df.columns = [\"client\", \"knp\"]\n",
    "df.knp = df.knp.str.replace(\",\", \" \")"
   ]
  },
  {
   "cell_type": "code",
   "execution_count": 22,
   "metadata": {},
   "outputs": [
    {
     "data": {
      "text/html": [
       "<div>\n",
       "<style scoped>\n",
       "    .dataframe tbody tr th:only-of-type {\n",
       "        vertical-align: middle;\n",
       "    }\n",
       "\n",
       "    .dataframe tbody tr th {\n",
       "        vertical-align: top;\n",
       "    }\n",
       "\n",
       "    .dataframe thead th {\n",
       "        text-align: right;\n",
       "    }\n",
       "</style>\n",
       "<table border=\"1\" class=\"dataframe\">\n",
       "  <thead>\n",
       "    <tr style=\"text-align: right;\">\n",
       "      <th></th>\n",
       "      <th>client</th>\n",
       "      <th>knp</th>\n",
       "      <th>w2v</th>\n",
       "    </tr>\n",
       "  </thead>\n",
       "  <tbody>\n",
       "    <tr>\n",
       "      <th>795822</th>\n",
       "      <td>910130350727</td>\n",
       "      <td>321 321 321 321 321 321 321 321 321 311 321 32...</td>\n",
       "      <td>[-3.1722819109914604, -0.21523173649385496, -2...</td>\n",
       "    </tr>\n",
       "    <tr>\n",
       "      <th>1165142</th>\n",
       "      <td>910130350727</td>\n",
       "      <td>311 321 321 321</td>\n",
       "      <td>[-3.349206695057366, 0.9078981178338144, -2.02...</td>\n",
       "    </tr>\n",
       "  </tbody>\n",
       "</table>\n",
       "</div>"
      ],
      "text/plain": [
       "               client                                                knp  \\\n",
       "795822   910130350727  321 321 321 321 321 321 321 321 321 311 321 32...   \n",
       "1165142  910130350727                                    311 321 321 321   \n",
       "\n",
       "                                                       w2v  \n",
       "795822   [-3.1722819109914604, -0.21523173649385496, -2...  \n",
       "1165142  [-3.349206695057366, 0.9078981178338144, -2.02...  "
      ]
     },
     "execution_count": 22,
     "metadata": {},
     "output_type": "execute_result"
    }
   ],
   "source": [
    "df[df.client == \"910130350727\"]"
   ]
  },
  {
   "cell_type": "code",
   "execution_count": 3,
   "metadata": {},
   "outputs": [],
   "source": [
    "from gensim.models.word2vec import Word2Vec\n",
    "\n",
    "word2vec = Word2Vec.load(\"data/w2v.model\")\n",
    "vocab = word2vec.wv.vocab.keys()\n",
    "word_vectors = {key:word2vec.wv[key] for key in vocab}\n",
    "vectors = [word2vec.wv[key] for key in vocab]"
   ]
  },
  {
   "cell_type": "code",
   "execution_count": 4,
   "metadata": {},
   "outputs": [],
   "source": [
    "from sklearn.feature_extraction.text import TfidfVectorizer\n",
    "\n",
    "tfidf = TfidfVectorizer()\n",
    "_ = tfidf.fit_transform(df.knp)\n",
    "idfs = {key:tfidf.idf_[value] for key, value in tfidf.vocabulary_.items()}"
   ]
  },
  {
   "cell_type": "code",
   "execution_count": 5,
   "metadata": {},
   "outputs": [],
   "source": [
    "def get_vector(knps):\n",
    "    knps = list(filter(lambda knp: knp in word_vectors.keys() and knp in idfs.keys(), knps.split()))\n",
    "    \n",
    "    if not knps:\n",
    "        return np.nan\n",
    "    \n",
    "    tf = 1.0 / len(knps)\n",
    "    weights = np.array([idfs[knp] * tf for knp in knps])\n",
    "    knp_vecs = np.array([word_vectors[knp] for knp in knps])\n",
    "    \n",
    "    return np.multiply(knp_vecs, weights.reshape(-1, 1)).sum(axis=0)\n",
    "\n",
    "df[\"w2v\"] = df.knp.apply(get_vector)"
   ]
  },
  {
   "cell_type": "code",
   "execution_count": 6,
   "metadata": {},
   "outputs": [],
   "source": [
    "df = df.loc[~df.w2v.isnull()]"
   ]
  },
  {
   "cell_type": "code",
   "execution_count": 23,
   "metadata": {},
   "outputs": [],
   "source": [
    "df[\"w2v_str\"] = df.w2v.apply(lambda x: \",\".join(map(lambda y: \"{0:.4f}\".format(y), x)))"
   ]
  },
  {
   "cell_type": "code",
   "execution_count": 25,
   "metadata": {},
   "outputs": [],
   "source": [
    "df[[\"client\", \"w2v_str\"]].to_csv(\"data/client_w2v.csv\", index=False)"
   ]
  },
  {
   "cell_type": "code",
   "execution_count": null,
   "metadata": {},
   "outputs": [],
   "source": [
    "%%time \n",
    "\n",
    "from scipy.spatial.distance import cosine\n",
    "\n",
    "def get_distance(w2v):\n",
    "    subset = df.sample(1000)\n",
    "    vects = np.vstack(subset.w2v.values)\n",
    "    \n",
    "    norma = np.sqrt(np.sum(vects ** 2, axis=1))\n",
    "    normb = np.sqrt(np.sum(w2v ** 2))\n",
    "\n",
    "    return (vects.dot(w2v) / (norma * normb)).mean()\n",
    "\n",
    "distances = df.w2v.apply(get_distance)"
   ]
  },
  {
   "cell_type": "code",
   "execution_count": 16,
   "metadata": {},
   "outputs": [],
   "source": [
    "clients_filters = pd.DataFrame({\"client\":df.client, \"filter\":distances})\n",
    "clients_filters.to_csv(\"data/clients_filters.csv\", index=False)"
   ]
  },
  {
   "cell_type": "code",
   "execution_count": 191,
   "metadata": {},
   "outputs": [
    {
     "name": "stderr",
     "output_type": "stream",
     "text": [
      "/usr/local/lib/python3.5/dist-packages/IPython/core/interactiveshell.py:2728: DtypeWarning: Columns (2,3,5,11,17,22) have mixed types. Specify dtype option on import or set low_memory=False.\n",
      "  interactivity=interactivity, compiler=compiler, result=result)\n",
      "/usr/local/lib/python3.5/dist-packages/IPython/core/interactiveshell.py:2728: DtypeWarning: Columns (2,3,8,9,17,18) have mixed types. Specify dtype option on import or set low_memory=False.\n",
      "  interactivity=interactivity, compiler=compiler, result=result)\n"
     ]
    }
   ],
   "source": [
    "d = pd.read_csv(\"../data/off_members.csv\")\n",
    "с = pd.read_csv(\"../data/off_ops.csv\")"
   ]
  },
  {
   "cell_type": "code",
   "execution_count": 15,
   "metadata": {
    "collapsed": true
   },
   "outputs": [
    {
     "data": {
      "text/plain": [
       "0          0.576029\n",
       "1          0.532668\n",
       "2          0.534769\n",
       "3          0.531189\n",
       "4          0.559371\n",
       "5          0.541963\n",
       "6          0.504647\n",
       "7          0.534980\n",
       "8          0.534061\n",
       "9          0.492442\n",
       "10         0.540061\n",
       "11         0.546682\n",
       "12         0.485075\n",
       "13         0.451474\n",
       "14         0.403788\n",
       "15         0.443003\n",
       "16         0.475790\n",
       "17         0.176401\n",
       "18        -0.286691\n",
       "19         0.410627\n",
       "20         0.599452\n",
       "21         0.548893\n",
       "22         0.533356\n",
       "23         0.525004\n",
       "24         0.365716\n",
       "25         0.168120\n",
       "26         0.485369\n",
       "27        -0.272337\n",
       "28         0.542681\n",
       "29         0.420038\n",
       "             ...   \n",
       "1202842   -0.201900\n",
       "1202843   -0.113080\n",
       "1202844   -0.121621\n",
       "1202845   -0.133847\n",
       "1202846    0.006194\n",
       "1202847   -0.124914\n",
       "1202848   -0.100209\n",
       "1202849   -0.130857\n",
       "1202850   -0.165383\n",
       "1202851    0.026093\n",
       "1202852   -0.112494\n",
       "1202853    0.025187\n",
       "1202854   -0.114993\n",
       "1202855   -0.098476\n",
       "1202856   -0.218087\n",
       "1202857   -0.120014\n",
       "1202858   -0.206774\n",
       "1202859   -0.113245\n",
       "1202860    0.084375\n",
       "1202861   -0.131705\n",
       "1202862   -0.051382\n",
       "1202863   -0.117269\n",
       "1202864    0.180448\n",
       "1202865    0.023944\n",
       "1202866   -0.110501\n",
       "1202867    0.164585\n",
       "1202868   -0.151064\n",
       "1202869   -0.141751\n",
       "1202870   -0.089224\n",
       "1202871   -0.085208\n",
       "Name: w2v, Length: 1196131, dtype: float64"
      ]
     },
     "execution_count": 15,
     "metadata": {},
     "output_type": "execute_result"
    }
   ],
   "source": [
    "distances"
   ]
  },
  {
   "cell_type": "code",
   "execution_count": 202,
   "metadata": {},
   "outputs": [],
   "source": [
    "a = d[d.P_CLIENTID == 5463014.0].merge(с, left_on=\"P_OPERATIONID\", right_on=\"ID\")"
   ]
  },
  {
   "cell_type": "code",
   "execution_count": 203,
   "metadata": {},
   "outputs": [
    {
     "data": {
      "text/plain": [
       "0    RETAIL PAYMENT; ЗАЧИСЛЕНИЕ КРЕДИТНЫХ СРЕДСТВ; ...\n",
       "Name: P_OPERATIONREASON, dtype: object"
      ]
     },
     "execution_count": 203,
     "metadata": {},
     "output_type": "execute_result"
    }
   ],
   "source": [
    "a.P_OPERATIONREASON"
   ]
  },
  {
   "cell_type": "code",
   "execution_count": 196,
   "metadata": {},
   "outputs": [
    {
     "ename": "AttributeError",
     "evalue": "'DataFrame' object has no attribute 'client'",
     "output_type": "error",
     "traceback": [
      "\u001b[0;31m---------------------------------------------------------------------------\u001b[0m",
      "\u001b[0;31mAttributeError\u001b[0m                            Traceback (most recent call last)",
      "\u001b[0;32m<ipython-input-196-ae920593155f>\u001b[0m in \u001b[0;36m<module>\u001b[0;34m()\u001b[0m\n\u001b[0;32m----> 1\u001b[0;31m \u001b[0mb\u001b[0m \u001b[0;34m=\u001b[0m \u001b[0mpd\u001b[0m\u001b[0;34m.\u001b[0m\u001b[0mDataFrame\u001b[0m\u001b[0;34m(\u001b[0m\u001b[0;34m{\u001b[0m\u001b[0;34m\"client\"\u001b[0m\u001b[0;34m:\u001b[0m\u001b[0ma\u001b[0m\u001b[0;34m.\u001b[0m\u001b[0mclient\u001b[0m\u001b[0;34m,\u001b[0m \u001b[0;34m\"filter\"\u001b[0m\u001b[0;34m:\u001b[0m\u001b[0mdistances\u001b[0m\u001b[0;34m}\u001b[0m\u001b[0;34m)\u001b[0m\u001b[0;34m\u001b[0m\u001b[0m\n\u001b[0m",
      "\u001b[0;32m/usr/local/lib/python3.5/dist-packages/pandas/core/generic.py\u001b[0m in \u001b[0;36m__getattr__\u001b[0;34m(self, name)\u001b[0m\n\u001b[1;32m   3612\u001b[0m             \u001b[0;32mif\u001b[0m \u001b[0mname\u001b[0m \u001b[0;32min\u001b[0m \u001b[0mself\u001b[0m\u001b[0;34m.\u001b[0m\u001b[0m_info_axis\u001b[0m\u001b[0;34m:\u001b[0m\u001b[0;34m\u001b[0m\u001b[0m\n\u001b[1;32m   3613\u001b[0m                 \u001b[0;32mreturn\u001b[0m \u001b[0mself\u001b[0m\u001b[0;34m[\u001b[0m\u001b[0mname\u001b[0m\u001b[0;34m]\u001b[0m\u001b[0;34m\u001b[0m\u001b[0m\n\u001b[0;32m-> 3614\u001b[0;31m             \u001b[0;32mreturn\u001b[0m \u001b[0mobject\u001b[0m\u001b[0;34m.\u001b[0m\u001b[0m__getattribute__\u001b[0m\u001b[0;34m(\u001b[0m\u001b[0mself\u001b[0m\u001b[0;34m,\u001b[0m \u001b[0mname\u001b[0m\u001b[0;34m)\u001b[0m\u001b[0;34m\u001b[0m\u001b[0m\n\u001b[0m\u001b[1;32m   3615\u001b[0m \u001b[0;34m\u001b[0m\u001b[0m\n\u001b[1;32m   3616\u001b[0m     \u001b[0;32mdef\u001b[0m \u001b[0m__setattr__\u001b[0m\u001b[0;34m(\u001b[0m\u001b[0mself\u001b[0m\u001b[0;34m,\u001b[0m \u001b[0mname\u001b[0m\u001b[0;34m,\u001b[0m \u001b[0mvalue\u001b[0m\u001b[0;34m)\u001b[0m\u001b[0;34m:\u001b[0m\u001b[0;34m\u001b[0m\u001b[0m\n",
      "\u001b[0;31mAttributeError\u001b[0m: 'DataFrame' object has no attribute 'client'"
     ]
    }
   ],
   "source": []
  },
  {
   "cell_type": "code",
   "execution_count": 122,
   "metadata": {},
   "outputs": [
    {
     "data": {
      "text/plain": [
       "12.028720000000002"
      ]
     },
     "execution_count": 122,
     "metadata": {},
     "output_type": "execute_result"
    }
   ],
   "source": [
    "3.6 / 100 * df.shape[0] / 3600"
   ]
  },
  {
   "cell_type": "code",
   "execution_count": 46,
   "metadata": {},
   "outputs": [
    {
     "name": "stdout",
     "output_type": "stream",
     "text": [
      "582.228786 mb\n"
     ]
    }
   ],
   "source": [
    "import sys\n",
    "\n",
    "# These are the usual ipython objects, including this one you are creating\n",
    "ipython_vars = ['In', 'Out', 'exit', 'quit', 'get_ipython', 'ipython_vars']\n",
    "\n",
    "# Get a sorted list of the objects and their sizes\n",
    "mem_vars = sorted([(x, sys.getsizeof(globals().get(x))) for x in dir() if not x.startswith('_') and x not in sys.modules and x not in ipython_vars], key=lambda x: x[1], reverse=True)\n",
    "print(sum(map(lambda x: x[1], mem_vars)) / 1000 / 1000, \"mb\")"
   ]
  },
  {
   "cell_type": "code",
   "execution_count": 43,
   "metadata": {},
   "outputs": [
    {
     "data": {
      "text/plain": [
       "582.236354"
      ]
     },
     "execution_count": 43,
     "metadata": {},
     "output_type": "execute_result"
    }
   ],
   "source": []
  }
 ],
 "metadata": {
  "kernelspec": {
   "display_name": "Python 3",
   "language": "python",
   "name": "python3"
  },
  "language_info": {
   "codemirror_mode": {
    "name": "ipython",
    "version": 3
   },
   "file_extension": ".py",
   "mimetype": "text/x-python",
   "name": "python",
   "nbconvert_exporter": "python",
   "pygments_lexer": "ipython3",
   "version": "3.5.2"
  }
 },
 "nbformat": 4,
 "nbformat_minor": 2
}
